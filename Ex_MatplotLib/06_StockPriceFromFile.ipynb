{
 "cells": [
  {
   "cell_type": "code",
   "execution_count": 4,
   "metadata": {},
   "outputs": [
    {
     "data": {
      "image/png": "[encoded data removed]",
      "text/plain": [
       "<Figure size 432x288 with 1 Axes>"
      ]
     },
     "metadata": {
      "needs_background": "light"
     },
     "output_type": "display_data"
    }
   ],
   "source": [
    "import matplotlib.pyplot as plt\n",
    "import matplotlib.dates as mdates\n",
    "import numpy as np\n",
    "import csv\n",
    "\n",
    "dates = []\n",
    "open_vals = []\n",
    "close_vals = []\n",
    "high_vals = []\n",
    "low_vals = []\n",
    "adj_vals = []\n",
    "volumes = []\n",
    "\n",
    "def bytespdate2num(fmt, encoding='utf-8'):\n",
    "    strconverter = mdates.strpdate2num(fmt)\n",
    "    def bytesconverter(b):\n",
    "        s = b.decode(encoding)\n",
    "        return strconverter(s)\n",
    "    return bytesconverter\n",
    "    \n",
    "    \n",
    "'''\n",
    "# Method - I to read csv file into sets\n",
    "with open('c:/users/anand/Exercises/Ex_MatplotLib/TSLA.csv', 'r') as tsla_csv:\n",
    "        rows = csv.reader(tsla_csv, delimiter=',')\n",
    "        for row in rows:\n",
    "            dates.append(row[0])\n",
    "            open_vals.append(row[1])\n",
    "            high_vals.append(row[2])\n",
    "            low_vals.append(row[3])\n",
    "            close_vals.append(row[4])\n",
    "            adj_vals.append(row[5])\n",
    "            volumes.append(row[6])\n",
    "            pass\n",
    "\n",
    "#dates, open_vals, high_vals, low_vals, close_vals, adj_vals, volumes\n",
    "plt.plot_date(dates, close_vals, '-')\n",
    "'''\n",
    "\n",
    "# Method - II to read the csv file into lists\n",
    "dates, open_vals, close_vals, high_vals, low_vals, adj_vals, volumes = np.loadtxt('c:/users/anand/Exercises/Ex_MatplotLib/TSLA.csv',\n",
    "                                                                                 delimiter=',',\n",
    "                                                                                 unpack=True,\n",
    "                                                                                 converters={0: bytespdate2num('%d-%m-%y')})\n",
    "# Capture the figure\n",
    "fig = plt.figure()\n",
    "\n",
    "# Refer to subplot in the figure\n",
    "ax1 = plt.subplot2grid((1,1), (0,0))\n",
    "\n",
    "for label in ax1.xaxis.get_ticklabels():\n",
    "    label.set_rotation(45)\n",
    "\n",
    "midVal = round((len(close_vals)/2))\n",
    "\n",
    "\n",
    "# You can take customize ticks as you wish (default plot without following statement uses ticks 150, 200, 250, 300, 350, 400)\n",
    "ax1.set_yticks([100, 110, 120, 130, 140, 150, 160, 170, 180, 190, 200, 210, 220, 230, 240, 250, 260, 270, 280, 290, 300, 310, 320, 330, 340, 350, 360, 370, 380, 390, 400])\n",
    "ax1.fill_between(dates, close_vals, close_vals[0], where = (close_vals < close_vals[midVal]), facecolor='g', alpha=0.5)\n",
    "ax1.fill_between(dates, close_vals, close_vals[0], where = (close_vals > close_vals[midVal]), facecolor='r', alpha=0.5)\n",
    "\n",
    "# Plot the graph\n",
    "ax1.plot_date(dates, close_vals, '-')\n",
    "\n",
    "# To print legend labels \n",
    "ax1.plot([], [], linewidth=2, label='Loss', color='r', alpha=0.5)\n",
    "ax1.plot([], [], linewidth=2, label='Gain', color='g', alpha=0.5)\n",
    "\n",
    "# To draw separator line between high and low\n",
    "ax1.axhline(close_vals[0], color='#ffcc00', linewidth=2)\n",
    "\n",
    "# To modify the attributes of graph borders\n",
    "ax1.spines['left'].set_linewidth(2)\n",
    "ax1.spines['bottom'].set_linewidth(2)\n",
    "\n",
    "ax1.spines['left'].set_color('g')\n",
    "ax1.spines['bottom'].set_color('g')\n",
    "\n",
    "ax1.spines['right'].set_visible(False)\n",
    "ax1.spines['top'].set_visible(False)\n",
    "\n",
    "# To modify the attributes of ticks\n",
    "ax1.tick_params(axis='x', colors='#580c6d')\n",
    "\n",
    "\n",
    "plt.xlabel('Date')\n",
    "plt.ylabel('Price')\n",
    "plt.title('Stock Price')\n",
    "plt.legend()\n",
    "\n",
    "plt.subplots_adjust(left=0, bottom=0, right=1, top=1, wspace=.2, hspace=.2)\n",
    "\n",
    "plt.show()\n"
   ]
  },
  {
   "cell_type": "code",
   "execution_count": null,
   "metadata": {},
   "outputs": [],
   "source": []
  },
  {
   "cell_type": "code",
   "execution_count": null,
   "metadata": {},
   "outputs": [],
   "source": []
  },
  {
   "cell_type": "code",
   "execution_count": null,
   "metadata": {},
   "outputs": [],
   "source": []
  }
 ],
 "metadata": {
  "kernelspec": {
   "display_name": "Python 3",
   "language": "python",
   "name": "python3"
  },
  "language_info": {
   "codemirror_mode": {
    "name": "ipython",
    "version": 3
   },
   "file_extension": ".py",
   "mimetype": "text/x-python",
   "name": "python",
   "nbconvert_exporter": "python",
   "pygments_lexer": "ipython3",
   "version": "3.7.0"
  }
 },
 "nbformat": 4,
 "nbformat_minor": 2
}
