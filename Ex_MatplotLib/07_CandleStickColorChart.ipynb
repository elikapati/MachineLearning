{
 "cells": [
  {
   "cell_type": "code",
   "execution_count": 2,
   "metadata": {},
   "outputs": [
    {
     "data": {
      "image/png": "[encoded data removed]",
      "text/plain": [
       "<Figure size 432x288 with 1 Axes>"
      ]
     },
     "metadata": {
      "needs_background": "light"
     },
     "output_type": "display_data"
    }
   ],
   "source": [
    "import matplotlib.pyplot as plt\n",
    "import matplotlib.dates as mdates\n",
    "\n",
    "import matplotlib.ticker as mticker\n",
    "\n",
    "# As matplotlib.finance is deprecated so install mpl-finance => pip install mpl-finance\n",
    "# from matplotlib.finance import candlestick_ohlc - is deprecated so use the below import statement\n",
    "from mpl_finance import candlestick_ohlc\n",
    "\n",
    "import numpy as np\n",
    "import csv\n",
    "\n",
    "dates = []\n",
    "open_vals = []\n",
    "close_vals = []\n",
    "high_vals = []\n",
    "low_vals = []\n",
    "adj_vals = []\n",
    "volumes = []\n",
    "\n",
    "def bytespdate2num(fmt, encoding='utf-8'):\n",
    "    strconverter = mdates.strpdate2num(fmt)\n",
    "    def bytesconverter(b):\n",
    "        s = b.decode(encoding)\n",
    "        return strconverter(s)\n",
    "    return bytesconverter\n",
    "    \n",
    "# Method - II to read the csv file into lists\n",
    "dates, open_vals, close_vals, high_vals, low_vals, adj_vals, volumes = np.loadtxt('c:/users/anand/Exercises/Ex_MatplotLib/TSLA.csv',\n",
    "                                                                                 delimiter=',',\n",
    "                                                                                 unpack=True,\n",
    "                                                                                 converters={0: bytespdate2num('%d-%m-%y')})\n",
    "\n",
    "# Capture the figure\n",
    "fig = plt.figure()\n",
    "\n",
    "# Refer to subplot in the figure\n",
    "ax1 = plt.subplot2grid((1,1), (0,0))\n",
    "\n",
    "x = 0\n",
    "y = len(dates)\n",
    "ohlc = []\n",
    "\n",
    "while x < y:\n",
    "    append_me = dates[x], open_vals[x], high_vals[x], low_vals[x], close_vals[x], volumes[x]\n",
    "    ohlc.append(append_me)\n",
    "    x+=1\n",
    "\n",
    "candlestick_ohlc(ax1, ohlc, width=0.4, colorup = '#77d879', colordown = '#db3f3f')\n",
    "\n",
    "# To tilt x axis labels\n",
    "for label in ax1.xaxis.get_ticklabels():\n",
    "    label.set_rotation(45)\n",
    "\n",
    "# To set date format\n",
    "ax1.xaxis.set_major_formatter(mdates.DateFormatter('%Y-%m-%d'))\n",
    "\n",
    "\n",
    "plt.xlabel('Date')\n",
    "plt.ylabel('Price')\n",
    "plt.title('Stock Price')\n",
    "#plt.legend()\n",
    "\n",
    "plt.subplots_adjust(left=0, bottom=0, right=1, top=1, wspace=.2, hspace=.2)\n",
    "\n",
    "plt.show()\n"
   ]
  },
  {
   "cell_type": "code",
   "execution_count": null,
   "metadata": {},
   "outputs": [],
   "source": []
  }
 ],
 "metadata": {
  "kernelspec": {
   "display_name": "Python 3",
   "language": "python",
   "name": "python3"
  },
  "language_info": {
   "codemirror_mode": {
    "name": "ipython",
    "version": 3
   },
   "file_extension": ".py",
   "mimetype": "text/x-python",
   "name": "python",
   "nbconvert_exporter": "python",
   "pygments_lexer": "ipython3",
   "version": "3.7.0"
  }
 },
 "nbformat": 4,
 "nbformat_minor": 2
}
