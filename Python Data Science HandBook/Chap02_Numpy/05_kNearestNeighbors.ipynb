{
 "cells": [
  {
   "cell_type": "code",
   "execution_count": 16,
   "metadata": {},
   "outputs": [
    {
     "name": "stdout",
     "output_type": "stream",
     "text": [
      "Create 10x2 grid of random values:\n",
      "[[0.37454012 0.95071431]\n",
      " [0.73199394 0.59865848]\n",
      " [0.15601864 0.15599452]\n",
      " [0.05808361 0.86617615]\n",
      " [0.60111501 0.70807258]\n",
      " [0.02058449 0.96990985]\n",
      " [0.83244264 0.21233911]\n",
      " [0.18182497 0.18340451]\n",
      " [0.30424224 0.52475643]\n",
      " [0.43194502 0.29122914]]\n",
      "[[0 3 4 5 8 1 9 7 2 6]\n",
      " [1 4 6 9 8 0 7 3 2 5]\n",
      " [2 7 9 8 6 4 3 1 0 5]\n",
      " [3 5 0 8 4 9 7 2 1 6]\n",
      " [4 1 0 8 9 6 3 5 7 2]\n",
      " [5 3 0 8 4 9 1 7 2 6]\n",
      " [6 1 9 4 8 7 2 0 3 5]\n",
      " [7 2 9 8 6 4 1 3 0 5]\n",
      " [8 9 4 7 2 3 0 1 5 6]\n",
      " [9 8 7 2 6 1 4 0 3 5]]\n"
     ]
    },
    {
     "data": {
      "image/png": "[encoded data removed]",
      "text/plain": [
       "<Figure size 432x288 with 1 Axes>"
      ]
     },
     "metadata": {},
     "output_type": "display_data"
    }
   ],
   "source": [
    "import numpy as np\n",
    "\n",
    "rand = np.random.RandomState(42)\n",
    "print(\"Create 10x2 grid of random values:\")\n",
    "x = rand.rand(10, 2)\n",
    "print(x)\n",
    "\n",
    "%matplotlib inline\n",
    "import matplotlib.pyplot as plt\n",
    "import seaborn; seaborn.set() # Plot styling\n",
    "plt.scatter(x[:, 0], x[:, 1], s=100);\n",
    "\n",
    "dist_sq = np.sum((X[:,np.newaxis,:] - X[np.newaxis,:,:]) ** 2, axis=-1)\n",
    "nearest = np.argsort(dist_sq, axis=1)\n",
    "print(nearest)\n",
    "\n",
    "K = 2\n",
    "nearest_partition = np.argpartition(dist_sq, K + 1, axis=1)\n",
    "plt.scatter(x[:, 0], x[:, 1], s=100)\n",
    "\n",
    "# draw lines from each point to its two nearest neighbors\n",
    "K = 2\n",
    "for i in range(x.shape[0]):\n",
    "    for j in nearest_partition[i, :K+1]:\n",
    "        # plot a line from x[i] to x[j]\n",
    "        # use some zip magic to make it happen:\n",
    "        plt.plot(*zip(x[j], x[i]), color='black')"
   ]
  },
  {
   "cell_type": "code",
   "execution_count": 17,
   "metadata": {},
   "outputs": [
    {
     "name": "stdout",
     "output_type": "stream",
     "text": [
      "[0 0 0 0]\n"
     ]
    }
   ],
   "source": [
    "x = np.zeros(4, dtype=int)\n",
    "print(x)"
   ]
  },
  {
   "cell_type": "code",
   "execution_count": 21,
   "metadata": {},
   "outputs": [
    {
     "name": "stdout",
     "output_type": "stream",
     "text": [
      "[('name', '<U10'), ('age', '<i4'), ('weight', '<f8')]\n"
     ]
    }
   ],
   "source": [
    "# Use a compound data type for structured arrays\n",
    "data = np.zeros(4, dtype={'names':('name', 'age', 'weight'), 'formats':('U10', 'i4', 'f8')})\n",
    "print(data.dtype)\n",
    "\n",
    "name = ['Alice', 'Bob', 'Cathy', 'Doug']\n",
    "age = [25, 45, 37, 19]\n",
    "weight = [55.0, 85.5, 68.0, 61.5]"
   ]
  },
  {
   "cell_type": "code",
   "execution_count": 28,
   "metadata": {},
   "outputs": [
    {
     "name": "stdout",
     "output_type": "stream",
     "text": [
      "[('Alice', 25, 55. ) ('Bob', 45, 85.5) ('Cathy', 37, 68. )\n",
      " ('Doug', 19, 61.5)]\n",
      "All names:  ['Alice' 'Bob' 'Cathy' 'Doug']\n",
      "First Row:  ('Alice', 25, 55.)\n",
      "Last name:  Doug\n",
      "Names whose age is below 30:  ['Alice' 'Doug']\n"
     ]
    }
   ],
   "source": [
    "data['name'] = name\n",
    "data['age'] = age\n",
    "data['weight'] = weight\n",
    "print(data)\n",
    "\n",
    "# Get all names\n",
    "print(\"All names: \", data['name'])\n",
    "\n",
    "# Get first row of data\n",
    "print(\"First Row: \", data[0])\n",
    "\n",
    "# Get the name from the last row\n",
    "print(\"Last name: \", data[-1]['name'])\n",
    "\n",
    "# Get names where age is under 30\n",
    "print(\"Names whose age is below 30: \", data[data['age'] < 30]['name'])"
   ]
  },
  {
   "cell_type": "code",
   "execution_count": null,
   "metadata": {},
   "outputs": [],
   "source": []
  }
 ],
 "metadata": {
  "kernelspec": {
   "display_name": "Python 3",
   "language": "python",
   "name": "python3"
  },
  "language_info": {
   "codemirror_mode": {
    "name": "ipython",
    "version": 3
   },
   "file_extension": ".py",
   "mimetype": "text/x-python",
   "name": "python",
   "nbconvert_exporter": "python",
   "pygments_lexer": "ipython3",
   "version": "3.7.0"
  }
 },
 "nbformat": 4,
 "nbformat_minor": 2
}
