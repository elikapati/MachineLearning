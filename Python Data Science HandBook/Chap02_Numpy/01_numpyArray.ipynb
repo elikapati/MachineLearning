{
 "cells": [
  {
   "cell_type": "code",
   "execution_count": 2,
   "metadata": {},
   "outputs": [
    {
     "name": "stdout",
     "output_type": "stream",
     "text": [
      "x3 dimensions =  3\n",
      "x3 size of each dimension =  (3, 4, 5)\n",
      "x3 total size of array =  60\n",
      "x3 array type =  int32\n",
      "x3 size in bytes of each element =  4\n",
      "x3 size in bytes of entire array =  240\n"
     ]
    }
   ],
   "source": [
    "# Following program declares Numpy arrays and demonstrates attributes\n",
    "# Attributes\n",
    "#  ndim - number of dimensions\n",
    "#  shape - size of each dimension\n",
    "#  size - total size of array\n",
    "#  dtype - data type of the array\n",
    "#  itemsize - size in bytes of each element in array\n",
    "#  nbytes   - size in bytes of all elements in array\n",
    "\n",
    "import numpy as np\n",
    "\n",
    "x1 = np.random.randint(10, size = 6)\n",
    "x2 = np.random.randint(10, size = (3, 4))\n",
    "x3 = np.random.randint(10, size = (3, 4, 5))\n",
    "\n",
    "print(\"x3 dimensions = \", x3.ndim)\n",
    "print(\"x3 size of each dimension = \", x3.shape)\n",
    "print(\"x3 total size of array = \", x3.size)\n",
    "print(\"x3 array type = \", x3.dtype)\n",
    "print(\"x3 size in bytes of each element = \", x3.itemsize)\n",
    "print(\"x3 size in bytes of entire array = \", x3.nbytes)\n"
   ]
  },
  {
   "cell_type": "code",
   "execution_count": 98,
   "metadata": {},
   "outputs": [
    {
     "name": "stdout",
     "output_type": "stream",
     "text": [
      "First element of x1 =  2\n",
      "Second element of x1 =  7\n",
      "First element of x1 from end of the array =  2\n",
      "Second eleme1t 2f 31 from end1of2th3 array =  0\n",
      "Element at (0, 0) =  2\n",
      "Element at (1, 1) =  1\n",
      "Element at (2, 3) =  5\n",
      "Element at (0, 0, 0) =  0\n",
      "Element at (1, 2, 3) =  9\n"
     ]
    }
   ],
   "source": [
    "# Accessing elements of single dimensional array\n",
    "print(\"First element of x1 = \", x1[0])\n",
    "print(\"Second element of x1 = \", x1[1])\n",
    "\n",
    "print(\"First element of x1 from end of the array = \", x1[-1])\n",
    "print(\"Second eleme1t 2f 31 from end1of2th3 array = \", x1[-2])\n",
    "\n",
    "# Accessing elements of two dimensional array\n",
    "print(\"Element at (0, 0) = \", x2[0, 0])\n",
    "print(\"Element at (1, 1) = \", x2[1, 1])\n",
    "print(\"Element at (2, 3) = \", x2[2, 3])\n",
    "\n",
    "# Accessing elements of three dimensional array\n",
    "print(\"Element at (0, 0, 0) = \", x3[0, 0, 0])\n",
    "print(\"Element at (1, 2, 3) = \", x3[1, 2, 3])\n",
    "\n"
   ]
  },
  {
   "cell_type": "code",
   "execution_count": 99,
   "metadata": {},
   "outputs": [
    {
     "name": "stdout",
     "output_type": "stream",
     "text": [
      "Extract partial elements from the array:\n",
      "[3 4 5 6]\n",
      "[5 6 7 8 9]\n",
      "[0 1 2 3 4]\n",
      "Extract partial elements of the array from beginning:\n",
      "[0 1 2 3 4 5 6 7 8 9]\n",
      "[0 2 4 6 8]\n",
      "[0 3 6 9]\n",
      "[0 4 8]\n",
      "[0 5]\n",
      "[0 6]\n",
      "Extract elements of the array from end:\n",
      "[9 8 7 6 5 4 3 2 1 0]\n",
      "[9 7 5 3 1]\n",
      "[9 6 3 0]\n",
      "[9 5 1]\n",
      "[9 4]\n",
      "[9 3]\n"
     ]
    }
   ],
   "source": [
    "# Slicing - x[start:stop:step]\n",
    "# defalut values are\n",
    "#  start = 0\n",
    "#  stop = size of dimension\n",
    "#  step = 1\n",
    "x4 = np.arange(10)\n",
    "\n",
    "print(\"Extract partial elements from the array:\")\n",
    "print(x4[3:7:1])\n",
    "print(x4[5:])\n",
    "print(x4[:5])\n",
    "\n",
    "print(\"Extract partial elements of the array from beginning:\")\n",
    "print(x4[::1])\n",
    "print(x4[::2])\n",
    "print(x4[::3])\n",
    "print(x4[::4])\n",
    "print(x4[::5])\n",
    "print(x4[::6])\n",
    "\n",
    "print(\"Extract elements of the array from end:\")\n",
    "print(x4[::-1])\n",
    "print(x4[::-2])\n",
    "print(x4[::-3])\n",
    "print(x4[::-4])\n",
    "print(x4[::-5])\n",
    "print(x4[::-6])\n"
   ]
  },
  {
   "cell_type": "code",
   "execution_count": 100,
   "metadata": {},
   "outputs": [
    {
     "data": {
      "text/plain": [
       "array([[ 1,  2,  3,  4],\n",
       "       [ 5,  6,  7,  8],\n",
       "       [ 9, 10, 11, 12]])"
      ]
     },
     "execution_count": 100,
     "metadata": {},
     "output_type": "execute_result"
    }
   ],
   "source": [
    "x5 = np.array([[1, 2, 3, 4],\n",
    "               [5, 6, 7, 8],\n",
    "               [9, 10, 11, 12]])\n",
    "x5"
   ]
  },
  {
   "cell_type": "code",
   "execution_count": 101,
   "metadata": {},
   "outputs": [
    {
     "data": {
      "text/plain": [
       "array([[1, 2, 3, 4]])"
      ]
     },
     "execution_count": 101,
     "metadata": {},
     "output_type": "execute_result"
    }
   ],
   "source": [
    "# Get a row\n",
    "x5[:1]"
   ]
  },
  {
   "cell_type": "code",
   "execution_count": 102,
   "metadata": {},
   "outputs": [
    {
     "data": {
      "text/plain": [
       "array([[1, 2, 3, 4],\n",
       "       [5, 6, 7, 8]])"
      ]
     },
     "execution_count": 102,
     "metadata": {},
     "output_type": "execute_result"
    }
   ],
   "source": [
    "# Get two rows\n",
    "x5[:2]"
   ]
  },
  {
   "cell_type": "code",
   "execution_count": 103,
   "metadata": {},
   "outputs": [
    {
     "data": {
      "text/plain": [
       "array([[ 1,  2,  3,  4],\n",
       "       [ 5,  6,  7,  8],\n",
       "       [ 9, 10, 11, 12]])"
      ]
     },
     "execution_count": 103,
     "metadata": {},
     "output_type": "execute_result"
    }
   ],
   "source": [
    "# Get three rows\n",
    "x5[:3]"
   ]
  },
  {
   "cell_type": "code",
   "execution_count": 104,
   "metadata": {},
   "outputs": [
    {
     "data": {
      "text/plain": [
       "array([[1],\n",
       "       [5],\n",
       "       [9]])"
      ]
     },
     "execution_count": 104,
     "metadata": {},
     "output_type": "execute_result"
    }
   ],
   "source": [
    "# Get a column\n",
    "x5[:, :1]"
   ]
  },
  {
   "cell_type": "code",
   "execution_count": 105,
   "metadata": {},
   "outputs": [
    {
     "data": {
      "text/plain": [
       "array([[ 1,  2],\n",
       "       [ 5,  6],\n",
       "       [ 9, 10]])"
      ]
     },
     "execution_count": 105,
     "metadata": {},
     "output_type": "execute_result"
    }
   ],
   "source": [
    "# Get two columns\n",
    "x5[:, :2]"
   ]
  },
  {
   "cell_type": "code",
   "execution_count": 106,
   "metadata": {},
   "outputs": [
    {
     "data": {
      "text/plain": [
       "array([[ 1,  2,  3],\n",
       "       [ 5,  6,  7],\n",
       "       [ 9, 10, 11]])"
      ]
     },
     "execution_count": 106,
     "metadata": {},
     "output_type": "execute_result"
    }
   ],
   "source": [
    "# Get three columns\n",
    "x5[:, :3]"
   ]
  },
  {
   "cell_type": "code",
   "execution_count": 107,
   "metadata": {},
   "outputs": [
    {
     "data": {
      "text/plain": [
       "array([[ 1,  2,  3,  4],\n",
       "       [ 5,  6,  7,  8],\n",
       "       [ 9, 10, 11, 12]])"
      ]
     },
     "execution_count": 107,
     "metadata": {},
     "output_type": "execute_result"
    }
   ],
   "source": [
    "# Get four columns\n",
    "x5[:, :4]"
   ]
  },
  {
   "cell_type": "code",
   "execution_count": 108,
   "metadata": {},
   "outputs": [
    {
     "data": {
      "text/plain": [
       "array([[ 2,  3],\n",
       "       [ 6,  7],\n",
       "       [10, 11]])"
      ]
     },
     "execution_count": 108,
     "metadata": {},
     "output_type": "execute_result"
    }
   ],
   "source": [
    "# Get columns indexed as 1, 2\n",
    "x5[:, 1:3]"
   ]
  },
  {
   "cell_type": "code",
   "execution_count": 109,
   "metadata": {},
   "outputs": [
    {
     "data": {
      "text/plain": [
       "array([ 3,  7, 11])"
      ]
     },
     "execution_count": 109,
     "metadata": {},
     "output_type": "execute_result"
    }
   ],
   "source": [
    "# Get specific column, for example third column\n",
    "x5[:, 2]"
   ]
  },
  {
   "cell_type": "code",
   "execution_count": 110,
   "metadata": {},
   "outputs": [
    {
     "name": "stdout",
     "output_type": "stream",
     "text": [
      "[5 6 7 8]\n",
      "[5 6 7 8]\n"
     ]
    }
   ],
   "source": [
    "# Get specific row, for example second row\n",
    "print(x5[1, :])\n",
    "print(x5[1]) # column specifier can be ommitted"
   ]
  },
  {
   "cell_type": "code",
   "execution_count": 111,
   "metadata": {},
   "outputs": [
    {
     "data": {
      "text/plain": [
       "array([[6, 7]])"
      ]
     },
     "execution_count": 111,
     "metadata": {},
     "output_type": "execute_result"
    }
   ],
   "source": [
    "# Get rows indexed as 1, 2 and columns indexed as 1, 2\n",
    "x5[1:2, 1:3]"
   ]
  },
  {
   "cell_type": "code",
   "execution_count": 112,
   "metadata": {},
   "outputs": [
    {
     "data": {
      "text/plain": [
       "array([[12, 11, 10,  9],\n",
       "       [ 8,  7,  6,  5],\n",
       "       [ 4,  3,  2,  1]])"
      ]
     },
     "execution_count": 112,
     "metadata": {},
     "output_type": "execute_result"
    }
   ],
   "source": [
    "# Reversing rows and columns\n",
    "x5[::-1, ::-1]"
   ]
  },
  {
   "cell_type": "code",
   "execution_count": 113,
   "metadata": {},
   "outputs": [
    {
     "name": "stdout",
     "output_type": "stream",
     "text": [
      "sub array of x5:\n",
      "[[1 2]\n",
      " [5 6]]\n",
      "sub array after modification:\n",
      "[[99  2]\n",
      " [ 5  6]]\n",
      "x5 (reflects modification to sub array in orginal array):\n",
      "[[99  2  3  4]\n",
      " [ 5  6  7  8]\n",
      " [ 9 10 11 12]]\n"
     ]
    }
   ],
   "source": [
    "# Numpy array slices are views of the original array (not copies); Python lists will give copies\n",
    "# Demo to show that modification to the view reflects changes in the original too as it is the view of the original\n",
    "x5_sub = x5[:2,:2]\n",
    "print(\"sub array of x5:\")\n",
    "print(x5_sub)\n",
    "# Modify an element of the sub array\n",
    "x5_sub[0, 0] = 99\n",
    "print(\"sub array after modification:\")\n",
    "print(x5_sub)\n",
    "print(\"x5 (reflects modification to sub array in orginal array):\")\n",
    "print(x5)"
   ]
  },
  {
   "cell_type": "code",
   "execution_count": 114,
   "metadata": {},
   "outputs": [
    {
     "name": "stdout",
     "output_type": "stream",
     "text": [
      "x5_sub_copy:\n",
      "[[99  2]\n",
      " [ 5  6]]\n",
      "x5_sub_copy (after modification):\n",
      "[[-1  2]\n",
      " [ 5  6]]\n",
      "x5:\n",
      "[[99  2  3  4]\n",
      " [ 5  6  7  8]\n",
      " [ 9 10 11 12]]\n"
     ]
    }
   ],
   "source": [
    "# Numpy array slices are views but you can get copies also\n",
    "x5_sub_copy = x5[:2, :2].copy()\n",
    "print(\"x5_sub_copy:\")\n",
    "print(x5_sub_copy)\n",
    "# Any modification to this sub array will not reflect in the original as it is a copy\n",
    "print(\"x5_sub_copy (after modification):\")\n",
    "x5_sub_copy[0, 0] = -1\n",
    "print(x5_sub_copy)\n",
    "print(\"x5:\")\n",
    "print(x5)"
   ]
  },
  {
   "cell_type": "code",
   "execution_count": 115,
   "metadata": {},
   "outputs": [
    {
     "name": "stdout",
     "output_type": "stream",
     "text": [
      "an array:\n",
      "[ 1  2  3  4  5  6  7  8  9 10 11 12]\n",
      "Reshapped grid:\n",
      "[[ 1  2  3  4]\n",
      " [ 5  6  7  8]\n",
      " [ 9 10 11 12]]\n"
     ]
    }
   ],
   "source": [
    "# Reshaping of arrays with reshape or newaxis\n",
    "grid = np.arange(1, 13)\n",
    "print(\"an array:\")\n",
    "print(grid)\n",
    "grid = grid.reshape((3, 4))\n",
    "print(\"Reshapped grid:\")\n",
    "print(grid)"
   ]
  },
  {
   "cell_type": "code",
   "execution_count": 116,
   "metadata": {},
   "outputs": [
    {
     "data": {
      "text/plain": [
       "array([[1, 2, 3]])"
      ]
     },
     "execution_count": 116,
     "metadata": {},
     "output_type": "execute_result"
    }
   ],
   "source": [
    "# Reshaping an array to a row vector\n",
    "r = np.array([1, 2, 3])\n",
    "r.reshape((1, 3))"
   ]
  },
  {
   "cell_type": "code",
   "execution_count": 117,
   "metadata": {},
   "outputs": [
    {
     "data": {
      "text/plain": [
       "array([[1],\n",
       "       [2],\n",
       "       [3]])"
      ]
     },
     "execution_count": 117,
     "metadata": {},
     "output_type": "execute_result"
    }
   ],
   "source": [
    "# Reshaping an array to a column vector\n",
    "r = np.array([1, 2, 3])\n",
    "r.reshape((3, 1))"
   ]
  },
  {
   "cell_type": "code",
   "execution_count": 118,
   "metadata": {},
   "outputs": [
    {
     "name": "stdout",
     "output_type": "stream",
     "text": [
      "[1 2 3 4 5 6]\n",
      "[1 2 3 4 5 6 7 8 9]\n"
     ]
    }
   ],
   "source": [
    "# Concatenation of multiple arrays (single dimension)\n",
    "x = np.array([1, 2, 3])\n",
    "y = np.array([4, 5, 6])\n",
    "z = np.array([7, 8, 9])\n",
    "xy = np.concatenate([x, y])\n",
    "print(xy)\n",
    "xyz = np.concatenate([x, y, z])\n",
    "print(xyz)"
   ]
  },
  {
   "cell_type": "code",
   "execution_count": 119,
   "metadata": {},
   "outputs": [
    {
     "name": "stdout",
     "output_type": "stream",
     "text": [
      "[[ 1  2  3  4]\n",
      " [ 5  6  7  8]\n",
      " [11 22 33 44]\n",
      " [55 66 77 88]]\n",
      "[[ 1  2  3  4 11 22 33 44]\n",
      " [ 5  6  7  8 55 66 77 88]]\n"
     ]
    }
   ],
   "source": [
    "# Concatenation of multiple arrays (two dimension)\n",
    "g1 = np.array([[1, 2, 3, 4], \n",
    "               [5, 6, 7, 8]])\n",
    "g2 = np.array([[11, 22, 33, 44],\n",
    "               [55, 66, 77, 88]])\n",
    "\n",
    "# concatenate along the first axis\n",
    "g12 = np.concatenate([g1, g2]) # axis = 0 (optional argument)\n",
    "print(g12)\n",
    "\n",
    "# concatenate along the second axis (zero indexed)\n",
    "g12dash = np.concatenate([g1, g2], axis = 1)\n",
    "print(g12dash)\n"
   ]
  },
  {
   "cell_type": "code",
   "execution_count": 120,
   "metadata": {},
   "outputs": [
    {
     "name": "stdout",
     "output_type": "stream",
     "text": [
      "[[1 2 3]\n",
      " [4 5 6]\n",
      " [7 8 9]]\n"
     ]
    }
   ],
   "source": [
    "# Concatenate using vstack\n",
    "r = np.array([1, 2, 3])\n",
    "grid = np.array([[4, 5, 6],\n",
    "                 [7, 8, 9]])\n",
    "v = np.vstack([r, grid])\n",
    "print(v)"
   ]
  },
  {
   "cell_type": "code",
   "execution_count": 121,
   "metadata": {},
   "outputs": [
    {
     "name": "stdout",
     "output_type": "stream",
     "text": [
      "[[ 1  2  3 11]\n",
      " [ 4  5  6 22]]\n"
     ]
    }
   ],
   "source": [
    "# Concatenate using hstack\n",
    "v = np.array([[11],\n",
    "              [22]])\n",
    "grid = np.array([[1, 2, 3],\n",
    "                 [4, 5, 6]])\n",
    "h = np.hstack([grid, v])\n",
    "print(h)"
   ]
  },
  {
   "cell_type": "code",
   "execution_count": 122,
   "metadata": {},
   "outputs": [
    {
     "name": "stdout",
     "output_type": "stream",
     "text": [
      "[1]\n",
      "[2 3]\n",
      "[4 5]\n",
      "[6 7 8 9]\n"
     ]
    }
   ],
   "source": [
    "# Split\n",
    "# numpy.split(ary, indices_or_sections, axis=0)\n",
    "# For example, [2, 3] would, for axis=0, result in\n",
    "#     ary[:2]\n",
    "#     ary[2:3]\n",
    "#     ary[3:]\n",
    "# n splits results in n+1 subarrays\n",
    "# If an index exceeds the dimension of the array along axis, an empty sub-array is returned correspondingly.\n",
    "\n",
    "x = [1, 2, 3, 4, 5, 6, 7, 8, 9]\n",
    "x1, x2, x3, x4 = np.split(x, [1, 3, 5])\n",
    "print(x1)\n",
    "print(x2)\n",
    "print(x3)\n",
    "print(x4)"
   ]
  },
  {
   "cell_type": "code",
   "execution_count": 123,
   "metadata": {},
   "outputs": [
    {
     "name": "stdout",
     "output_type": "stream",
     "text": [
      "[[0 1 2 3]\n",
      " [4 5 6 7]]\n",
      "[[ 8  9 10 11]\n",
      " [12 13 14 15]]\n",
      "[[ 0  1  2  3]\n",
      " [ 4  5  6  7]\n",
      " [ 8  9 10 11]]\n",
      "[[12 13 14 15]]\n"
     ]
    }
   ],
   "source": [
    "# Vertical split\n",
    "grid = np.arange(16).reshape(4, 4)\n",
    "grid\n",
    "upper, lower = np.vsplit(grid, [2])\n",
    "print(upper)\n",
    "print(lower)\n",
    "u1, l1 = np.vsplit(grid, [3])\n",
    "print(u1)\n",
    "print(l1)"
   ]
  },
  {
   "cell_type": "code",
   "execution_count": 124,
   "metadata": {},
   "outputs": [
    {
     "name": "stdout",
     "output_type": "stream",
     "text": [
      "[[ 0  1]\n",
      " [ 4  5]\n",
      " [ 8  9]\n",
      " [12 13]]\n",
      "[[ 2  3]\n",
      " [ 6  7]\n",
      " [10 11]\n",
      " [14 15]]\n",
      "[[ 0  1  2]\n",
      " [ 4  5  6]\n",
      " [ 8  9 10]\n",
      " [12 13 14]]\n",
      "[[ 3]\n",
      " [ 7]\n",
      " [11]\n",
      " [15]]\n"
     ]
    }
   ],
   "source": [
    "# Horizontal split\n",
    "grid = np.arange(16).reshape(4, 4)\n",
    "grid\n",
    "left, right = np.hsplit(grid, [2])\n",
    "print(left)\n",
    "print(right)\n",
    "l1, r1 = np.hsplit(grid, [3])\n",
    "print(l1)\n",
    "print(r1)"
   ]
  },
  {
   "cell_type": "code",
   "execution_count": 125,
   "metadata": {},
   "outputs": [
    {
     "name": "stdout",
     "output_type": "stream",
     "text": [
      "12.8 µs ± 772 ns per loop (mean ± std. dev. of 7 runs, 100000 loops each)\n"
     ]
    }
   ],
   "source": [
    "# Demonstrate default implementation of Python's operations can be slow and the need for Numpy's ufuncs\n",
    "def compute_reciprocals(values):\n",
    "    output = np.empty(len(values))\n",
    "    for i in range(len(values)):\n",
    "        output[i] = 1.0 / values[i]\n",
    "    return output\n",
    "\n",
    "values = np.random.randint(1, 10, size=5)\n",
    "%timeit compute_reciprocals(values)"
   ]
  },
  {
   "cell_type": "code",
   "execution_count": 126,
   "metadata": {},
   "outputs": [
    {
     "name": "stdout",
     "output_type": "stream",
     "text": [
      "11.9 µs ± 1.03 µs per loop (mean ± std. dev. of 7 runs, 100000 loops each)\n"
     ]
    }
   ],
   "source": [
    "big_array = np.random.randint(1, 100, size=1000000)\n",
    "%timeit compute_reciprocals(values)"
   ]
  },
  {
   "cell_type": "code",
   "execution_count": 127,
   "metadata": {},
   "outputs": [
    {
     "name": "stdout",
     "output_type": "stream",
     "text": [
      "[0.25       0.25       0.125      0.33333333 0.2       ]\n",
      "[0.25       0.25       0.125      0.33333333 0.2       ]\n"
     ]
    }
   ],
   "source": [
    "print(compute_reciprocals(values))\n",
    "print(1.0 / values)"
   ]
  },
  {
   "cell_type": "code",
   "execution_count": 128,
   "metadata": {},
   "outputs": [
    {
     "name": "stdout",
     "output_type": "stream",
     "text": [
      "8.66 ms ± 268 µs per loop (mean ± std. dev. of 7 runs, 100 loops each)\n"
     ]
    }
   ],
   "source": [
    "%timeit (1.0 / big_array)"
   ]
  },
  {
   "cell_type": "code",
   "execution_count": 129,
   "metadata": {},
   "outputs": [
    {
     "name": "stdout",
     "output_type": "stream",
     "text": [
      "x =  [0 1 2 3 4 5 6 7 8 9]\n",
      "x + 5 =  [ 5  6  7  8  9 10 11 12 13 14]\n",
      "x - 5 =  [-5 -4 -3 -2 -1  0  1  2  3  4]\n",
      "x * 2 =  [ 0  2  4  6  8 10 12 14 16 18]\n",
      "x / 2 =  [0.  0.5 1.  1.5 2.  2.5 3.  3.5 4.  4.5]\n",
      "x // 2 =  [0 0 1 1 2 2 3 3 4 4]\n",
      "-x = [ 0 -1 -2 -3 -4 -5 -6 -7 -8 -9]\n",
      "x ** 2 =  [ 0  1  4  9 16 25 36 49 64 81]\n",
      "x % 2 =  [0 1 0 1 0 1 0 1 0 1]\n",
      "-((0.5 * x + 1) ** 2)) =  [ -1.    -2.25  -4.    -6.25  -9.   -12.25 -16.   -20.25 -25.   -30.25]\n",
      "x.add(2) =  [ 2  3  4  5  6  7  8  9 10 11]\n",
      "abs(xabs) =  [2 1 0 1 2]\n",
      "Magnitudes are  [5. 5. 2. 1.]\n"
     ]
    }
   ],
   "source": [
    "# Numpy's UFuncs\n",
    "x = np.arange(10)\n",
    "print(\"x = \", x)\n",
    "print(\"x + 5 = \", x+5)\n",
    "print(\"x - 5 = \", x-5)\n",
    "print(\"x * 2 = \", x*2)\n",
    "print(\"x / 2 = \", x/2)\n",
    "print(\"x // 2 = \", x//2)\n",
    "print(\"-x =\", -x)\n",
    "print(\"x ** 2 = \", x ** 2)\n",
    "print(\"x % 2 = \", x % 2)\n",
    "print(\"-((0.5 * x + 1) ** 2)) = \", -((0.5 * x + 1) ** 2))\n",
    "print(\"x.add(2) = \", np.add(x, 2))\n",
    "xabs = np.array([-2, -1, 0, 1, 2])\n",
    "print(\"abs(xabs) = \", np.abs(xabs))\n",
    "# abs function of numpy for complex numbers calculates the magnitude\n",
    "cmplx = np.array([3-4j, 4-3j, 2+0j, 0+1j])\n",
    "print(\"Magnitudes are \", np.abs(cmplx))"
   ]
  },
  {
   "cell_type": "code",
   "execution_count": 130,
   "metadata": {},
   "outputs": [
    {
     "name": "stdout",
     "output_type": "stream",
     "text": [
      "theta =  [ 0. 15. 30. 45. 60. 75. 90.]\n",
      "sin(theta) =  [ 0.          0.65028784 -0.98803162  0.85090352 -0.30481062 -0.38778164\n",
      "  0.89399666]\n",
      "cos(theta) =  [ 1.         -0.75968791  0.15425145  0.52532199 -0.95241298  0.92175127\n",
      " -0.44807362]\n",
      "tan(theta) =  [ 0.         -0.8559934  -6.4053312   1.61977519  0.32004039 -0.42070095\n",
      " -1.99520041]\n",
      "invs =  [-1, 0, 1]\n",
      "arcsin(invs) =  [-1.57079633  0.          1.57079633]\n",
      "arccos(invs) =  [3.14159265 1.57079633 0.        ]\n",
      "arctan(invs) =  [-0.78539816  0.          0.78539816]\n"
     ]
    }
   ],
   "source": [
    "# Numpy's UFuncs - Trigonometric\n",
    "# define an array of angles starting from 0, \n",
    "theta = np.linspace(0, 90, 7)\n",
    "print(\"theta = \", theta)\n",
    "print(\"sin(theta) = \", np.sin(theta))\n",
    "print(\"cos(theta) = \", np.cos(theta))\n",
    "print(\"tan(theta) = \", np.tan(theta))\n",
    "\n",
    "invs = [-1, 0, 1]\n",
    "print(\"invs = \", invs)\n",
    "print(\"arcsin(invs) = \", np.arcsin(invs))\n",
    "print(\"arccos(invs) = \", np.arccos(invs))\n",
    "print(\"arctan(invs) = \", np.arctan(invs))"
   ]
  },
  {
   "cell_type": "code",
   "execution_count": 131,
   "metadata": {},
   "outputs": [
    {
     "name": "stdout",
     "output_type": "stream",
     "text": [
      "x =  [1, 2, 3, 4, 5, 6, 7, 8, 9]\n",
      "e^x =  [2.71828183e+00 7.38905610e+00 2.00855369e+01 5.45981500e+01\n",
      " 1.48413159e+02 4.03428793e+02 1.09663316e+03 2.98095799e+03\n",
      " 8.10308393e+03]\n",
      "2^x =  [  2.   4.   8.  16.  32.  64. 128. 256. 512.]\n",
      "3^x =  [    3     9    27    81   243   729  2187  6561 19683]\n",
      "x =  [1, 2, 4, 10]\n",
      "log x =  [0.         0.69314718 1.38629436 2.30258509]\n",
      "log2(x) =  [0.         1.         2.         3.32192809]\n",
      "log10(x) =  [0.         0.30103    0.60205999 1.        ]\n"
     ]
    }
   ],
   "source": [
    "# exponentials and logarithms\n",
    "x = [1, 2, 3, 4, 5, 6, 7, 8, 9]\n",
    "print(\"x = \", x)\n",
    "print(\"e^x = \", np.exp(x))\n",
    "print(\"2^x = \", np.exp2(x))\n",
    "print(\"3^x = \", np.power(3, x))\n",
    "\n",
    "x = [1, 2, 4, 10]\n",
    "print(\"x = \", x)\n",
    "print(\"log x = \", np.log(x))\n",
    "print(\"log2(x) = \", np.log2(x))\n",
    "print(\"log10(x) = \", np.log10(x))"
   ]
  },
  {
   "cell_type": "code",
   "execution_count": 132,
   "metadata": {},
   "outputs": [
    {
     "name": "stdout",
     "output_type": "stream",
     "text": [
      "x =  [0 1 2 3 4]\n",
      "[ 1.  0.  2.  0.  4.  0.  8.  0. 16.  0.]\n"
     ]
    }
   ],
   "source": [
    "x = np.arange(5)\n",
    "print(\"x = \", x)\n",
    "y = np.zeros(10)\n",
    "np.power(2, x, out=y[::2])\n",
    "print(y)"
   ]
  },
  {
   "cell_type": "code",
   "execution_count": 133,
   "metadata": {},
   "outputs": [
    {
     "name": "stdout",
     "output_type": "stream",
     "text": [
      "[1 2 3 4 5]\n",
      "Sum of elements =  15\n",
      "Sum of elements =  15\n",
      "Product of elements =  120\n",
      "Product of elements =  120\n",
      "Store intermediate results of addition =  [ 1  3  6 10 15]\n",
      "Store intermediate results of addition =  [ 1  3  6 10 15]\n",
      "Store intermediate results of multiplication =  [  1   2   6  24 120]\n",
      "Store intermediate results of multiplication =  [  1   2   6  24 120]\n"
     ]
    }
   ],
   "source": [
    "# Aggregates\n",
    "x = np.arange(1, 6)\n",
    "print(x)\n",
    "print(\"Sum of elements = \", np.add.reduce(x))\n",
    "print(\"Sum of elements = \", np.sum(x)) # equivalent to add.reduce\n",
    "print(\"Product of elements = \", np.multiply.reduce(x))\n",
    "print(\"Product of elements = \", np.prod(x)) # equivalent to multiply.reduce\n",
    "print(\"Store intermediate results of addition = \", np.add.accumulate(x))\n",
    "print(\"Store intermediate results of addition = \", np.cumsum(x)) # equivalent to add.accumulate\n",
    "print(\"Store intermediate results of multiplication = \", np.multiply.accumulate(x))\n",
    "print(\"Store intermediate results of multiplication = \", np.cumprod(x)) # equivalent to multiply.accumulate"
   ]
  },
  {
   "cell_type": "code",
   "execution_count": 134,
   "metadata": {},
   "outputs": [
    {
     "name": "stdout",
     "output_type": "stream",
     "text": [
      "Python's sum =  52.2044873361121\n",
      "Numpy's sum =  52.20448733611211\n",
      "134 ms ± 39 ms per loop (mean ± std. dev. of 7 runs, 1 loop each)\n",
      "1.22 ms ± 227 µs per loop (mean ± std. dev. of 7 runs, 1000 loops each)\n"
     ]
    }
   ],
   "source": [
    "# Aggregations: Min, Max, Sum, Product, Median, Quartiles, etc.\n",
    "L = np.random.random(100)\n",
    "# python's addition\n",
    "pySum = sum(L)\n",
    "print(\"Python's sum = \", pySum)\n",
    "# numpy's addition\n",
    "numPySum = np.sum(L)\n",
    "print(\"Numpy's sum = \", numPySum)\n",
    "\n",
    "# Demo that Numpy's version is faster for huge arrays\n",
    "L = np.random.random(1000000)\n",
    "%timeit sum(L)\n",
    "%timeit np.sum(L)\n",
    "\n",
    "\n",
    "\n"
   ]
  },
  {
   "cell_type": "code",
   "execution_count": 135,
   "metadata": {},
   "outputs": [
    {
     "name": "stdout",
     "output_type": "stream",
     "text": [
      "x =  [ 0  1  2  3  4  5  6  7  8  9 10 11 12 13 14 15 16 17 18 19 20 21 22 23\n",
      " 24]\n",
      "Min of array elements =  0\n",
      "Max of array elements =  24\n",
      "Min of array elements =  0\n",
      "Max of array elements =  24\n"
     ]
    }
   ],
   "source": [
    "# Min, Max functions\n",
    "x = np.arange(25)\n",
    "print(\"x = \", x)\n",
    "\n",
    "# Python version of min, max\n",
    "print(\"Min of array elements = \", min(x))\n",
    "print(\"Max of array elements = \", max(x))\n",
    "\n",
    "# Numpy version of min, max\n",
    "print(\"Min of array elements = \", np.min(x))\n",
    "print(\"Max of array elements = \", np.max(x))"
   ]
  },
  {
   "cell_type": "code",
   "execution_count": 136,
   "metadata": {},
   "outputs": [
    {
     "name": "stdout",
     "output_type": "stream",
     "text": [
      "grid =  [[0.7465245  0.53477827 0.90833153 0.24491018]\n",
      " [0.7564841  0.34418321 0.22835876 0.23279748]\n",
      " [0.8013315  0.20725954 0.81072454 0.79715782]]\n",
      "Sum of all elements =  6.6128414463277165\n",
      "Sum of elements in 1st column =  [2.30434011 1.08622102 1.94741484 1.27486548]\n",
      "Sum of elements in 2nd column =  [2.43454449 1.56182355 2.61647341]\n",
      "Min of all elements =  0.20725954172329664\n",
      "Min of elements in 1st column =  [0.7465245  0.20725954 0.22835876 0.23279748]\n",
      "Min of elements in 2nd column =  [0.24491018 0.22835876 0.20725954]\n"
     ]
    }
   ],
   "source": [
    "# Sum, Min, Max on a row or column of a two dimensional grid\n",
    "grid = np.random.random((3, 4))\n",
    "print(\"grid = \", grid)\n",
    "print(\"Sum of all elements = \", grid.sum())\n",
    "print(\"Sum of elements in 1st column = \", grid.sum(axis=0))\n",
    "print(\"Sum of elements in 2nd column = \", grid.sum(axis=1))\n",
    "\n",
    "print(\"Min of all elements = \", grid.min())\n",
    "print(\"Min of elements in 1st column = \", grid.min(axis=0))\n",
    "print(\"Min of elements in 2nd column = \", grid.min(axis=1))"
   ]
  },
  {
   "cell_type": "code",
   "execution_count": 14,
   "metadata": {},
   "outputs": [
    {
     "name": "stdout",
     "output_type": "stream",
     "text": [
      "Result of x < 3 =  [ True  True False False False]\n",
      "Result of x > 3 =  [False False False  True  True]\n",
      "Result of x <= 3 =  [ True  True  True False False]\n",
      "Result of x >= 3 =  [False False  True  True  True]\n",
      "Result of x == 3 =  [False False  True False False]\n",
      "Result of x != 3 =  [ True  True False  True  True]\n",
      "x * 2 =  [ 2  4  6  8 10]\n",
      "x ** 2 =  [ 1  4  9 16 25]\n",
      "Result of comparison:  [False  True False False False]\n",
      "<mtrand.RandomState object at 0x00000205BA0571B0>\n",
      "[[5 0 3 3]\n",
      " [7 9 3 5]\n",
      " [2 4 7 6]]\n",
      "Result of x < 6: \n",
      "[[ True  True  True  True]\n",
      " [False False  True  True]\n",
      " [ True  True False False]]\n",
      "Count of values < 6 =  8\n",
      "Count of values < 6 =  8\n",
      "[4 2 2]\n"
     ]
    },
    {
     "data": {
      "text/plain": [
       "array([ True, False,  True])"
      ]
     },
     "execution_count": 14,
     "metadata": {},
     "output_type": "execute_result"
    }
   ],
   "source": [
    "# Comparison operators as ufuncs\n",
    "x = np.array([1, 2, 3, 4, 5])\n",
    "print(\"Result of x < 3 = \", x < 3)\n",
    "print(\"Result of x > 3 = \", x > 3)\n",
    "print(\"Result of x <= 3 = \", x <= 3)\n",
    "print(\"Result of x >= 3 = \", x >= 3)\n",
    "print(\"Result of x == 3 = \", x == 3)\n",
    "print(\"Result of x != 3 = \", x != 3)\n",
    "\n",
    "print(\"x * 2 = \", x * 2)\n",
    "print(\"x ** 2 = \", x ** 2)\n",
    "print(\"Result of comparison: \", (x * 2) == (x ** 2))\n",
    "\n",
    "# Two dimensional example of ufuncs comparison \n",
    "#  (demonstrates how can we get boolean values as a result of arithmetic operators\n",
    "#    and the results can be used to extract nice results as shown in the part - 2)\n",
    "# part - 1\n",
    "rng = np.random.RandomState(0)\n",
    "print(rng)\n",
    "x = rng.randint(10, size=(3, 4))\n",
    "print (x)\n",
    "print (\"Result of x < 6: \")\n",
    "print(x < 6)\n",
    "\n",
    "# part - 2 (demonstrate how boolean values can be used to arrive at meaningful results)\n",
    "# how many values less than 6? (1st way)\n",
    "print(\"Count of values < 6 = \", np.count_nonzero(x < 6))\n",
    "# how many values less than 6? (2nd way: true is 1, false is 0 so sum also will get you the result)\n",
    "print(\"Count of values < 6 = \", np.sum(x < 6))\n",
    "\n",
    "# how many values less than 6 in each row?\n",
    "# we get count of values < 6 in each row\n",
    "print(np.sum(x < 6, axis=1))\n",
    "\n",
    "# using any, all, we can quickly checking whether any or all the values are true\n",
    "# are there any values greater than 8?\n",
    "np.any(x > 8)\n",
    "\n",
    "# are there any values less than 0?\n",
    "np.any(x < 0)\n",
    "\n",
    "# are all values less than 10?\n",
    "np.all(x < 10)\n",
    "\n",
    "# are all values equal to 6?\n",
    "np.all(x == 6)\n",
    "\n",
    "# np.all() and np.any() can be used along particular axes as well\n",
    "# are all values in each row less than 8?\n",
    "np.all(x < 8, axis=1)"
   ]
  },
  {
   "cell_type": "code",
   "execution_count": null,
   "metadata": {},
   "outputs": [],
   "source": []
  }
 ],
 "metadata": {
  "kernelspec": {
   "display_name": "Python 3",
   "language": "python",
   "name": "python3"
  },
  "language_info": {
   "codemirror_mode": {
    "name": "ipython",
    "version": 3
   },
   "file_extension": ".py",
   "mimetype": "text/x-python",
   "name": "python",
   "nbconvert_exporter": "python",
   "pygments_lexer": "ipython3",
   "version": "3.7.0"
  }
 },
 "nbformat": 4,
 "nbformat_minor": 2
}
