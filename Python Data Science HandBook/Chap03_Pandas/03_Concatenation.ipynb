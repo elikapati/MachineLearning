{
 "cells": [
  {
   "cell_type": "code",
   "execution_count": 4,
   "metadata": {},
   "outputs": [
    {
     "data": {
      "text/plain": [
       "1    A\n",
       "2    B\n",
       "3    C\n",
       "4    D\n",
       "5    E\n",
       "6    F\n",
       "dtype: object"
      ]
     },
     "execution_count": 4,
     "metadata": {},
     "output_type": "execute_result"
    }
   ],
   "source": [
    "import numpy as np\n",
    "import pandas as pd\n",
    "\n",
    "# Concatenation of series\n",
    "ser1 = pd.Series(['A', 'B', 'C'], index=[1, 2, 3])\n",
    "ser2 = pd.Series(['D', 'E', 'F'], index=[4, 5, 6])\n",
    "\n",
    "pd.concat([ser1, ser2])"
   ]
  },
  {
   "cell_type": "code",
   "execution_count": 39,
   "metadata": {},
   "outputs": [
    {
     "name": "stdout",
     "output_type": "stream",
     "text": [
      "    A   B\n",
      "1  A1  B1\n",
      "2  A2  B2\n",
      "    A   B\n",
      "3  A3  B3\n",
      "4  A4  B4\n",
      "Row-wise concatenation:\n",
      "    A   B\n",
      "1  A1  B1\n",
      "2  A2  B2\n",
      "3  A3  B3\n",
      "4  A4  B4\n",
      "Column-wise concatenation:\n",
      "    A   B   A   B\n",
      "1  A1  B1  A1  B1\n",
      "2  A2  B2  A2  B2\n",
      "Original data frames:\n",
      "df5:\n",
      "    A   B\n",
      "0  A0  B0\n",
      "1  A1  B1\n",
      "df6:\n",
      "    A   B\n",
      "2  A2  B2\n",
      "3  A3  B3\n",
      "Concatenate original data frames:\n",
      "    A   B\n",
      "0  A0  B0\n",
      "1  A1  B1\n",
      "2  A2  B2\n",
      "3  A3  B3\n",
      "Data frames after making duplicate indices:\n",
      "df5:\n",
      "    A   B\n",
      "0  A0  B0\n",
      "1  A1  B1\n",
      "df6:\n",
      "    A   B\n",
      "0  A2  B2\n",
      "1  A3  B3\n",
      "Concatenate data frames after duplicating indices:\n",
      "    A   B\n",
      "0  A0  B0\n",
      "1  A1  B1\n",
      "0  A2  B2\n",
      "1  A3  B3\n"
     ]
    }
   ],
   "source": [
    "# Concatenation of data frames\n",
    "def make_df(cols, ind):\n",
    "    \"\"\"Quickly make a data frame\"\"\"\n",
    "    data = {c: [str(c)+str(i) for i in ind]\n",
    "           for c in cols}\n",
    "    return pd.DataFrame(data, ind)\n",
    "\n",
    "df1 = make_df('AB', [1, 2])\n",
    "df2 = make_df('AB', [3, 4])\n",
    "print(df1)\n",
    "print(df2)\n",
    "print(\"Row-wise concatenation:\")\n",
    "print(pd.concat([df1, df2])) # By default, row-wise concatenation takes place i.e. axis=0\n",
    "\n",
    "df3 = make_df('AB', [1, 2])\n",
    "df4 = make_df('AB', [1, 2])\n",
    "print(\"Column-wise concatenation:\")\n",
    "print(pd.concat([df3, df4], axis=1)) # Notice the axis is 1 (column-wise)\n",
    "\n",
    "# One important difference between np.concatenate and pd.concat is that Pandas\n",
    "# concatenation preserves indices, even if the result will have duplicate indices!\n",
    "# Notice the repeated indices in the result. While this is valid within DataFrames, the\n",
    "# outcome is often undesirable. pd.concat() gives us a few ways to handle it.\n",
    "df5 = make_df('AB', [0, 1])\n",
    "df6 = make_df('AB', [2, 3])\n",
    "print(\"Original data frames:\")\n",
    "print(\"df5:\")\n",
    "print(df5)\n",
    "print(\"df6:\")\n",
    "print(df6)\n",
    "print(\"Concatenate original data frames:\")\n",
    "print(pd.concat([df5, df6]))\n",
    "\n",
    "# Make duplicate indices\n",
    "df6.index = df5.index\n",
    "print(\"Data frames after making duplicate indices:\")\n",
    "print(\"df5:\")\n",
    "print(df5)\n",
    "print(\"df6:\")\n",
    "print(df6)\n",
    "print(\"Concatenate data frames after duplicating indices:\")\n",
    "print(pd.concat([df5, df6]))"
   ]
  },
  {
   "cell_type": "code",
   "execution_count": 40,
   "metadata": {},
   "outputs": [
    {
     "name": "stdout",
     "output_type": "stream",
     "text": [
      "ValueError:  Indexes have overlapping values: Int64Index([0, 1], dtype='int64')\n"
     ]
    }
   ],
   "source": [
    "# Catching the duplicate indices as error\n",
    "try:\n",
    "    pd.concat([df5, df6], verify_integrity = True)\n",
    "except ValueError as e:\n",
    "    print(\"Value Error due to duplicate indices: \", e)    "
   ]
  },
  {
   "cell_type": "code",
   "execution_count": 43,
   "metadata": {},
   "outputs": [
    {
     "name": "stdout",
     "output_type": "stream",
     "text": [
      "    A   B\n",
      "0  A0  B0\n",
      "1  A1  B1\n",
      "2  A2  B2\n",
      "3  A3  B3\n"
     ]
    }
   ],
   "source": [
    "# Ignoring the indices\n",
    "print(pd.concat([df5, df6], ignore_index = True))"
   ]
  },
  {
   "cell_type": "code",
   "execution_count": 44,
   "metadata": {},
   "outputs": [
    {
     "name": "stdout",
     "output_type": "stream",
     "text": [
      "      A   B\n",
      "x 0  A0  B0\n",
      "  1  A1  B1\n",
      "y 0  A2  B2\n",
      "  1  A3  B3\n"
     ]
    }
   ],
   "source": [
    "# Adding multiple Indices\n",
    "print(pd.concat([df5, df6], keys=['x', 'y']))"
   ]
  },
  {
   "cell_type": "code",
   "execution_count": 49,
   "metadata": {},
   "outputs": [
    {
     "name": "stdout",
     "output_type": "stream",
     "text": [
      "    A   B   C\n",
      "1  A1  B1  C1\n",
      "2  A2  B2  C2\n",
      "    B   C   D\n",
      "3  B3  C3  D3\n",
      "4  B4  C4  D4\n",
      "Outer Join(default):\n",
      "     A   B   C    D\n",
      "1   A1  B1  C1  NaN\n",
      "2   A2  B2  C2  NaN\n",
      "3  NaN  B3  C3   D3\n",
      "4  NaN  B4  C4   D4\n",
      "    A   B\n",
      "0  A0  B0\n",
      "1  A1  B1\n",
      "    A   B\n",
      "0  A2  B2\n",
      "1  A3  B3\n",
      "Inner Join:\n",
      "    A   B\n",
      "0  A0  B0\n",
      "1  A1  B1\n",
      "0  A2  B2\n",
      "1  A3  B3\n"
     ]
    },
    {
     "name": "stderr",
     "output_type": "stream",
     "text": [
      "C:\\ProgramData\\Anaconda3\\lib\\site-packages\\ipykernel_launcher.py:5: FutureWarning: Sorting because non-concatenation axis is not aligned. A future version\n",
      "of pandas will change to not sort by default.\n",
      "\n",
      "To accept the future behavior, pass 'sort=False'.\n",
      "\n",
      "To retain the current behavior and silence the warning, pass 'sort=True'.\n",
      "\n",
      "  \"\"\"\n"
     ]
    }
   ],
   "source": [
    "df7 = make_df('ABC', [1, 2])\n",
    "df8 = make_df('BCD', [3, 4])\n",
    "print(df7); print(df8); \n",
    "print(\"Outer Join(default):\")\n",
    "print(pd.concat([df7, df8]))\n",
    "\n",
    "print(df5); print(df6);\n",
    "print(\"Inner Join:\")\n",
    "print(pd.concat([df5, df6], join='inner'))"
   ]
  },
  {
   "cell_type": "code",
   "execution_count": null,
   "metadata": {},
   "outputs": [],
   "source": []
  }
 ],
 "metadata": {
  "kernelspec": {
   "display_name": "Python 3",
   "language": "python",
   "name": "python3"
  },
  "language_info": {
   "codemirror_mode": {
    "name": "ipython",
    "version": 3
   },
   "file_extension": ".py",
   "mimetype": "text/x-python",
   "name": "python",
   "nbconvert_exporter": "python",
   "pygments_lexer": "ipython3",
   "version": "3.7.0"
  }
 },
 "nbformat": 4,
 "nbformat_minor": 2
}
