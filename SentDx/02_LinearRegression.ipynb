{
 "cells": [
  {
   "cell_type": "code",
   "execution_count": 7,
   "metadata": {},
   "outputs": [
    {
     "name": "stdout",
     "output_type": "stream",
     "text": [
      "R Squared =  0.5844155844155845\n"
     ]
    },
    {
     "data": {
      "image/png": "[encoded data removed]",
      "text/plain": [
       "<Figure size 432x288 with 1 Axes>"
      ]
     },
     "metadata": {},
     "output_type": "display_data"
    }
   ],
   "source": [
    "from statistics import mean\n",
    "import numpy as np\n",
    "import matplotlib.pyplot as plt\n",
    "from matplotlib import style\n",
    "\n",
    "style.use('fivethirtyeight')\n",
    "\n",
    "# Arbitrary values of x and y having linear behaviour\n",
    "xs = np.array([1, 2, 3, 4, 5, 6], dtype=np.float64)\n",
    "ys = np.array([5, 4, 6, 5, 6, 7], dtype=np.float64)\n",
    "\n",
    "#xs = np.array([1, 2, 3, 4, 5, 6], dtype=np.float64)\n",
    "#ys = np.array([1, 2, 3, 4, 5, 6], dtype=np.float64)\n",
    "\n",
    "\n",
    "# Find m and b for y = mx + b with the xs and ys\n",
    "def best_fit_slope_and_intercept(xs, ys):\n",
    "    m = (((mean(xs) * mean(ys)) - mean(xs * ys)) /\n",
    "         ((mean(xs) * mean(xs)) - mean(xs * xs)))\n",
    "    b = mean(ys) - m * mean(xs)\n",
    "    return m, b\n",
    "\n",
    "def squared_error(ys_orig, ys_line):\n",
    "    return sum((ys_line - ys_orig)**2)\n",
    "\n",
    "def coefficient_of_determination(ys_orig, ys_line):\n",
    "    ys_mean_line = [mean(ys_orig) for y in ys_orig]\n",
    "    squared_error_regr = squared_error(ys_orig, ys_line)\n",
    "    squared_error_y_mean = squared_error(ys_orig, ys_mean_line)\n",
    "    return (1 - (squared_error_regr / squared_error_y_mean))\n",
    "\n",
    "# Call the regression function for xs, ys\n",
    "m, b = best_fit_slope_and_intercept(xs, ys)\n",
    "\n",
    "# Find y values for xs using the linear equation\n",
    "regression_line = [(m * x) + b for x in xs]\n",
    "\n",
    "# Predict y for x using the fitted line equation\n",
    "predict_x = 9\n",
    "predict_y = (m * predict_x) + b\n",
    "\n",
    "r_squared = coefficient_of_determination(ys, regression_line)\n",
    "print(\"R Squared = \", r_squared)\n",
    "\n",
    "# Plot the line \n",
    "plt.scatter(xs, ys)\n",
    "\n",
    "# Sow the estimated value in a different color\n",
    "plt.scatter(predict_x, predict_y, color='r')\n",
    "\n",
    "# Show the fitted equation as a line\n",
    "plt.plot(xs, regression_line)\n",
    "plt.show()\n"
   ]
  },
  {
   "cell_type": "code",
   "execution_count": null,
   "metadata": {},
   "outputs": [],
   "source": []
  }
 ],
 "metadata": {
  "kernelspec": {
   "display_name": "Python 3",
   "language": "python",
   "name": "python3"
  },
  "language_info": {
   "codemirror_mode": {
    "name": "ipython",
    "version": 3
   },
   "file_extension": ".py",
   "mimetype": "text/x-python",
   "name": "python",
   "nbconvert_exporter": "python",
   "pygments_lexer": "ipython3",
   "version": "3.7.0"
  }
 },
 "nbformat": 4,
 "nbformat_minor": 2
}
