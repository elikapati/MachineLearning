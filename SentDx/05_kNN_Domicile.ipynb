{
 "cells": [
  {
   "cell_type": "code",
   "execution_count": 62,
   "metadata": {},
   "outputs": [
    {
     "name": "stdout",
     "output_type": "stream",
     "text": [
      "Domicile Data:\n",
      "After dropping column 'id':\n",
      "Accuracy =  1.0\n",
      "[[8.7 2.5]]\n",
      "Prediction on example measure =  [33]\n"
     ]
    },
    {
     "data": {
      "text/plain": [
       "<matplotlib.collections.PathCollection at 0x21a66a18588>"
      ]
     },
     "execution_count": 62,
     "metadata": {},
     "output_type": "execute_result"
    },
    {
     "data": {
      "image/png": "[encoded data removed]",
      "text/plain": [
       "<Figure size 432x288 with 1 Axes>"
      ]
     },
     "metadata": {},
     "output_type": "display_data"
    }
   ],
   "source": [
    "# This problem definition is created to be an example of KNN with my own data\n",
    "# This program addresses if a person is A - American(Country code = 11), \n",
    "#                                       B - British(Country code = 22), \n",
    "#                                       C - Canada(Country code = 33) \n",
    "# by examining the person's red blood cell count, complexion\n",
    "# The problem definition and data are created by me\n",
    "\n",
    "import numpy as np\n",
    "from sklearn import preprocessing, neighbors\n",
    "from sklearn.model_selection import train_test_split\n",
    "#from sklearn.linear_model import LinearRegression\n",
    "import pandas as pd\n",
    "import matplotlib.pyplot as plt\n",
    "from matplotlib import style\n",
    "\n",
    "style.use('fivethirtyeight')\n",
    "\n",
    "# Data prepared on my own using the online free graph tools\n",
    "#   https://www.mathsisfun.com/data/cartesian-coordinates-interactive.html or\n",
    "#   https://oercommons.s3.amazonaws.com/media/courseware/relatedresource/file/imth-6-1-9-6-1-coordinate_plane_plotter/index.html\n",
    "df = pd.read_csv('domicile.csv')\n",
    "print(\"Domicile Data:\")\n",
    "df\n",
    "\n",
    "df.drop(['id'], 1, inplace=True)\n",
    "#print(\"After dropping column 'id':\")\n",
    "#print(df)\n",
    "\n",
    "ages = df['age']\n",
    "complexions = df['complexion']\n",
    "countries = [11, 22, 33]\n",
    "\n",
    "#print(\"Ages:\\n\", ages)\n",
    "#print(\"Complexions:\\n\", complexions)\n",
    "#print(\"Countries:\\n\", countries)\n",
    "\n",
    "X = np.array(df.drop(['country'], 1)) # Consider all columns as features except 'country'\n",
    "y = np.array(df['country']) # Consider the column 'country' as it will be our 'Label'\n",
    "\n",
    "#print(\"Values of X:\")\n",
    "#X\n",
    "\n",
    "#print(\"Values of y:\")\n",
    "#y\n",
    "\n",
    "# Split data into train and test data\n",
    "X_train, X_test, y_train, y_test = train_test_split(X, y, test_size=0.2)\n",
    "X_train, X_test, y_train, y_test\n",
    "\n",
    "# Select the KNeighbors classifier\n",
    "clf = neighbors.KNeighborsClassifier()\n",
    "\n",
    "# Fit the model on training data\n",
    "clf.fit(X_train, y_train)\n",
    "\n",
    "accuracy = clf.score(X_test, y_test)\n",
    "print(\"Accuracy = \", accuracy)\n",
    "\n",
    "# Apply the model on a fictitious sample measure for prediction\n",
    "ex_measures = np.array([8.7, 2.5])\n",
    "ex_measures = ex_measures.reshape(1, -1) # convert single dim array to two-dim array as our orginal array was two-dim\n",
    "print(ex_measures)\n",
    "\n",
    "prediction = clf.predict(ex_measures)\n",
    "print(\"Prediction on example measure = \", prediction)\n",
    "\n",
    "plt.scatter(ages, complexions) \n",
    "plt.scatter(ex_measures[0][0], ex_measures[0][1], s=100, color='r')"
   ]
  },
  {
   "cell_type": "code",
   "execution_count": null,
   "metadata": {},
   "outputs": [],
   "source": []
  }
 ],
 "metadata": {
  "kernelspec": {
   "display_name": "Python 3",
   "language": "python",
   "name": "python3"
  },
  "language_info": {
   "codemirror_mode": {
    "name": "ipython",
    "version": 3
   },
   "file_extension": ".py",
   "mimetype": "text/x-python",
   "name": "python",
   "nbconvert_exporter": "python",
   "pygments_lexer": "ipython3",
   "version": "3.7.0"
  }
 },
 "nbformat": 4,
 "nbformat_minor": 2
}
