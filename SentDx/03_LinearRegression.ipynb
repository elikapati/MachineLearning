{
 "cells": [
  {
   "cell_type": "code",
   "execution_count": 5,
   "metadata": {},
   "outputs": [
    {
     "name": "stdout",
     "output_type": "stream",
     "text": [
      "Xs:\n",
      " [0, 1, 2, 3, 4, 5, 6, 7, 8, 9, 10, 11, 12, 13, 14, 15, 16, 17, 18, 19, 20, 21, 22, 23, 24, 25, 26, 27, 28, 29, 30, 31, 32, 33, 34, 35, 36, 37, 38, 39, 40, 41, 42, 43, 44, 45, 46, 47, 48, 49, 50, 51, 52, 53, 54, 55, 56, 57, 58, 59, 60, 61, 62, 63, 64, 65, 66, 67, 68, 69, 70, 71, 72, 73, 74, 75, 76, 77, 78, 79]\n",
      "Ys:\n",
      " [5, 4, 0, 6, 10, 9, 8, 14, 19, 22, 23, 27, 27, 28, 29, 26, 29, 36, 32, 39, 44, 47, 42, 42, 52, 47, 56, 56, 52, 57, 62, 59, 67, 64, 69, 69, 76, 78, 73, 75, 83, 82, 89, 83, 84, 87, 91, 92, 96, 103, 96, 102, 100, 110, 107, 110, 108, 114, 116, 115, 119, 127, 126, 129, 132, 134, 129, 133, 137, 143, 141, 145, 148, 150, 147, 154, 153, 159, 159, 163]\n",
      "\n",
      "R Squared =  0.9958028153542893\n",
      "More closer the value - 'R Squared' to 1 the best fit.\n"
     ]
    },
    {
     "data": {
      "image/png": "[encoded data removed]",
      "text/plain": [
       "<Figure size 432x288 with 1 Axes>"
      ]
     },
     "metadata": {},
     "output_type": "display_data"
    }
   ],
   "source": [
    "from statistics import mean\n",
    "import numpy as np\n",
    "import matplotlib.pyplot as plt\n",
    "from matplotlib import style\n",
    "import random\n",
    "\n",
    "style.use('fivethirtyeight')\n",
    "\n",
    "# Create random xs, ys as we per our requirement of\n",
    "# hm - stands for how many points to be created\n",
    "# variance - how dense the points to the line of best fit\n",
    "# step - distance between points\n",
    "# correlation - if true and 'pos' then +ve correlation\n",
    "#               if true and 'neg' then -ve correlation\n",
    "def create_dataset(hm, variance, step=2, correlation=False):\n",
    "    val = 1\n",
    "    ys = []\n",
    "    for i in range(hm):\n",
    "        y = val + random.randrange(-variance, variance)\n",
    "        ys.append(int(y))\n",
    "        if correlation and correlation == 'pos':\n",
    "            val += step\n",
    "        elif correlation and correlation == 'neg':\n",
    "            val -= step\n",
    "    xs = [int(i) for i in range(len(ys))]\n",
    "    \n",
    "    print(\"Xs:\\n\", xs)\n",
    "    print(\"Ys:\\n\", ys)\n",
    "\n",
    "    return np.array(xs, dtype=np.float64), np.array(ys, dtype=np.float64)\n",
    "\n",
    "# Find m and b for y = mx + b with the xs and ys\n",
    "def best_fit_slope_and_intercept(xs, ys):\n",
    "    m = (((mean(xs) * mean(ys)) - mean(xs * ys)) /\n",
    "         ((mean(xs) * mean(xs)) - mean(xs * xs)))\n",
    "    b = mean(ys) - m * mean(xs)\n",
    "    return m, b\n",
    "\n",
    "def squared_error(ys_orig, ys_line):\n",
    "    return sum((ys_line - ys_orig)**2)\n",
    "\n",
    "def coefficient_of_determination(ys_orig, ys_line):\n",
    "    ys_mean_line = [mean(ys_orig) for y in ys_orig]\n",
    "    squared_error_regr = squared_error(ys_orig, ys_line)\n",
    "    squared_error_y_mean = squared_error(ys_orig, ys_mean_line)\n",
    "    return (1 - (squared_error_regr / squared_error_y_mean))\n",
    "\n",
    "xs, ys = create_dataset(80, 5, 2, correlation='pos')\n",
    "#xs, ys = create_dataset(40, 40, 2, correlation='pos')\n",
    "#xs, ys = create_dataset(40, 80, 2, correlation='neg')\n",
    "\n",
    "# Call the regression function for xs, ys\n",
    "m, b = best_fit_slope_and_intercept(xs, ys)\n",
    "\n",
    "# Find y values for xs using the linear equation\n",
    "regression_line = [(m * x) + b for x in xs]\n",
    "\n",
    "# Predict y for x using the fitted line equation\n",
    "predict_x = 9\n",
    "predict_y = (m * predict_x) + b\n",
    "\n",
    "r_squared = coefficient_of_determination(ys, regression_line)\n",
    "print(\"\\nR Squared = \", r_squared)\n",
    "print(\"More closer the value - 'R Squared' to 1 the best fit.\")\n",
    "\n",
    "# Plot the line \n",
    "plt.scatter(xs, ys)\n",
    "\n",
    "# Sow the estimated value in a different color\n",
    "plt.scatter(predict_x, predict_y, color='r')\n",
    "\n",
    "# Show the fitted equation as a line\n",
    "plt.plot(xs, regression_line)\n",
    "plt.show()\n"
   ]
  },
  {
   "cell_type": "code",
   "execution_count": null,
   "metadata": {},
   "outputs": [],
   "source": []
  }
 ],
 "metadata": {
  "kernelspec": {
   "display_name": "Python 3",
   "language": "python",
   "name": "python3"
  },
  "language_info": {
   "codemirror_mode": {
    "name": "ipython",
    "version": 3
   },
   "file_extension": ".py",
   "mimetype": "text/x-python",
   "name": "python",
   "nbconvert_exporter": "python",
   "pygments_lexer": "ipython3",
   "version": "3.7.0"
  }
 },
 "nbformat": 4,
 "nbformat_minor": 2
}
