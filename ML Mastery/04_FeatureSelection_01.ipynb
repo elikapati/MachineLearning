{
 "cells": [
  {
   "cell_type": "code",
   "execution_count": 1,
   "metadata": {},
   "outputs": [],
   "source": [
    "# Feature Selection\n",
    "#   Feature selection is a process where you automatically select those features in your data that\n",
    "#   contribute most to the prediction variable or output in which you are interested.\n",
    "#   Irrelevant or partially relevant features can negatively impact model performance. \n",
    "#   Benefits of feature selection:\n",
    "#   - Reduces overfitting\n",
    "#   - Improves accuracy\n",
    "#   - Reduces training time\n",
    "\n",
    "#   Automatic feature selection techniques using scikit-learn:\n",
    "#   1) Remove features of low variance\n",
    "#   2) Univariate Selection\n",
    "#   3) Recursive feature elimination\n",
    "#   4) Principal Component Analysis\n",
    "#   5) Feature Importance"
   ]
  },
  {
   "cell_type": "code",
   "execution_count": 2,
   "metadata": {},
   "outputs": [
    {
     "data": {
      "text/plain": [
       "array([[1, 2, 4],\n",
       "       [2, 3, 5],\n",
       "       [3, 4, 6],\n",
       "       [4, 5, 7],\n",
       "       [5, 6, 8]])"
      ]
     },
     "execution_count": 2,
     "metadata": {},
     "output_type": "execute_result"
    }
   ],
   "source": [
    "#   1) Remove features of low variance\n",
    "#      VarianceThreshold by default removes features of zero variance, i.e. say the sample as same value\n",
    "\n",
    "from sklearn.feature_selection import VarianceThreshold\n",
    "import pandas as pd\n",
    "\n",
    "# Notice the third column is constant and so has zero variance; so the 3rd feature will be removed\n",
    "X = [[1, 2, 3, 4], \n",
    "     [2, 3, 3, 5], \n",
    "     [3, 4, 3, 6], \n",
    "     [4, 5, 3, 7], \n",
    "     [5, 6, 3, 8]]\n",
    "sel = VarianceThreshold()\n",
    "sel.fit_transform(X)"
   ]
  },
  {
   "cell_type": "code",
   "execution_count": 3,
   "metadata": {},
   "outputs": [
    {
     "name": "stdout",
     "output_type": "stream",
     "text": [
      "Threshold =  0.15999999999999998\n"
     ]
    },
    {
     "data": {
      "text/plain": [
       "array([[1, 2, 4],\n",
       "       [2, 3, 5],\n",
       "       [3, 4, 6],\n",
       "       [4, 5, 7],\n",
       "       [5, 6, 8]])"
      ]
     },
     "execution_count": 3,
     "metadata": {},
     "output_type": "execute_result"
    }
   ],
   "source": [
    "# Suppose that we have a dataset with boolean features, and we want to remove all features that are either one or zero \n",
    "# in more than 80% of the samples. Boolean features are Bernoulli random variables, and the variance of \n",
    "# such variables is given by Var[X] = p(1-p)\n",
    "\n",
    "# Notice the 1st feature is removed as it has 80% of samples with 0s\n",
    "threshold = (.8 * (1 - .8))\n",
    "print('Threshold = ', threshold)\n",
    "sel = VarianceThreshold(threshold)\n",
    "sel.fit_transform(X)"
   ]
  },
  {
   "cell_type": "code",
   "execution_count": 4,
   "metadata": {},
   "outputs": [],
   "source": [
    "# To remove features that are either one or zero in more than 40% of samples\n",
    "#threshold = (.4 * (1 - .4))\n",
    "#print('Threshold = ', threshold)\n",
    "#sel = VarianceThreshold(threshold)\n",
    "#sel.fit_transform(X)"
   ]
  },
  {
   "cell_type": "code",
   "execution_count": null,
   "metadata": {},
   "outputs": [],
   "source": []
  }
 ],
 "metadata": {
  "kernelspec": {
   "display_name": "Python 3",
   "language": "python",
   "name": "python3"
  },
  "language_info": {
   "codemirror_mode": {
    "name": "ipython",
    "version": 3
   },
   "file_extension": ".py",
   "mimetype": "text/x-python",
   "name": "python",
   "nbconvert_exporter": "python",
   "pygments_lexer": "ipython3",
   "version": "3.7.0"
  }
 },
 "nbformat": 4,
 "nbformat_minor": 2
}
