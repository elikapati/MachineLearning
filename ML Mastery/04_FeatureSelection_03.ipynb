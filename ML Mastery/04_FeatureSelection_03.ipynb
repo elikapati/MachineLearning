{
 "cells": [
  {
   "cell_type": "code",
   "execution_count": 24,
   "metadata": {},
   "outputs": [],
   "source": [
    "# Feature Selection\n",
    "#   Feature selection is a process where you automatically select those features in your data that\n",
    "#   contribute most to the prediction variable or output in which you are interested.\n",
    "#   Irrelevant or partially relevant features can negatively impact model performance. \n",
    "#   Benefits of feature selection:\n",
    "#   - Reduces overfitting\n",
    "#   - Improves accuracy\n",
    "#   - Reduces training time\n",
    "\n",
    "#   Automatic feature selection techniques using scikit-learn:\n",
    "#   1) Remove features of low variance\n",
    "#   2) Univariate Selection\n",
    "#   3) Recursive feature elimination\n",
    "#   4) Principal Component Analysis\n",
    "#   5) Feature Importance"
   ]
  },
  {
   "cell_type": "code",
   "execution_count": 25,
   "metadata": {},
   "outputs": [
    {
     "name": "stdout",
     "output_type": "stream",
     "text": [
      "Num Features:  3\n",
      "Selected Features:  [ True False False False False  True  True False]\n",
      "Feature Ranking:  [1 2 4 5 6 1 1 3]\n"
     ]
    },
    {
     "name": "stderr",
     "output_type": "stream",
     "text": [
      "C:\\ProgramData\\Anaconda3\\lib\\site-packages\\sklearn\\linear_model\\logistic.py:758: ConvergenceWarning: lbfgs failed to converge. Increase the number of iterations.\n",
      "  \"of iterations.\", ConvergenceWarning)\n"
     ]
    }
   ],
   "source": [
    "# 3) Recursive feature elimination\n",
    "# Feature Extraction with RFE\n",
    "from pandas import read_csv\n",
    "from sklearn.feature_selection import RFE\n",
    "from sklearn.linear_model import LogisticRegression\n",
    "\n",
    "# load data\n",
    "filename = 'diabetes.csv'\n",
    "names = ['Pregnancies', 'Glucose', 'BloodPressure', 'SkinThickness', 'Insulin', 'BMI', 'DiabetesPedigreeFunction', 'Age', 'Outcome']\n",
    "dataframe = read_csv(filename, header = 0, names=names)\n",
    "array = dataframe.values\n",
    "X = array[:,0:8]\n",
    "Y = array[:,8]\n",
    "\n",
    "# feature extraction\n",
    "model = LogisticRegression(solver='lbfgs')\n",
    "rfe = RFE(model, 3)\n",
    "fit = rfe.fit(X, Y)\n",
    "\n",
    "# Show how many features are picked up\n",
    "print(\"Num Features: \", fit.n_features_)\n",
    "\n",
    "# Show which features are selected\n",
    "# Selected features- Pregnancies, BMI, DiabetesPedigreeFunction\n",
    "# Discarded features - Glucose, BloodPressure, SkinThickness, Insulin, Age\n",
    "print(\"Selected Features: \", fit.support_)\n",
    "\n",
    "# Show the feature ranking\n",
    "# Ranks of features\n",
    "# 1 - Pregnancies, BMI, DiabetesPedigreeFunction\n",
    "# 2 - Glucose\n",
    "# 3 - Age\n",
    "# 4 - BloodPressure\n",
    "# 5 - SkinThickness\n",
    "# 6 - Insulin\n",
    "print(\"Feature Ranking: \", fit.ranking_)"
   ]
  },
  {
   "cell_type": "code",
   "execution_count": null,
   "metadata": {},
   "outputs": [],
   "source": []
  }
 ],
 "metadata": {
  "kernelspec": {
   "display_name": "Python 3",
   "language": "python",
   "name": "python3"
  },
  "language_info": {
   "codemirror_mode": {
    "name": "ipython",
    "version": 3
   },
   "file_extension": ".py",
   "mimetype": "text/x-python",
   "name": "python",
   "nbconvert_exporter": "python",
   "pygments_lexer": "ipython3",
   "version": "3.7.0"
  }
 },
 "nbformat": 4,
 "nbformat_minor": 2
}
