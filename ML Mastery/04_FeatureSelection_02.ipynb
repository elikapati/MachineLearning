{
 "cells": [
  {
   "cell_type": "code",
   "execution_count": 1,
   "metadata": {},
   "outputs": [],
   "source": [
    "# Feature Selection\n",
    "#   Feature selection is a process where you automatically select those features in your data that\n",
    "#   contribute most to the prediction variable or output in which you are interested.\n",
    "#   Irrelevant or partially relevant features can negatively impact model performance. \n",
    "#   Benefits of feature selection:\n",
    "#   - Reduces overfitting\n",
    "#   - Improves accuracy\n",
    "#   - Reduces training time\n",
    "\n",
    "#   Automatic feature selection techniques using scikit-learn:\n",
    "#   1) Remove features of low variance\n",
    "#   2) Univariate Selection\n",
    "#   3) Recursive feature elimination\n",
    "#   4) Principal Component Analysis\n",
    "#   5) Feature Importance"
   ]
  },
  {
   "cell_type": "code",
   "execution_count": 2,
   "metadata": {},
   "outputs": [],
   "source": [
    "#   2) Univariate Selection\n",
    "#      Statistical tests can be used to select those features that have the strongest relationship with the output variable.\n",
    "#      scikit-learn library provides the \"SelectKBest\" class that can be used with a suite of different statistical tests \n",
    "#      to select a specific number of features.\n",
    "#      For example, use chi-squared statistical test for non-negative features to select 4 best features from the dataset.\n",
    "\n",
    "import numpy as np\n",
    "from pandas import read_csv\n",
    "from numpy import set_printoptions\n",
    "\n",
    "filename = 'diabetes.csv'\n",
    "names = ['Pregnancies', 'Glucose', 'BloodPressure', 'SkinThickness', 'Insulin', 'BMI', 'DiabetesPedigreeFunction', 'Age', 'Outcome']\n",
    "df = read_csv(filename, header = 0, names = names)\n",
    "array = df.values\n",
    "X = array[:, 0:8]\n",
    "Y = array[:, 8]\n",
    "\n",
    "set_printoptions(precision=0)"
   ]
  },
  {
   "cell_type": "code",
   "execution_count": 3,
   "metadata": {},
   "outputs": [
    {
     "name": "stdout",
     "output_type": "stream",
     "text": [
      "[ 112. 1412.   18.   53. 2176.  128.    5.  181.]\n"
     ]
    }
   ],
   "source": [
    "from sklearn.feature_selection import SelectKBest\n",
    "from sklearn.feature_selection import chi2\n",
    "\n",
    "# Extract best features\n",
    "test = SelectKBest(score_func=chi2, k = 4)\n",
    "fit = test.fit(X, Y)\n",
    "\n",
    "print(fit.scores_)"
   ]
  },
  {
   "cell_type": "code",
   "execution_count": 4,
   "metadata": {},
   "outputs": [
    {
     "name": "stdout",
     "output_type": "stream",
     "text": [
      "[[  6. 148.  72.  35.   0.  34.   1.  50.]\n",
      " [  1.  85.  66.  29.   0.  27.   0.  31.]\n",
      " [  8. 183.  64.   0.   0.  23.   1.  32.]\n",
      " [  1.  89.  66.  23.  94.  28.   0.  21.]\n",
      " [  0. 137.  40.  35. 168.  43.   2.  33.]]\n"
     ]
    }
   ],
   "source": [
    "print(np.around(X[0:5, :], decimals = 0))"
   ]
  },
  {
   "cell_type": "code",
   "execution_count": 5,
   "metadata": {},
   "outputs": [
    {
     "name": "stdout",
     "output_type": "stream",
     "text": [
      "[[148.   0.  34.  50.]\n",
      " [ 85.   0.  27.  31.]\n",
      " [183.   0.  23.  32.]\n",
      " [ 89.  94.  28.  21.]\n",
      " [137. 168.  43.  33.]]\n"
     ]
    }
   ],
   "source": [
    "features = fit.transform(X)\n",
    "print(np.around(features[0:5, :],1))\n",
    "# The features of importance are Glucose, Insulin, BMI and Age in that order"
   ]
  },
  {
   "cell_type": "code",
   "execution_count": 6,
   "metadata": {},
   "outputs": [
    {
     "name": "stdout",
     "output_type": "stream",
     "text": [
      "Original feature number: 4\n",
      "Reduced feature number: 2\n"
     ]
    }
   ],
   "source": [
    "# Another example using Iris Data\n",
    "# Load libraries \n",
    "from sklearn.datasets import load_iris \n",
    "from sklearn.feature_selection import SelectKBest \n",
    "from sklearn.feature_selection import chi2 \n",
    "  \n",
    "# Load iris data \n",
    "iris_dataset = load_iris() \n",
    "  \n",
    "# Create features and target \n",
    "X = iris_dataset.data \n",
    "y = iris_dataset.target \n",
    "  \n",
    "# Convert to categorical data by converting data to integers \n",
    "X = X.astype(int) \n",
    "  \n",
    "# Two features with highest chi-squared statistics are selected \n",
    "chi2_features = SelectKBest(chi2, k = 2) \n",
    "fit = chi2_features.fit(X, y)\n",
    "X_kbest_features = chi2_features.fit_transform(X, y) \n",
    "\n",
    "# Reduced features \n",
    "print('Original feature number:', X.shape[1]) \n",
    "print('Reduced feature number:', X_kbest_features.shape[1]) "
   ]
  },
  {
   "cell_type": "code",
   "execution_count": 7,
   "metadata": {},
   "outputs": [
    {
     "name": "stdout",
     "output_type": "stream",
     "text": [
      "[[5 3 1 0]\n",
      " [4 3 1 0]\n",
      " [4 3 1 0]\n",
      " [4 3 1 0]\n",
      " [5 3 1 0]\n",
      " [5 3 1 0]\n",
      " [4 3 1 0]\n",
      " [5 3 1 0]\n",
      " [4 2 1 0]\n",
      " [4 3 1 0]\n",
      " [5 3 1 0]\n",
      " [4 3 1 0]\n",
      " [4 3 1 0]\n",
      " [4 3 1 0]\n",
      " [5 4 1 0]\n",
      " [5 4 1 0]\n",
      " [5 3 1 0]\n",
      " [5 3 1 0]\n",
      " [5 3 1 0]\n",
      " [5 3 1 0]\n",
      " [5 3 1 0]\n",
      " [5 3 1 0]\n",
      " [4 3 1 0]\n",
      " [5 3 1 0]\n",
      " [4 3 1 0]\n",
      " [5 3 1 0]\n",
      " [5 3 1 0]\n",
      " [5 3 1 0]\n",
      " [5 3 1 0]\n",
      " [4 3 1 0]\n",
      " [4 3 1 0]\n",
      " [5 3 1 0]\n",
      " [5 4 1 0]\n",
      " [5 4 1 0]\n",
      " [4 3 1 0]\n",
      " [5 3 1 0]\n",
      " [5 3 1 0]\n",
      " [4 3 1 0]\n",
      " [4 3 1 0]\n",
      " [5 3 1 0]\n",
      " [5 3 1 0]\n",
      " [4 2 1 0]\n",
      " [4 3 1 0]\n",
      " [5 3 1 0]\n",
      " [5 3 1 0]\n",
      " [4 3 1 0]\n",
      " [5 3 1 0]\n",
      " [4 3 1 0]\n",
      " [5 3 1 0]\n",
      " [5 3 1 0]\n",
      " [7 3 4 1]\n",
      " [6 3 4 1]\n",
      " [6 3 4 1]\n",
      " [5 2 4 1]\n",
      " [6 2 4 1]\n",
      " [5 2 4 1]\n",
      " [6 3 4 1]\n",
      " [4 2 3 1]\n",
      " [6 2 4 1]\n",
      " [5 2 3 1]\n",
      " [5 2 3 1]\n",
      " [5 3 4 1]\n",
      " [6 2 4 1]\n",
      " [6 2 4 1]\n",
      " [5 2 3 1]\n",
      " [6 3 4 1]\n",
      " [5 3 4 1]\n",
      " [5 2 4 1]\n",
      " [6 2 4 1]\n",
      " [5 2 3 1]\n",
      " [5 3 4 1]\n",
      " [6 2 4 1]\n",
      " [6 2 4 1]\n",
      " [6 2 4 1]\n",
      " [6 2 4 1]\n",
      " [6 3 4 1]\n",
      " [6 2 4 1]\n",
      " [6 3 5 1]\n",
      " [6 2 4 1]\n",
      " [5 2 3 1]\n",
      " [5 2 3 1]\n",
      " [5 2 3 1]\n",
      " [5 2 3 1]\n",
      " [6 2 5 1]\n",
      " [5 3 4 1]\n",
      " [6 3 4 1]\n",
      " [6 3 4 1]\n",
      " [6 2 4 1]\n",
      " [5 3 4 1]\n",
      " [5 2 4 1]\n",
      " [5 2 4 1]\n",
      " [6 3 4 1]\n",
      " [5 2 4 1]\n",
      " [5 2 3 1]\n",
      " [5 2 4 1]\n",
      " [5 3 4 1]\n",
      " [5 2 4 1]\n",
      " [6 2 4 1]\n",
      " [5 2 3 1]\n",
      " [5 2 4 1]\n",
      " [6 3 6 2]\n",
      " [5 2 5 1]\n",
      " [7 3 5 2]\n",
      " [6 2 5 1]\n",
      " [6 3 5 2]\n",
      " [7 3 6 2]\n",
      " [4 2 4 1]\n",
      " [7 2 6 1]\n",
      " [6 2 5 1]\n",
      " [7 3 6 2]\n",
      " [6 3 5 2]\n",
      " [6 2 5 1]\n",
      " [6 3 5 2]\n",
      " [5 2 5 2]\n",
      " [5 2 5 2]\n",
      " [6 3 5 2]\n",
      " [6 3 5 1]\n",
      " [7 3 6 2]\n",
      " [7 2 6 2]\n",
      " [6 2 5 1]\n",
      " [6 3 5 2]\n",
      " [5 2 4 2]\n",
      " [7 2 6 2]\n",
      " [6 2 4 1]\n",
      " [6 3 5 2]\n",
      " [7 3 6 1]\n",
      " [6 2 4 1]\n",
      " [6 3 4 1]\n",
      " [6 2 5 2]\n",
      " [7 3 5 1]\n",
      " [7 2 6 1]\n",
      " [7 3 6 2]\n",
      " [6 2 5 2]\n",
      " [6 2 5 1]\n",
      " [6 2 5 1]\n",
      " [7 3 6 2]\n",
      " [6 3 5 2]\n",
      " [6 3 5 1]\n",
      " [6 3 4 1]\n",
      " [6 3 5 2]\n",
      " [6 3 5 2]\n",
      " [6 3 5 2]\n",
      " [5 2 5 1]\n",
      " [6 3 5 2]\n",
      " [6 3 5 2]\n",
      " [6 3 5 2]\n",
      " [6 2 5 1]\n",
      " [6 3 5 2]\n",
      " [6 3 5 2]\n",
      " [5 3 5 1]]\n"
     ]
    }
   ],
   "source": [
    "print(X)"
   ]
  },
  {
   "cell_type": "code",
   "execution_count": 8,
   "metadata": {},
   "outputs": [
    {
     "name": "stdout",
     "output_type": "stream",
     "text": [
      "[[1 0]\n",
      " [1 0]\n",
      " [1 0]\n",
      " [1 0]\n",
      " [1 0]]\n"
     ]
    }
   ],
   "source": [
    "# Let us see what are the two best features selected\n",
    "print(X_kbest_features[0:5, :])"
   ]
  },
  {
   "cell_type": "code",
   "execution_count": 9,
   "metadata": {},
   "outputs": [
    {
     "name": "stdout",
     "output_type": "stream",
     "text": [
      "[ 10.   5. 133.  74.]\n"
     ]
    }
   ],
   "source": [
    "# Notice that the features having top 2 scores viz., 133.06854839, 74.27906977 are selected into \"X_kbest_features\"\n",
    "print(fit.scores_ )"
   ]
  }
 ],
 "metadata": {
  "kernelspec": {
   "display_name": "Python 3",
   "language": "python",
   "name": "python3"
  },
  "language_info": {
   "codemirror_mode": {
    "name": "ipython",
    "version": 3
   },
   "file_extension": ".py",
   "mimetype": "text/x-python",
   "name": "python",
   "nbconvert_exporter": "python",
   "pygments_lexer": "ipython3",
   "version": "3.7.0"
  }
 },
 "nbformat": 4,
 "nbformat_minor": 2
}
