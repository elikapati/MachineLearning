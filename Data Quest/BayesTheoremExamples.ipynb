{
 "cells": [
  {
   "cell_type": "markdown",
   "metadata": {},
   "source": [
    "# Bayes Theorem Example - I"
   ]
  },
  {
   "cell_type": "code",
   "execution_count": 8,
   "metadata": {},
   "outputs": [
    {
     "name": "stdout",
     "output_type": "stream",
     "text": [
      "P(tired) =  4 / 7  =  0.5714285714285714\n",
      "P(ran) =  5 / 7  =  0.7142857142857143\n",
      "P(ran|tired) =  3 / 4  =  0.75\n",
      "P(tired|ran) =  0.6\n",
      "Probability of being tired given that you ran: 0.6\n"
     ]
    }
   ],
   "source": [
    "# Here's a running history for the past week.\n",
    "# For each day, it contains whether or not the person ran, and whether or not they were tired.\n",
    "days = [[\"ran\", \"was tired\"], [\"ran\", \"was not tired\"], [\"didn't run\", \"was tired\"], [\"ran\", \"was tired\"], [\"didn't run\", \"was not tired\"], [\"ran\", \"was not tired\"], [\"ran\", \"was tired\"]]\n",
    "\n",
    "# Let's say we want to calculate the odds that someone was tired given that they ran, using bayes' theorem.\n",
    "# This is P(A).\n",
    "prob_tired = len([d for d in days if d[1] == \"was tired\"]) / len(days)\n",
    "print(\"P(tired) = \", len([d for d in days if d[1] == \"was tired\"]), \"/\", len(days), \" = \", prob_tired)\n",
    "\n",
    "# This is P(B).\n",
    "prob_ran = len([d for d in days if d[0] == \"ran\"]) / len(days)\n",
    "print(\"P(ran) = \", len([d for d in days if d[0] == \"ran\"]), \"/\", len(days), \" = \", prob_ran)\n",
    "\n",
    "# This is P(B|A).\n",
    "prob_ran_given_tired = len([d for d in days if d[0] == \"ran\" and d[1] == \"was tired\"]) / len([d for d in days if d[1] == \"was tired\"])\n",
    "print(\"P(ran|tired) = \", len([d for d in days if d[0] == \"ran\" and d[1] == \"was tired\"]), \"/\", len([d for d in days if d[1] == \"was tired\"]), \" = \", prob_ran_given_tired)\n",
    "\n",
    "# Now we can calculate P(A|B).\n",
    "prob_tired_given_ran = (prob_ran_given_tired * prob_tired) / prob_ran\n",
    "print(\"P(tired|ran) = \",  prob_tired_given_ran)\n",
    "\n",
    "print(\"Probability of being tired given that you ran: {0}\".format(prob_tired_given_ran))"
   ]
  },
  {
   "cell_type": "markdown",
   "metadata": {},
   "source": [
    "# Bayes Theorem Example - II"
   ]
  },
  {
   "cell_type": "code",
   "execution_count": 12,
   "metadata": {},
   "outputs": [
    {
     "name": "stdout",
     "output_type": "stream",
     "text": [
      "Final classification for new day: was tired.\n",
      "Tired probability: 0.10204081632653061.\n",
      "Not tired probability: 0.054421768707482984.\n"
     ]
    }
   ],
   "source": [
    "# Here's our data, but with \"woke up early\" or \"didn't wake up early\" added.\n",
    "days = [[\"ran\", \"was tired\", \"woke up early\"], \n",
    "        [\"ran\", \"was not tired\", \"didn't wake up early\"], \n",
    "        [\"didn't run\", \"was tired\", \"woke up early\"], \n",
    "        [\"ran\", \"was tired\", \"didn't wake up early\"], \n",
    "        [\"didn't run\", \"was tired\", \"woke up early\"], \n",
    "        [\"ran\", \"was not tired\", \"didn't wake up early\"], \n",
    "        [\"ran\", \"was tired\", \"woke up early\"]]\n",
    "\n",
    "# We're trying to predict whether or not the person was tired on this day.\n",
    "new_day = [\"ran\", \"didn't wake up early\"]\n",
    "\n",
    "def calc_y_probability(y_label, days):\n",
    "  return len([d for d in days if d[1] == y_label]) / len(days)\n",
    "\n",
    "def calc_ran_probability_given_y(ran_label, y_label, days):\n",
    "  return len([d for d in days if d[1] == y_label and d[0] == ran_label]) / len(days)\n",
    "\n",
    "def calc_woke_early_probability_given_y(woke_label, y_label, days):\n",
    "  return len([d for d in days if d[1] == y_label and d[2] == woke_label]) / len(days)\n",
    "\n",
    "denominator = len([d for d in days if d[0] == new_day[0] and d[2] == new_day[1]]) / len(days)\n",
    "\n",
    "# Plug all the values into our formula.  Multiply the class (y) probability, and the probability of the x-values occuring given that class.\n",
    "prob_tired = (calc_y_probability(\"was tired\", days) * calc_ran_probability_given_y(new_day[0], \"was tired\", days) * calc_woke_early_probability_given_y(new_day[1], \"was tired\", days)) / denominator\n",
    "\n",
    "prob_not_tired = (calc_y_probability(\"was not tired\", days) * calc_ran_probability_given_y(new_day[0], \"was not tired\", days) * calc_woke_early_probability_given_y(new_day[1], \"was not tired\", days)) / denominator\n",
    "\n",
    "# Make a classification decision based on the probabilities.\n",
    "classification = \"was tired\"\n",
    "\n",
    "if prob_not_tired > prob_tired:\n",
    "   classification = \"was not tired\"\n",
    "\n",
    "print(\"Final classification for new day: {0}.\\nTired probability: {1}.\\nNot tired probability: {2}.\".format(classification, prob_tired, prob_not_tired))"
   ]
  },
  {
   "cell_type": "code",
   "execution_count": null,
   "metadata": {},
   "outputs": [],
   "source": []
  }
 ],
 "metadata": {
  "kernelspec": {
   "display_name": "Python 3",
   "language": "python",
   "name": "python3"
  },
  "language_info": {
   "codemirror_mode": {
    "name": "ipython",
    "version": 3
   },
   "file_extension": ".py",
   "mimetype": "text/x-python",
   "name": "python",
   "nbconvert_exporter": "python",
   "pygments_lexer": "ipython3",
   "version": "3.7.0"
  }
 },
 "nbformat": 4,
 "nbformat_minor": 2
}
