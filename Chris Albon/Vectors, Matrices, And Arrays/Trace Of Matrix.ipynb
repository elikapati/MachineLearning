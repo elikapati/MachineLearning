{
 "cells": [
  {
   "cell_type": "markdown",
   "metadata": {},
   "source": [
    "## Trace Of Matrix"
   ]
  },
  {
   "cell_type": "code",
   "execution_count": 5,
   "metadata": {},
   "outputs": [
    {
     "name": "stdout",
     "output_type": "stream",
     "text": [
      "Square matrix:\n",
      " [[1 2 3]\n",
      " [4 5 6]\n",
      " [7 8 9]]\n",
      "Diagonal vector of the matrix:\n",
      " [1 5 9]\n",
      "\n",
      "Rectangular matrix:\n",
      " [[1 2 3 4]\n",
      " [5 6 7 8]]\n",
      "Diagonal vector of the rectangular matrix:\n",
      " [1 6]\n",
      "\n",
      "The trace of a matrix is defined only for a 'square matrix' and it is the sum of all main diagonal elements\n",
      "The trace of the square matrix is  15\n"
     ]
    }
   ],
   "source": [
    "import numpy as np\n",
    "\n",
    "square_matrix = np.array([[1, 2, 3],\n",
    "                          [4, 5, 6],\n",
    "                          [7, 8, 9]])\n",
    "\n",
    "print(\"Square matrix:\\n\", square_matrix)\n",
    "print(\"Diagonal vector of the matrix:\\n\", square_matrix.diagonal())\n",
    "print()\n",
    "\n",
    "rect_matrix = np.array([[1, 2, 3, 4],\n",
    "                        [5, 6, 7, 8]])\n",
    "print(\"Rectangular matrix:\\n\", rect_matrix)\n",
    "print(\"Diagonal vector of the rectangular matrix:\\n\", rect_matrix.diagonal())\n",
    "\n",
    "print(\"\\nThe trace of a matrix is defined only for a 'square matrix' and it is the sum of all main diagonal elements\")\n",
    "print(\"The trace of the square matrix is \", square_matrix.diagonal().sum())"
   ]
  },
  {
   "cell_type": "code",
   "execution_count": null,
   "metadata": {},
   "outputs": [],
   "source": []
  }
 ],
 "metadata": {
  "kernelspec": {
   "display_name": "Python 3",
   "language": "python",
   "name": "python3"
  },
  "language_info": {
   "codemirror_mode": {
    "name": "ipython",
    "version": 3
   },
   "file_extension": ".py",
   "mimetype": "text/x-python",
   "name": "python",
   "nbconvert_exporter": "python",
   "pygments_lexer": "ipython3",
   "version": "3.7.0"
  }
 },
 "nbformat": 4,
 "nbformat_minor": 2
}
