{
 "cells": [
  {
   "cell_type": "markdown",
   "metadata": {},
   "source": [
    "## Transpose A Vector Or Matrix"
   ]
  },
  {
   "cell_type": "code",
   "execution_count": 24,
   "metadata": {},
   "outputs": [
    {
     "name": "stdout",
     "output_type": "stream",
     "text": [
      "Sizes before transpose:\n",
      "-----------------------\n",
      "[1 2 3 4 5 6 7 8 9]\n",
      "Size of the vector =  (9,)\n",
      "\n",
      "[[1 2 3 4]\n",
      " [4 5 6 8]]\n",
      "Size of the rectangle matrix =  (2, 4)\n",
      "\n",
      "[[1 2 3]\n",
      " [4 5 6]\n",
      " [7 8 9]]\n",
      "Size of the square matrix =  (3, 3)\n",
      "\n",
      "Sizes after transpose:\n",
      "----------------------\n",
      "[1 2 3 4 5 6 7 8 9]\n",
      "Size of the vector =  (9,)\n",
      "\n",
      "Size of the Rectangle vector =  (4, 2)\n",
      "[[1 4]\n",
      " [2 5]\n",
      " [3 6]\n",
      " [4 8]]\n",
      "\n",
      "Size of the Square matrix =  (3, 3)\n",
      "[[1 4 7]\n",
      " [2 5 8]\n",
      " [3 6 9]]\n",
      "[[1], [2], [3], [4]]\n"
     ]
    },
    {
     "ename": "AttributeError",
     "evalue": "'list' object has no attribute 'shape'",
     "output_type": "error",
     "traceback": [
      "\u001b[1;31m---------------------------------------------------------------------------\u001b[0m",
      "\u001b[1;31mAttributeError\u001b[0m                            Traceback (most recent call last)",
      "\u001b[1;32m<ipython-input-24-bfcd959344da>\u001b[0m in \u001b[0;36m<module>\u001b[1;34m()\u001b[0m\n\u001b[0;32m     47\u001b[0m \u001b[1;33m\u001b[0m\u001b[0m\n\u001b[0;32m     48\u001b[0m \u001b[0mprint\u001b[0m\u001b[1;33m(\u001b[0m\u001b[0mt\u001b[0m\u001b[1;33m)\u001b[0m\u001b[1;33m\u001b[0m\u001b[0m\n\u001b[1;32m---> 49\u001b[1;33m \u001b[0mprint\u001b[0m\u001b[1;33m(\u001b[0m\u001b[0mt\u001b[0m\u001b[1;33m.\u001b[0m\u001b[0mshape\u001b[0m\u001b[1;33m)\u001b[0m\u001b[1;33m\u001b[0m\u001b[0m\n\u001b[0m\u001b[0;32m     50\u001b[0m \u001b[0mprint\u001b[0m\u001b[1;33m(\u001b[0m\u001b[0mt\u001b[0m\u001b[1;33m.\u001b[0m\u001b[0mT\u001b[0m\u001b[1;33m)\u001b[0m\u001b[1;33m\u001b[0m\u001b[0m\n",
      "\u001b[1;31mAttributeError\u001b[0m: 'list' object has no attribute 'shape'"
     ]
    }
   ],
   "source": [
    "import numpy as np\n",
    "\n",
    "vector = np.array([1, 2, 3, 4, 5, 6, 7, 8, 9])\n",
    "rect_matrix = np.array([[1, 2, 3, 4],\n",
    "                   [4, 5, 6, 8]])\n",
    "sqr_matrix = np.array([[1, 2, 3],\n",
    "                       [4, 5, 6],\n",
    "                       [7, 8, 9]])\n",
    "\n",
    "print(\"Sizes before transpose:\")\n",
    "print(\"-----------------------\")\n",
    "\n",
    "print(vector)\n",
    "print(\"Size of the vector = \", vector.shape)\n",
    "print()\n",
    "\n",
    "print(rect_matrix)\n",
    "print(\"Size of the rectangle matrix = \", rect_matrix.shape)\n",
    "print()\n",
    "\n",
    "print(sqr_matrix)\n",
    "print(\"Size of the square matrix = \", sqr_matrix.shape)\n",
    "print()\n",
    "\n",
    "tr_vector = vector.T\n",
    "tr_rect_matrix = rect_matrix.T\n",
    "tr_sqr_matrix = sqr_matrix.T\n",
    "\n",
    "print(\"Sizes after transpose:\")\n",
    "print(\"----------------------\")\n",
    "\n",
    "print(tr_vector)\n",
    "print(\"Size of the vector = \", tr_vector.shape)\n",
    "print()\n",
    "\n",
    "print(\"Size of the Rectangle vector = \", tr_rect_matrix.shape)\n",
    "print(tr_rect_matrix)\n",
    "print()\n",
    "\n",
    "print(\"Size of the Square matrix = \", tr_sqr_matrix.shape)\n",
    "print(tr_sqr_matrix)"
   ]
  },
  {
   "cell_type": "code",
   "execution_count": null,
   "metadata": {},
   "outputs": [],
   "source": []
  }
 ],
 "metadata": {
  "kernelspec": {
   "display_name": "Python 3",
   "language": "python",
   "name": "python3"
  },
  "language_info": {
   "codemirror_mode": {
    "name": "ipython",
    "version": 3
   },
   "file_extension": ".py",
   "mimetype": "text/x-python",
   "name": "python",
   "nbconvert_exporter": "python",
   "pygments_lexer": "ipython3",
   "version": "3.7.0"
  }
 },
 "nbformat": 4,
 "nbformat_minor": 2
}
