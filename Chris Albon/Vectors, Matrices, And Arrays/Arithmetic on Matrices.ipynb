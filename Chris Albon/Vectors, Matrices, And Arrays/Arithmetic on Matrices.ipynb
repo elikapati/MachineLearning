{
 "cells": [
  {
   "cell_type": "markdown",
   "metadata": {},
   "source": [
    "## Arithmetic among Matrices"
   ]
  },
  {
   "cell_type": "code",
   "execution_count": 18,
   "metadata": {},
   "outputs": [
    {
     "name": "stdout",
     "output_type": "stream",
     "text": [
      "Matrix Addition:\n",
      " [[1 2 3 4]\n",
      " [5 6 7 8]] \n",
      " + \n",
      " [[1 3 5 7]\n",
      " [2 4 6 8]] \n",
      " = \n",
      " [[ 2  5  8 11]\n",
      " [ 7 10 13 16]]\n",
      "\n",
      "Matrix Subtraction:\n",
      " [[1 2 3 4]\n",
      " [5 6 7 8]] \n",
      " - \n",
      " [[1 3 5 7]\n",
      " [2 4 6 8]] \n",
      " = \n",
      " [[ 0 -1 -2 -3]\n",
      " [ 3  2  1  0]]\n",
      "\n",
      "Matrix Multiplication:\n",
      " [[1 2 3 4]\n",
      " [5 6 7 8]] \n",
      " - \n",
      " [[ 1 -2]\n",
      " [-3  4]\n",
      " [ 5 -6]\n",
      " [-7  8]] \n",
      " = \n",
      " [[-18  20]\n",
      " [-34  36]]\n"
     ]
    }
   ],
   "source": [
    "import numpy as np\n",
    "\n",
    "matA = np.array([[1, 2, 3, 4],\n",
    "                 [5, 6, 7, 8]])\n",
    "\n",
    "matB = np.array([[1, 3, 5, 7],\n",
    "                 [2, 4, 6, 8]])\n",
    "\n",
    "matC = np.array([[1, -2],\n",
    "                 [-3, 4],\n",
    "                 [5, -6],\n",
    "                 [-7, 8]])\n",
    "print(\"Matrix Addition:\")\n",
    "print(\"\", matA, \"\\n + \\n\", matB, \"\\n = \\n\", np.add(matA, matB))\n",
    "print()\n",
    "\n",
    "print(\"Matrix Subtraction:\")\n",
    "print(\"\", matA, \"\\n - \\n\", matB, \"\\n = \\n\", np.subtract(matA, matB))\n",
    "print()\n",
    "\n",
    "print(\"Matrix Multiplication:\")\n",
    "print(\"\", matA, \"\\n - \\n\", matC, \"\\n = \\n\", np.matmul(matA, matC))"
   ]
  },
  {
   "cell_type": "code",
   "execution_count": null,
   "metadata": {},
   "outputs": [],
   "source": []
  }
 ],
 "metadata": {
  "kernelspec": {
   "display_name": "Python 3",
   "language": "python",
   "name": "python3"
  },
  "language_info": {
   "codemirror_mode": {
    "name": "ipython",
    "version": 3
   },
   "file_extension": ".py",
   "mimetype": "text/x-python",
   "name": "python",
   "nbconvert_exporter": "python",
   "pygments_lexer": "ipython3",
   "version": "3.7.0"
  }
 },
 "nbformat": 4,
 "nbformat_minor": 2
}
