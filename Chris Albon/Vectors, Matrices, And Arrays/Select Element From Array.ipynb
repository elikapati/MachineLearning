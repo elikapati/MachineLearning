{
 "cells": [
  {
   "cell_type": "markdown",
   "metadata": {},
   "source": [
    "## Select Element from an Array"
   ]
  },
  {
   "cell_type": "code",
   "execution_count": 12,
   "metadata": {},
   "outputs": [
    {
     "name": "stdout",
     "output_type": "stream",
     "text": [
      "4th Element of vector =  6\n",
      "\n",
      "2nd row 2nd col Element of the matrix =  5\n",
      "\n",
      "2nd, 1st, 2nd Element of tensor =  [6 6]\n"
     ]
    }
   ],
   "source": [
    "import numpy as np\n",
    "\n",
    "vector = np.array([1, 2, 3, 4, 5, 6, 7, 8])\n",
    "\n",
    "matrix = np.array([[1, 2, 3],\n",
    "                   [4, 5, 6],\n",
    "                   [7, 8, 9]])\n",
    "\n",
    "tensor = np.array([\n",
    "                    [[[1, 1], [2, 2]], [[3, 3], [4, 4]]],\n",
    "                    [[[5, 5], [6, 6]], [[7, 7], [8, 8]]]\n",
    "                 ])\n",
    "\n",
    "print(\"4th Element of vector = \", vector[5])\n",
    "print()\n",
    "\n",
    "print(\"2nd row 2nd col Element of the matrix = \", matrix[1, 1])\n",
    "print()\n",
    "\n",
    "print(\"2nd, 1st, 2nd Element of tensor = \", tensor[1, 0, 1])"
   ]
  },
  {
   "cell_type": "code",
   "execution_count": null,
   "metadata": {},
   "outputs": [],
   "source": []
  }
 ],
 "metadata": {
  "kernelspec": {
   "display_name": "Python 3",
   "language": "python",
   "name": "python3"
  },
  "language_info": {
   "codemirror_mode": {
    "name": "ipython",
    "version": 3
   },
   "file_extension": ".py",
   "mimetype": "text/x-python",
   "name": "python",
   "nbconvert_exporter": "python",
   "pygments_lexer": "ipython3",
   "version": "3.7.0"
  }
 },
 "nbformat": 4,
 "nbformat_minor": 2
}
