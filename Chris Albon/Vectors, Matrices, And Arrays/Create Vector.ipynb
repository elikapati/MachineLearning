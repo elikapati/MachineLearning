{
 "cells": [
  {
   "cell_type": "markdown",
   "metadata": {},
   "source": [
    "## Create Vector"
   ]
  },
  {
   "cell_type": "code",
   "execution_count": 3,
   "metadata": {},
   "outputs": [],
   "source": [
    "import numpy as np\n",
    "\n",
    "row_vector = np.array([1, 2, 3, 4, 5, 6, 7, 8, 9])\n",
    "col_vector = np.array([[1],\n",
    "                       [2],\n",
    "                       [3],\n",
    "                       [4],\n",
    "                       [5],\n",
    "                       [6],\n",
    "                       [7],\n",
    "                       [8],\n",
    "                       [9]\n",
    "                    ])"
   ]
  },
  {
   "cell_type": "code",
   "execution_count": 7,
   "metadata": {},
   "outputs": [
    {
     "name": "stdout",
     "output_type": "stream",
     "text": [
      "Row vector:\n",
      " [1 2 3 4 5 6 7 8 9]\n",
      "(9,)\n",
      "\n",
      "Column vector:\n",
      " [[1]\n",
      " [2]\n",
      " [3]\n",
      " [4]\n",
      " [5]\n",
      " [6]\n",
      " [7]\n",
      " [8]\n",
      " [9]]\n",
      "(9, 1)\n"
     ]
    }
   ],
   "source": [
    "print(\"Row vector:\\n\", row_vector)\n",
    "print(row_vector.shape)\n",
    "print()\n",
    "print(\"Column vector:\\n\", col_vector)\n",
    "print(col_vector.shape)"
   ]
  },
  {
   "cell_type": "code",
   "execution_count": null,
   "metadata": {},
   "outputs": [],
   "source": []
  }
 ],
 "metadata": {
  "kernelspec": {
   "display_name": "Python 3",
   "language": "python",
   "name": "python3"
  },
  "language_info": {
   "codemirror_mode": {
    "name": "ipython",
    "version": 3
   },
   "file_extension": ".py",
   "mimetype": "text/x-python",
   "name": "python",
   "nbconvert_exporter": "python",
   "pygments_lexer": "ipython3",
   "version": "3.7.0"
  }
 },
 "nbformat": 4,
 "nbformat_minor": 2
}
