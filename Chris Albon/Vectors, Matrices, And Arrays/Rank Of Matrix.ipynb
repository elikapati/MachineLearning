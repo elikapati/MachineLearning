{
 "cells": [
  {
   "cell_type": "markdown",
   "metadata": {},
   "source": [
    "## Rank of Matrix"
   ]
  },
  {
   "cell_type": "code",
   "execution_count": 4,
   "metadata": {},
   "outputs": [
    {
     "name": "stdout",
     "output_type": "stream",
     "text": [
      "Rank of a matrix:\n",
      "The rank of a matrix is defined as \n",
      "\t(a) the maximum number of linearly independent column vectors in the matrix or \n",
      "\t(b) the maximum number of linearly independent row vectors in the matrix.\n",
      "\n",
      "\tIf r is less than c, then the maximum rank of the matrix is r.\n",
      "\tIf r is greater than c, then the maximum rank of the matrix is c.\n",
      "\n",
      "The rank of a matrix would be zero only if the matrix had no elements. If a matrix had even one element, its minimum rank would be one.\n",
      "\n",
      "To find the rank of a matrix, we simply transform the matrix to its row echelon form and count the number of non-zero rows.\n",
      "Rank of the square matrix is  2\n",
      "Rank of the rectangular matrix is  2\n"
     ]
    }
   ],
   "source": [
    "import numpy as np\n",
    "\n",
    "sqr_matrix = np.array([[1, 2, 3],\n",
    "                       [4, 5, 6],\n",
    "                       [7, 8, 9]])\n",
    "rect_matrix = np.array([[1, 2, 3, 4],\n",
    "                        [5, 6, 7, 8]])\n",
    "\n",
    "print(\"Rank of a matrix:\")\n",
    "print(\"The rank of a matrix is defined as \\n\\t(a) the maximum number of linearly independent column vectors in the matrix or \\n\\t(b) the maximum number of linearly independent row vectors in the matrix.\")\n",
    "print(\"\\n\\tIf r is less than c, then the maximum rank of the matrix is r.\")\n",
    "print(\"\\tIf r is greater than c, then the maximum rank of the matrix is c.\")\n",
    "print(\"\\nThe rank of a matrix would be zero only if the matrix had no elements. If a matrix had even one element, its minimum rank would be one.\")\n",
    "print(\"\\nTo find the rank of a matrix, we simply transform the matrix to its row echelon form and count the number of non-zero rows.\")\n",
    "\n",
    "print(\"Rank of the square matrix is \", np.linalg.matrix_rank(sqr_matrix))\n",
    "print(\"Rank of the rectangular matrix is \", np.linalg.matrix_rank(rect_matrix))"
   ]
  },
  {
   "cell_type": "code",
   "execution_count": null,
   "metadata": {},
   "outputs": [],
   "source": []
  }
 ],
 "metadata": {
  "kernelspec": {
   "display_name": "Python 3",
   "language": "python",
   "name": "python3"
  },
  "language_info": {
   "codemirror_mode": {
    "name": "ipython",
    "version": 3
   },
   "file_extension": ".py",
   "mimetype": "text/x-python",
   "name": "python",
   "nbconvert_exporter": "python",
   "pygments_lexer": "ipython3",
   "version": "3.7.0"
  }
 },
 "nbformat": 4,
 "nbformat_minor": 2
}
