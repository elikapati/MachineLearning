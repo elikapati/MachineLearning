{
 "cells": [
  {
   "cell_type": "markdown",
   "metadata": {},
   "source": [
    "## Min, Max elements from an Array"
   ]
  },
  {
   "cell_type": "code",
   "execution_count": 18,
   "metadata": {},
   "outputs": [
    {
     "name": "stdout",
     "output_type": "stream",
     "text": [
      "Largest element of the matrix =  8\n",
      "Smallest element of the matrix =  1\n",
      "\n",
      "Largest element(s) in each column:\n",
      "[5 6 7 8]\n",
      "Largest element(s) in each row:\n",
      "[7 8]\n",
      "\n",
      "Smallest element(s) in each column:\n",
      "[1 2 3 4]\n",
      "Smallest element(s) in each row:\n",
      "[1 2]\n",
      "\n",
      "Largest element(s) in each column:\n",
      "[7 8 9]\n",
      "Largest element(s) in each row:\n",
      "[3 6 9]\n"
     ]
    }
   ],
   "source": [
    "import numpy as np\n",
    "\n",
    "rect_matrix = np.array([[1, 6, 7, 4],\n",
    "                        [5, 2, 3, 8]])\n",
    "\n",
    "print(\"Largest element of the matrix = \", np.max(rect_matrix))\n",
    "print(\"Smallest element of the matrix = \", np.min(rect_matrix))\n",
    "print()\n",
    "\n",
    "print(\"Largest element(s) in each column:\")\n",
    "print(np.max(rect_matrix, axis=0))\n",
    "print(\"Largest element(s) in each row:\")\n",
    "print(np.max(rect_matrix, axis=1))\n",
    "print()\n",
    "\n",
    "print(\"Smallest element(s) in each column:\")\n",
    "print(np.min(rect_matrix, axis=0))\n",
    "print(\"Smallest element(s) in each row:\")\n",
    "print(np.min(rect_matrix, axis=1))\n",
    "print()\n",
    "\n",
    "matrix = np.array([[1, 2, 3],\n",
    "                   [4, 5, 6],\n",
    "                   [7, 8, 9]])\n",
    "\n",
    "print(\"Largest element(s) in each column:\")\n",
    "print(np.max(matrix, axis=0))\n",
    "print(\"Largest element(s) in each row:\")\n",
    "print(np.max(matrix, axis=1))"
   ]
  },
  {
   "cell_type": "code",
   "execution_count": null,
   "metadata": {},
   "outputs": [],
   "source": []
  }
 ],
 "metadata": {
  "kernelspec": {
   "display_name": "Python 3",
   "language": "python",
   "name": "python3"
  },
  "language_info": {
   "codemirror_mode": {
    "name": "ipython",
    "version": 3
   },
   "file_extension": ".py",
   "mimetype": "text/x-python",
   "name": "python",
   "nbconvert_exporter": "python",
   "pygments_lexer": "ipython3",
   "version": "3.7.0"
  }
 },
 "nbformat": 4,
 "nbformat_minor": 2
}
