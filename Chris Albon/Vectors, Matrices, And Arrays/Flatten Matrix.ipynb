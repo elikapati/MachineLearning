{
 "cells": [
  {
   "cell_type": "markdown",
   "metadata": {},
   "source": [
    "## Flatten Matrix"
   ]
  },
  {
   "cell_type": "code",
   "execution_count": null,
   "metadata": {},
   "outputs": [],
   "source": [
    "import numpy as np\n",
    "\n",
    "square_matrix = np.array([[1, 2, 3],\n",
    "                          [4, 5, 6],\n",
    "                          [7, 8, 9]])\n",
    "rect_matrix = np.array([[1, 2, 3, 4],\n",
    "                        [5, 6, 7, 8]])\n",
    "\n",
    "print(\"Square matrix:\\n\", square_matrix)\n",
    "print(\"Vector obtained after flattening the square matrix\\n\", square_matrix.flatten())\n",
    "print()\n",
    "\n",
    "print(\"Rectangular matrix:\\n\", rect_matrix)\n",
    "print(\"Vector obtained after flattening the rectangular matrix\\n\", rect_matrix.flatten())\n"
   ]
  },
  {
   "cell_type": "code",
   "execution_count": null,
   "metadata": {},
   "outputs": [],
   "source": []
  }
 ],
 "metadata": {
  "kernelspec": {
   "display_name": "Python 3",
   "language": "python",
   "name": "python3"
  },
  "language_info": {
   "codemirror_mode": {
    "name": "ipython",
    "version": 3
   },
   "file_extension": ".py",
   "mimetype": "text/x-python",
   "name": "python",
   "nbconvert_exporter": "python",
   "pygments_lexer": "ipython3",
   "version": "3.7.0"
  }
 },
 "nbformat": 4,
 "nbformat_minor": 2
}
