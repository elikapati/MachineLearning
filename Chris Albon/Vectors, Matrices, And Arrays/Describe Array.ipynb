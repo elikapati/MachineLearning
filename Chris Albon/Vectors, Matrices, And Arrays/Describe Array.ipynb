{
 "cells": [
  {
   "cell_type": "markdown",
   "metadata": {},
   "source": [
    "## Describe Array"
   ]
  },
  {
   "cell_type": "code",
   "execution_count": 17,
   "metadata": {},
   "outputs": [
    {
     "name": "stdout",
     "output_type": "stream",
     "text": [
      "Shape of vector =  (9,)\n",
      "Shape of matrix =  (2, 4)\n",
      "Shape of tensor =  (4, 3, 2)\n",
      "\n",
      "Size of vector =  9\n",
      "Size of matrix =  8\n",
      "Size of tensor =  24\n",
      "\n",
      "No. of dimensions of vector =  1\n",
      "No. of dimensions of matrix =  2\n",
      "No. of dimensions of tensor =  3\n"
     ]
    }
   ],
   "source": [
    "import numpy as np\n",
    "\n",
    "vector = np.array([1, 2, 3, 4, 5, 6, 7, 8, 9])\n",
    "\n",
    "matrix = np.array([[1, 2, 3, 4],\n",
    "                   [5, 6, 7, 8]])\n",
    "\n",
    "tensor = np.array([[[1, 1], [2, 2], [3, 3]],\n",
    "                   [[4, 4], [5, 5], [6, 6]],\n",
    "                   [[7, 7], [8, 8], [9, 9]],\n",
    "                   [[1, 2], [3, 4], [5, 6]]])\n",
    "\n",
    "print(\"Shape of vector = \", vector.shape)\n",
    "print(\"Shape of matrix = \", matrix.shape)\n",
    "print(\"Shape of tensor = \", tensor.shape)\n",
    "print()\n",
    "\n",
    "print(\"Size of vector = \", vector.size)\n",
    "print(\"Size of matrix = \", matrix.size)\n",
    "print(\"Size of tensor = \", tensor.size)\n",
    "print()\n",
    "\n",
    "print(\"No. of dimensions of vector = \", vector.ndim)\n",
    "print(\"No. of dimensions of matrix = \", matrix.ndim)\n",
    "print(\"No. of dimensions of tensor = \", tensor.ndim)"
   ]
  },
  {
   "cell_type": "code",
   "execution_count": null,
   "metadata": {},
   "outputs": [],
   "source": []
  }
 ],
 "metadata": {
  "kernelspec": {
   "display_name": "Python 3",
   "language": "python",
   "name": "python3"
  },
  "language_info": {
   "codemirror_mode": {
    "name": "ipython",
    "version": 3
   },
   "file_extension": ".py",
   "mimetype": "text/x-python",
   "name": "python",
   "nbconvert_exporter": "python",
   "pygments_lexer": "ipython3",
   "version": "3.7.0"
  }
 },
 "nbformat": 4,
 "nbformat_minor": 2
}
