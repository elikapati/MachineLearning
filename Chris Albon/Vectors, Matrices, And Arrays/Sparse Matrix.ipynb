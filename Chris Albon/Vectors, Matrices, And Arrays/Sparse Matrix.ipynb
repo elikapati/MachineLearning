{
 "cells": [
  {
   "cell_type": "markdown",
   "metadata": {},
   "source": [
    "## Sparse Matrix"
   ]
  },
  {
   "cell_type": "code",
   "execution_count": 19,
   "metadata": {},
   "outputs": [
    {
     "name": "stdout",
     "output_type": "stream",
     "text": [
      "There are several types of sparse matrices:\n",
      "spmatrix - Base matrix of all sparse matrices\n",
      "1) bsr_matrix - Block Sparse Row\n",
      "2) coo_matrix - Sparse matrix in COOrdiante format\n",
      "3) csr_matrix - Compressed Sparse Row matrix\n",
      "4) csc_matrix - Compressed Sparse Column matrix\n",
      "5) dia_matrix - Sparse matrix with DIAgonal storage\n",
      "6) dok_matrix - Dictionary Of Keys based sparse matrix\n",
      "7) lil_matrix - Row based LInked List sparse matrix\n"
     ]
    }
   ],
   "source": [
    "import numpy as np\n",
    "from scipy.sparse import bsr_matrix\n",
    "\n",
    "print(\"There are several types of sparse matrices:\")\n",
    "print(\"spmatrix - Base matrix of all sparse matrices\")\n",
    "print(\"1) bsr_matrix - Block Sparse Row\")\n",
    "print(\"2) coo_matrix - Sparse matrix in COOrdiante format\")\n",
    "print(\"3) csr_matrix - Compressed Sparse Row matrix\")\n",
    "print(\"4) csc_matrix - Compressed Sparse Column matrix\")\n",
    "print(\"5) dia_matrix - Sparse matrix with DIAgonal storage\")\n",
    "print(\"6) dok_matrix - Dictionary Of Keys based sparse matrix\")\n",
    "print(\"7) lil_matrix - Row based LInked List sparse matrix\")"
   ]
  },
  {
   "cell_type": "code",
   "execution_count": 20,
   "metadata": {},
   "outputs": [
    {
     "name": "stdout",
     "output_type": "stream",
     "text": [
      "  (0, 3)\t1\n",
      "  (1, 0)\t2\n",
      "  (1, 3)\t-1\n",
      "  (2, 2)\t3\n",
      "  (3, 3)\t-5\n"
     ]
    }
   ],
   "source": [
    "sparse_mat = np.array([[0, 0, 0, 1],\n",
    "                          [2, 0, 0, -1],\n",
    "                          [0, 0, 3, 0],\n",
    "                          [0, 0, 0, -5]])\n",
    "\n",
    "# Convert sparse matrix to bsr matrix\n",
    "sparse_bsr = sparse.bsr_matrix(sparse_mat)\n",
    "print(sparse_bsr)"
   ]
  },
  {
   "cell_type": "code",
   "execution_count": 21,
   "metadata": {},
   "outputs": [
    {
     "name": "stdout",
     "output_type": "stream",
     "text": [
      "bsr sparse matrix:\n",
      " [[1 0 2]\n",
      " [0 0 3]\n",
      " [4 5 6]]\n"
     ]
    }
   ],
   "source": [
    "# Creation of a BSR sparse matrix (Note: we don't mention the indices of data value 0)\n",
    "row_indx = np.array([0, 0, 1, 2, 2, 2])\n",
    "col_indx = np.array([0, 2, 2, 0, 1, 2])\n",
    "data     = np.array([1, 2, 3, 4, 5, 6])\n",
    "\n",
    "sparse_bsr = bsr_matrix((data, (row_indx, col_indx)), shape=(3, 3)).toarray()\n",
    "print(\"bsr sparse matrix:\\n\", sparse_bsr)"
   ]
  },
  {
   "cell_type": "code",
   "execution_count": null,
   "metadata": {},
   "outputs": [],
   "source": []
  }
 ],
 "metadata": {
  "kernelspec": {
   "display_name": "Python 3",
   "language": "python",
   "name": "python3"
  },
  "language_info": {
   "codemirror_mode": {
    "name": "ipython",
    "version": 3
   },
   "file_extension": ".py",
   "mimetype": "text/x-python",
   "name": "python",
   "nbconvert_exporter": "python",
   "pygments_lexer": "ipython3",
   "version": "3.7.0"
  }
 },
 "nbformat": 4,
 "nbformat_minor": 2
}
