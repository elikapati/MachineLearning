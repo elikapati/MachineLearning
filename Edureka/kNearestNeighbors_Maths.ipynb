{
 "cells": [
  {
   "cell_type": "code",
   "execution_count": 195,
   "metadata": {},
   "outputs": [],
   "source": [
    "# kNearest Neibhbors algorithm\n",
    "\n",
    "import numpy as np\n",
    "import pandas as pd\n",
    "import csv\n",
    "import random\n",
    "\n",
    "# Read csv file and split the data into training and test data sets\n",
    "def loadDataset(filename, split, trainingSet=[], testSet=[]):\n",
    "    with open(filename, 'r') as csvfile:\n",
    "        lines = csv.reader(csvfile)\n",
    "        dataset = list(lines)\n",
    "        for x in range(len(dataset)-1):\n",
    "            for y in range(4):\n",
    "                dataset[x][y] = float(dataset[x][y])\n",
    "            if random.random() < split:\n",
    "                trainingSet.append(dataset[x])\n",
    "            else:\n",
    "                testSet.append(dataset[x])"
   ]
  },
  {
   "cell_type": "code",
   "execution_count": 196,
   "metadata": {},
   "outputs": [
    {
     "name": "stdout",
     "output_type": "stream",
     "text": [
      "Size of training dataset =  103\n",
      "Size of test dataset =  46\n"
     ]
    }
   ],
   "source": [
    "# Test the function loadDataset\n",
    "trainingSet=[]\n",
    "testSet=[]\n",
    "\n",
    "# Data Source https://www.kaggle.com/uciml/iris#Iris.csv\n",
    "loadDataset(r'Data//iris.csv', 0.66, trainingSet, testSet)\n",
    "\n",
    "print('Size of training dataset = ', len(trainingSet))\n",
    "print('Size of test dataset = ', len(testSet))"
   ]
  },
  {
   "cell_type": "code",
   "execution_count": 197,
   "metadata": {},
   "outputs": [],
   "source": [
    "# Define euclideanDistance calculation function\n",
    "\n",
    "import math\n",
    "def euclideanDistance(instance1, instance2, length):\n",
    "    distance = 0\n",
    "    for x in range(length):\n",
    "        distance += np.power((instance1[x] - instance2[x]), 2)\n",
    "    return math.sqrt(distance)"
   ]
  },
  {
   "cell_type": "code",
   "execution_count": 198,
   "metadata": {},
   "outputs": [
    {
     "name": "stdout",
     "output_type": "stream",
     "text": [
      "3.4641016151377544\n"
     ]
    }
   ],
   "source": [
    "data1 = [2, 2, 2, 'a']\n",
    "data2 = [4, 4, 4, 'b']\n",
    "print(euclideanDistance(data1, data2, 3))"
   ]
  },
  {
   "cell_type": "code",
   "execution_count": 199,
   "metadata": {},
   "outputs": [],
   "source": [
    "import operator\n",
    "def getNeighbors(trainingSet, testInstance, k):\n",
    "    distances = []\n",
    "    length = len(testInstance)-1\n",
    "    for x in range(len(trainingSet)):\n",
    "        dist = euclideanDistance(testInstance, trainingSet[x], length)\n",
    "        distances.append((trainingSet[x], dist))\n",
    "    distances.sort(key=operator.itemgetter(1))\n",
    "    #print(distances)\n",
    "    neighbors = []\n",
    "    for x in range(k):\n",
    "        neighbors.append(distances[x][0])\n",
    "    return neighbors"
   ]
  },
  {
   "cell_type": "code",
   "execution_count": 200,
   "metadata": {},
   "outputs": [
    {
     "name": "stdout",
     "output_type": "stream",
     "text": [
      "The 2 - nearest neighbors to  [4, 4, 4]  are  [[3, 3, 3, 'b'], [5, 5, 5, 'd']]\n"
     ]
    }
   ],
   "source": [
    "# Test the function \"getNeighbors\"\n",
    "trainSet = [[2, 2, 2, 'a'], [3, 3, 3, 'b'], [5, 5, 5, 'd'], [6, 6, 6, 'e']]\n",
    "testInstance = [4, 4, 4]\n",
    "k = 2\n",
    "neighbors = getNeighbors(trainSet, testInstance, k)\n",
    "print(\"The\", k,\"- nearest neighbors to \", testInstance, \" are \", neighbors)"
   ]
  },
  {
   "cell_type": "code",
   "execution_count": 201,
   "metadata": {},
   "outputs": [],
   "source": [
    "import operator\n",
    "def getResponse(neighbors):\n",
    "    classVotes = {}\n",
    "    for x in range(len(neighbors)):\n",
    "        response = neighbors[x][-1]\n",
    "        if response in classVotes:\n",
    "            classVotes[response] += 1\n",
    "        else:\n",
    "            classVotes[response] = 1\n",
    "    sortedVotes = sorted(classVotes.items() , key=operator.itemgetter(1), reverse=True)\n",
    "    \n",
    "    return sortedVotes[0][0]"
   ]
  },
  {
   "cell_type": "code",
   "execution_count": 202,
   "metadata": {},
   "outputs": [
    {
     "name": "stdout",
     "output_type": "stream",
     "text": [
      "c\n"
     ]
    }
   ],
   "source": [
    "neighbors = [[1, 1, 1, 'a'], [2, 2, 2, 'c'], [3, 3, 3, 'c']]\n",
    "response = getResponse(neighbors)\n",
    "print(response)"
   ]
  },
  {
   "cell_type": "code",
   "execution_count": 203,
   "metadata": {},
   "outputs": [],
   "source": [
    "def getAccuracy(testSet, predictions):\n",
    "    correct = 0\n",
    "    for x in range(len(testSet)):\n",
    "        if np.isin(testSet[x][-1], predictions[x]):\n",
    "        #if testSet[x][-1] is predictions[x]:\n",
    "            correct += 1\n",
    "    return (correct/float(len(testSet))) * 100.0"
   ]
  },
  {
   "cell_type": "code",
   "execution_count": 204,
   "metadata": {},
   "outputs": [
    {
     "name": "stdout",
     "output_type": "stream",
     "text": [
      "33.33333333333333\n"
     ]
    }
   ],
   "source": [
    "testSet = [[1, 1, 1, 'a'], [2, 2, 2, 'a'], [3, 3, 3, 'b']]\n",
    "predictions = ['b', 'b', 'b']\n",
    "accuracy = getAccuracy(testSet, predictions)\n",
    "print(accuracy)"
   ]
  },
  {
   "cell_type": "code",
   "execution_count": 213,
   "metadata": {},
   "outputs": [],
   "source": []
  },
  {
   "cell_type": "code",
   "execution_count": 219,
   "metadata": {},
   "outputs": [],
   "source": [
    "def main():\n",
    "    # prepare data\n",
    "    trainingSet = []\n",
    "    testSet = []\n",
    "    split = 0.67\n",
    "    \n",
    "    loadDataset('Data//iris.csv', split, trainingSet, testSet)\n",
    "    print('Main - Train Set = ', len(trainingSet))\n",
    "    print('Main - Test Set = ', len(testSet))\n",
    "\n",
    "    #print(\"Training Data set:\\n\", trainingSet)\n",
    "    #print(\"Test Data set:\\n\", testSet)\n",
    "\n",
    "    # Generate predictions\n",
    "    predictions = []\n",
    "    k = 3\n",
    "    \n",
    "    for x in range(len(testSet)):\n",
    "        neighbors = getNeighbors(trainingSet, testSet[x], k)\n",
    "        result = getResponse(neighbors)\n",
    "        predictions.append(result)\n",
    "        print('> predicted = ', result, ' Actual = ', testSet[x][-1], result == testSet[x][-1])\n",
    "    accuracy = getAccuracy(testSet, predictions)\n",
    "    print('Accuracy = ', accuracy, '%')\n"
   ]
  },
  {
   "cell_type": "code",
   "execution_count": 220,
   "metadata": {},
   "outputs": [
    {
     "name": "stdout",
     "output_type": "stream",
     "text": [
      "Main - Train Set =  94\n",
      "Main - Test Set =  55\n",
      "> predicted =  Iris-setosa  Actual =  Iris-setosa True\n",
      "> predicted =  Iris-setosa  Actual =  Iris-setosa True\n",
      "> predicted =  Iris-setosa  Actual =  Iris-setosa True\n",
      "> predicted =  Iris-setosa  Actual =  Iris-setosa True\n",
      "> predicted =  Iris-setosa  Actual =  Iris-setosa True\n",
      "> predicted =  Iris-setosa  Actual =  Iris-setosa True\n",
      "> predicted =  Iris-setosa  Actual =  Iris-setosa True\n",
      "> predicted =  Iris-setosa  Actual =  Iris-setosa True\n",
      "> predicted =  Iris-setosa  Actual =  Iris-setosa True\n",
      "> predicted =  Iris-setosa  Actual =  Iris-setosa True\n",
      "> predicted =  Iris-setosa  Actual =  Iris-setosa True\n",
      "> predicted =  Iris-setosa  Actual =  Iris-setosa True\n",
      "> predicted =  Iris-setosa  Actual =  Irissetosa False\n",
      "> predicted =  Iris-setosa  Actual =  Iris-setosa True\n",
      "> predicted =  Iris-setosa  Actual =  Iris-setosa True\n",
      "> predicted =  Iris-setosa  Actual =  Iris-setosa True\n",
      "> predicted =  Iris-versicolor  Actual =  Iris-versicolor True\n",
      "> predicted =  Iris-versicolor  Actual =  Iris-versicolor True\n",
      "> predicted =  Iris-versicolor  Actual =  Iris-versicolor True\n",
      "> predicted =  Iris-versicolor  Actual =  Iris-versicolor True\n",
      "> predicted =  Iris-versicolor  Actual =  Iris-versicolor True\n",
      "> predicted =  Iris-virginica  Actual =  Iris-versicolor False\n",
      "> predicted =  Iris-versicolor  Actual =  Iris-versicolor True\n",
      "> predicted =  Iris-versicolor  Actual =  Iris-versicolor True\n",
      "> predicted =  Iris-versicolor  Actual =  Iris-versicolor True\n",
      "> predicted =  Iris-versicolor  Actual =  Iris-versicolor True\n",
      "> predicted =  Iris-virginica  Actual =  Iris-versicolor False\n",
      "> predicted =  Iris-versicolor  Actual =  Iris-versicolor True\n",
      "> predicted =  Iris-versicolor  Actual =  Iris-versicolor True\n",
      "> predicted =  Iris-versicolor  Actual =  Iris-versicolor True\n",
      "> predicted =  Iris-versicolor  Actual =  Iris-versicolor True\n",
      "> predicted =  Iris-versicolor  Actual =  Iris-versicolor True\n",
      "> predicted =  Iris-versicolor  Actual =  Iris-versicolor True\n",
      "> predicted =  Iris-versicolor  Actual =  Iris-versicolor True\n",
      "> predicted =  Iris-versicolor  Actual =  Iris-versicolor True\n",
      "> predicted =  Iris-versicolor  Actual =  Iris-versicolor True\n",
      "> predicted =  Iris-virginica  Actual =  Iris-virginica True\n",
      "> predicted =  Iris-virginica  Actual =  Iris-virginica True\n",
      "> predicted =  Iris-virginica  Actual =  Iris-virginica True\n",
      "> predicted =  Iris-virginica  Actual =  Iris-virginica True\n",
      "> predicted =  Iris-virginica  Actual =  Iris-virginica True\n",
      "> predicted =  Iris-virginica  Actual =  Iris-virginica True\n",
      "> predicted =  Iris-virginica  Actual =  Iris-virginica True\n",
      "> predicted =  Iris-virginica  Actual =  Iris-virginica True\n",
      "> predicted =  Iris-virginica  Actual =  Iris-virginica True\n",
      "> predicted =  Iris-virginica  Actual =  Iris-virginica True\n",
      "> predicted =  Iris-virginica  Actual =  Iris-virginica True\n",
      "> predicted =  Iris-virginica  Actual =  Iris-virginica True\n",
      "> predicted =  Iris-virginica  Actual =  Iris-virginica True\n",
      "> predicted =  Iris-virginica  Actual =  Iris-virginica True\n",
      "> predicted =  Iris-virginica  Actual =  Iris-virginica True\n",
      "> predicted =  Iris-virginica  Actual =  Iris-virginica True\n",
      "> predicted =  Iris-virginica  Actual =  Iris-virginica True\n",
      "> predicted =  Iris-virginica  Actual =  Iris-virginica True\n",
      "> predicted =  Iris-virginica  Actual =  Iris-virginica True\n",
      "Accuracy =  94.54545454545455 %\n"
     ]
    }
   ],
   "source": [
    "main()"
   ]
  },
  {
   "cell_type": "code",
   "execution_count": null,
   "metadata": {},
   "outputs": [],
   "source": []
  }
 ],
 "metadata": {
  "kernelspec": {
   "display_name": "Python 3",
   "language": "python",
   "name": "python3"
  },
  "language_info": {
   "codemirror_mode": {
    "name": "ipython",
    "version": 3
   },
   "file_extension": ".py",
   "mimetype": "text/x-python",
   "name": "python",
   "nbconvert_exporter": "python",
   "pygments_lexer": "ipython3",
   "version": "3.7.0"
  }
 },
 "nbformat": 4,
 "nbformat_minor": 2
}
