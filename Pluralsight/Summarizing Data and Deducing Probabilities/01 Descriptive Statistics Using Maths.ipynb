{
 "cells": [
  {
   "cell_type": "markdown",
   "metadata": {},
   "source": [
    "# Descriptive Statistics Using Maths"
   ]
  },
  {
   "cell_type": "code",
   "execution_count": 1,
   "metadata": {},
   "outputs": [],
   "source": [
    "import numpy as np\n",
    "import pandas as pd"
   ]
  },
  {
   "cell_type": "code",
   "execution_count": 2,
   "metadata": {},
   "outputs": [
    {
     "data": {
      "text/html": [
       "<div>\n",
       "<style scoped>\n",
       "    .dataframe tbody tr th:only-of-type {\n",
       "        vertical-align: middle;\n",
       "    }\n",
       "\n",
       "    .dataframe tbody tr th {\n",
       "        vertical-align: top;\n",
       "    }\n",
       "\n",
       "    .dataframe thead th {\n",
       "        text-align: right;\n",
       "    }\n",
       "</style>\n",
       "<table border=\"1\" class=\"dataframe\">\n",
       "  <thead>\n",
       "    <tr style=\"text-align: right;\">\n",
       "      <th></th>\n",
       "      <th>Head_Size</th>\n",
       "      <th>Brain_Weight</th>\n",
       "    </tr>\n",
       "  </thead>\n",
       "  <tbody>\n",
       "    <tr>\n",
       "      <th>0</th>\n",
       "      <td>4512</td>\n",
       "      <td>1530</td>\n",
       "    </tr>\n",
       "    <tr>\n",
       "      <th>1</th>\n",
       "      <td>3738</td>\n",
       "      <td>1297</td>\n",
       "    </tr>\n",
       "    <tr>\n",
       "      <th>2</th>\n",
       "      <td>4261</td>\n",
       "      <td>1335</td>\n",
       "    </tr>\n",
       "    <tr>\n",
       "      <th>3</th>\n",
       "      <td>3777</td>\n",
       "      <td>1282</td>\n",
       "    </tr>\n",
       "    <tr>\n",
       "      <th>4</th>\n",
       "      <td>4177</td>\n",
       "      <td>1590</td>\n",
       "    </tr>\n",
       "    <tr>\n",
       "      <th>5</th>\n",
       "      <td>3585</td>\n",
       "      <td>1300</td>\n",
       "    </tr>\n",
       "    <tr>\n",
       "      <th>6</th>\n",
       "      <td>3785</td>\n",
       "      <td>1400</td>\n",
       "    </tr>\n",
       "    <tr>\n",
       "      <th>7</th>\n",
       "      <td>3559</td>\n",
       "      <td>1255</td>\n",
       "    </tr>\n",
       "    <tr>\n",
       "      <th>8</th>\n",
       "      <td>3613</td>\n",
       "      <td>1355</td>\n",
       "    </tr>\n",
       "    <tr>\n",
       "      <th>9</th>\n",
       "      <td>3982</td>\n",
       "      <td>1375</td>\n",
       "    </tr>\n",
       "  </tbody>\n",
       "</table>\n",
       "</div>"
      ],
      "text/plain": [
       "   Head_Size  Brain_Weight\n",
       "0       4512          1530\n",
       "1       3738          1297\n",
       "2       4261          1335\n",
       "3       3777          1282\n",
       "4       4177          1590\n",
       "5       3585          1300\n",
       "6       3785          1400\n",
       "7       3559          1255\n",
       "8       3613          1355\n",
       "9       3982          1375"
      ]
     },
     "execution_count": 2,
     "metadata": {},
     "output_type": "execute_result"
    }
   ],
   "source": [
    "brain_data = pd.read_csv('Data/brain_data.csv')\n",
    "brain_data.head(10)"
   ]
  },
  {
   "cell_type": "code",
   "execution_count": 3,
   "metadata": {},
   "outputs": [
    {
     "data": {
      "text/plain": [
       "(237, 2)"
      ]
     },
     "execution_count": 3,
     "metadata": {},
     "output_type": "execute_result"
    }
   ],
   "source": [
    "brain_data.shape"
   ]
  },
  {
   "cell_type": "code",
   "execution_count": 4,
   "metadata": {},
   "outputs": [
    {
     "data": {
      "text/plain": [
       "861256"
      ]
     },
     "execution_count": 4,
     "metadata": {},
     "output_type": "execute_result"
    }
   ],
   "source": [
    "sum_head_size = sum(brain_data['Head_Size'])\n",
    "sum_head_size"
   ]
  },
  {
   "cell_type": "code",
   "execution_count": 5,
   "metadata": {},
   "outputs": [
    {
     "data": {
      "text/plain": [
       "237"
      ]
     },
     "execution_count": 5,
     "metadata": {},
     "output_type": "execute_result"
    }
   ],
   "source": [
    "num_head_size = len(brain_data['Head_Size'])\n",
    "num_head_size"
   ]
  },
  {
   "cell_type": "code",
   "execution_count": 7,
   "metadata": {},
   "outputs": [
    {
     "data": {
      "text/plain": [
       "3633.9915611814345"
      ]
     },
     "execution_count": 7,
     "metadata": {},
     "output_type": "execute_result"
    }
   ],
   "source": [
    "mean_head_size = sum_head_size / num_head_size\n",
    "mean_head_size"
   ]
  },
  {
   "cell_type": "code",
   "execution_count": 8,
   "metadata": {},
   "outputs": [
    {
     "data": {
      "text/plain": [
       "1282.873417721519"
      ]
     },
     "execution_count": 8,
     "metadata": {},
     "output_type": "execute_result"
    }
   ],
   "source": [
    "mean_brain_weight = sum(brain_data['Brain_Weight']) / len(brain_data['Brain_Weight'])\n",
    "mean_brain_weight"
   ]
  },
  {
   "cell_type": "code",
   "execution_count": 9,
   "metadata": {},
   "outputs": [
    {
     "data": {
      "text/plain": [
       "pandas.core.series.Series"
      ]
     },
     "execution_count": 9,
     "metadata": {},
     "output_type": "execute_result"
    }
   ],
   "source": [
    "type(brain_data['Head_Size'])"
   ]
  },
  {
   "cell_type": "markdown",
   "metadata": {},
   "source": [
    "Calculate median"
   ]
  },
  {
   "cell_type": "code",
   "execution_count": 12,
   "metadata": {},
   "outputs": [
    {
     "data": {
      "text/plain": [
       "[2720, 2773, 2857, 2864, 2937, 2939, 2989, 3000, 3058, 3067]"
      ]
     },
     "execution_count": 12,
     "metadata": {},
     "output_type": "execute_result"
    }
   ],
   "source": [
    "sorted_head_size = sorted(brain_data['Head_Size'])\n",
    "sorted_head_size[0:10]"
   ]
  },
  {
   "cell_type": "code",
   "execution_count": 15,
   "metadata": {},
   "outputs": [
    {
     "data": {
      "text/plain": [
       "119"
      ]
     },
     "execution_count": 15,
     "metadata": {},
     "output_type": "execute_result"
    }
   ],
   "source": [
    "middle_index = int((num_head_size + 1) / 2)\n",
    "middle_index"
   ]
  },
  {
   "cell_type": "code",
   "execution_count": 16,
   "metadata": {},
   "outputs": [
    {
     "data": {
      "text/plain": [
       "3615"
      ]
     },
     "execution_count": 16,
     "metadata": {},
     "output_type": "execute_result"
    }
   ],
   "source": [
    "median = sorted_head_size[int(middle_index)]\n",
    "median"
   ]
  },
  {
   "cell_type": "markdown",
   "metadata": {},
   "source": [
    "Calculate Mode"
   ]
  },
  {
   "cell_type": "code",
   "execution_count": 22,
   "metadata": {},
   "outputs": [
    {
     "data": {
      "text/plain": [
       "{1530: 1,\n",
       " 1297: 1,\n",
       " 1335: 3,\n",
       " 1282: 1,\n",
       " 1590: 1,\n",
       " 1300: 5,\n",
       " 1400: 3,\n",
       " 1255: 1,\n",
       " 1355: 3,\n",
       " 1375: 2,\n",
       " 1340: 4,\n",
       " 1380: 4,\n",
       " 1522: 1,\n",
       " 1208: 1,\n",
       " 1405: 3,\n",
       " 1358: 1,\n",
       " 1292: 1,\n",
       " 1357: 1,\n",
       " 1287: 1,\n",
       " 1275: 2,\n",
       " 1270: 5,\n",
       " 1635: 1,\n",
       " 1505: 1,\n",
       " 1490: 1,\n",
       " 1485: 2,\n",
       " 1310: 5,\n",
       " 1420: 1,\n",
       " 1318: 1,\n",
       " 1432: 3,\n",
       " 1364: 1,\n",
       " 1207: 1,\n",
       " 1350: 8,\n",
       " 1236: 1,\n",
       " 1250: 6,\n",
       " 1320: 3,\n",
       " 1525: 1,\n",
       " 1570: 1,\n",
       " 1422: 1,\n",
       " 1506: 1,\n",
       " 1215: 2,\n",
       " 1311: 1,\n",
       " 1224: 1,\n",
       " 1390: 2,\n",
       " 1225: 3,\n",
       " 1560: 1,\n",
       " 1330: 2,\n",
       " 1222: 1,\n",
       " 1415: 2,\n",
       " 1175: 3,\n",
       " 1470: 1,\n",
       " 1135: 1,\n",
       " 1154: 1,\n",
       " 1510: 1,\n",
       " 1468: 1,\n",
       " 1240: 4,\n",
       " 1195: 1,\n",
       " 1188: 1,\n",
       " 1252: 2,\n",
       " 1315: 1,\n",
       " 1245: 2,\n",
       " 1430: 2,\n",
       " 1279: 1,\n",
       " 1309: 1,\n",
       " 1412: 1,\n",
       " 1120: 3,\n",
       " 1220: 5,\n",
       " 1280: 5,\n",
       " 1440: 2,\n",
       " 1370: 1,\n",
       " 1192: 2,\n",
       " 1230: 1,\n",
       " 1346: 1,\n",
       " 1290: 6,\n",
       " 1165: 3,\n",
       " 1132: 1,\n",
       " 1242: 1,\n",
       " 1218: 1,\n",
       " 1588: 1,\n",
       " 1260: 2,\n",
       " 1425: 1,\n",
       " 1226: 1,\n",
       " 1360: 1,\n",
       " 1620: 1,\n",
       " 1295: 1,\n",
       " 1362: 1,\n",
       " 1173: 1,\n",
       " 1256: 1,\n",
       " 1180: 4,\n",
       " 1306: 2,\n",
       " 1125: 1,\n",
       " 1312: 1,\n",
       " 1450: 1,\n",
       " 1027: 1,\n",
       " 1235: 3,\n",
       " 1080: 1,\n",
       " 1127: 2,\n",
       " 1200: 1,\n",
       " 1334: 1,\n",
       " 1140: 1,\n",
       " 1243: 2,\n",
       " 1168: 1,\n",
       " 1322: 1,\n",
       " 1249: 1,\n",
       " 1321: 1,\n",
       " 1373: 1,\n",
       " 1170: 2,\n",
       " 1265: 1,\n",
       " 1302: 1,\n",
       " 1241: 1,\n",
       " 1078: 1,\n",
       " 1520: 1,\n",
       " 1460: 1,\n",
       " 1075: 1,\n",
       " 1190: 1,\n",
       " 1374: 1,\n",
       " 1202: 1,\n",
       " 1316: 1,\n",
       " 1210: 2,\n",
       " 1324: 1,\n",
       " 1100: 1,\n",
       " 1160: 1,\n",
       " 1205: 1,\n",
       " 1163: 1,\n",
       " 1022: 1,\n",
       " 1237: 1,\n",
       " 1204: 1,\n",
       " 1090: 1,\n",
       " 1076: 1,\n",
       " 1095: 1,\n",
       " 1105: 1,\n",
       " 1150: 1,\n",
       " 1305: 1,\n",
       " 1296: 1,\n",
       " 955: 1,\n",
       " 1070: 1,\n",
       " 1060: 2,\n",
       " 1130: 2,\n",
       " 1178: 1,\n",
       " 1142: 1,\n",
       " 1185: 1,\n",
       " 1012: 1,\n",
       " 1103: 1,\n",
       " 1408: 1,\n",
       " 1246: 1,\n",
       " 1110: 1,\n",
       " 1104: 1}"
      ]
     },
     "execution_count": 22,
     "metadata": {},
     "output_type": "execute_result"
    }
   ],
   "source": [
    "size_counts = {}\n",
    "\n",
    "for p in brain_data['Brain_Weight']:\n",
    "    if p not in size_counts:\n",
    "        size_counts[p] = 1\n",
    "    else:\n",
    "        size_counts[p] += 1\n",
    "size_counts"
   ]
  },
  {
   "cell_type": "code",
   "execution_count": 24,
   "metadata": {},
   "outputs": [
    {
     "name": "stdout",
     "output_type": "stream",
     "text": [
      "Size:  1350\n",
      "Frequency:  8\n"
     ]
    }
   ],
   "source": [
    "count = 0\n",
    "size = 0\n",
    "\n",
    "for s, c in size_counts.items():\n",
    "    if count < c:\n",
    "        count = c\n",
    "        size = s\n",
    "        \n",
    "print('Size: ', size)\n",
    "print('Frequency: ', count)"
   ]
  },
  {
   "cell_type": "markdown",
   "metadata": {},
   "source": [
    "Measures of Dispersion Min, Max and Range"
   ]
  },
  {
   "cell_type": "code",
   "execution_count": 25,
   "metadata": {},
   "outputs": [
    {
     "data": {
      "text/plain": [
       "(2720, 4747)"
      ]
     },
     "execution_count": 25,
     "metadata": {},
     "output_type": "execute_result"
    }
   ],
   "source": [
    "min_head_size = min(brain_data['Head_Size'])\n",
    "max_head_size = max(brain_data['Head_Size'])\n",
    "min_head_size, max_head_size"
   ]
  },
  {
   "cell_type": "code",
   "execution_count": 26,
   "metadata": {},
   "outputs": [
    {
     "data": {
      "text/plain": [
       "2027"
      ]
     },
     "execution_count": 26,
     "metadata": {},
     "output_type": "execute_result"
    }
   ],
   "source": [
    "range_head_size = max_head_size - min_head_size\n",
    "range_head_size"
   ]
  },
  {
   "cell_type": "code",
   "execution_count": null,
   "metadata": {},
   "outputs": [],
   "source": []
  }
 ],
 "metadata": {
  "kernelspec": {
   "display_name": "Python 3.6 (tensorflow)",
   "language": "python",
   "name": "tensorflow"
  },
  "language_info": {
   "codemirror_mode": {
    "name": "ipython",
    "version": 3
   },
   "file_extension": ".py",
   "mimetype": "text/x-python",
   "name": "python",
   "nbconvert_exporter": "python",
   "pygments_lexer": "ipython3",
   "version": "3.6.9"
  }
 },
 "nbformat": 4,
 "nbformat_minor": 2
}
