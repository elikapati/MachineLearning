{
 "cells": [
  {
   "cell_type": "code",
   "execution_count": 1,
   "metadata": {},
   "outputs": [],
   "source": [
    "# Programs in Order"
   ]
  },
  {
   "cell_type": "markdown",
   "metadata": {},
   "source": [
    "Order of the programs\n",
    "- <a href='http://localhost:8888/notebooks/Exercises/Ex_MachineLearning/Pluralsight/Reducing%20Complexity%20in%20data/Baseline%20Classification%20Model.ipynb'/>Baseline Classification Model</a>\n",
    "- <a href='http://localhost:8888/notebooks/Exercises/Ex_MachineLearning/Pluralsight/Reducing%20Complexity%20in%20data/Baseline%20Regression%20Model.ipynb'/>Baseline Regression Model</a>\n",
    "- <a href='http://localhost:8888/notebooks/Exercises/Ex_MachineLearning/Pluralsight/Reducing%20Complexity%20in%20data/Feature%20Selection%20by%20Variance%20Threshold%20(Regression%20Model).ipynb'/>Feature Selection by Variance Threshold (Regression Model)</a>\n",
    "- <a href='http://localhost:8888/notebooks/Exercises/Ex_MachineLearning/Pluralsight/Reducing%20Complexity%20in%20data/Feature%20Selection%20by%20Chisquare%2C%20ANOVA%20and%20Mutual%20Information%20(Classification%20Model).ipynb'/>Feature Selection by Chisquare, ANOVA and Mutual Information (Classification Model)</a>\n",
    "- <a href='http://localhost:8888/notebooks/Exercises/Ex_MachineLearning/Pluralsight/Reducing%20Complexity%20in%20data/Dimensionality%20Reduction%20on%20Linear%20Data%20using%20PCA.ipynb'/>Dimensionality Reduction on Linear Data using PCA</a>\n",
    "- <a href='http://localhost:8888/notebooks/Exercises/Ex_MachineLearning/Pluralsight/Reducing%20Complexity%20in%20data/Dimensionality%20Reduction%20on%20Linear%20Data%20using%20SVD.ipynb'/>Dimensionality Reduction on Linear Data using SVD</a>\n",
    "- <a href='http://localhost:8888/notebooks/Exercises/Ex_MachineLearning/Pluralsight/Reducing%20Complexity%20in%20data/Dimensionality%20Reduction%20on%20Linear%20Data%20using%20LDA.ipynb'/>Dimensionality Reduction on Linear Data using LDA</a>\n",
    "- <a href='http://localhost:8888/notebooks/Exercises/Ex_MachineLearning/Pluralsight/Reducing%20Complexity%20in%20data/Dimensionality%20Reduction%20on%20Non-Linear%20Data%20using%20Manifold%20Learning%20Techniques.ipynb'/>Dimensionality Reduction on Non-Linear Data using Manifold Learning Techniques</a>\n",
    "- <a href='http://localhost:8888/notebooks/Exercises/Ex_MachineLearning/Pluralsight/Reducing%20Complexity%20in%20data/Dimensionality%20Reduction%20using%20Clustering.ipynb'/>Dimensionality Reduction using Clustering</a>\n",
    "- <a href='http://localhost:8888/notebooks/Exercises/Ex_MachineLearning/Pluralsight/Reducing%20Complexity%20in%20data/Dimensionality%20Reduction%20using%20Autoencoding.ipynb'/>Dimensionality Reduction using Autoencoding</a>"
   ]
  }
 ],
 "metadata": {
  "kernelspec": {
   "display_name": "Python 3.6 (tensorflow)",
   "language": "python",
   "name": "tensorflow"
  },
  "language_info": {
   "codemirror_mode": {
    "name": "ipython",
    "version": 3
   },
   "file_extension": ".py",
   "mimetype": "text/x-python",
   "name": "python",
   "nbconvert_exporter": "python",
   "pygments_lexer": "ipython3",
   "version": "3.6.9"
  }
 },
 "nbformat": 4,
 "nbformat_minor": 2
}
