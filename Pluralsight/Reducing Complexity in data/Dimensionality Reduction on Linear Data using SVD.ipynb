{
 "cells": [
  {
   "cell_type": "markdown",
   "metadata": {},
   "source": [
    "# Dimensionality Reduction on <font color=gray>Linear Data</font> using <font color=red>SVD </font>\n",
    "\n",
    "We apply __Singular Value Decomposition (SVD)__ to reduce the number of features. We've already baselined with original set of features <a href='http://localhost:8888/notebooks/Exercises/Ex_MachineLearning/Pluralsight/Reducing%20Complexity%20in%20data/Baseline%20Regression%20Model.ipynb'/>Baseline Regression Model</a>. After reducing the features using SVD, we fit a regression model to the data and compare with baseline."
   ]
  },
  {
   "cell_type": "markdown",
   "metadata": {},
   "source": [
    "<img src='Data/Projection in Dimensionality Reduction.png' width=500/>"
   ]
  },
  {
   "cell_type": "code",
   "execution_count": 1,
   "metadata": {},
   "outputs": [],
   "source": [
    "import pylab\n",
    "import pandas as pd\n",
    "import matplotlib.pyplot as plt\n",
    "\n",
    "from sklearn.model_selection import train_test_split\n",
    "from sklearn.linear_model import LogisticRegression\n",
    "\n",
    "from sklearn.metrics import accuracy_score\n",
    "from sklearn.metrics import precision_score\n",
    "from sklearn.metrics import recall_score"
   ]
  },
  {
   "cell_type": "code",
   "execution_count": 2,
   "metadata": {},
   "outputs": [
    {
     "data": {
      "text/html": [
       "<div>\n",
       "<style scoped>\n",
       "    .dataframe tbody tr th:only-of-type {\n",
       "        vertical-align: middle;\n",
       "    }\n",
       "\n",
       "    .dataframe tbody tr th {\n",
       "        vertical-align: top;\n",
       "    }\n",
       "\n",
       "    .dataframe thead th {\n",
       "        text-align: right;\n",
       "    }\n",
       "</style>\n",
       "<table border=\"1\" class=\"dataframe\">\n",
       "  <thead>\n",
       "    <tr style=\"text-align: right;\">\n",
       "      <th></th>\n",
       "      <th>Pregnancies</th>\n",
       "      <th>Glucose</th>\n",
       "      <th>BP</th>\n",
       "      <th>Skin Thickness</th>\n",
       "      <th>Insulin</th>\n",
       "      <th>Mass</th>\n",
       "      <th>Pedigree</th>\n",
       "      <th>Age</th>\n",
       "      <th>class</th>\n",
       "    </tr>\n",
       "  </thead>\n",
       "  <tbody>\n",
       "    <tr>\n",
       "      <th>0</th>\n",
       "      <td>6</td>\n",
       "      <td>148</td>\n",
       "      <td>72</td>\n",
       "      <td>35</td>\n",
       "      <td>0</td>\n",
       "      <td>33.6</td>\n",
       "      <td>0.627</td>\n",
       "      <td>50</td>\n",
       "      <td>1</td>\n",
       "    </tr>\n",
       "    <tr>\n",
       "      <th>1</th>\n",
       "      <td>1</td>\n",
       "      <td>85</td>\n",
       "      <td>66</td>\n",
       "      <td>29</td>\n",
       "      <td>0</td>\n",
       "      <td>26.6</td>\n",
       "      <td>0.351</td>\n",
       "      <td>31</td>\n",
       "      <td>0</td>\n",
       "    </tr>\n",
       "    <tr>\n",
       "      <th>2</th>\n",
       "      <td>8</td>\n",
       "      <td>183</td>\n",
       "      <td>64</td>\n",
       "      <td>0</td>\n",
       "      <td>0</td>\n",
       "      <td>23.3</td>\n",
       "      <td>0.672</td>\n",
       "      <td>32</td>\n",
       "      <td>1</td>\n",
       "    </tr>\n",
       "    <tr>\n",
       "      <th>3</th>\n",
       "      <td>1</td>\n",
       "      <td>89</td>\n",
       "      <td>66</td>\n",
       "      <td>23</td>\n",
       "      <td>94</td>\n",
       "      <td>28.1</td>\n",
       "      <td>0.167</td>\n",
       "      <td>21</td>\n",
       "      <td>0</td>\n",
       "    </tr>\n",
       "    <tr>\n",
       "      <th>4</th>\n",
       "      <td>0</td>\n",
       "      <td>137</td>\n",
       "      <td>40</td>\n",
       "      <td>35</td>\n",
       "      <td>168</td>\n",
       "      <td>43.1</td>\n",
       "      <td>2.288</td>\n",
       "      <td>33</td>\n",
       "      <td>1</td>\n",
       "    </tr>\n",
       "  </tbody>\n",
       "</table>\n",
       "</div>"
      ],
      "text/plain": [
       "   Pregnancies  Glucose  BP  Skin Thickness  Insulin  Mass  Pedigree  Age  \\\n",
       "0            6      148  72              35        0  33.6     0.627   50   \n",
       "1            1       85  66              29        0  26.6     0.351   31   \n",
       "2            8      183  64               0        0  23.3     0.672   32   \n",
       "3            1       89  66              23       94  28.1     0.167   21   \n",
       "4            0      137  40              35      168  43.1     2.288   33   \n",
       "\n",
       "   class  \n",
       "0      1  \n",
       "1      0  \n",
       "2      1  \n",
       "3      0  \n",
       "4      1  "
      ]
     },
     "execution_count": 2,
     "metadata": {},
     "output_type": "execute_result"
    }
   ],
   "source": [
    "diabetes_df = pd.read_csv('Data/pima-indians-diabetes.data.csv')\n",
    "diabetes_df.head()"
   ]
  },
  {
   "cell_type": "code",
   "execution_count": 3,
   "metadata": {},
   "outputs": [
    {
     "data": {
      "text/plain": [
       "(768, 9)"
      ]
     },
     "execution_count": 3,
     "metadata": {},
     "output_type": "execute_result"
    }
   ],
   "source": [
    "diabetes_df.shape"
   ]
  },
  {
   "cell_type": "code",
   "execution_count": 4,
   "metadata": {},
   "outputs": [
    {
     "data": {
      "text/plain": [
       "['Pregnancies',\n",
       " 'Glucose',\n",
       " 'BP',\n",
       " 'Skin Thickness',\n",
       " 'Insulin',\n",
       " 'Mass',\n",
       " 'Pedigree',\n",
       " 'Age']"
      ]
     },
     "execution_count": 4,
     "metadata": {},
     "output_type": "execute_result"
    }
   ],
   "source": [
    "features = list(diabetes_df.columns[:-1])\n",
    "features"
   ]
  },
  {
   "cell_type": "code",
   "execution_count": 5,
   "metadata": {},
   "outputs": [],
   "source": [
    "def logistic_fn(x_train, y_train):\n",
    "    model = LogisticRegression(solver='liblinear')\n",
    "    model.fit(x_train, y_train)\n",
    "    \n",
    "    return model"
   ]
  },
  {
   "cell_type": "code",
   "execution_count": 6,
   "metadata": {},
   "outputs": [],
   "source": [
    "# Factor Analysis uses 'Singular Value Decomposition (SVD)' behind the scene\n",
    "from sklearn.decomposition import FactorAnalysis\n",
    "\n",
    "def do_factor_analysis(x, y, n):\n",
    "    fact_a = FactorAnalysis(n_components=n, random_state=10)\n",
    "    x_new = fact_a.fit_transform(x, y)\n",
    "    \n",
    "    return fact_a, pd.DataFrame(x_new)"
   ]
  },
  {
   "cell_type": "code",
   "execution_count": 7,
   "metadata": {},
   "outputs": [],
   "source": [
    "def compare_results(result_dict):\n",
    "    for key in result_dict:\n",
    "        print('Test: ', key)\n",
    "        \n",
    "        print('accuracy score: ',  result_dict[key]['accuracy'])\n",
    "        print('precision score: ', result_dict[key]['precision'])\n",
    "        print('recall score: ',    result_dict[key]['recall'])\n",
    "        print()"
   ]
  },
  {
   "cell_type": "code",
   "execution_count": 8,
   "metadata": {},
   "outputs": [],
   "source": [
    "def build_model(name_of_y_col, names_of_x_cols, dataset, *hyperparameters):\n",
    "    X = dataset[names_of_x_cols]\n",
    "    Y = dataset[name_of_y_col]\n",
    "    \n",
    "    fa_obj, X_new = do_factor_analysis(X, Y, *hyperparameters)\n",
    "    \n",
    "    x_train, x_test, y_train, y_test = train_test_split(X_new, Y, test_size=0.2)\n",
    "    model = logistic_fn(x_train, y_train)\n",
    "    y_pred = model.predict(x_test)\n",
    "    \n",
    "    acc = accuracy_score(y_test, y_pred)\n",
    "    prec = precision_score(y_test, y_pred)\n",
    "    recall = recall_score(y_test, y_pred)\n",
    "    \n",
    "    return {\n",
    "        'fact_a_obj': fa_obj,\n",
    "        'transform_x': X_new,\n",
    "        'accuracy': acc,\n",
    "        'precision': prec,\n",
    "        'recall': recall\n",
    "    }"
   ]
  },
  {
   "cell_type": "code",
   "execution_count": 9,
   "metadata": {},
   "outputs": [],
   "source": [
    "def visualize_results(result_dict):\n",
    "    n_components = list(range(0, 8))\n",
    "    acc = [result_dict[key]['accuracy'] for key in result_dict]\n",
    "    \n",
    "    plt.figure(figsize=(8, 4))\n",
    "    plt.plot(n_components, acc)\n",
    "    \n",
    "    pylab.ylim([0, 1])\n",
    "    \n",
    "    plt.grid(True)\n",
    "    plt.xticks(range(0, max(n_components)+1))\n",
    "    plt.xlabel('n components')\n",
    "    plt.ylabel('accuracy')"
   ]
  },
  {
   "cell_type": "code",
   "execution_count": 10,
   "metadata": {},
   "outputs": [],
   "source": [
    "result_dict = {}\n",
    "\n",
    "for i in range(1, 9):\n",
    "    result_dict['n_components - ' + str(i)] = build_model('class', features, diabetes_df, i)"
   ]
  },
  {
   "cell_type": "code",
   "execution_count": 11,
   "metadata": {},
   "outputs": [
    {
     "name": "stdout",
     "output_type": "stream",
     "text": [
      "Test:  n_components - 1\n",
      "accuracy score:  0.6818181818181818\n",
      "precision score:  0.6\n",
      "recall score:  0.06\n",
      "\n",
      "Test:  n_components - 2\n",
      "accuracy score:  0.7532467532467533\n",
      "precision score:  0.6\n",
      "recall score:  0.574468085106383\n",
      "\n",
      "Test:  n_components - 3\n",
      "accuracy score:  0.7402597402597403\n",
      "precision score:  0.6578947368421053\n",
      "recall score:  0.4807692307692308\n",
      "\n",
      "Test:  n_components - 4\n",
      "accuracy score:  0.7727272727272727\n",
      "precision score:  0.7428571428571429\n",
      "recall score:  0.5\n",
      "\n",
      "Test:  n_components - 5\n",
      "accuracy score:  0.8246753246753247\n",
      "precision score:  0.7631578947368421\n",
      "recall score:  0.6170212765957447\n",
      "\n",
      "Test:  n_components - 6\n",
      "accuracy score:  0.7402597402597403\n",
      "precision score:  0.6216216216216216\n",
      "recall score:  0.46938775510204084\n",
      "\n",
      "Test:  n_components - 7\n",
      "accuracy score:  0.7662337662337663\n",
      "precision score:  0.75\n",
      "recall score:  0.5357142857142857\n",
      "\n",
      "Test:  n_components - 8\n",
      "accuracy score:  0.7662337662337663\n",
      "precision score:  0.7\n",
      "recall score:  0.625\n",
      "\n"
     ]
    }
   ],
   "source": [
    "compare_results(result_dict)"
   ]
  },
  {
   "cell_type": "code",
   "execution_count": 12,
   "metadata": {},
   "outputs": [
    {
     "data": {
      "image/png": "[encoded data removed]",
      "text/plain": [
       "<Figure size 576x288 with 1 Axes>"
      ]
     },
     "metadata": {
      "needs_background": "light"
     },
     "output_type": "display_data"
    }
   ],
   "source": [
    "visualize_results(result_dict)"
   ]
  },
  {
   "cell_type": "markdown",
   "metadata": {},
   "source": [
    "<font color=red>__Factor Analysis__</font>"
   ]
  },
  {
   "cell_type": "code",
   "execution_count": 14,
   "metadata": {},
   "outputs": [
    {
     "name": "stdout",
     "output_type": "stream",
     "text": [
      "[1.09624791e+01 1.28409382e+01 3.64578608e+02 2.03475597e+02\n",
      " 2.01914855e+00 5.79365953e+01 1.05156608e-01 1.25615935e+02]\n"
     ]
    }
   ],
   "source": [
    "# Estimated 'noise variance' for each feature\n",
    "\n",
    "fa_obj_final = result_dict['n_components - 2']['fact_a_obj']\n",
    "print(fa_obj_final.noise_variance_)"
   ]
  },
  {
   "cell_type": "code",
   "execution_count": 15,
   "metadata": {},
   "outputs": [
    {
     "data": {
      "text/plain": [
       "Text(0, 0.5, 'Estimated Noise Variance for each feature')"
      ]
     },
     "execution_count": 15,
     "metadata": {},
     "output_type": "execute_result"
    },
    {
     "data": {
      "image/png": "[encoded data removed]",
      "text/plain": [
       "<Figure size 576x288 with 1 Axes>"
      ]
     },
     "metadata": {
      "needs_background": "light"
     },
     "output_type": "display_data"
    }
   ],
   "source": [
    "feature_num = list(range(0, 8))\n",
    "\n",
    "plt.figure(figsize=(8, 4))\n",
    "plt.plot(feature_num, fa_obj_final.noise_variance_)\n",
    "\n",
    "plt.xlabel('Feature number')\n",
    "plt.ylabel('Estimated Noise Variance for each feature')"
   ]
  },
  {
   "cell_type": "code",
   "execution_count": 28,
   "metadata": {},
   "outputs": [
    {
     "data": {
      "text/plain": [
       "(768, 2)"
      ]
     },
     "execution_count": 28,
     "metadata": {},
     "output_type": "execute_result"
    }
   ],
   "source": [
    "transform_x_final = result_dict['n_components - 2']['transform_x']\n",
    "transform_x_final.shape"
   ]
  },
  {
   "cell_type": "code",
   "execution_count": 29,
   "metadata": {},
   "outputs": [
    {
     "data": {
      "text/plain": [
       "Text(0, 0.5, 'transform_x_final[1]')"
      ]
     },
     "execution_count": 29,
     "metadata": {},
     "output_type": "execute_result"
    },
    {
     "data": {
      "image/png": "[encoded data removed]",
      "text/plain": [
       "<Figure size 576x288 with 1 Axes>"
      ]
     },
     "metadata": {
      "needs_background": "light"
     },
     "output_type": "display_data"
    }
   ],
   "source": [
    "figure = plt.figure(figsize=(8, 4))\n",
    "\n",
    "plt.scatter(transform_x_final[0], transform_x_final[1], cmap='Spectral')\n",
    "\n",
    "plt.xlabel('transform_x_final[0]')\n",
    "plt.ylabel('transform_x_final[1]')"
   ]
  },
  {
   "cell_type": "markdown",
   "metadata": {},
   "source": [
    "Observations:\n",
    "- From the scatter plot, it is clear that the transformed factors captured lot of variance"
   ]
  },
  {
   "cell_type": "code",
   "execution_count": null,
   "metadata": {},
   "outputs": [],
   "source": []
  }
 ],
 "metadata": {
  "kernelspec": {
   "display_name": "Python 3.6 (tensorflow)",
   "language": "python",
   "name": "tensorflow"
  },
  "language_info": {
   "codemirror_mode": {
    "name": "ipython",
    "version": 3
   },
   "file_extension": ".py",
   "mimetype": "text/x-python",
   "name": "python",
   "nbconvert_exporter": "python",
   "pygments_lexer": "ipython3",
   "version": "3.6.9"
  }
 },
 "nbformat": 4,
 "nbformat_minor": 2
}
