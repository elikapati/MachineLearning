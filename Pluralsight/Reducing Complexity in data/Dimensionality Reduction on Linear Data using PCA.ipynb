{
 "cells": [
  {
   "cell_type": "markdown",
   "metadata": {},
   "source": [
    "# Dimensionality Reduction on <font color=gray>Linear Data</font> using <font color=red>PCA </font>\n",
    "\n",
    "We apply __Principal Component Analysis (PCA)__ to reduce the number of features. We've already baselined with original set of features in <a href='http://localhost:8888/notebooks/Exercises/Ex_MachineLearning/Pluralsight/Reducing%20Complexity%20in%20data/Baseline%20Regression%20Model.ipynb'/>Baseline Regression Model</a>. After reducing the features using PCA, we fit a regression model to the data and compare with baseline.\n",
    "\n",
    "__<font color=red>Principal Component Analysis (PCA)</font>__ chooses axis to __maximize the variance__ in the underlying __data__.\n",
    "\n",
    "__Linear Discriminant Analysis (LDA)__ re-orients data to __preserve__ the __separation__ of __clustered data points__. It is done by __maximizing the distance__ between points of different __categories__.\n",
    "\n",
    "<img src='Data/PCA vs LDA.png' width=500/>"
   ]
  },
  {
   "cell_type": "markdown",
   "metadata": {},
   "source": [
    "<img src='Data/Projection in Dimensionality Reduction.png' width=500/>"
   ]
  },
  {
   "cell_type": "code",
   "execution_count": 1,
   "metadata": {},
   "outputs": [],
   "source": [
    "import pylab\n",
    "import numpy as np\n",
    "import pandas as pd\n",
    "import matplotlib.pyplot as plt\n",
    "\n",
    "from sklearn.model_selection import train_test_split\n",
    "from sklearn.linear_model import LinearRegression\n",
    "from sklearn.metrics import r2_score\n",
    "\n",
    "import statsmodels.api as sm"
   ]
  },
  {
   "cell_type": "code",
   "execution_count": 2,
   "metadata": {},
   "outputs": [
    {
     "data": {
      "text/html": [
       "<div>\n",
       "<style scoped>\n",
       "    .dataframe tbody tr th:only-of-type {\n",
       "        vertical-align: middle;\n",
       "    }\n",
       "\n",
       "    .dataframe tbody tr th {\n",
       "        vertical-align: top;\n",
       "    }\n",
       "\n",
       "    .dataframe thead th {\n",
       "        text-align: right;\n",
       "    }\n",
       "</style>\n",
       "<table border=\"1\" class=\"dataframe\">\n",
       "  <thead>\n",
       "    <tr style=\"text-align: right;\">\n",
       "      <th></th>\n",
       "      <th>crime rate</th>\n",
       "      <th>residential land zone</th>\n",
       "      <th>business acres</th>\n",
       "      <th>Charles River</th>\n",
       "      <th>nitric oxides</th>\n",
       "      <th>number of rooms</th>\n",
       "      <th>age</th>\n",
       "      <th>distances to employment centres</th>\n",
       "      <th>accessibility to highways</th>\n",
       "      <th>property-tax</th>\n",
       "      <th>pupil-teacher ratio</th>\n",
       "      <th>lower income levels</th>\n",
       "      <th>Median Home Value</th>\n",
       "    </tr>\n",
       "  </thead>\n",
       "  <tbody>\n",
       "    <tr>\n",
       "      <th>0</th>\n",
       "      <td>0.00632</td>\n",
       "      <td>18.0</td>\n",
       "      <td>2.31</td>\n",
       "      <td>0.0</td>\n",
       "      <td>0.538</td>\n",
       "      <td>6.575</td>\n",
       "      <td>65.2</td>\n",
       "      <td>4.0900</td>\n",
       "      <td>1.0</td>\n",
       "      <td>296.0</td>\n",
       "      <td>15.3</td>\n",
       "      <td>396.90</td>\n",
       "      <td>4.98</td>\n",
       "    </tr>\n",
       "    <tr>\n",
       "      <th>1</th>\n",
       "      <td>0.02731</td>\n",
       "      <td>0.0</td>\n",
       "      <td>7.07</td>\n",
       "      <td>0.0</td>\n",
       "      <td>0.469</td>\n",
       "      <td>6.421</td>\n",
       "      <td>78.9</td>\n",
       "      <td>4.9671</td>\n",
       "      <td>2.0</td>\n",
       "      <td>242.0</td>\n",
       "      <td>17.8</td>\n",
       "      <td>396.90</td>\n",
       "      <td>9.14</td>\n",
       "    </tr>\n",
       "    <tr>\n",
       "      <th>2</th>\n",
       "      <td>0.02729</td>\n",
       "      <td>0.0</td>\n",
       "      <td>7.07</td>\n",
       "      <td>0.0</td>\n",
       "      <td>0.469</td>\n",
       "      <td>7.185</td>\n",
       "      <td>61.1</td>\n",
       "      <td>4.9671</td>\n",
       "      <td>2.0</td>\n",
       "      <td>242.0</td>\n",
       "      <td>17.8</td>\n",
       "      <td>392.83</td>\n",
       "      <td>4.03</td>\n",
       "    </tr>\n",
       "    <tr>\n",
       "      <th>3</th>\n",
       "      <td>0.03237</td>\n",
       "      <td>0.0</td>\n",
       "      <td>2.18</td>\n",
       "      <td>0.0</td>\n",
       "      <td>0.458</td>\n",
       "      <td>6.998</td>\n",
       "      <td>45.8</td>\n",
       "      <td>6.0622</td>\n",
       "      <td>3.0</td>\n",
       "      <td>222.0</td>\n",
       "      <td>18.7</td>\n",
       "      <td>394.63</td>\n",
       "      <td>2.94</td>\n",
       "    </tr>\n",
       "    <tr>\n",
       "      <th>4</th>\n",
       "      <td>0.06905</td>\n",
       "      <td>0.0</td>\n",
       "      <td>2.18</td>\n",
       "      <td>0.0</td>\n",
       "      <td>0.458</td>\n",
       "      <td>7.147</td>\n",
       "      <td>54.2</td>\n",
       "      <td>6.0622</td>\n",
       "      <td>3.0</td>\n",
       "      <td>222.0</td>\n",
       "      <td>18.7</td>\n",
       "      <td>396.90</td>\n",
       "      <td>5.33</td>\n",
       "    </tr>\n",
       "  </tbody>\n",
       "</table>\n",
       "</div>"
      ],
      "text/plain": [
       "   crime rate  residential land zone  business acres  Charles River  \\\n",
       "0     0.00632                   18.0            2.31            0.0   \n",
       "1     0.02731                    0.0            7.07            0.0   \n",
       "2     0.02729                    0.0            7.07            0.0   \n",
       "3     0.03237                    0.0            2.18            0.0   \n",
       "4     0.06905                    0.0            2.18            0.0   \n",
       "\n",
       "   nitric oxides  number of rooms   age  distances to employment centres  \\\n",
       "0          0.538            6.575  65.2                           4.0900   \n",
       "1          0.469            6.421  78.9                           4.9671   \n",
       "2          0.469            7.185  61.1                           4.9671   \n",
       "3          0.458            6.998  45.8                           6.0622   \n",
       "4          0.458            7.147  54.2                           6.0622   \n",
       "\n",
       "   accessibility to highways  property-tax  pupil-teacher ratio  \\\n",
       "0                        1.0         296.0                 15.3   \n",
       "1                        2.0         242.0                 17.8   \n",
       "2                        2.0         242.0                 17.8   \n",
       "3                        3.0         222.0                 18.7   \n",
       "4                        3.0         222.0                 18.7   \n",
       "\n",
       "   lower income levels  Median Home Value  \n",
       "0               396.90               4.98  \n",
       "1               396.90               9.14  \n",
       "2               392.83               4.03  \n",
       "3               394.63               2.94  \n",
       "4               396.90               5.33  "
      ]
     },
     "execution_count": 2,
     "metadata": {},
     "output_type": "execute_result"
    }
   ],
   "source": [
    "boston_df = pd.read_csv('Data/boston.csv')\n",
    "boston_df.head()"
   ]
  },
  {
   "cell_type": "code",
   "execution_count": 3,
   "metadata": {},
   "outputs": [
    {
     "data": {
      "text/plain": [
       "['crime rate',\n",
       " 'residential land zone',\n",
       " 'business acres',\n",
       " 'Charles River',\n",
       " 'nitric oxides',\n",
       " 'number of rooms',\n",
       " 'age',\n",
       " 'distances to employment centres',\n",
       " 'accessibility to highways',\n",
       " 'property-tax',\n",
       " 'pupil-teacher ratio',\n",
       " 'lower income levels']"
      ]
     },
     "execution_count": 3,
     "metadata": {},
     "output_type": "execute_result"
    }
   ],
   "source": [
    "features = list(boston_df.columns[:-1])\n",
    "features"
   ]
  },
  {
   "cell_type": "code",
   "execution_count": 4,
   "metadata": {},
   "outputs": [
    {
     "data": {
      "text/plain": [
       "12"
      ]
     },
     "execution_count": 4,
     "metadata": {},
     "output_type": "execute_result"
    }
   ],
   "source": [
    "len(features)"
   ]
  },
  {
   "cell_type": "code",
   "execution_count": 5,
   "metadata": {},
   "outputs": [],
   "source": [
    "from sklearn.decomposition import PCA\n",
    "\n",
    "# n - no. of features PCA to retain\n",
    "def apply_pca(X, n, add_constant=False):\n",
    "    pca = PCA(n_components=n)\n",
    "    x_new = pca.fit_transform(X)\n",
    "    \n",
    "    if (add_constant is True):\n",
    "        x_new = sm.add_constant(x_new)\n",
    "\n",
    "    return pca, pd.DataFrame(x_new)"
   ]
  },
  {
   "cell_type": "code",
   "execution_count": 6,
   "metadata": {},
   "outputs": [],
   "source": [
    "pca, _ = apply_pca(boston_df[features], len(features))"
   ]
  },
  {
   "cell_type": "markdown",
   "metadata": {},
   "source": [
    "The __Explained Variance Ratio__ shows how much of __variance is captured__ in each __principal component__."
   ]
  },
  {
   "cell_type": "code",
   "execution_count": 7,
   "metadata": {},
   "outputs": [
    {
     "name": "stdout",
     "output_type": "stream",
     "text": [
      "Explained Variance =  [8.06472319e-01 1.63263761e-01 2.11990226e-02 6.95326869e-03\n",
      " 1.26735934e-03 4.63799690e-04 2.49006281e-04 8.91418784e-05\n",
      " 3.11906967e-05 9.47629975e-06 1.57387324e-06 8.01598537e-08]\n"
     ]
    }
   ],
   "source": [
    "print('Explained Variance = ', pca.explained_variance_ratio_)"
   ]
  },
  {
   "cell_type": "markdown",
   "metadata": {},
   "source": [
    "Obseravations:\n",
    "- As we have 12 features, we have 12 principal components"
   ]
  },
  {
   "cell_type": "code",
   "execution_count": 8,
   "metadata": {},
   "outputs": [
    {
     "data": {
      "text/plain": [
       "1.0"
      ]
     },
     "execution_count": 8,
     "metadata": {},
     "output_type": "execute_result"
    }
   ],
   "source": [
    "sum(pca.explained_variance_ratio_)"
   ]
  },
  {
   "cell_type": "code",
   "execution_count": 29,
   "metadata": {},
   "outputs": [
    {
     "data": {
      "text/plain": [
       "([<matplotlib.axis.XTick at 0x27a51ddaeb8>,\n",
       "  <matplotlib.axis.XTick at 0x27a51ddae80>,\n",
       "  <matplotlib.axis.XTick at 0x27a51dda5c0>,\n",
       "  <matplotlib.axis.XTick at 0x27a51f146d8>,\n",
       "  <matplotlib.axis.XTick at 0x27a51f14b70>,\n",
       "  <matplotlib.axis.XTick at 0x27a51f1a0b8>,\n",
       "  <matplotlib.axis.XTick at 0x27a51f1a4e0>,\n",
       "  <matplotlib.axis.XTick at 0x27a51f1a978>,\n",
       "  <matplotlib.axis.XTick at 0x27a51f1ae80>,\n",
       "  <matplotlib.axis.XTick at 0x27a51f24358>,\n",
       "  <matplotlib.axis.XTick at 0x27a51f247f0>,\n",
       "  <matplotlib.axis.XTick at 0x27a51f1af60>],\n",
       " <a list of 12 Text major ticklabel objects>)"
      ]
     },
     "execution_count": 29,
     "metadata": {},
     "output_type": "execute_result"
    },
    {
     "data": {
      "image/png": "[encoded data removed]",
      "text/plain": [
       "<Figure size 576x288 with 1 Axes>"
      ]
     },
     "metadata": {
      "needs_background": "light"
     },
     "output_type": "display_data"
    }
   ],
   "source": [
    "plt.figure(figsize=(8, 4))\n",
    "plt.plot(np.cumsum(pca.explained_variance_ratio_))\n",
    "\n",
    "plt.grid(True)\n",
    "plt.xlabel('n components')\n",
    "plt.ylabel('cumulative variance')\n",
    "plt.xticks(range(0, len(pca.explained_variance_ratio_)))"
   ]
  },
  {
   "cell_type": "markdown",
   "metadata": {},
   "source": [
    "Observations:\n",
    "- First 3 principal components captured majority of variance"
   ]
  },
  {
   "cell_type": "code",
   "execution_count": 10,
   "metadata": {},
   "outputs": [],
   "source": [
    "def build_model(regression_fn, target, features, dataset, *hyperparameters):\n",
    "    X = dataset[features]\n",
    "    Y = dataset[target]\n",
    "    \n",
    "    _, X_new = apply_pca(X, *hyperparameters)\n",
    "    \n",
    "    x_train, x_test, y_train, y_test = train_test_split(X, Y, test_size=0.2)\n",
    "    \n",
    "    model = regression_fn(x_train, y_train)\n",
    "    y_pred = model.predict(x_test)\n",
    "    \n",
    "    return {\n",
    "        'x_initial'   : X,\n",
    "        'x_transform' : X_new,\n",
    "        'x_train'     : x_train,\n",
    "        'x_test'      : x_test,\n",
    "        'y_train'     : y_train,\n",
    "        'y_test'      : y_test,\n",
    "        'y_pred'      : y_pred,\n",
    "        'model'       : model\n",
    "    }    "
   ]
  },
  {
   "cell_type": "markdown",
   "metadata": {},
   "source": [
    "__Ordinary Least Squares(OLS)__ Regression model from __Statsmodel__\n",
    "\n",
    "- It is a technique of fitting a regression to data __analytically__ (not using machine learning techniques)"
   ]
  },
  {
   "cell_type": "code",
   "execution_count": 11,
   "metadata": {},
   "outputs": [],
   "source": [
    "def ols_reg(x_train, y_train):\n",
    "    ols = sm.OLS(y_train, x_train)\n",
    "    model = ols.fit()\n",
    "\n",
    "    return model"
   ]
  },
  {
   "cell_type": "markdown",
   "metadata": {},
   "source": [
    "__Linear Regression__ model from __Scikit Learn__\n",
    "\n",
    "- It is a technique of fitting a regression to data using __machine learning__ techniques"
   ]
  },
  {
   "cell_type": "code",
   "execution_count": 12,
   "metadata": {},
   "outputs": [],
   "source": [
    "def linear_reg(x_train, y_train):\n",
    "    lr = LinearRegression()\n",
    "    model = lr.fit(x_train, y_train)\n",
    "\n",
    "    return model"
   ]
  },
  {
   "cell_type": "markdown",
   "metadata": {},
   "source": [
    "<font color=red>Let us fit __Ordinary Least Squares (OLS)__ regression and __calculate the metrics__ on reduced features using __PCA__ </font>"
   ]
  },
  {
   "cell_type": "code",
   "execution_count": 13,
   "metadata": {},
   "outputs": [],
   "source": [
    "model_params = {}\n",
    "\n",
    "# 4 refers to the no. of components which cover maximum variance underlying data\n",
    "# True indicates 'add constant' (applicable for ols regression but not for scikit learn's linear regression)\n",
    "\n",
    "model_params['statsmodel_reg'] = build_model(ols_reg, 'Median Home Value', features, boston_df, 4, True)"
   ]
  },
  {
   "cell_type": "markdown",
   "metadata": {},
   "source": [
    "<img src='Data/pca_components.png' width=500/>"
   ]
  },
  {
   "cell_type": "code",
   "execution_count": 14,
   "metadata": {},
   "outputs": [],
   "source": [
    "# Collect parameters\n",
    "\n",
    "model       = model_params['statsmodel_reg']['model']\n",
    "x_initial   = model_params['statsmodel_reg']['x_initial']\n",
    "x_transform = model_params['statsmodel_reg']['x_transform']\n",
    "x_train     = model_params['statsmodel_reg']['x_train']\n",
    "x_test      = model_params['statsmodel_reg']['x_test']\n",
    "y_train     = model_params['statsmodel_reg']['y_train']\n",
    "y_test      = model_params['statsmodel_reg']['y_test']\n",
    "y_pred      = model_params['statsmodel_reg']['y_pred']"
   ]
  },
  {
   "cell_type": "code",
   "execution_count": 15,
   "metadata": {},
   "outputs": [
    {
     "data": {
      "text/plain": [
       "(506, 5)"
      ]
     },
     "execution_count": 15,
     "metadata": {},
     "output_type": "execute_result"
    }
   ],
   "source": [
    "# Note that out of 5 features \n",
    "#     4 are features (as we've hinted through principal components as 4)\n",
    "#     1 is  extra constant that we've added for OLS\n",
    "x_transform.shape"
   ]
  },
  {
   "cell_type": "code",
   "execution_count": 16,
   "metadata": {},
   "outputs": [
    {
     "data": {
      "text/html": [
       "<div>\n",
       "<style scoped>\n",
       "    .dataframe tbody tr th:only-of-type {\n",
       "        vertical-align: middle;\n",
       "    }\n",
       "\n",
       "    .dataframe tbody tr th {\n",
       "        vertical-align: top;\n",
       "    }\n",
       "\n",
       "    .dataframe thead th {\n",
       "        text-align: right;\n",
       "    }\n",
       "</style>\n",
       "<table border=\"1\" class=\"dataframe\">\n",
       "  <thead>\n",
       "    <tr style=\"text-align: right;\">\n",
       "      <th></th>\n",
       "      <th>crime rate</th>\n",
       "      <th>residential land zone</th>\n",
       "      <th>business acres</th>\n",
       "      <th>Charles River</th>\n",
       "      <th>nitric oxides</th>\n",
       "      <th>number of rooms</th>\n",
       "      <th>age</th>\n",
       "      <th>distances to employment centres</th>\n",
       "      <th>accessibility to highways</th>\n",
       "      <th>property-tax</th>\n",
       "      <th>pupil-teacher ratio</th>\n",
       "      <th>lower income levels</th>\n",
       "    </tr>\n",
       "  </thead>\n",
       "  <tbody>\n",
       "    <tr>\n",
       "      <th>0</th>\n",
       "      <td>0.00632</td>\n",
       "      <td>18.0</td>\n",
       "      <td>2.31</td>\n",
       "      <td>0.0</td>\n",
       "      <td>0.538</td>\n",
       "      <td>6.575</td>\n",
       "      <td>65.2</td>\n",
       "      <td>4.0900</td>\n",
       "      <td>1.0</td>\n",
       "      <td>296.0</td>\n",
       "      <td>15.3</td>\n",
       "      <td>396.90</td>\n",
       "    </tr>\n",
       "    <tr>\n",
       "      <th>1</th>\n",
       "      <td>0.02731</td>\n",
       "      <td>0.0</td>\n",
       "      <td>7.07</td>\n",
       "      <td>0.0</td>\n",
       "      <td>0.469</td>\n",
       "      <td>6.421</td>\n",
       "      <td>78.9</td>\n",
       "      <td>4.9671</td>\n",
       "      <td>2.0</td>\n",
       "      <td>242.0</td>\n",
       "      <td>17.8</td>\n",
       "      <td>396.90</td>\n",
       "    </tr>\n",
       "    <tr>\n",
       "      <th>2</th>\n",
       "      <td>0.02729</td>\n",
       "      <td>0.0</td>\n",
       "      <td>7.07</td>\n",
       "      <td>0.0</td>\n",
       "      <td>0.469</td>\n",
       "      <td>7.185</td>\n",
       "      <td>61.1</td>\n",
       "      <td>4.9671</td>\n",
       "      <td>2.0</td>\n",
       "      <td>242.0</td>\n",
       "      <td>17.8</td>\n",
       "      <td>392.83</td>\n",
       "    </tr>\n",
       "    <tr>\n",
       "      <th>3</th>\n",
       "      <td>0.03237</td>\n",
       "      <td>0.0</td>\n",
       "      <td>2.18</td>\n",
       "      <td>0.0</td>\n",
       "      <td>0.458</td>\n",
       "      <td>6.998</td>\n",
       "      <td>45.8</td>\n",
       "      <td>6.0622</td>\n",
       "      <td>3.0</td>\n",
       "      <td>222.0</td>\n",
       "      <td>18.7</td>\n",
       "      <td>394.63</td>\n",
       "    </tr>\n",
       "    <tr>\n",
       "      <th>4</th>\n",
       "      <td>0.06905</td>\n",
       "      <td>0.0</td>\n",
       "      <td>2.18</td>\n",
       "      <td>0.0</td>\n",
       "      <td>0.458</td>\n",
       "      <td>7.147</td>\n",
       "      <td>54.2</td>\n",
       "      <td>6.0622</td>\n",
       "      <td>3.0</td>\n",
       "      <td>222.0</td>\n",
       "      <td>18.7</td>\n",
       "      <td>396.90</td>\n",
       "    </tr>\n",
       "    <tr>\n",
       "      <th>...</th>\n",
       "      <td>...</td>\n",
       "      <td>...</td>\n",
       "      <td>...</td>\n",
       "      <td>...</td>\n",
       "      <td>...</td>\n",
       "      <td>...</td>\n",
       "      <td>...</td>\n",
       "      <td>...</td>\n",
       "      <td>...</td>\n",
       "      <td>...</td>\n",
       "      <td>...</td>\n",
       "      <td>...</td>\n",
       "    </tr>\n",
       "    <tr>\n",
       "      <th>501</th>\n",
       "      <td>0.06263</td>\n",
       "      <td>0.0</td>\n",
       "      <td>11.93</td>\n",
       "      <td>0.0</td>\n",
       "      <td>0.573</td>\n",
       "      <td>6.593</td>\n",
       "      <td>69.1</td>\n",
       "      <td>2.4786</td>\n",
       "      <td>1.0</td>\n",
       "      <td>273.0</td>\n",
       "      <td>21.0</td>\n",
       "      <td>391.99</td>\n",
       "    </tr>\n",
       "    <tr>\n",
       "      <th>502</th>\n",
       "      <td>0.04527</td>\n",
       "      <td>0.0</td>\n",
       "      <td>11.93</td>\n",
       "      <td>0.0</td>\n",
       "      <td>0.573</td>\n",
       "      <td>6.120</td>\n",
       "      <td>76.7</td>\n",
       "      <td>2.2875</td>\n",
       "      <td>1.0</td>\n",
       "      <td>273.0</td>\n",
       "      <td>21.0</td>\n",
       "      <td>396.90</td>\n",
       "    </tr>\n",
       "    <tr>\n",
       "      <th>503</th>\n",
       "      <td>0.06076</td>\n",
       "      <td>0.0</td>\n",
       "      <td>11.93</td>\n",
       "      <td>0.0</td>\n",
       "      <td>0.573</td>\n",
       "      <td>6.976</td>\n",
       "      <td>91.0</td>\n",
       "      <td>2.1675</td>\n",
       "      <td>1.0</td>\n",
       "      <td>273.0</td>\n",
       "      <td>21.0</td>\n",
       "      <td>396.90</td>\n",
       "    </tr>\n",
       "    <tr>\n",
       "      <th>504</th>\n",
       "      <td>0.10959</td>\n",
       "      <td>0.0</td>\n",
       "      <td>11.93</td>\n",
       "      <td>0.0</td>\n",
       "      <td>0.573</td>\n",
       "      <td>6.794</td>\n",
       "      <td>89.3</td>\n",
       "      <td>2.3889</td>\n",
       "      <td>1.0</td>\n",
       "      <td>273.0</td>\n",
       "      <td>21.0</td>\n",
       "      <td>393.45</td>\n",
       "    </tr>\n",
       "    <tr>\n",
       "      <th>505</th>\n",
       "      <td>0.04741</td>\n",
       "      <td>0.0</td>\n",
       "      <td>11.93</td>\n",
       "      <td>0.0</td>\n",
       "      <td>0.573</td>\n",
       "      <td>6.030</td>\n",
       "      <td>80.8</td>\n",
       "      <td>2.5050</td>\n",
       "      <td>1.0</td>\n",
       "      <td>273.0</td>\n",
       "      <td>21.0</td>\n",
       "      <td>396.90</td>\n",
       "    </tr>\n",
       "  </tbody>\n",
       "</table>\n",
       "<p>506 rows × 12 columns</p>\n",
       "</div>"
      ],
      "text/plain": [
       "     crime rate  residential land zone  business acres  Charles River  \\\n",
       "0       0.00632                   18.0            2.31            0.0   \n",
       "1       0.02731                    0.0            7.07            0.0   \n",
       "2       0.02729                    0.0            7.07            0.0   \n",
       "3       0.03237                    0.0            2.18            0.0   \n",
       "4       0.06905                    0.0            2.18            0.0   \n",
       "..          ...                    ...             ...            ...   \n",
       "501     0.06263                    0.0           11.93            0.0   \n",
       "502     0.04527                    0.0           11.93            0.0   \n",
       "503     0.06076                    0.0           11.93            0.0   \n",
       "504     0.10959                    0.0           11.93            0.0   \n",
       "505     0.04741                    0.0           11.93            0.0   \n",
       "\n",
       "     nitric oxides  number of rooms   age  distances to employment centres  \\\n",
       "0            0.538            6.575  65.2                           4.0900   \n",
       "1            0.469            6.421  78.9                           4.9671   \n",
       "2            0.469            7.185  61.1                           4.9671   \n",
       "3            0.458            6.998  45.8                           6.0622   \n",
       "4            0.458            7.147  54.2                           6.0622   \n",
       "..             ...              ...   ...                              ...   \n",
       "501          0.573            6.593  69.1                           2.4786   \n",
       "502          0.573            6.120  76.7                           2.2875   \n",
       "503          0.573            6.976  91.0                           2.1675   \n",
       "504          0.573            6.794  89.3                           2.3889   \n",
       "505          0.573            6.030  80.8                           2.5050   \n",
       "\n",
       "     accessibility to highways  property-tax  pupil-teacher ratio  \\\n",
       "0                          1.0         296.0                 15.3   \n",
       "1                          2.0         242.0                 17.8   \n",
       "2                          2.0         242.0                 17.8   \n",
       "3                          3.0         222.0                 18.7   \n",
       "4                          3.0         222.0                 18.7   \n",
       "..                         ...           ...                  ...   \n",
       "501                        1.0         273.0                 21.0   \n",
       "502                        1.0         273.0                 21.0   \n",
       "503                        1.0         273.0                 21.0   \n",
       "504                        1.0         273.0                 21.0   \n",
       "505                        1.0         273.0                 21.0   \n",
       "\n",
       "     lower income levels  \n",
       "0                 396.90  \n",
       "1                 396.90  \n",
       "2                 392.83  \n",
       "3                 394.63  \n",
       "4                 396.90  \n",
       "..                   ...  \n",
       "501               391.99  \n",
       "502               396.90  \n",
       "503               396.90  \n",
       "504               393.45  \n",
       "505               396.90  \n",
       "\n",
       "[506 rows x 12 columns]"
      ]
     },
     "execution_count": 16,
     "metadata": {},
     "output_type": "execute_result"
    }
   ],
   "source": [
    "# Original feature set\n",
    "\n",
    "x_initial"
   ]
  },
  {
   "cell_type": "code",
   "execution_count": 17,
   "metadata": {},
   "outputs": [
    {
     "data": {
      "text/html": [
       "<div>\n",
       "<style scoped>\n",
       "    .dataframe tbody tr th:only-of-type {\n",
       "        vertical-align: middle;\n",
       "    }\n",
       "\n",
       "    .dataframe tbody tr th {\n",
       "        vertical-align: top;\n",
       "    }\n",
       "\n",
       "    .dataframe thead th {\n",
       "        text-align: right;\n",
       "    }\n",
       "</style>\n",
       "<table border=\"1\" class=\"dataframe\">\n",
       "  <thead>\n",
       "    <tr style=\"text-align: right;\">\n",
       "      <th></th>\n",
       "      <th>0</th>\n",
       "      <th>1</th>\n",
       "      <th>2</th>\n",
       "      <th>3</th>\n",
       "      <th>4</th>\n",
       "    </tr>\n",
       "  </thead>\n",
       "  <tbody>\n",
       "    <tr>\n",
       "      <th>0</th>\n",
       "      <td>1.0</td>\n",
       "      <td>-119.674346</td>\n",
       "      <td>-5.536052</td>\n",
       "      <td>-3.628084</td>\n",
       "      <td>5.544264</td>\n",
       "    </tr>\n",
       "    <tr>\n",
       "      <th>1</th>\n",
       "      <td>1.0</td>\n",
       "      <td>-168.856073</td>\n",
       "      <td>10.106239</td>\n",
       "      <td>-30.875927</td>\n",
       "      <td>1.470963</td>\n",
       "    </tr>\n",
       "    <tr>\n",
       "      <th>2</th>\n",
       "      <td>1.0</td>\n",
       "      <td>-169.159750</td>\n",
       "      <td>14.101220</td>\n",
       "      <td>-17.285658</td>\n",
       "      <td>-9.967382</td>\n",
       "    </tr>\n",
       "    <tr>\n",
       "      <th>3</th>\n",
       "      <td>1.0</td>\n",
       "      <td>-190.058669</td>\n",
       "      <td>18.326938</td>\n",
       "      <td>-7.098267</td>\n",
       "      <td>-19.376160</td>\n",
       "    </tr>\n",
       "    <tr>\n",
       "      <th>4</th>\n",
       "      <td>1.0</td>\n",
       "      <td>-190.016627</td>\n",
       "      <td>16.108056</td>\n",
       "      <td>-13.517569</td>\n",
       "      <td>-13.973011</td>\n",
       "    </tr>\n",
       "    <tr>\n",
       "      <th>...</th>\n",
       "      <td>...</td>\n",
       "      <td>...</td>\n",
       "      <td>...</td>\n",
       "      <td>...</td>\n",
       "      <td>...</td>\n",
       "    </tr>\n",
       "    <tr>\n",
       "      <th>501</th>\n",
       "      <td>1.0</td>\n",
       "      <td>-138.667327</td>\n",
       "      <td>5.774211</td>\n",
       "      <td>-21.054744</td>\n",
       "      <td>-5.596122</td>\n",
       "    </tr>\n",
       "    <tr>\n",
       "      <th>502</th>\n",
       "      <td>1.0</td>\n",
       "      <td>-139.460714</td>\n",
       "      <td>1.034800</td>\n",
       "      <td>-26.937597</td>\n",
       "      <td>-0.702693</td>\n",
       "    </tr>\n",
       "    <tr>\n",
       "      <th>503</th>\n",
       "      <td>1.0</td>\n",
       "      <td>-138.264871</td>\n",
       "      <td>0.952609</td>\n",
       "      <td>-37.781254</td>\n",
       "      <td>8.483775</td>\n",
       "    </tr>\n",
       "    <tr>\n",
       "      <th>504</th>\n",
       "      <td>1.0</td>\n",
       "      <td>-137.401952</td>\n",
       "      <td>4.261812</td>\n",
       "      <td>-36.406319</td>\n",
       "      <td>7.380573</td>\n",
       "    </tr>\n",
       "    <tr>\n",
       "      <th>505</th>\n",
       "      <td>1.0</td>\n",
       "      <td>-139.119179</td>\n",
       "      <td>1.011186</td>\n",
       "      <td>-30.036691</td>\n",
       "      <td>1.929669</td>\n",
       "    </tr>\n",
       "  </tbody>\n",
       "</table>\n",
       "<p>506 rows × 5 columns</p>\n",
       "</div>"
      ],
      "text/plain": [
       "       0           1          2          3          4\n",
       "0    1.0 -119.674346  -5.536052  -3.628084   5.544264\n",
       "1    1.0 -168.856073  10.106239 -30.875927   1.470963\n",
       "2    1.0 -169.159750  14.101220 -17.285658  -9.967382\n",
       "3    1.0 -190.058669  18.326938  -7.098267 -19.376160\n",
       "4    1.0 -190.016627  16.108056 -13.517569 -13.973011\n",
       "..   ...         ...        ...        ...        ...\n",
       "501  1.0 -138.667327   5.774211 -21.054744  -5.596122\n",
       "502  1.0 -139.460714   1.034800 -26.937597  -0.702693\n",
       "503  1.0 -138.264871   0.952609 -37.781254   8.483775\n",
       "504  1.0 -137.401952   4.261812 -36.406319   7.380573\n",
       "505  1.0 -139.119179   1.011186 -30.036691   1.929669\n",
       "\n",
       "[506 rows x 5 columns]"
      ]
     },
     "execution_count": 17,
     "metadata": {},
     "output_type": "execute_result"
    }
   ],
   "source": [
    "# Transformed feature set (Note the 0th feature is the extra constant that we added as a requirement of OLS)\n",
    "\n",
    "x_transform"
   ]
  },
  {
   "cell_type": "markdown",
   "metadata": {},
   "source": [
    "<font color=red>I think Janani Ravi skipped showing which features are retained by the PCA and continued comparing the distribution of data in the orginal set and transformed set. In my opinion we need to know which features are retained and should compare the corresponding feature sets.</font>"
   ]
  },
  {
   "cell_type": "code",
   "execution_count": 18,
   "metadata": {},
   "outputs": [
    {
     "data": {
      "text/plain": [
       "Text(0, 0.5, 'X[1] Residential Land Zone')"
      ]
     },
     "execution_count": 18,
     "metadata": {},
     "output_type": "execute_result"
    },
    {
     "data": {
      "image/png": "[encoded data removed]",
      "text/plain": [
       "<Figure size 576x288 with 1 Axes>"
      ]
     },
     "metadata": {
      "needs_background": "light"
     },
     "output_type": "display_data"
    }
   ],
   "source": [
    "# A glance over orginal feature distribution of 'Crime Rate' and 'Residential Land Zone'\n",
    "\n",
    "fig, ax = plt.subplots(figsize=(8, 4))\n",
    "\n",
    "ax.scatter(x_initial['crime rate'], x_initial['residential land zone'], cmap='Spectral')\n",
    "\n",
    "plt.xlabel('X[0] Crime Rate')\n",
    "plt.ylabel('X[1] Residential Land Zone')"
   ]
  },
  {
   "cell_type": "markdown",
   "metadata": {},
   "source": [
    "Observations:\n",
    "- We can find that these two features are clustered together"
   ]
  },
  {
   "cell_type": "code",
   "execution_count": 19,
   "metadata": {},
   "outputs": [
    {
     "data": {
      "text/plain": [
       "Text(0, 0.5, 'Principal Component 2')"
      ]
     },
     "execution_count": 19,
     "metadata": {},
     "output_type": "execute_result"
    },
    {
     "data": {
      "image/png": "[encoded data removed]",
      "text/plain": [
       "<Figure size 576x288 with 1 Axes>"
      ]
     },
     "metadata": {
      "needs_background": "light"
     },
     "output_type": "display_data"
    }
   ],
   "source": [
    "# A glance over transformed feature distribution of 'first two principal components'\n",
    "# Note: x_transform[0] is the constant that we've added to OLS\n",
    "\n",
    "fig, ax = plt.subplots(figsize=(8, 4))\n",
    "\n",
    "ax.scatter(x_transform[1], x_transform[2], cmap='Spectral')\n",
    "\n",
    "plt.xlabel('Principal Component 1')\n",
    "plt.ylabel('Principal Component 2')"
   ]
  },
  {
   "cell_type": "markdown",
   "metadata": {},
   "source": [
    "Observations:\n",
    "- Notice that the data is distributed widely indicating that lot of variance is captured"
   ]
  },
  {
   "cell_type": "code",
   "execution_count": 20,
   "metadata": {},
   "outputs": [
    {
     "name": "stdout",
     "output_type": "stream",
     "text": [
      "R squared:  0.9229677001048389\n",
      "Adjusted R squared:  0.9206095684753952\n"
     ]
    }
   ],
   "source": [
    "# Let us now see the metrics for OLS\n",
    "\n",
    "print('R squared: ', model.rsquared)\n",
    "print('Adjusted R squared: ', model.rsquared_adj)"
   ]
  },
  {
   "cell_type": "markdown",
   "metadata": {},
   "source": [
    "<font color=red>Let us fit __Scikit Learn's Linear Regression__ and __calculate the metrics__ on reduced features using __PCA__ </font>"
   ]
  },
  {
   "cell_type": "code",
   "execution_count": 21,
   "metadata": {},
   "outputs": [],
   "source": [
    "# 4 refers to the no. of components which cover maximum variance underlying data\n",
    "\n",
    "model_params['sklearn_reg'] = build_model(linear_reg, 'Median Home Value', features, boston_df, 4)"
   ]
  },
  {
   "cell_type": "markdown",
   "metadata": {},
   "source": [
    "<img src='Data/pca_components.png' width=500/>"
   ]
  },
  {
   "cell_type": "code",
   "execution_count": 22,
   "metadata": {},
   "outputs": [],
   "source": [
    "# Collect parameters\n",
    "\n",
    "model       = model_params['sklearn_reg']['model']\n",
    "x_initial   = model_params['sklearn_reg']['x_initial']\n",
    "x_transform = model_params['sklearn_reg']['x_transform']\n",
    "x_train     = model_params['sklearn_reg']['x_train']\n",
    "x_test      = model_params['sklearn_reg']['x_test']\n",
    "y_train     = model_params['sklearn_reg']['y_train']\n",
    "y_test      = model_params['sklearn_reg']['y_test']\n",
    "y_pred      = model_params['sklearn_reg']['y_pred']"
   ]
  },
  {
   "cell_type": "code",
   "execution_count": 23,
   "metadata": {},
   "outputs": [
    {
     "data": {
      "text/plain": [
       "(506, 4)"
      ]
     },
     "execution_count": 23,
     "metadata": {},
     "output_type": "execute_result"
    }
   ],
   "source": [
    "# Note that 4 are features (as we've hinted through principal components as 4)\n",
    "\n",
    "x_transform.shape"
   ]
  },
  {
   "cell_type": "code",
   "execution_count": 24,
   "metadata": {},
   "outputs": [
    {
     "data": {
      "text/html": [
       "<div>\n",
       "<style scoped>\n",
       "    .dataframe tbody tr th:only-of-type {\n",
       "        vertical-align: middle;\n",
       "    }\n",
       "\n",
       "    .dataframe tbody tr th {\n",
       "        vertical-align: top;\n",
       "    }\n",
       "\n",
       "    .dataframe thead th {\n",
       "        text-align: right;\n",
       "    }\n",
       "</style>\n",
       "<table border=\"1\" class=\"dataframe\">\n",
       "  <thead>\n",
       "    <tr style=\"text-align: right;\">\n",
       "      <th></th>\n",
       "      <th>crime rate</th>\n",
       "      <th>residential land zone</th>\n",
       "      <th>business acres</th>\n",
       "      <th>Charles River</th>\n",
       "      <th>nitric oxides</th>\n",
       "      <th>number of rooms</th>\n",
       "      <th>age</th>\n",
       "      <th>distances to employment centres</th>\n",
       "      <th>accessibility to highways</th>\n",
       "      <th>property-tax</th>\n",
       "      <th>pupil-teacher ratio</th>\n",
       "      <th>lower income levels</th>\n",
       "    </tr>\n",
       "  </thead>\n",
       "  <tbody>\n",
       "    <tr>\n",
       "      <th>0</th>\n",
       "      <td>0.00632</td>\n",
       "      <td>18.0</td>\n",
       "      <td>2.31</td>\n",
       "      <td>0.0</td>\n",
       "      <td>0.538</td>\n",
       "      <td>6.575</td>\n",
       "      <td>65.2</td>\n",
       "      <td>4.0900</td>\n",
       "      <td>1.0</td>\n",
       "      <td>296.0</td>\n",
       "      <td>15.3</td>\n",
       "      <td>396.90</td>\n",
       "    </tr>\n",
       "    <tr>\n",
       "      <th>1</th>\n",
       "      <td>0.02731</td>\n",
       "      <td>0.0</td>\n",
       "      <td>7.07</td>\n",
       "      <td>0.0</td>\n",
       "      <td>0.469</td>\n",
       "      <td>6.421</td>\n",
       "      <td>78.9</td>\n",
       "      <td>4.9671</td>\n",
       "      <td>2.0</td>\n",
       "      <td>242.0</td>\n",
       "      <td>17.8</td>\n",
       "      <td>396.90</td>\n",
       "    </tr>\n",
       "    <tr>\n",
       "      <th>2</th>\n",
       "      <td>0.02729</td>\n",
       "      <td>0.0</td>\n",
       "      <td>7.07</td>\n",
       "      <td>0.0</td>\n",
       "      <td>0.469</td>\n",
       "      <td>7.185</td>\n",
       "      <td>61.1</td>\n",
       "      <td>4.9671</td>\n",
       "      <td>2.0</td>\n",
       "      <td>242.0</td>\n",
       "      <td>17.8</td>\n",
       "      <td>392.83</td>\n",
       "    </tr>\n",
       "    <tr>\n",
       "      <th>3</th>\n",
       "      <td>0.03237</td>\n",
       "      <td>0.0</td>\n",
       "      <td>2.18</td>\n",
       "      <td>0.0</td>\n",
       "      <td>0.458</td>\n",
       "      <td>6.998</td>\n",
       "      <td>45.8</td>\n",
       "      <td>6.0622</td>\n",
       "      <td>3.0</td>\n",
       "      <td>222.0</td>\n",
       "      <td>18.7</td>\n",
       "      <td>394.63</td>\n",
       "    </tr>\n",
       "    <tr>\n",
       "      <th>4</th>\n",
       "      <td>0.06905</td>\n",
       "      <td>0.0</td>\n",
       "      <td>2.18</td>\n",
       "      <td>0.0</td>\n",
       "      <td>0.458</td>\n",
       "      <td>7.147</td>\n",
       "      <td>54.2</td>\n",
       "      <td>6.0622</td>\n",
       "      <td>3.0</td>\n",
       "      <td>222.0</td>\n",
       "      <td>18.7</td>\n",
       "      <td>396.90</td>\n",
       "    </tr>\n",
       "    <tr>\n",
       "      <th>...</th>\n",
       "      <td>...</td>\n",
       "      <td>...</td>\n",
       "      <td>...</td>\n",
       "      <td>...</td>\n",
       "      <td>...</td>\n",
       "      <td>...</td>\n",
       "      <td>...</td>\n",
       "      <td>...</td>\n",
       "      <td>...</td>\n",
       "      <td>...</td>\n",
       "      <td>...</td>\n",
       "      <td>...</td>\n",
       "    </tr>\n",
       "    <tr>\n",
       "      <th>501</th>\n",
       "      <td>0.06263</td>\n",
       "      <td>0.0</td>\n",
       "      <td>11.93</td>\n",
       "      <td>0.0</td>\n",
       "      <td>0.573</td>\n",
       "      <td>6.593</td>\n",
       "      <td>69.1</td>\n",
       "      <td>2.4786</td>\n",
       "      <td>1.0</td>\n",
       "      <td>273.0</td>\n",
       "      <td>21.0</td>\n",
       "      <td>391.99</td>\n",
       "    </tr>\n",
       "    <tr>\n",
       "      <th>502</th>\n",
       "      <td>0.04527</td>\n",
       "      <td>0.0</td>\n",
       "      <td>11.93</td>\n",
       "      <td>0.0</td>\n",
       "      <td>0.573</td>\n",
       "      <td>6.120</td>\n",
       "      <td>76.7</td>\n",
       "      <td>2.2875</td>\n",
       "      <td>1.0</td>\n",
       "      <td>273.0</td>\n",
       "      <td>21.0</td>\n",
       "      <td>396.90</td>\n",
       "    </tr>\n",
       "    <tr>\n",
       "      <th>503</th>\n",
       "      <td>0.06076</td>\n",
       "      <td>0.0</td>\n",
       "      <td>11.93</td>\n",
       "      <td>0.0</td>\n",
       "      <td>0.573</td>\n",
       "      <td>6.976</td>\n",
       "      <td>91.0</td>\n",
       "      <td>2.1675</td>\n",
       "      <td>1.0</td>\n",
       "      <td>273.0</td>\n",
       "      <td>21.0</td>\n",
       "      <td>396.90</td>\n",
       "    </tr>\n",
       "    <tr>\n",
       "      <th>504</th>\n",
       "      <td>0.10959</td>\n",
       "      <td>0.0</td>\n",
       "      <td>11.93</td>\n",
       "      <td>0.0</td>\n",
       "      <td>0.573</td>\n",
       "      <td>6.794</td>\n",
       "      <td>89.3</td>\n",
       "      <td>2.3889</td>\n",
       "      <td>1.0</td>\n",
       "      <td>273.0</td>\n",
       "      <td>21.0</td>\n",
       "      <td>393.45</td>\n",
       "    </tr>\n",
       "    <tr>\n",
       "      <th>505</th>\n",
       "      <td>0.04741</td>\n",
       "      <td>0.0</td>\n",
       "      <td>11.93</td>\n",
       "      <td>0.0</td>\n",
       "      <td>0.573</td>\n",
       "      <td>6.030</td>\n",
       "      <td>80.8</td>\n",
       "      <td>2.5050</td>\n",
       "      <td>1.0</td>\n",
       "      <td>273.0</td>\n",
       "      <td>21.0</td>\n",
       "      <td>396.90</td>\n",
       "    </tr>\n",
       "  </tbody>\n",
       "</table>\n",
       "<p>506 rows × 12 columns</p>\n",
       "</div>"
      ],
      "text/plain": [
       "     crime rate  residential land zone  business acres  Charles River  \\\n",
       "0       0.00632                   18.0            2.31            0.0   \n",
       "1       0.02731                    0.0            7.07            0.0   \n",
       "2       0.02729                    0.0            7.07            0.0   \n",
       "3       0.03237                    0.0            2.18            0.0   \n",
       "4       0.06905                    0.0            2.18            0.0   \n",
       "..          ...                    ...             ...            ...   \n",
       "501     0.06263                    0.0           11.93            0.0   \n",
       "502     0.04527                    0.0           11.93            0.0   \n",
       "503     0.06076                    0.0           11.93            0.0   \n",
       "504     0.10959                    0.0           11.93            0.0   \n",
       "505     0.04741                    0.0           11.93            0.0   \n",
       "\n",
       "     nitric oxides  number of rooms   age  distances to employment centres  \\\n",
       "0            0.538            6.575  65.2                           4.0900   \n",
       "1            0.469            6.421  78.9                           4.9671   \n",
       "2            0.469            7.185  61.1                           4.9671   \n",
       "3            0.458            6.998  45.8                           6.0622   \n",
       "4            0.458            7.147  54.2                           6.0622   \n",
       "..             ...              ...   ...                              ...   \n",
       "501          0.573            6.593  69.1                           2.4786   \n",
       "502          0.573            6.120  76.7                           2.2875   \n",
       "503          0.573            6.976  91.0                           2.1675   \n",
       "504          0.573            6.794  89.3                           2.3889   \n",
       "505          0.573            6.030  80.8                           2.5050   \n",
       "\n",
       "     accessibility to highways  property-tax  pupil-teacher ratio  \\\n",
       "0                          1.0         296.0                 15.3   \n",
       "1                          2.0         242.0                 17.8   \n",
       "2                          2.0         242.0                 17.8   \n",
       "3                          3.0         222.0                 18.7   \n",
       "4                          3.0         222.0                 18.7   \n",
       "..                         ...           ...                  ...   \n",
       "501                        1.0         273.0                 21.0   \n",
       "502                        1.0         273.0                 21.0   \n",
       "503                        1.0         273.0                 21.0   \n",
       "504                        1.0         273.0                 21.0   \n",
       "505                        1.0         273.0                 21.0   \n",
       "\n",
       "     lower income levels  \n",
       "0                 396.90  \n",
       "1                 396.90  \n",
       "2                 392.83  \n",
       "3                 394.63  \n",
       "4                 396.90  \n",
       "..                   ...  \n",
       "501               391.99  \n",
       "502               396.90  \n",
       "503               396.90  \n",
       "504               393.45  \n",
       "505               396.90  \n",
       "\n",
       "[506 rows x 12 columns]"
      ]
     },
     "execution_count": 24,
     "metadata": {},
     "output_type": "execute_result"
    }
   ],
   "source": [
    "# Original feature set\n",
    "\n",
    "x_initial"
   ]
  },
  {
   "cell_type": "code",
   "execution_count": 25,
   "metadata": {},
   "outputs": [
    {
     "data": {
      "text/html": [
       "<div>\n",
       "<style scoped>\n",
       "    .dataframe tbody tr th:only-of-type {\n",
       "        vertical-align: middle;\n",
       "    }\n",
       "\n",
       "    .dataframe tbody tr th {\n",
       "        vertical-align: top;\n",
       "    }\n",
       "\n",
       "    .dataframe thead th {\n",
       "        text-align: right;\n",
       "    }\n",
       "</style>\n",
       "<table border=\"1\" class=\"dataframe\">\n",
       "  <thead>\n",
       "    <tr style=\"text-align: right;\">\n",
       "      <th></th>\n",
       "      <th>0</th>\n",
       "      <th>1</th>\n",
       "      <th>2</th>\n",
       "      <th>3</th>\n",
       "    </tr>\n",
       "  </thead>\n",
       "  <tbody>\n",
       "    <tr>\n",
       "      <th>0</th>\n",
       "      <td>-119.674346</td>\n",
       "      <td>-5.536052</td>\n",
       "      <td>-3.628084</td>\n",
       "      <td>5.544264</td>\n",
       "    </tr>\n",
       "    <tr>\n",
       "      <th>1</th>\n",
       "      <td>-168.856073</td>\n",
       "      <td>10.106239</td>\n",
       "      <td>-30.875927</td>\n",
       "      <td>1.470963</td>\n",
       "    </tr>\n",
       "    <tr>\n",
       "      <th>2</th>\n",
       "      <td>-169.159750</td>\n",
       "      <td>14.101220</td>\n",
       "      <td>-17.285658</td>\n",
       "      <td>-9.967382</td>\n",
       "    </tr>\n",
       "    <tr>\n",
       "      <th>3</th>\n",
       "      <td>-190.058669</td>\n",
       "      <td>18.326938</td>\n",
       "      <td>-7.098267</td>\n",
       "      <td>-19.376160</td>\n",
       "    </tr>\n",
       "    <tr>\n",
       "      <th>4</th>\n",
       "      <td>-190.016627</td>\n",
       "      <td>16.108056</td>\n",
       "      <td>-13.517569</td>\n",
       "      <td>-13.973011</td>\n",
       "    </tr>\n",
       "    <tr>\n",
       "      <th>...</th>\n",
       "      <td>...</td>\n",
       "      <td>...</td>\n",
       "      <td>...</td>\n",
       "      <td>...</td>\n",
       "    </tr>\n",
       "    <tr>\n",
       "      <th>501</th>\n",
       "      <td>-138.667327</td>\n",
       "      <td>5.774211</td>\n",
       "      <td>-21.054744</td>\n",
       "      <td>-5.596122</td>\n",
       "    </tr>\n",
       "    <tr>\n",
       "      <th>502</th>\n",
       "      <td>-139.460714</td>\n",
       "      <td>1.034800</td>\n",
       "      <td>-26.937597</td>\n",
       "      <td>-0.702693</td>\n",
       "    </tr>\n",
       "    <tr>\n",
       "      <th>503</th>\n",
       "      <td>-138.264871</td>\n",
       "      <td>0.952609</td>\n",
       "      <td>-37.781254</td>\n",
       "      <td>8.483775</td>\n",
       "    </tr>\n",
       "    <tr>\n",
       "      <th>504</th>\n",
       "      <td>-137.401952</td>\n",
       "      <td>4.261812</td>\n",
       "      <td>-36.406319</td>\n",
       "      <td>7.380573</td>\n",
       "    </tr>\n",
       "    <tr>\n",
       "      <th>505</th>\n",
       "      <td>-139.119179</td>\n",
       "      <td>1.011186</td>\n",
       "      <td>-30.036691</td>\n",
       "      <td>1.929669</td>\n",
       "    </tr>\n",
       "  </tbody>\n",
       "</table>\n",
       "<p>506 rows × 4 columns</p>\n",
       "</div>"
      ],
      "text/plain": [
       "              0          1          2          3\n",
       "0   -119.674346  -5.536052  -3.628084   5.544264\n",
       "1   -168.856073  10.106239 -30.875927   1.470963\n",
       "2   -169.159750  14.101220 -17.285658  -9.967382\n",
       "3   -190.058669  18.326938  -7.098267 -19.376160\n",
       "4   -190.016627  16.108056 -13.517569 -13.973011\n",
       "..          ...        ...        ...        ...\n",
       "501 -138.667327   5.774211 -21.054744  -5.596122\n",
       "502 -139.460714   1.034800 -26.937597  -0.702693\n",
       "503 -138.264871   0.952609 -37.781254   8.483775\n",
       "504 -137.401952   4.261812 -36.406319   7.380573\n",
       "505 -139.119179   1.011186 -30.036691   1.929669\n",
       "\n",
       "[506 rows x 4 columns]"
      ]
     },
     "execution_count": 25,
     "metadata": {},
     "output_type": "execute_result"
    }
   ],
   "source": [
    "# Transformed feature set (Note the 0th feature is the extra constant that we added as a requirement of OLS)\n",
    "\n",
    "x_transform"
   ]
  },
  {
   "cell_type": "code",
   "execution_count": 26,
   "metadata": {},
   "outputs": [
    {
     "data": {
      "text/plain": [
       "Text(0, 0.5, 'Principal Component 2')"
      ]
     },
     "execution_count": 26,
     "metadata": {},
     "output_type": "execute_result"
    },
    {
     "data": {
      "image/png": "[encoded data removed]",
      "text/plain": [
       "<Figure size 576x288 with 1 Axes>"
      ]
     },
     "metadata": {
      "needs_background": "light"
     },
     "output_type": "display_data"
    }
   ],
   "source": [
    "# A glance over transformed feature distribution of 'first two principal components'\n",
    "# Note: Difference between OLS and Scikit Learn's Linear Regression\n",
    "# In OLS, we had to skip 0th principal component and pick 1st and 2nd for graphical view (as 0th is constant we added)\n",
    "# In Linear Regression, we can take 0th and 1st principal components\n",
    "\n",
    "fig, ax = plt.subplots(figsize=(8, 4))\n",
    "\n",
    "ax.scatter(x_transform[0], x_transform[1], cmap='Spectral')\n",
    "\n",
    "plt.xlabel('Principal Component 1')\n",
    "plt.ylabel('Principal Component 2')"
   ]
  },
  {
   "cell_type": "code",
   "execution_count": 28,
   "metadata": {},
   "outputs": [
    {
     "name": "stdout",
     "output_type": "stream",
     "text": [
      "Training Score:  0.6619259963914251\n",
      "Testing Score:  0.6330734417980978\n"
     ]
    }
   ],
   "source": [
    "# Let us now see the metrics for Scikit's Linear Regression\n",
    "\n",
    "print('Training Score: ', model.score(x_train, y_train))\n",
    "print('Testing Score: ', r2_score(y_test, y_pred))"
   ]
  },
  {
   "cell_type": "markdown",
   "metadata": {},
   "source": [
    "__Thus we've reduced features using PCA and applied analytical OLS and Scikit's machine learning Linear Regression.__"
   ]
  }
 ],
 "metadata": {
  "kernelspec": {
   "display_name": "Python 3.6 (tensorflow)",
   "language": "python",
   "name": "tensorflow"
  },
  "language_info": {
   "codemirror_mode": {
    "name": "ipython",
    "version": 3
   },
   "file_extension": ".py",
   "mimetype": "text/x-python",
   "name": "python",
   "nbconvert_exporter": "python",
   "pygments_lexer": "ipython3",
   "version": "3.6.9"
  }
 },
 "nbformat": 4,
 "nbformat_minor": 2
}
