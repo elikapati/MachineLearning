{
 "cells": [
  {
   "cell_type": "markdown",
   "metadata": {},
   "source": [
    "# Feature Selection by <font color=red>Chisquare, ANOVA and Mutual Information</font> on Diabetes<br/> (Classification Model)\n",
    "\n",
    "In this program we continue work on __classification model__. We've already a __baselined__ taking __all the features__ present in the original dataset(<a href='http://localhost:8888/notebooks/Exercises/Ex_MachineLearning/Pluralsight/Reducing%20Complexity%20in%20data/Baseline%20Classification%20Model.ipynb'>Baseline Classification Model</a>). Here, we apply __Chisquare__ to fetch only the __significant features__ from the complete collection; train and test to see if there is any improvement. \n",
    "\n",
    "__Chisquare__ uses one feature at at time it is a __Univariate Analysis__ method. It __measures the dependence__ between variables and the __target__ to __weed out features which are irrelevant__ to the classification.\n",
    "\n",
    "<img src='../Preparing Data for Machine Learning/Data/Filter Methods.png' width=500/>"
   ]
  },
  {
   "cell_type": "code",
   "execution_count": 1,
   "metadata": {},
   "outputs": [],
   "source": [
    "import numpy as np\n",
    "import pandas as pd\n",
    "import pylab\n",
    "import matplotlib.pyplot as plt\n",
    "\n",
    "from sklearn.model_selection import train_test_split\n",
    "from sklearn.linear_model import LogisticRegression\n",
    "\n",
    "from sklearn.metrics import accuracy_score\n",
    "from sklearn.metrics import precision_score\n",
    "from sklearn.metrics import recall_score"
   ]
  },
  {
   "cell_type": "code",
   "execution_count": 2,
   "metadata": {},
   "outputs": [
    {
     "data": {
      "text/html": [
       "<div>\n",
       "<style scoped>\n",
       "    .dataframe tbody tr th:only-of-type {\n",
       "        vertical-align: middle;\n",
       "    }\n",
       "\n",
       "    .dataframe tbody tr th {\n",
       "        vertical-align: top;\n",
       "    }\n",
       "\n",
       "    .dataframe thead th {\n",
       "        text-align: right;\n",
       "    }\n",
       "</style>\n",
       "<table border=\"1\" class=\"dataframe\">\n",
       "  <thead>\n",
       "    <tr style=\"text-align: right;\">\n",
       "      <th></th>\n",
       "      <th>Pregnancies</th>\n",
       "      <th>Glucose</th>\n",
       "      <th>BP</th>\n",
       "      <th>Skin Thickness</th>\n",
       "      <th>Insulin</th>\n",
       "      <th>Mass</th>\n",
       "      <th>Pedigree</th>\n",
       "      <th>Age</th>\n",
       "      <th>class</th>\n",
       "    </tr>\n",
       "  </thead>\n",
       "  <tbody>\n",
       "    <tr>\n",
       "      <th>0</th>\n",
       "      <td>6</td>\n",
       "      <td>148</td>\n",
       "      <td>72</td>\n",
       "      <td>35</td>\n",
       "      <td>0</td>\n",
       "      <td>33.6</td>\n",
       "      <td>0.627</td>\n",
       "      <td>50</td>\n",
       "      <td>1</td>\n",
       "    </tr>\n",
       "    <tr>\n",
       "      <th>1</th>\n",
       "      <td>1</td>\n",
       "      <td>85</td>\n",
       "      <td>66</td>\n",
       "      <td>29</td>\n",
       "      <td>0</td>\n",
       "      <td>26.6</td>\n",
       "      <td>0.351</td>\n",
       "      <td>31</td>\n",
       "      <td>0</td>\n",
       "    </tr>\n",
       "    <tr>\n",
       "      <th>2</th>\n",
       "      <td>8</td>\n",
       "      <td>183</td>\n",
       "      <td>64</td>\n",
       "      <td>0</td>\n",
       "      <td>0</td>\n",
       "      <td>23.3</td>\n",
       "      <td>0.672</td>\n",
       "      <td>32</td>\n",
       "      <td>1</td>\n",
       "    </tr>\n",
       "    <tr>\n",
       "      <th>3</th>\n",
       "      <td>1</td>\n",
       "      <td>89</td>\n",
       "      <td>66</td>\n",
       "      <td>23</td>\n",
       "      <td>94</td>\n",
       "      <td>28.1</td>\n",
       "      <td>0.167</td>\n",
       "      <td>21</td>\n",
       "      <td>0</td>\n",
       "    </tr>\n",
       "    <tr>\n",
       "      <th>4</th>\n",
       "      <td>0</td>\n",
       "      <td>137</td>\n",
       "      <td>40</td>\n",
       "      <td>35</td>\n",
       "      <td>168</td>\n",
       "      <td>43.1</td>\n",
       "      <td>2.288</td>\n",
       "      <td>33</td>\n",
       "      <td>1</td>\n",
       "    </tr>\n",
       "  </tbody>\n",
       "</table>\n",
       "</div>"
      ],
      "text/plain": [
       "   Pregnancies  Glucose  BP  Skin Thickness  Insulin  Mass  Pedigree  Age  \\\n",
       "0            6      148  72              35        0  33.6     0.627   50   \n",
       "1            1       85  66              29        0  26.6     0.351   31   \n",
       "2            8      183  64               0        0  23.3     0.672   32   \n",
       "3            1       89  66              23       94  28.1     0.167   21   \n",
       "4            0      137  40              35      168  43.1     2.288   33   \n",
       "\n",
       "   class  \n",
       "0      1  \n",
       "1      0  \n",
       "2      1  \n",
       "3      0  \n",
       "4      1  "
      ]
     },
     "execution_count": 2,
     "metadata": {},
     "output_type": "execute_result"
    }
   ],
   "source": [
    "diabetes_df = pd.read_csv('Data/pima-indians-diabetes.data.csv')\n",
    "diabetes_df.head()"
   ]
  },
  {
   "cell_type": "code",
   "execution_count": 3,
   "metadata": {},
   "outputs": [],
   "source": [
    "X = diabetes_df.drop('class', axis=1)\n",
    "y = diabetes_df['class']"
   ]
  },
  {
   "cell_type": "code",
   "execution_count": 4,
   "metadata": {},
   "outputs": [
    {
     "data": {
      "text/plain": [
       "(768, 8)"
      ]
     },
     "execution_count": 4,
     "metadata": {},
     "output_type": "execute_result"
    }
   ],
   "source": [
    "X.shape"
   ]
  },
  {
   "cell_type": "code",
   "execution_count": 5,
   "metadata": {},
   "outputs": [],
   "source": [
    "# Convert all variables to float in order to avoid warnings for complex numerical computations\n",
    "X = X.astype(np.float64)"
   ]
  },
  {
   "cell_type": "code",
   "execution_count": 6,
   "metadata": {},
   "outputs": [
    {
     "data": {
      "text/plain": [
       "(768, 3)"
      ]
     },
     "execution_count": 6,
     "metadata": {},
     "output_type": "execute_result"
    }
   ],
   "source": [
    "from sklearn.feature_selection import chi2, SelectKBest\n",
    "\n",
    "select_features = SelectKBest(chi2, k=3)\n",
    "X_new = select_features.fit_transform(X, y)\n",
    "X_new.shape"
   ]
  },
  {
   "cell_type": "markdown",
   "metadata": {},
   "source": [
    "NOTE:\n",
    "- The <font color=red>chi2</font> in __sklearn__ computes __scores__ of features using __Chisquare__ based on their significance for __classification__.\n",
    "- The <font color=red>SelectKBest</font> in __sklearn__ is used to __select specified number of best features__ based on the algorithm, say __chi2__ here."
   ]
  },
  {
   "cell_type": "code",
   "execution_count": 7,
   "metadata": {},
   "outputs": [],
   "source": [
    "X_new = X_new.astype(np.float64)"
   ]
  },
  {
   "cell_type": "code",
   "execution_count": 8,
   "metadata": {},
   "outputs": [
    {
     "data": {
      "text/html": [
       "<div>\n",
       "<style scoped>\n",
       "    .dataframe tbody tr th:only-of-type {\n",
       "        vertical-align: middle;\n",
       "    }\n",
       "\n",
       "    .dataframe tbody tr th {\n",
       "        vertical-align: top;\n",
       "    }\n",
       "\n",
       "    .dataframe thead th {\n",
       "        text-align: right;\n",
       "    }\n",
       "</style>\n",
       "<table border=\"1\" class=\"dataframe\">\n",
       "  <thead>\n",
       "    <tr style=\"text-align: right;\">\n",
       "      <th></th>\n",
       "      <th>0</th>\n",
       "      <th>1</th>\n",
       "      <th>2</th>\n",
       "    </tr>\n",
       "  </thead>\n",
       "  <tbody>\n",
       "    <tr>\n",
       "      <th>0</th>\n",
       "      <td>148.0</td>\n",
       "      <td>0.0</td>\n",
       "      <td>50.0</td>\n",
       "    </tr>\n",
       "    <tr>\n",
       "      <th>1</th>\n",
       "      <td>85.0</td>\n",
       "      <td>0.0</td>\n",
       "      <td>31.0</td>\n",
       "    </tr>\n",
       "    <tr>\n",
       "      <th>2</th>\n",
       "      <td>183.0</td>\n",
       "      <td>0.0</td>\n",
       "      <td>32.0</td>\n",
       "    </tr>\n",
       "    <tr>\n",
       "      <th>3</th>\n",
       "      <td>89.0</td>\n",
       "      <td>94.0</td>\n",
       "      <td>21.0</td>\n",
       "    </tr>\n",
       "    <tr>\n",
       "      <th>4</th>\n",
       "      <td>137.0</td>\n",
       "      <td>168.0</td>\n",
       "      <td>33.0</td>\n",
       "    </tr>\n",
       "    <tr>\n",
       "      <th>...</th>\n",
       "      <td>...</td>\n",
       "      <td>...</td>\n",
       "      <td>...</td>\n",
       "    </tr>\n",
       "    <tr>\n",
       "      <th>763</th>\n",
       "      <td>101.0</td>\n",
       "      <td>180.0</td>\n",
       "      <td>63.0</td>\n",
       "    </tr>\n",
       "    <tr>\n",
       "      <th>764</th>\n",
       "      <td>122.0</td>\n",
       "      <td>0.0</td>\n",
       "      <td>27.0</td>\n",
       "    </tr>\n",
       "    <tr>\n",
       "      <th>765</th>\n",
       "      <td>121.0</td>\n",
       "      <td>112.0</td>\n",
       "      <td>30.0</td>\n",
       "    </tr>\n",
       "    <tr>\n",
       "      <th>766</th>\n",
       "      <td>126.0</td>\n",
       "      <td>0.0</td>\n",
       "      <td>47.0</td>\n",
       "    </tr>\n",
       "    <tr>\n",
       "      <th>767</th>\n",
       "      <td>93.0</td>\n",
       "      <td>0.0</td>\n",
       "      <td>23.0</td>\n",
       "    </tr>\n",
       "  </tbody>\n",
       "</table>\n",
       "<p>768 rows × 3 columns</p>\n",
       "</div>"
      ],
      "text/plain": [
       "         0      1     2\n",
       "0    148.0    0.0  50.0\n",
       "1     85.0    0.0  31.0\n",
       "2    183.0    0.0  32.0\n",
       "3     89.0   94.0  21.0\n",
       "4    137.0  168.0  33.0\n",
       "..     ...    ...   ...\n",
       "763  101.0  180.0  63.0\n",
       "764  122.0    0.0  27.0\n",
       "765  121.0  112.0  30.0\n",
       "766  126.0    0.0  47.0\n",
       "767   93.0    0.0  23.0\n",
       "\n",
       "[768 rows x 3 columns]"
      ]
     },
     "execution_count": 8,
     "metadata": {},
     "output_type": "execute_result"
    }
   ],
   "source": [
    "X_new = pd.DataFrame(X_new)\n",
    "X_new"
   ]
  },
  {
   "cell_type": "code",
   "execution_count": 9,
   "metadata": {},
   "outputs": [
    {
     "data": {
      "text/plain": [
       "['Glucose', 'Insulin', 'Age']"
      ]
     },
     "execution_count": 9,
     "metadata": {},
     "output_type": "execute_result"
    }
   ],
   "source": [
    "selected_features = []\n",
    "\n",
    "for i in range(len(X_new.columns)):\n",
    "    for j in range(len(X.columns)):\n",
    "        if (X_new.iloc[:, i].equals (X.iloc[:, j])):\n",
    "            selected_features.append(X.columns[j])\n",
    "selected_features"
   ]
  },
  {
   "cell_type": "code",
   "execution_count": 10,
   "metadata": {},
   "outputs": [
    {
     "data": {
      "text/plain": [
       "{'BP', 'Mass', 'Pedigree', 'Pregnancies', 'Skin Thickness'}"
      ]
     },
     "execution_count": 10,
     "metadata": {},
     "output_type": "execute_result"
    }
   ],
   "source": [
    "rejected_features = set(list(X)) - set(selected_features)\n",
    "rejected_features"
   ]
  },
  {
   "cell_type": "markdown",
   "metadata": {},
   "source": [
    "<font color=red>__How do we find K?__</font>"
   ]
  },
  {
   "cell_type": "markdown",
   "metadata": {},
   "source": [
    "__One way to find out K is to try for different values of K; train model to see which model performs well and pick the value of K.__"
   ]
  },
  {
   "cell_type": "code",
   "execution_count": 11,
   "metadata": {},
   "outputs": [
    {
     "data": {
      "text/plain": [
       "['Pregnancies',\n",
       " 'Glucose',\n",
       " 'BP',\n",
       " 'Skin Thickness',\n",
       " 'Insulin',\n",
       " 'Mass',\n",
       " 'Pedigree',\n",
       " 'Age']"
      ]
     },
     "execution_count": 11,
     "metadata": {},
     "output_type": "execute_result"
    }
   ],
   "source": [
    "# Pick all features excluding the target variable\n",
    "\n",
    "features = list(diabetes_df.columns[:-1])\n",
    "features"
   ]
  },
  {
   "cell_type": "code",
   "execution_count": 12,
   "metadata": {},
   "outputs": [],
   "source": [
    "# Function to build logistic regression model with various parameters\n",
    "\n",
    "def build_model(target, features, dataset, preprocess_fn, *hyperparameters):\n",
    "    X = dataset[features]\n",
    "    Y = dataset[target]\n",
    "    \n",
    "    X = preprocess_fn(X, Y, *hyperparameters)\n",
    "    x_train, x_test, y_train, y_test = train_test_split(X, Y, test_size=0.2)\n",
    "    \n",
    "    model = logistic_fn(x_train, y_train)\n",
    "    y_pred = model.predict(x_test)\n",
    "    \n",
    "    acc = accuracy_score(y_test, y_pred)\n",
    "    prec = precision_score(y_test, y_pred)\n",
    "    recall = recall_score(y_test, y_pred)\n",
    "    \n",
    "    return {'accuracy': acc,\n",
    "            'precision': prec,\n",
    "            'recall': recall}"
   ]
  },
  {
   "cell_type": "code",
   "execution_count": 13,
   "metadata": {},
   "outputs": [],
   "source": [
    "def compare_results(result_dict):\n",
    "    for key in result_dict:\n",
    "        print('Key = ', key)\n",
    "        \n",
    "        print('Accuracy score = ', result_dict[key]['accuracy'])\n",
    "        print('Precision score = ', result_dict[key]['precision'])\n",
    "        print('Recall score = ', result_dict[key]['recall'])\n",
    "        print()"
   ]
  },
  {
   "cell_type": "code",
   "execution_count": 14,
   "metadata": {},
   "outputs": [],
   "source": [
    "def visualize_results_kbest(result_dict):\n",
    "    # n_components = list(range(0, 8)) may be mistake in the code of Ravi Janani\n",
    "    n_components = list(range(1, 9))\n",
    "    acc = [result_dict[key]['accuracy'] for key in result_dict]\n",
    "    \n",
    "    plt.figure(figsize=(8, 4))\n",
    "    plt.plot(n_components, acc)\n",
    "    \n",
    "    pylab.ylim([0, 1])\n",
    "    \n",
    "    plt.xlabel('n_components')\n",
    "    plt.ylabel('accuracy')"
   ]
  },
  {
   "cell_type": "code",
   "execution_count": 15,
   "metadata": {},
   "outputs": [],
   "source": [
    "def logistic_fn(x_train, y_train):\n",
    "    model = LogisticRegression(solver='liblinear')\n",
    "    model.fit(x_train, y_train)\n",
    "    \n",
    "    return model"
   ]
  },
  {
   "cell_type": "code",
   "execution_count": 16,
   "metadata": {},
   "outputs": [],
   "source": [
    "from sklearn.feature_selection import chi2, SelectKBest\n",
    "\n",
    "def apply_chi2(x, y, k):\n",
    "    select_features = SelectKBest(chi2, k=k)\n",
    "    X_new = select_features.fit_transform(X, y)\n",
    "    return pd.DataFrame(X_new)"
   ]
  },
  {
   "cell_type": "code",
   "execution_count": 17,
   "metadata": {},
   "outputs": [],
   "source": [
    "result_dict = {}\n",
    "\n",
    "for i in range(1, 9):\n",
    "    result_dict['ch2 - ' + str(i)] = build_model('class', features, diabetes_df, apply_chi2, i)"
   ]
  },
  {
   "cell_type": "code",
   "execution_count": 18,
   "metadata": {},
   "outputs": [
    {
     "name": "stdout",
     "output_type": "stream",
     "text": [
      "Key =  ch2 - 1\n",
      "Accuracy score =  0.6558441558441559\n",
      "Precision score =  0.5\n",
      "Recall score =  0.05660377358490566\n",
      "\n",
      "Key =  ch2 - 2\n",
      "Accuracy score =  0.7077922077922078\n",
      "Precision score =  0.6176470588235294\n",
      "Recall score =  0.39622641509433965\n",
      "\n",
      "Key =  ch2 - 3\n",
      "Accuracy score =  0.7207792207792207\n",
      "Precision score =  0.5675675675675675\n",
      "Recall score =  0.4375\n",
      "\n",
      "Key =  ch2 - 4\n",
      "Accuracy score =  0.7857142857142857\n",
      "Precision score =  0.7368421052631579\n",
      "Recall score =  0.5490196078431373\n",
      "\n",
      "Key =  ch2 - 5\n",
      "Accuracy score =  0.7662337662337663\n",
      "Precision score =  0.5714285714285714\n",
      "Recall score =  0.4878048780487805\n",
      "\n",
      "Key =  ch2 - 6\n",
      "Accuracy score =  0.7792207792207793\n",
      "Precision score =  0.7547169811320755\n",
      "Recall score =  0.6557377049180327\n",
      "\n",
      "Key =  ch2 - 7\n",
      "Accuracy score =  0.7727272727272727\n",
      "Precision score =  0.7777777777777778\n",
      "Recall score =  0.5833333333333334\n",
      "\n",
      "Key =  ch2 - 8\n",
      "Accuracy score =  0.7467532467532467\n",
      "Precision score =  0.717391304347826\n",
      "Recall score =  0.559322033898305\n",
      "\n"
     ]
    }
   ],
   "source": [
    "compare_results(result_dict)"
   ]
  },
  {
   "cell_type": "code",
   "execution_count": 19,
   "metadata": {},
   "outputs": [
    {
     "data": {
      "image/png": "[encoded data removed]",
      "text/plain": [
       "<Figure size 576x288 with 1 Axes>"
      ]
     },
     "metadata": {
      "needs_background": "light"
     },
     "output_type": "display_data"
    }
   ],
   "source": [
    "visualize_results_kbest(result_dict)"
   ]
  },
  {
   "cell_type": "markdown",
   "metadata": {},
   "source": [
    "From the above graph we can find out value of __KBest__"
   ]
  },
  {
   "cell_type": "markdown",
   "metadata": {},
   "source": [
    "# Feature Selection by <font color=red>ANOVA</font> on Diabetes<br/> (Classification Model)"
   ]
  },
  {
   "cell_type": "code",
   "execution_count": 20,
   "metadata": {},
   "outputs": [],
   "source": [
    "from sklearn.feature_selection import f_classif\n",
    "\n",
    "def apply_f_classif(x, y, k):\n",
    "    select_features = SelectKBest(f_classif, k=k)\n",
    "    x_new = select_features.fit_transform(x, y)\n",
    "    \n",
    "    return pd.DataFrame(x_new)"
   ]
  },
  {
   "cell_type": "markdown",
   "metadata": {},
   "source": [
    "NOTE:\n",
    "- The <font color=red>f_classif</font> in __sklearn__ computes __scores__ of features using __ANOVA__ based on their significance for __classification__.\n",
    "- The <font color=red>f_regression</font> in __sklearn__ computes __scores__ of features using __ANOVA__ based on their significance for __regression__.\n",
    "- The <font color=red>SelectKBest</font> in __sklearn__ is used to __select specified number of best features__ based on the algorithm, say __ANOVA__ here."
   ]
  },
  {
   "cell_type": "code",
   "execution_count": 21,
   "metadata": {},
   "outputs": [],
   "source": [
    "result_dict = {}\n",
    "\n",
    "for i in range(1, 9):\n",
    "    result_dict['f_classif - ' + str(i)] = build_model('class', features, diabetes_df, apply_f_classif, i)"
   ]
  },
  {
   "cell_type": "code",
   "execution_count": 22,
   "metadata": {},
   "outputs": [
    {
     "name": "stdout",
     "output_type": "stream",
     "text": [
      "Key =  f_classif - 1\n",
      "Accuracy score =  0.7337662337662337\n",
      "Precision score =  0.7777777777777778\n",
      "Recall score =  0.375\n",
      "\n",
      "Key =  f_classif - 2\n",
      "Accuracy score =  0.7597402597402597\n",
      "Precision score =  0.8125\n",
      "Recall score =  0.45614035087719296\n",
      "\n",
      "Key =  f_classif - 3\n",
      "Accuracy score =  0.7207792207792207\n",
      "Precision score =  0.88\n",
      "Recall score =  0.3548387096774194\n",
      "\n",
      "Key =  f_classif - 4\n",
      "Accuracy score =  0.7857142857142857\n",
      "Precision score =  0.8536585365853658\n",
      "Recall score =  0.5645161290322581\n",
      "\n",
      "Key =  f_classif - 5\n",
      "Accuracy score =  0.7662337662337663\n",
      "Precision score =  0.7317073170731707\n",
      "Recall score =  0.5454545454545454\n",
      "\n",
      "Key =  f_classif - 6\n",
      "Accuracy score =  0.7532467532467533\n",
      "Precision score =  0.7666666666666667\n",
      "Recall score =  0.42592592592592593\n",
      "\n",
      "Key =  f_classif - 7\n",
      "Accuracy score =  0.7532467532467533\n",
      "Precision score =  0.6595744680851063\n",
      "Recall score =  0.5849056603773585\n",
      "\n",
      "Key =  f_classif - 8\n",
      "Accuracy score =  0.7662337662337663\n",
      "Precision score =  0.7142857142857143\n",
      "Recall score =  0.5555555555555556\n",
      "\n"
     ]
    }
   ],
   "source": [
    "compare_results(result_dict)"
   ]
  },
  {
   "cell_type": "code",
   "execution_count": 23,
   "metadata": {},
   "outputs": [
    {
     "data": {
      "image/png": "[encoded data removed]",
      "text/plain": [
       "<Figure size 576x288 with 1 Axes>"
      ]
     },
     "metadata": {
      "needs_background": "light"
     },
     "output_type": "display_data"
    }
   ],
   "source": [
    "visualize_results_kbest(result_dict)"
   ]
  },
  {
   "cell_type": "markdown",
   "metadata": {},
   "source": [
    "# Feature Selection by <font color=red>Mutual Information</font> on Diabetes<br/> (Classification Model)\n",
    "\n",
    "- Selection of features based on mutual information that can be used to measure dependency between two variables.\n",
    "- Measures the __dependency__ between two random variables based on entropy information - value of 0 indicates variables are completely __independent__.\n",
    "- __SelectPercentile__ selects features based on a percentile on the highest scores\n",
    "- SelectPercentile is used to keep the features."
   ]
  },
  {
   "cell_type": "code",
   "execution_count": 24,
   "metadata": {},
   "outputs": [],
   "source": [
    "from sklearn.feature_selection import mutual_info_classif, SelectPercentile\n",
    "\n",
    "def apply_mutual_info_classif(x, y, percentile):\n",
    "    select_features = SelectPercentile(mutual_info_classif, percentile=percentile)\n",
    "    x_new = select_features.fit_transform(x, y)\n",
    "    \n",
    "    return pd.DataFrame(x_new)"
   ]
  },
  {
   "cell_type": "code",
   "execution_count": 25,
   "metadata": {},
   "outputs": [],
   "source": [
    "def visualize_results_percentile(result_dict):\n",
    "    n_componenets = list(range(1, 100, 10))\n",
    "    acc = [result_dict[key]['accuracy'] for key in result_dict]\n",
    "    \n",
    "    plt.figure(figsize=(8, 4))\n",
    "    plt.plot(n_componenets, acc)\n",
    "    \n",
    "    pylab.ylim([0, 1])\n",
    "    \n",
    "    plt.xlabel('percentile')\n",
    "    plt.ylabel('accuracy')"
   ]
  },
  {
   "cell_type": "code",
   "execution_count": 26,
   "metadata": {},
   "outputs": [],
   "source": [
    "result_dict = {}\n",
    "\n",
    "for i in range(1, 100, 10):\n",
    "    result_dict['mutual_info_classif percentile - ' + str(i)] = build_model('class', features, diabetes_df, apply_mutual_info_classif, i)"
   ]
  },
  {
   "cell_type": "code",
   "execution_count": 27,
   "metadata": {},
   "outputs": [
    {
     "name": "stdout",
     "output_type": "stream",
     "text": [
      "Key =  mutual_info_classif percentile - 1\n",
      "Accuracy score =  0.7402597402597403\n",
      "Precision score =  0.575\n",
      "Recall score =  0.5\n",
      "\n",
      "Key =  mutual_info_classif percentile - 11\n",
      "Accuracy score =  0.7337662337662337\n",
      "Precision score =  0.6842105263157895\n",
      "Recall score =  0.4727272727272727\n",
      "\n",
      "Key =  mutual_info_classif percentile - 21\n",
      "Accuracy score =  0.7402597402597403\n",
      "Precision score =  0.5945945945945946\n",
      "Recall score =  0.46808510638297873\n",
      "\n",
      "Key =  mutual_info_classif percentile - 31\n",
      "Accuracy score =  0.7402597402597403\n",
      "Precision score =  0.625\n",
      "Recall score =  0.5\n",
      "\n",
      "Key =  mutual_info_classif percentile - 41\n",
      "Accuracy score =  0.7337662337662337\n",
      "Precision score =  0.6842105263157895\n",
      "Recall score =  0.4727272727272727\n",
      "\n",
      "Key =  mutual_info_classif percentile - 51\n",
      "Accuracy score =  0.7792207792207793\n",
      "Precision score =  0.7878787878787878\n",
      "Recall score =  0.49056603773584906\n",
      "\n",
      "Key =  mutual_info_classif percentile - 61\n",
      "Accuracy score =  0.7922077922077922\n",
      "Precision score =  0.6964285714285714\n",
      "Recall score =  0.7222222222222222\n",
      "\n",
      "Key =  mutual_info_classif percentile - 71\n",
      "Accuracy score =  0.7532467532467533\n",
      "Precision score =  0.8\n",
      "Recall score =  0.5161290322580645\n",
      "\n",
      "Key =  mutual_info_classif percentile - 81\n",
      "Accuracy score =  0.7207792207792207\n",
      "Precision score =  0.6153846153846154\n",
      "Recall score =  0.46153846153846156\n",
      "\n",
      "Key =  mutual_info_classif percentile - 91\n",
      "Accuracy score =  0.7597402597402597\n",
      "Precision score =  0.6530612244897959\n",
      "Recall score =  0.6153846153846154\n",
      "\n"
     ]
    }
   ],
   "source": [
    "compare_results(result_dict)"
   ]
  },
  {
   "cell_type": "code",
   "execution_count": 28,
   "metadata": {},
   "outputs": [
    {
     "data": {
      "image/png": "[encoded data removed]",
      "text/plain": [
       "<Figure size 576x288 with 1 Axes>"
      ]
     },
     "metadata": {
      "needs_background": "light"
     },
     "output_type": "display_data"
    }
   ],
   "source": [
    "visualize_results_percentile(result_dict)"
   ]
  }
 ],
 "metadata": {
  "kernelspec": {
   "display_name": "Python 3.6 (tensorflow)",
   "language": "python",
   "name": "tensorflow"
  },
  "language_info": {
   "codemirror_mode": {
    "name": "ipython",
    "version": 3
   },
   "file_extension": ".py",
   "mimetype": "text/x-python",
   "name": "python",
   "nbconvert_exporter": "python",
   "pygments_lexer": "ipython3",
   "version": "3.6.9"
  }
 },
 "nbformat": 4,
 "nbformat_minor": 2
}
