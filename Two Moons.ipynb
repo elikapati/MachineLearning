{
 "cells": [
  {
   "cell_type": "code",
   "execution_count": 7,
   "metadata": {},
   "outputs": [
    {
     "name": "stderr",
     "output_type": "stream",
     "text": [
      "C:\\ProgramData\\Anaconda3\\lib\\site-packages\\sklearn\\svm\\base.py:931: ConvergenceWarning: Liblinear failed to converge, increase the number of iterations.\n",
      "  \"the number of iterations.\", ConvergenceWarning)\n"
     ]
    },
    {
     "data": {
      "image/png": "[encoded data removed]",
      "text/plain": [
       "<Figure size 432x288 with 1 Axes>"
      ]
     },
     "metadata": {
      "needs_background": "light"
     },
     "output_type": "display_data"
    }
   ],
   "source": [
    "from sklearn.datasets import make_moons\n",
    "from sklearn.pipeline import Pipeline\n",
    "from sklearn.preprocessing import PolynomialFeatures\n",
    "from sklearn.preprocessing import StandardScaler\n",
    "from sklearn.svm import LinearSVC\n",
    "from sklearn.datasets import make_moons\n",
    "\n",
    "from IPython.display import Image\n",
    "from IPython.display import display\n",
    "import pandas as pd\n",
    "import numpy as np\n",
    "import matplotlib.pyplot as plt\n",
    "\n",
    "# inline plotting instead of popping out\n",
    "%matplotlib inline\n",
    "\n",
    "# load utility classes/functions that has been taught in previous labs\n",
    "# e.g., plot_decision_regions()\n",
    "import os, sys\n",
    "module_path = os.path.abspath(os.path.join('.'))\n",
    "sys.path.append(module_path)\n",
    "from lib import *\n",
    "\n",
    "polynomial_svm_clf = Pipeline(memory=None,\n",
    "     steps=[('poly_features', PolynomialFeatures(degree=3, include_bias=True, interaction_only=False)), ('scaler', StandardScaler(copy=True, with_mean=True, with_std=True)), ('svm_clf', LinearSVC(C=10, class_weight=None, dual=True, fit_intercept=True,\n",
    "     intercept_scaling=1, loss='hinge', max_iter=2000, multi_class='ovr',\n",
    "     penalty='l2', random_state=None, tol=0.0001, verbose=0))])\n",
    "\n",
    "# Create Moons\n",
    "X, y = make_moons(n_samples=100, noise=0.15, random_state=0)\n",
    "\n",
    "polynomial_svm_clf = Pipeline((\n",
    "(\"poly_features\", PolynomialFeatures(degree=3)),\n",
    "(\"scaler\", StandardScaler()),\n",
    "(\"svm_clf\", LinearSVC(C=10, loss=\"hinge\"))\n",
    "))\n",
    "polynomial_svm_clf.fit(X, y)\n",
    "\n",
    "\n",
    "plt.scatter(X[y == 0, 0], X[y == 0, 1],\n",
    "            c='r', marker='o', label='Class 0')\n",
    "plt.scatter(X[y == 1, 0], X[y == 1, 1],\n",
    "            c='b', marker='s', label='Class 1')\n",
    "\n",
    "# Show moons\n",
    "plt.xlim(X[:, 0].min()-1, X[:, 0].max()+1)\n",
    "plt.ylim(X[:, 1].min()-1, X[:, 1].max()+1)\n",
    "plt.xlabel('$x_1$')\n",
    "plt.ylabel('$x_2$')\n",
    "plt.legend(loc='best')\n",
    "plt.tight_layout()\n",
    "plt.savefig('./fig-two-moon.png', dpi=300)\n",
    "plt.show()"
   ]
  },
  {
   "cell_type": "code",
   "execution_count": null,
   "metadata": {},
   "outputs": [],
   "source": []
  }
 ],
 "metadata": {
  "kernelspec": {
   "display_name": "Python 3",
   "language": "python",
   "name": "python3"
  },
  "language_info": {
   "codemirror_mode": {
    "name": "ipython",
    "version": 3
   },
   "file_extension": ".py",
   "mimetype": "text/x-python",
   "name": "python",
   "nbconvert_exporter": "python",
   "pygments_lexer": "ipython3",
   "version": "3.7.0"
  }
 },
 "nbformat": 4,
 "nbformat_minor": 2
}
