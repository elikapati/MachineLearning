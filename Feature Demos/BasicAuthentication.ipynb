{
 "cells": [
  {
   "cell_type": "markdown",
   "metadata": {},
   "source": [
    "# Basic Authentication to Sign-in"
   ]
  },
  {
   "cell_type": "code",
   "execution_count": 13,
   "metadata": {},
   "outputs": [
    {
     "name": "stdout",
     "output_type": "stream",
     "text": [
      "<Response [200]>\n"
     ]
    }
   ],
   "source": [
    "import requests\n",
    " \n",
    "# Sample Basic Auth Url with login values as username and password\n",
    "url = \"https://httpbin.org/basic-auth/username/password\"\n",
    "user = \"username\"\n",
    "passwd = \"password\"\n",
    "\n",
    "# Make a request to the endpoint using the correct auth values\n",
    "auth_values = (user, passwd)\n",
    "response = requests.get(url, auth=auth_values)\n",
    " \n",
    "# Convert JSON to dict and print\n",
    "print(response)"
   ]
  },
  {
   "cell_type": "code",
   "execution_count": null,
   "metadata": {},
   "outputs": [],
   "source": []
  }
 ],
 "metadata": {
  "kernelspec": {
   "display_name": "Python 3",
   "language": "python",
   "name": "python3"
  },
  "language_info": {
   "codemirror_mode": {
    "name": "ipython",
    "version": 3
   },
   "file_extension": ".py",
   "mimetype": "text/x-python",
   "name": "python",
   "nbconvert_exporter": "python",
   "pygments_lexer": "ipython3",
   "version": "3.7.0"
  }
 },
 "nbformat": 4,
 "nbformat_minor": 2
}
