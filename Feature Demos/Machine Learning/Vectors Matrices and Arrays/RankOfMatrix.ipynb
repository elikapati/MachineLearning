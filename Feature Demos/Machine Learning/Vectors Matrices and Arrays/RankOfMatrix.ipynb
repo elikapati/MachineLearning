{
 "cells": [
  {
   "cell_type": "markdown",
   "metadata": {},
   "source": [
    "# Rank of a matrix"
   ]
  },
  {
   "cell_type": "code",
   "execution_count": 8,
   "metadata": {},
   "outputs": [
    {
     "name": "stdout",
     "output_type": "stream",
     "text": [
      "Shape of the matrix =  (4, 4)\n",
      "the maximum number of linearly independent column vectors in the matrix\n",
      " or \n",
      "the maximum number of linearly independent row vectors in the matrix.\n",
      "Rank of the matrix =  4\n"
     ]
    }
   ],
   "source": [
    "import numpy as np\n",
    "\n",
    "matrix = np.array([\n",
    "    [1, 2, 3, 4],\n",
    "    [5, 6, 16, 5],\n",
    "    [7, 8, 9, 6],\n",
    "    [1, 2, 3, 14]\n",
    "])\n",
    "\n",
    "print(\"Shape of the matrix = \", matrix.shape)\n",
    "print(\"the maximum number of linearly independent column vectors in the matrix\\n or \\nthe maximum number of linearly independent row vectors in the matrix.\")\n",
    "print(\"Rank of the matrix = \", np.linalg.matrix_rank(matrix))"
   ]
  }
 ],
 "metadata": {
  "kernelspec": {
   "display_name": "Python 3",
   "language": "python",
   "name": "python3"
  },
  "language_info": {
   "codemirror_mode": {
    "name": "ipython",
    "version": 3
   },
   "file_extension": ".py",
   "mimetype": "text/x-python",
   "name": "python",
   "nbconvert_exporter": "python",
   "pygments_lexer": "ipython3",
   "version": "3.7.0"
  }
 },
 "nbformat": 4,
 "nbformat_minor": 2
}
