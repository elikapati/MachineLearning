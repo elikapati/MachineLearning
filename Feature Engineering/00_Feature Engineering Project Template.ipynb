{
 "cells": [
  {
   "cell_type": "markdown",
   "metadata": {},
   "source": [
    "# Feature Engineering Project Template"
   ]
  },
  {
   "cell_type": "markdown",
   "metadata": {},
   "source": [
    "### 1. Prepare Problem\n",
    "       Load libraries\n",
    "       Load dataset"
   ]
  },
  {
   "cell_type": "markdown",
   "metadata": {},
   "source": [
    "### 2. Understand Data\n",
    "       Feature Understanding (understand data based on qualities and quantitative state)\n",
    "       - Structured vs unstructured data\n",
    "       \n",
    "       - Identify levels of data\n",
    "         Class of data can be:\n",
    "         - Quantitative (numerical)\n",
    "         - Qualitative (categorical)\n",
    "         \n",
    "         This classification is not sufficient for us to classify features.\n",
    "         Reason is that at times, \"the same feature can be expressed as a qualitative or quantitative attribute\"\n",
    "         Ex,\n",
    "            Feature 'Weather' measured as attribute 'Temperature' is quantitative.\n",
    "            Feature 'Weather' measured as attribute 'Climate' with values Sunny, Windy, Rainy, etc. is qualitative.\n",
    "         \n",
    "         So, classify the features based on level of data.\n",
    "         \n",
    "         Level of data:\n",
    "         - Nominal Level (Qualitative)\n",
    "             Math allowed - Count(mode of data)\n",
    "             Charts allowed - Bar chart, Pie chart\n",
    "           \n",
    "         - Ordinal Level (Qualitative)\n",
    "             Math allowed - Compare values, Order values, Median, Percentile\n",
    "             Charts allowed - Bar chart, Pie chart, Stem-and-leaf, Box plot\n",
    "           \n",
    "         - Interval Level (Quantitative)\n",
    "             Math allowed - Mean, Standard Deviation\n",
    "                            Add, Subtract, Difference between values\n",
    "             Charts allowed - Histogram\n",
    "           \n",
    "         - Raio Level (Quantitative)\n",
    "         \n",
    "         \n",
    "       - Check for missing values\n",
    "       \n",
    "       - Explore data for analysis\n",
    "       \n",
    "       - Descriptive statistics\n",
    "       \n",
    "       - Data visualizations"
   ]
  },
  {
   "cell_type": "markdown",
   "metadata": {},
   "source": [
    "![title](Data\\DataLevels.png)"
   ]
  },
  {
   "cell_type": "markdown",
   "metadata": {},
   "source": [
    "![title](Data\\MathAllowedOnDataLevels.png)"
   ]
  },
  {
   "cell_type": "markdown",
   "metadata": {},
   "source": [
    "![title](Data\\GraphsAllowedOnDataLevels.png)"
   ]
  },
  {
   "cell_type": "markdown",
   "metadata": {},
   "source": [
    "### 3. Prepare Data\n",
    "       - Feature Improvement (clearning and imputing data values to maximise its value)\n",
    "         - Structure unstructured data\n",
    "         - Impute data\n",
    "         - Normalize data\n",
    "           - Standardize data (z-score normalize)\n",
    "           - Min-max scaling\n",
    "           - L1, L2 normalization\n",
    "         \n",
    "       - Feature Selection (use statistical and iterative processes to discard attributes that are not helping)\n",
    "         - correlation coefficients\n",
    "         - identify and remove multi-collinearity\n",
    "         - chi-square test\n",
    "         - anova test\n",
    "         - interpret p-values\n",
    "         - iterative feature selection\n",
    "         - use machine learning to measure entropy and information gain\n",
    "         \n",
    "       - Feature Construction (creating features from existing attributes or creating entirely new)\n",
    "       \n",
    "       - Feature Transformation (mathematical feature transformation to small dimension that better explains data patterns)\n",
    "         - Principal Component Analysis (PCA)\n",
    "         \n",
    "       - Feature Learning (algorithms that exploit data patterns to create new data)\n",
    "         - Restricted Boltzmann machines\n",
    "         - Word2Vec/GLoVe for word embeddings"
   ]
  },
  {
   "cell_type": "markdown",
   "metadata": {},
   "source": [
    "### 4. Evaluate Algorithms\n",
    "    ## a) Split-out validation dataset\n",
    "    ## b) Test options and evaluation metric\n",
    "          Supervised Learning\n",
    "          - To evaluate performance of a model using 'Regression', measure 'Mean Square Error' (MSE)\n",
    "          - To evaluate performance of a model using 'Classification', measure 'Accuracy'\n",
    "          \n",
    "          Unsupervised Learning\n",
    "          - To evaluate performance of a model, measure 'Silhoutte coefficient'\n",
    "    ## c) Spot Check Algorithms\n",
    "    ## d) Compare Algorithms"
   ]
  },
  {
   "cell_type": "markdown",
   "metadata": {},
   "source": [
    "### 5. Improve Accuracy\n",
    "    ## a) Algorithm Tuning\n",
    "    ## b) Ensembles\n",
    "    \n"
   ]
  },
  {
   "cell_type": "markdown",
   "metadata": {},
   "source": [
    "### 6. Finalize Model\n",
    "    ## a) Predictions on validation dataset\n",
    "    ## b) Create standalone model on entire training dataset\n",
    "    ## c) Save model for later use"
   ]
  },
  {
   "cell_type": "code",
   "execution_count": null,
   "metadata": {},
   "outputs": [],
   "source": []
  }
 ],
 "metadata": {
  "kernelspec": {
   "display_name": "Python 3",
   "language": "python",
   "name": "python3"
  },
  "language_info": {
   "codemirror_mode": {
    "name": "ipython",
    "version": 3
   },
   "file_extension": ".py",
   "mimetype": "text/x-python",
   "name": "python",
   "nbconvert_exporter": "python",
   "pygments_lexer": "ipython3",
   "version": "3.7.0"
  }
 },
 "nbformat": 4,
 "nbformat_minor": 2
}
