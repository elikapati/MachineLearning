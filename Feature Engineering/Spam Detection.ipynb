{
 "cells": [
  {
   "cell_type": "markdown",
   "metadata": {},
   "source": [
    "#### Spam Detection"
   ]
  },
  {
   "cell_type": "markdown",
   "metadata": {},
   "source": [
    "Data Source: http://archive.ics.uci.edu/ml/machine-learning-databases/00228/<br/>\n",
    "Application: https://www.youtube.com/watch?v=RZYjsw6P4nI, https://www.youtube.com/watch?v=bPYJi1E9xeM"
   ]
  },
  {
   "cell_type": "code",
   "execution_count": 1,
   "metadata": {},
   "outputs": [],
   "source": [
    "import numpy as np\n",
    "import pandas as pd\n",
    "\n",
    "from sklearn.feature_extraction.text import TfidfVectorizer\n",
    "from sklearn.model_selection import train_test_split\n",
    "from sklearn.naive_bayes import MultinomialNB"
   ]
  },
  {
   "cell_type": "code",
   "execution_count": 2,
   "metadata": {},
   "outputs": [
    {
     "data": {
      "text/html": [
       "<div>\n",
       "<style scoped>\n",
       "    .dataframe tbody tr th:only-of-type {\n",
       "        vertical-align: middle;\n",
       "    }\n",
       "\n",
       "    .dataframe tbody tr th {\n",
       "        vertical-align: top;\n",
       "    }\n",
       "\n",
       "    .dataframe thead th {\n",
       "        text-align: right;\n",
       "    }\n",
       "</style>\n",
       "<table border=\"1\" class=\"dataframe\">\n",
       "  <thead>\n",
       "    <tr style=\"text-align: right;\">\n",
       "      <th></th>\n",
       "      <th>Status</th>\n",
       "      <th>Message</th>\n",
       "    </tr>\n",
       "  </thead>\n",
       "  <tbody>\n",
       "    <tr>\n",
       "      <th>0</th>\n",
       "      <td>ham</td>\n",
       "      <td>Go until jurong point, crazy.. Available only ...</td>\n",
       "    </tr>\n",
       "    <tr>\n",
       "      <th>1</th>\n",
       "      <td>ham</td>\n",
       "      <td>Ok lar... Joking wif u oni...</td>\n",
       "    </tr>\n",
       "    <tr>\n",
       "      <th>2</th>\n",
       "      <td>spam</td>\n",
       "      <td>Free entry in 2 a wkly comp to win FA Cup fina...</td>\n",
       "    </tr>\n",
       "    <tr>\n",
       "      <th>3</th>\n",
       "      <td>ham</td>\n",
       "      <td>U dun say so early hor... U c already then say...</td>\n",
       "    </tr>\n",
       "    <tr>\n",
       "      <th>4</th>\n",
       "      <td>ham</td>\n",
       "      <td>Nah I don't think he goes to usf, he lives aro...</td>\n",
       "    </tr>\n",
       "  </tbody>\n",
       "</table>\n",
       "</div>"
      ],
      "text/plain": [
       "  Status                                            Message\n",
       "0    ham  Go until jurong point, crazy.. Available only ...\n",
       "1    ham                      Ok lar... Joking wif u oni...\n",
       "2   spam  Free entry in 2 a wkly comp to win FA Cup fina...\n",
       "3    ham  U dun say so early hor... U c already then say...\n",
       "4    ham  Nah I don't think he goes to usf, he lives aro..."
      ]
     },
     "execution_count": 2,
     "metadata": {},
     "output_type": "execute_result"
    }
   ],
   "source": [
    "df = pd.read_csv('Data\\SMSSpamCollection.csv', sep = '\\t', names = ['Status', 'Message'])\n",
    "df.head()"
   ]
  },
  {
   "cell_type": "code",
   "execution_count": 3,
   "metadata": {},
   "outputs": [
    {
     "data": {
      "text/plain": [
       "5572"
      ]
     },
     "execution_count": 3,
     "metadata": {},
     "output_type": "execute_result"
    }
   ],
   "source": [
    "len(df)"
   ]
  },
  {
   "cell_type": "code",
   "execution_count": 4,
   "metadata": {},
   "outputs": [],
   "source": [
    "# Instead of operating on entire df we take only 20 rows so that we can easily visualize\n",
    "df = df.head(200)"
   ]
  },
  {
   "cell_type": "code",
   "execution_count": 5,
   "metadata": {},
   "outputs": [
    {
     "name": "stdout",
     "output_type": "stream",
     "text": [
      "No. of non-spam messages =  167\n",
      "No. of spam messages =  33\n"
     ]
    }
   ],
   "source": [
    "print(\"No. of non-spam messages = \", len(df[df.Status == 'ham']))\n",
    "print(\"No. of spam messages = \", len(df[df.Status == 'spam']))"
   ]
  },
  {
   "cell_type": "code",
   "execution_count": 6,
   "metadata": {},
   "outputs": [
    {
     "name": "stdout",
     "output_type": "stream",
     "text": [
      "0    Go until jurong point, crazy.. Available only ...\n",
      "1                        Ok lar... Joking wif u oni...\n",
      "2    Free entry in 2 a wkly comp to win FA Cup fina...\n",
      "3    U dun say so early hor... U c already then say...\n",
      "4    Nah I don't think he goes to usf, he lives aro...\n",
      "Name: Message, dtype: object\n",
      "\n",
      "0     ham\n",
      "1     ham\n",
      "2    spam\n",
      "3     ham\n",
      "4     ham\n",
      "Name: Status, dtype: object\n"
     ]
    }
   ],
   "source": [
    "df_x = df[\"Message\"]\n",
    "df_y = df[\"Status\"]\n",
    "print(df_x.head())\n",
    "print()\n",
    "print(df_y.head())"
   ]
  },
  {
   "cell_type": "code",
   "execution_count": 7,
   "metadata": {},
   "outputs": [],
   "source": [
    "# We've two tasks to perform\n",
    "# 1) vectorization of df_x text data (as we can't use the text as it is)\n",
    "# 2) transform df_y to numerics"
   ]
  },
  {
   "cell_type": "code",
   "execution_count": 8,
   "metadata": {},
   "outputs": [],
   "source": [
    "# Step 1) vectorization of df_x text data (as we can't use the text as it is)"
   ]
  },
  {
   "cell_type": "code",
   "execution_count": 9,
   "metadata": {},
   "outputs": [
    {
     "name": "stdout",
     "output_type": "stream",
     "text": [
      "['000', '03', '07046744435', '07732584351', '07742676969', '0800', '08000930705', '08002986030', '0808', '08452810075over18', '08700621170150p', '08712300220', '0871277810810', '0871277810910p', '08719180248', '09061209465', '09061701461', '09061701939', '09064012160', '09064019788', '09066364589', '10', '100', '1000', '10am', '11', '11pm', '12', '12hrs', '145', '1500', '150p', '150pm', '150ppm', '16', '169', '18', '1pm', '20', '2000', '2004', '2005', '21st', '2nd', '30th', '31p', '32', '350', '3aj', '4041', '434', '4403ldnw1a7rw18', '450ppw', '45239', '4742', '4the', '4txt', '50', '5000', '5249', '530', '5we', '6031', '62468', '69888', '69988', '6days', '7548', '786', '81010', '82277', '85069', '87077', '87121', '87575', '8am', '900', '92h', '9am', '9pm', 'aaooooright', 'abiola', 'able', 'about', 'abt', 'ac', 'accomodate', 'accomodations', 'account', 'aco', 'actin', 'activities', 'address', 'advise', 'aft', 'after', 'afternoon', 'again', 'age', 'ah', 'ahead', 'ahhh', 'aids', 'aight', 'algarve', 'all', 'almost', 'already', 'alright', 'also', 'always', 'am', 'amore', 'amp', 'ams', 'an', 'and', 'animation', 'annoncement', 'another', 'ansr', 'answer', 'any', 'anymore', 'anythin', 'anything', 'anyway', 'anyways', 'apartment', 'apologetic', 'apologise', 'app', 'apples', 'apply', 'appointment', 'approaches', 'arabian', 'ard', 'are', 'areyouunique', 'around', 'arrange', 'as', 'ask', 'askd', 'at', 'august', 'available', 'ave', 'avoid', 'award', 'awarded', 'awesome', 'axis', 'babe', 'babyjontet', 'back', 'badly', 'bak', 'bangb', 'bangbabes', 'bank', 'barbie', 'bath', 'bathe', 'be', 'because', 'become', 'becoz', 'bed', 'been', 'befor', 'beforehand', 'begin', 'begins', 'being', 'believe', 'beloved', 'best', 'better', 'between', 'biggest', 'birla', 'birthday', 'bit', 'blessing', 'bloody', 'bonus', 'bootydelious', 'boss', 'boston', 'bother', 'box', 'box42wr29c', 'boy', 'boytoy', 'breather', 'bridge', 'britney', 'brother', 'bt', 'buffet', 'bugis', 'burger', 'burns', 'bus', 'busy', 'but', 'buy', 'buying', 'bx420', 'by', 'bye', 'cabin', 'call', 'caller', 'callers', 'callertune', 'calls', 'camcorder', 'came', 'camera', 'can', 'cant', 'car', 'carlos', 'cash', 'casualty', 'catch', 'caught', 'cause', 'cave', 'chances', 'changed', 'charged', 'chat', 'check', 'checking', 'cheers', 'chgs', 'child', 'chores', 'cine', 'cinema', 'claim', 'clark', 'class', 'clear', 'click', 'close', 'clue', 'co', 'code', 'coffee', 'coins', 'collected', 'colour', 'com', 'come', 'comes', 'comin', 'coming', 'comp', 'completed', 'completely', 'complimentary', 'computer', 'confirm', 'congrats', 'considering', 'contact', 'content', 'convincing', 'cool', 'copy', 'correct', 'cos', 'cost', 'could', 'country', 'course', 'coz', 'crashing', 'crave', 'crazy', 'credit', 'cried', 'csh11', 'cultures', 'cup', 'cuppa', 'customer', 'cut', 'cuz', 'da', 'darling', 'date', 'day', 'dbuk', 'dead', 'deal', 'dear', 'decide', 'decided', 'dedicate', 'dedicated', 'del', 'deleted', 'delivery', 'detroit', 'devils', 'did', 'didn', 'dignity', 'dinner', 'direct', 'directly', 'dirt', 'dis', 'discuss', 'divorce', 'do', 'does', 'doesn', 'doesnt', 'dogging', 'doing', 'don', 'done', 'dont', 'dot', 'double', 'down', 'download', 'draw', 'dream', 'dresser', 'driving', 'dun', 'dvd', 'each', 'early', 'earn', 'eat', 'eatin', 'eating', 'ec2a', 'eg', 'egg', 'eh', 'eighth', 'ela', 'else', 'embarassed', 'embarassing', 'end', 'ending', 'endowed', 'england', 'enough', 'entered', 'entitled', 'entry', 'entry41', 'envy', 'escape', 'especially', 'etc', 'eurodisinc', 'even', 'evening', 'every', 'everyone', 'everywhere', 'excited', 'exist', 'experience', 'expires', 'fa', 'factory', 'fainting', 'fair', 'fallen', 'fancy', 'fear', 'feel', 'felt', 'female', 'ffffffffff', 'final', 'finally', 'find', 'finding', 'fine', 'finish', 'finished', 'finishes', 'first', 'flights', 'floor', 'flowing', 'fml', 'following', 'food', 'for', 'forced', 'forever', 'forget', 'forgot', 'form', 'formal', 'four', 'free', 'freemsg', 'freephone', 'friday', 'friend', 'friends', 'frnd', 'frnds', 'from', 'frying', 'fulfil', 'fun', 'fyi', 'gauti', 'gave', 'gent', 'gentleman', 'get', 'gets', 'getting', 'girl', 'girls', 'give', 'go', 'goals', 'goes', 'going', 'gone', 'gonna', 'good', 'goodo', 'got', 'gota', 'goto', 'gotta', 'gr8', 'gram', 'granted', 'gravel', 'great', 'grumpy', 'gt', 'guaranteed', 'gud', 'guess', 'guys', 'ha', 'had', 'haf', 'haha', 'hail', 'hair', 'hairdressers', 'half', 'hamster', 'hand', 'handsome', 'happened', 'happy', 'hard', 'hardcore', 'has', 'hasn', 'hav', 'have', 'haven', 'havent', 'he', 'hear', 'hearts', 'hee', 'hell', 'hello', 'help', 'hep', 'her', 'here', 'hey', 'hi', 'him', 'his', 'hit', 'hl', 'hmm', 'hmmm', 'hockey', 'holiday', 'hols', 'home', 'hop', 'hope', 'hopefully', 'hopes', 'hor', 'hospital', 'hospitals', 'hotmail', 'hours', 'house', 'housework', 'how', 'however', 'http', 'hungry', 'hurts', 'ice', 'identifier', 'if', 'il', 'ill', 'im', 'immunisation', 'imposed', 'in', 'inc', 'inches', 'includes', 'incorrect', 'info', 'informed', 'internet', 'interview', 'invite', 'invited', 'inviting', 'involve', 'ip', 'ip4', 'iq', 'is', 'isn', 'it', 'its', 'itself', 'jacket', 'jackpot', 'jersey', 'job', 'join', 'joined', 'joke', 'jokes', 'joking', 'joy', 'jurong', 'jus', 'just', 'juz', 'k52', 'kano', 'kate', 'keep', 'ken', 'kept', 'killing', 'kl341', 'know', 'knows', 'la', 'lager', 'laid', 'landline', 'lar', 'largest', 'last', 'late', 'later', 'latest', 'lazy', 'lccltd', 'league', 'learn', 'leaving', 'lect', 'left', 'legal', 'lesson', 'let', 'letter', 'liao', 'lido', 'life', 'lifted', 'like', 'liked', 'link', 'little', 'live', 'lives', 'll', 'loads', 'loans', 'local', 'location', 'locations', 'log', 'lol', 'long', 'look', 'looking', 'lor', 'lot', 'lots', 'loud', 'lovable', 'love', 'loves', 'ls1', 'lt', 'ltd', 'lucky', 'lucyxx', 'lunch', 'luv', 'lying', 'macedonia', 'machan', 'mah', 'mail', 'make', 'making', 'malarky', 'mall', 'mallika', 'man', 'maneesha', 'mark', 'match', 'matrix3', 'may', 'maybe', 'me', 'mean', 'means', 'meet', 'meeting', 'melle', 'membership', 'memorable', 'men', 'menu', 'message', 'messages', 'min', 'minecraft', 'minnaminunginte', 'minute', 'miss', 'missed', 'missing', 'missunderstding', 'mist', 'mix', 'mk17', 'mmmmmm', 'mob', 'mobile', 'mobiles', 'module', 'mom', 'money', 'month', 'months', 'more', 'morefrmmob', 'morning', 'most', 'mouth', 'move', 'movie', 'mr', 'mrng', 'mrt', 'msg', 'msgs', 'msn', 'mu', 'much', 'multis', 'mummy', 'must', 'muz', 'my', 'myself', 'nah', 'name', 'national', 'naughty', 'need', 'needed', 'needs', 'net', 'netcollex', 'network', 'never', 'nevering', 'new', 'news', 'next', 'ni8', 'nice', 'nigeria', 'night', 'nitros', 'no', 'nokia', 'not', 'nothing', 'noun', 'now', 'nt', 'numbers', 'nurungu', 'nver', 'nyc', 'occupy', 'odi', 'of', 'offer', 'offered', 'oh', 'ok', 'okay', 'old', 'on', 'once', 'one', 'oni', 'only', 'oops', 'open', 'openin', 'operate', 'operator', 'or', 'orchard', 'order', 'ors', 'oru', 'our', 'out', 'over', 'pa', 'packing', 'page', 'pain', 'pairs', 'parents', 'part', 'pass', 'password', 'patent', 'pay', 'paying', 'people', 'peoples', 'per', 'performed', 'personal', 'persons', 'pick', 'pizza', 'place', 'plane', 'planning', 'play', 'player', 'plaza', 'please', 'pleased', 'pleasure', 'pls', 'plural', 'po', 'pobox', 'poboxox36504w45wq', 'point', 'points', 'potato', 'pouch', 'pounds', 'pours', 'pray', 'predict', 'press', 'price', 'private', 'prize', 'prob', 'promise', 'puttin', 'qatar', 'qjkgighjjgcbl', 'question', 'quick', 'quiz', 'quoting', 'radio', 'rain', 'randy', 'rate', 'rates', 'ratio', 'rcv', 're', 'reached', 'real', 'realized', 'really', 'receive', 'receivea', 'recent', 'red', 'remember', 'replied', 'reply', 'replying', 'representative', 'request', 'requests', 'research', 'respect', 'review', 'reward', 'ride', 'right', 'ringtone', 'rodger', 'room', 'roommate', 'roommates', 'rooms', 'rply', 'run', 'runs', 's89', 'safe', 'said', 'same', 'sao', 'sarcastic', 'satisfied', 'saturday', 'save', 'saw', 'say', 'says', 'scared', 'school', 'scotland', 'search', 'searching', 'second', 'see', 'seeing', 'seekers', 'seemed', 'sehwag', 'selected', 'send', 'sending', 'sent', 'sentence', 'series', 'seriously', 'server', 'service', 'services', 'set', 'settled', 'sexy', 'she', 'sheets', 'sherawat', 'shirt', 'short', 'should', 'shouldn', 'show', 'shower', 'shows', 'shracomorsglsuplt', 'shy', 'sick', 'signin', 'simply', 'since', 'sindu', 'sir', 'sis', 'situation', 'six', 'slice', 'smarter', 'smile', 'smiling', 'smoke', 'sms', 'smth', 'so', 'soft', 'some', 'someone', 'something', 'sometimes', 'somtimes', 'song', 'sony', 'soon', 'sooner', 'sorry', 'sp', 'spanish', 'speak', 'special', 'specially', 'spell', 'spend', 'spent', 'spoilt', 'spoke', 'sptv', 'staff', 'stand', 'standard', 'started', 'starwars3', 'statement', 'staying', 'stays', 'std', 'steed', 'still', 'stock', 'stool', 'stop', 'story', 'str', 'stubborn', 'studying', 'stuff', 'stuff42moro', 'subscription', 'sucker', 'suckers', 'sucks', 'suggest', 'sum', 'sum1', 'sunday', 'sunshine', 'suprman', 'sure', 'surname', 'svc', 'sweet', 'swt', 'ta', 'take', 'taking', 'talk', 'tb', 'tea', 'team', 'tell', 'telling', 'telugu', 'test', 'text', 'texting', 'thank', 'thanks', 'that', 'thats', 'the', 'their', 'them', 'then', 'there', 'they', 'things', 'think', 'thinked', 'this', 'thk', 'tho', 'those', 'though', 'thought', 'tickets', 'til', 'till', 'time', 'times', 'timings', 'tired', 'tkts', 'tmorrow', 'tmr', 'to', 'today', 'todays', 'toll', 'tomo', 'tomorrow', 'tonight', 'too', 'took', 'top', 'tortilla', 'touch', 'towards', 'trav', 'treat', 'tried', 'trip', 'trouble', 'truly', 'trust', 'try', 'trying', 'tsandcs', 'tt', 'turn', 'turns', 'tv', 'txt', 'txting', 'tyler', 'type', 'typical', 'tyrone', 'uk', 'umma', 'ummma', 'uncle', 'unique', 'unredeemed', 'until', 'up', 'update', 'ur', 'urgent', 'urgnt', 'url', 'us', 'use', 'used', 'usf', 'usher', 'using', 'usually', 'utter', 'vaguely', 'valid', 'valuable', 'valued', 'vava', 've', 'verify', 'very', 'vettam', 'voda', 'wa', 'wah', 'wait', 'waiting', 'wales', 'wanna', 'want', 'wanted', 'wap', 'was', 'waste', 'wat', 'watching', 'watts', 'way', 'we', 'weak', 'week', 'weekend', 'weekends', 'weight', 'well', 'wen', 'went', 'were', 'wet', 'what', 'whats', 'when', 'where', 'which', 'who', 'whole', 'why', 'wif', 'will', 'win', 'windows', 'wine', 'wings', 'winner', 'wishes', 'wishin', 'wit', 'with', 'without', 'wk', 'wkly', 'won', 'wonderful', 'wont', 'word', 'words', 'work', 'working', 'world', 'worried', 'worry', 'worth', 'would', 'wow', 'wun', 'www', 'xmas', 'xuhui', 'xx', 'xxx', 'xxxmobilemovieclub', 'ya', 'yeah', 'year', 'years', 'yes', 'yesterday', 'yet', 'yetunde', 'yijue', 'yo', 'you', 'your', 'yours', 'yourself', 'yr', 'yummy', 'yup', 'ú1']\n"
     ]
    }
   ],
   "source": [
    "cv = TfidfVectorizer()\n",
    "\n",
    "cv_x = cv.fit_transform(df_x)\n",
    "print(cv.get_feature_names())"
   ]
  },
  {
   "cell_type": "code",
   "execution_count": 10,
   "metadata": {},
   "outputs": [
    {
     "name": "stdout",
     "output_type": "stream",
     "text": [
      "[0. 0. 0. ... 0. 0. 0.]\n"
     ]
    }
   ],
   "source": [
    "cv_x = cv_x.toarray()\n",
    "print(cv_x[0])"
   ]
  },
  {
   "cell_type": "code",
   "execution_count": 11,
   "metadata": {},
   "outputs": [
    {
     "name": "stdout",
     "output_type": "stream",
     "text": [
      "[array(['amore', 'available', 'buffet', 'bugis', 'cine', 'crazy', 'go',\n",
      "       'got', 'great', 'in', 'jurong', 'la', 'only', 'point', 'there',\n",
      "       'until', 'wat', 'world'], dtype='<U18')]\n"
     ]
    }
   ],
   "source": [
    "# Verify first row\n",
    "print(cv.inverse_transform(cv_x[0]))"
   ]
  },
  {
   "cell_type": "code",
   "execution_count": 12,
   "metadata": {},
   "outputs": [],
   "source": [
    "# 2) transform df_y to numerics"
   ]
  },
  {
   "cell_type": "code",
   "execution_count": 13,
   "metadata": {},
   "outputs": [
    {
     "data": {
      "text/html": [
       "<div>\n",
       "<style scoped>\n",
       "    .dataframe tbody tr th:only-of-type {\n",
       "        vertical-align: middle;\n",
       "    }\n",
       "\n",
       "    .dataframe tbody tr th {\n",
       "        vertical-align: top;\n",
       "    }\n",
       "\n",
       "    .dataframe thead th {\n",
       "        text-align: right;\n",
       "    }\n",
       "</style>\n",
       "<table border=\"1\" class=\"dataframe\">\n",
       "  <thead>\n",
       "    <tr style=\"text-align: right;\">\n",
       "      <th></th>\n",
       "      <th>Status</th>\n",
       "      <th>Message</th>\n",
       "    </tr>\n",
       "  </thead>\n",
       "  <tbody>\n",
       "    <tr>\n",
       "      <th>0</th>\n",
       "      <td>0</td>\n",
       "      <td>Go until jurong point, crazy.. Available only ...</td>\n",
       "    </tr>\n",
       "    <tr>\n",
       "      <th>1</th>\n",
       "      <td>0</td>\n",
       "      <td>Ok lar... Joking wif u oni...</td>\n",
       "    </tr>\n",
       "    <tr>\n",
       "      <th>2</th>\n",
       "      <td>1</td>\n",
       "      <td>Free entry in 2 a wkly comp to win FA Cup fina...</td>\n",
       "    </tr>\n",
       "    <tr>\n",
       "      <th>3</th>\n",
       "      <td>0</td>\n",
       "      <td>U dun say so early hor... U c already then say...</td>\n",
       "    </tr>\n",
       "    <tr>\n",
       "      <th>4</th>\n",
       "      <td>0</td>\n",
       "      <td>Nah I don't think he goes to usf, he lives aro...</td>\n",
       "    </tr>\n",
       "  </tbody>\n",
       "</table>\n",
       "</div>"
      ],
      "text/plain": [
       "  Status                                            Message\n",
       "0      0  Go until jurong point, crazy.. Available only ...\n",
       "1      0                      Ok lar... Joking wif u oni...\n",
       "2      1  Free entry in 2 a wkly comp to win FA Cup fina...\n",
       "3      0  U dun say so early hor... U c already then say...\n",
       "4      0  Nah I don't think he goes to usf, he lives aro..."
      ]
     },
     "execution_count": 13,
     "metadata": {},
     "output_type": "execute_result"
    }
   ],
   "source": [
    "# The response variable is string and we need to transform to numeric form\n",
    "df.loc[df['Status'] == 'ham', 'Status'] = 0\n",
    "df.loc[df['Status'] == 'spam', 'Status'] = 1\n",
    "df.head()"
   ]
  },
  {
   "cell_type": "code",
   "execution_count": 14,
   "metadata": {},
   "outputs": [
    {
     "data": {
      "text/plain": [
       "0    0\n",
       "1    0\n",
       "2    1\n",
       "3    0\n",
       "4    0\n",
       "Name: Status, dtype: object"
      ]
     },
     "execution_count": 14,
     "metadata": {},
     "output_type": "execute_result"
    }
   ],
   "source": [
    "# We notice that the response variable 'Status' is of 'Object' type so we need to convert to 'int'\n",
    "df['Status'].head()"
   ]
  },
  {
   "cell_type": "code",
   "execution_count": 15,
   "metadata": {},
   "outputs": [
    {
     "data": {
      "text/plain": [
       "0    0\n",
       "1    0\n",
       "2    1\n",
       "3    0\n",
       "4    0\n",
       "Name: Status, dtype: int32"
      ]
     },
     "execution_count": 15,
     "metadata": {},
     "output_type": "execute_result"
    }
   ],
   "source": [
    "df['Status'] = df['Status'].astype(int)\n",
    "df['Status'].head()"
   ]
  },
  {
   "cell_type": "code",
   "execution_count": 16,
   "metadata": {},
   "outputs": [],
   "source": [
    "df_x = df[\"Message\"]\n",
    "df_y = df[\"Status\"]"
   ]
  },
  {
   "cell_type": "code",
   "execution_count": 17,
   "metadata": {},
   "outputs": [
    {
     "data": {
      "text/plain": [
       "0    Go until jurong point, crazy.. Available only ...\n",
       "1                        Ok lar... Joking wif u oni...\n",
       "2    Free entry in 2 a wkly comp to win FA Cup fina...\n",
       "3    U dun say so early hor... U c already then say...\n",
       "4    Nah I don't think he goes to usf, he lives aro...\n",
       "Name: Message, dtype: object"
      ]
     },
     "execution_count": 17,
     "metadata": {},
     "output_type": "execute_result"
    }
   ],
   "source": [
    "df_x.head()"
   ]
  },
  {
   "cell_type": "code",
   "execution_count": 18,
   "metadata": {},
   "outputs": [
    {
     "data": {
      "text/plain": [
       "array([[0., 0., 0., ..., 0., 0., 0.],\n",
       "       [0., 0., 0., ..., 0., 0., 0.],\n",
       "       [0., 0., 0., ..., 0., 0., 0.],\n",
       "       ...,\n",
       "       [0., 0., 0., ..., 0., 0., 0.],\n",
       "       [0., 0., 0., ..., 0., 0., 0.],\n",
       "       [0., 0., 0., ..., 0., 0., 0.]])"
      ]
     },
     "execution_count": 18,
     "metadata": {},
     "output_type": "execute_result"
    }
   ],
   "source": [
    "# Our transformed features are now\n",
    "cv_x"
   ]
  },
  {
   "cell_type": "code",
   "execution_count": 19,
   "metadata": {},
   "outputs": [
    {
     "data": {
      "text/plain": [
       "0    0\n",
       "1    0\n",
       "2    1\n",
       "3    0\n",
       "4    0\n",
       "Name: Status, dtype: int32"
      ]
     },
     "execution_count": 19,
     "metadata": {},
     "output_type": "execute_result"
    }
   ],
   "source": [
    "df_y.head()"
   ]
  },
  {
   "cell_type": "code",
   "execution_count": 20,
   "metadata": {},
   "outputs": [],
   "source": [
    "# So our original problem with df['Message', 'Status'] is transformed to cv_x, df_y"
   ]
  },
  {
   "cell_type": "code",
   "execution_count": 21,
   "metadata": {},
   "outputs": [],
   "source": [
    "# Split data into training and testing sets\n",
    "x_train, x_test, y_train, y_test = train_test_split(cv_x, df_y, test_size = 0.2)"
   ]
  },
  {
   "cell_type": "code",
   "execution_count": 22,
   "metadata": {},
   "outputs": [],
   "source": [
    "mnb = MultinomialNB()"
   ]
  },
  {
   "cell_type": "code",
   "execution_count": 23,
   "metadata": {},
   "outputs": [
    {
     "data": {
      "text/plain": [
       "MultinomialNB(alpha=1.0, class_prior=None, fit_prior=True)"
      ]
     },
     "execution_count": 23,
     "metadata": {},
     "output_type": "execute_result"
    }
   ],
   "source": [
    "mnb.fit(x_train, y_train)"
   ]
  },
  {
   "cell_type": "code",
   "execution_count": 24,
   "metadata": {},
   "outputs": [
    {
     "data": {
      "text/plain": [
       "array([0, 0, 0, 0, 0, 0, 0, 0, 0, 0, 0, 0, 0, 0, 0, 0, 0, 0, 0, 0, 0, 0,\n",
       "       0, 0, 0, 0, 0, 0, 0, 0, 0, 0, 0, 0, 0, 0, 0, 0, 0, 0])"
      ]
     },
     "execution_count": 24,
     "metadata": {},
     "output_type": "execute_result"
    }
   ],
   "source": [
    "# We predict using transformed vectors\n",
    "pred = mnb.predict(x_test)\n",
    "pred"
   ]
  },
  {
   "cell_type": "code",
   "execution_count": 25,
   "metadata": {},
   "outputs": [
    {
     "data": {
      "text/plain": [
       "array([0, 0, 0, 0, 0, 1, 0, 0, 0, 0, 0, 0, 1, 0, 0, 0, 0, 0, 0, 0, 1, 1,\n",
       "       0, 0, 0, 0, 0, 0, 0, 0, 0, 1, 0, 0, 0, 0, 0, 0, 0, 0])"
      ]
     },
     "execution_count": 25,
     "metadata": {},
     "output_type": "execute_result"
    }
   ],
   "source": [
    "actual = np.array(y_test)\n",
    "actual"
   ]
  },
  {
   "cell_type": "code",
   "execution_count": 26,
   "metadata": {},
   "outputs": [
    {
     "name": "stdout",
     "output_type": "stream",
     "text": [
      "160 40 160 40 40\n"
     ]
    }
   ],
   "source": [
    "print(len(x_train), len(x_test), len(y_train), len(y_test), len(pred))"
   ]
  },
  {
   "cell_type": "code",
   "execution_count": 27,
   "metadata": {},
   "outputs": [
    {
     "data": {
      "text/plain": [
       "35"
      ]
     },
     "execution_count": 27,
     "metadata": {},
     "output_type": "execute_result"
    }
   ],
   "source": [
    "# Let us calculate accuracy\n",
    "count = 0\n",
    "for i in range(len(pred)):\n",
    "    if (pred[i] == actual[i]):\n",
    "        count = count + 1\n",
    "count"
   ]
  },
  {
   "cell_type": "code",
   "execution_count": 28,
   "metadata": {},
   "outputs": [
    {
     "data": {
      "text/plain": [
       "40"
      ]
     },
     "execution_count": 28,
     "metadata": {},
     "output_type": "execute_result"
    }
   ],
   "source": [
    "len(pred)"
   ]
  },
  {
   "cell_type": "code",
   "execution_count": 29,
   "metadata": {},
   "outputs": [
    {
     "data": {
      "text/plain": [
       "87.5"
      ]
     },
     "execution_count": 29,
     "metadata": {},
     "output_type": "execute_result"
    }
   ],
   "source": [
    "accuracy = count / len(pred) * 100\n",
    "accuracy"
   ]
  },
  {
   "cell_type": "code",
   "execution_count": null,
   "metadata": {},
   "outputs": [],
   "source": []
  }
 ],
 "metadata": {
  "kernelspec": {
   "display_name": "Python 3",
   "language": "python",
   "name": "python3"
  },
  "language_info": {
   "codemirror_mode": {
    "name": "ipython",
    "version": 3
   },
   "file_extension": ".py",
   "mimetype": "text/x-python",
   "name": "python",
   "nbconvert_exporter": "python",
   "pygments_lexer": "ipython3",
   "version": "3.7.7"
  }
 },
 "nbformat": 4,
 "nbformat_minor": 2
}
