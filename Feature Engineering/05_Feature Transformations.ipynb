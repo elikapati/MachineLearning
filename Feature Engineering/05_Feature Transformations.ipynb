{
 "cells": [
  {
   "cell_type": "markdown",
   "metadata": {},
   "source": [
    "#### Feature Transformation"
   ]
  },
  {
   "cell_type": "code",
   "execution_count": 56,
   "metadata": {},
   "outputs": [],
   "source": [
    "from sklearn.datasets import load_iris\n",
    "import matplotlib.pyplot as plt\n",
    "%matplotlib inline"
   ]
  },
  {
   "cell_type": "code",
   "execution_count": 57,
   "metadata": {},
   "outputs": [],
   "source": [
    "iris = load_iris()"
   ]
  },
  {
   "cell_type": "code",
   "execution_count": 58,
   "metadata": {},
   "outputs": [],
   "source": [
    "iris_X, iris_y = iris.data, iris.target"
   ]
  },
  {
   "cell_type": "code",
   "execution_count": 59,
   "metadata": {},
   "outputs": [
    {
     "data": {
      "text/plain": [
       "array(['setosa', 'versicolor', 'virginica'], dtype='<U10')"
      ]
     },
     "execution_count": 59,
     "metadata": {},
     "output_type": "execute_result"
    }
   ],
   "source": [
    "iris.target_names"
   ]
  },
  {
   "cell_type": "code",
   "execution_count": 60,
   "metadata": {},
   "outputs": [
    {
     "data": {
      "text/plain": [
       "['sepal length (cm)',\n",
       " 'sepal width (cm)',\n",
       " 'petal length (cm)',\n",
       " 'petal width (cm)']"
      ]
     },
     "execution_count": 60,
     "metadata": {},
     "output_type": "execute_result"
    }
   ],
   "source": [
    "iris.feature_names"
   ]
  },
  {
   "cell_type": "code",
   "execution_count": 61,
   "metadata": {},
   "outputs": [
    {
     "data": {
      "image/png": "[encoded data removed]",
      "text/plain": [
       "<Figure size 432x288 with 1 Axes>"
      ]
     },
     "metadata": {
      "needs_background": "light"
     },
     "output_type": "display_data"
    }
   ],
   "source": [
    "# Let us use only two features to label the flower: {0: 'setosa', 1: 'versicolor', 2: 'virginica'}\n",
    "\n",
    "label_dict = {i: k for i, k in enumerate(iris.target_names)}\n",
    "\n",
    "def plot(X, y, title, x_label, y_label):\n",
    "    ax = plt.subplot(111)\n",
    "    for label,marker,color in zip(\n",
    "    range(3),('^', 's', 'o'),('blue', 'red', 'green')):\n",
    "\n",
    "        plt.scatter(x=X[:,0].real[y == label],\n",
    "            y=X[:,1].real[y == label],\n",
    "            color=color,\n",
    "            alpha=0.5,\n",
    "            label=label_dict[label]\n",
    "            )\n",
    "\n",
    "    plt.xlabel(x_label)\n",
    "    plt.ylabel(y_label)\n",
    "\n",
    "    leg = plt.legend(loc='upper right', fancybox=True)\n",
    "    leg.get_frame().set_alpha(0.5)\n",
    "    plt.title(title)\n",
    "        \n",
    "plot(iris_X, iris_y, \"Original Iris Data\", \"sepal length (cm)\", \"sepal width (cm)\")"
   ]
  },
  {
   "cell_type": "markdown",
   "metadata": {},
   "source": [
    "#### Calculate PCA Manually"
   ]
  },
  {
   "cell_type": "markdown",
   "metadata": {},
   "source": [
    "1. Create the covariance matrix of the dataset\n",
    "2. Calculate the eigenvalues of the covariance matrix\n",
    "3. Keep the top k eigenvalues (sorted by the descending eigenvalues)\n",
    "4. Use the kept eigenvectors to transform new data-points"
   ]
  },
  {
   "cell_type": "code",
   "execution_count": 62,
   "metadata": {},
   "outputs": [
    {
     "name": "stdout",
     "output_type": "stream",
     "text": [
      "Mean Vector :  [5.84333333 3.05733333 3.758      1.19933333]\n"
     ]
    }
   ],
   "source": [
    "import numpy as np\n",
    "\n",
    "mean_vector = iris_X.mean(axis=0)\n",
    "print(\"Mean Vector : \", mean_vector)"
   ]
  },
  {
   "cell_type": "code",
   "execution_count": 63,
   "metadata": {},
   "outputs": [
    {
     "name": "stdout",
     "output_type": "stream",
     "text": [
      "Shape of covariance matrix =  (4, 4)\n"
     ]
    }
   ],
   "source": [
    "# We've 4 features viz., sepal length, sepal width, petal length, petal width\n",
    "# and calculating the covariance between them (pairwise)\n",
    "# The formula for computing the covariance of the variables X and Y is Cov(X, Y) = Sigma[(X - x)(Y - y)/(n-1)]\n",
    "# x, y are mean values of Xs, Ys\n",
    "# We don't compute covariance manually but use numpy\n",
    "\n",
    "cov_mat = np.cov((iris_X - mean_vector).T)\n",
    "print(\"Shape of covariance matrix = \", cov_mat.shape)"
   ]
  },
  {
   "cell_type": "code",
   "execution_count": 64,
   "metadata": {},
   "outputs": [
    {
     "data": {
      "text/plain": [
       "array([[ 0.68569351, -0.042434  ,  1.27431544,  0.51627069],\n",
       "       [-0.042434  ,  0.18997942, -0.32965638, -0.12163937],\n",
       "       [ 1.27431544, -0.32965638,  3.11627785,  1.2956094 ],\n",
       "       [ 0.51627069, -0.12163937,  1.2956094 ,  0.58100626]])"
      ]
     },
     "execution_count": 64,
     "metadata": {},
     "output_type": "execute_result"
    }
   ],
   "source": [
    "cov_mat"
   ]
  },
  {
   "cell_type": "code",
   "execution_count": 65,
   "metadata": {},
   "outputs": [
    {
     "name": "stdout",
     "output_type": "stream",
     "text": [
      "Eigen values\n",
      " [4.22824171 0.24267075 0.0782095  0.02383509]\n",
      "Eigen vectors\n",
      " [[ 0.36138659 -0.65658877 -0.58202985  0.31548719]\n",
      " [-0.08452251 -0.73016143  0.59791083 -0.3197231 ]\n",
      " [ 0.85667061  0.17337266  0.07623608 -0.47983899]\n",
      " [ 0.3582892   0.07548102  0.54583143  0.75365743]]\n"
     ]
    }
   ],
   "source": [
    "eig_val_cov, eig_vec_cov = np.linalg.eig(cov_mat)\n",
    "print(\"Eigen values\\n\", eig_val_cov)\n",
    "print(\"Eigen vectors\\n\", eig_vec_cov)"
   ]
  },
  {
   "cell_type": "code",
   "execution_count": 66,
   "metadata": {},
   "outputs": [
    {
     "name": "stdout",
     "output_type": "stream",
     "text": [
      "Eigenvector 1: \n",
      "[ 0.36138659 -0.08452251  0.85667061  0.3582892 ]\n",
      "Eigenvalue 1 from covariance matrix: 4.228241706034865\n",
      "------------------------------\n",
      "Eigenvector 2: \n",
      "[-0.65658877 -0.73016143  0.17337266  0.07548102]\n",
      "Eigenvalue 2 from covariance matrix: 0.24267074792863422\n",
      "------------------------------\n",
      "Eigenvector 3: \n",
      "[-0.58202985  0.59791083  0.07623608  0.54583143]\n",
      "Eigenvalue 3 from covariance matrix: 0.0782095000429193\n",
      "------------------------------\n",
      "Eigenvector 4: \n",
      "[ 0.31548719 -0.3197231  -0.47983899  0.75365743]\n",
      "Eigenvalue 4 from covariance matrix: 0.02383509297344963\n",
      "------------------------------\n"
     ]
    }
   ],
   "source": [
    "for i in range(len(eig_val_cov)):\n",
    "    eigvec_cov = eig_vec_cov[:,i]\n",
    "    print ('Eigenvector {}: \\n{}'.format(i+1, eigvec_cov))\n",
    "    print ('Eigenvalue {} from covariance matrix: {}'.format(i+1, eig_val_cov[i]))\n",
    "    print (30 * '-')"
   ]
  },
  {
   "cell_type": "code",
   "execution_count": 67,
   "metadata": {},
   "outputs": [
    {
     "data": {
      "text/plain": [
       "array([0.92461872, 0.05306648, 0.01710261, 0.00521218])"
      ]
     },
     "execution_count": 67,
     "metadata": {},
     "output_type": "execute_result"
    }
   ],
   "source": [
    "explained_variance_ratio = eig_val_cov/eig_val_cov.sum()\n",
    "explained_variance_ratio"
   ]
  },
  {
   "cell_type": "code",
   "execution_count": 68,
   "metadata": {},
   "outputs": [
    {
     "data": {
      "text/plain": [
       "Text(0, 0.5, '% of Variance Explained <= k')"
      ]
     },
     "execution_count": 68,
     "metadata": {},
     "output_type": "execute_result"
    },
    {
     "data": {
      "image/png": "[encoded data removed]",
      "text/plain": [
       "<Figure size 432x288 with 1 Axes>"
      ]
     },
     "metadata": {
      "needs_background": "light"
     },
     "output_type": "display_data"
    }
   ],
   "source": [
    "# Scree Plot\n",
    "plt.plot(np.cumsum(explained_variance_ratio), marker=\"o\")\n",
    "plt.title('Scree Plot')\n",
    "plt.xlabel('Principal Component (k)')\n",
    "plt.ylabel('% of Variance Explained <= k')"
   ]
  },
  {
   "cell_type": "code",
   "execution_count": 69,
   "metadata": {},
   "outputs": [
    {
     "data": {
      "text/plain": [
       "array([[ 0.36138659, -0.08452251,  0.85667061,  0.3582892 ],\n",
       "       [-0.65658877, -0.73016143,  0.17337266,  0.07548102]])"
      ]
     },
     "execution_count": 69,
     "metadata": {},
     "output_type": "execute_result"
    }
   ],
   "source": [
    "top_2_eigenvectors = eig_vec_cov[:, :2].T\n",
    "top_2_eigenvectors"
   ]
  },
  {
   "cell_type": "code",
   "execution_count": 70,
   "metadata": {},
   "outputs": [
    {
     "data": {
      "text/plain": [
       "array([[ 2.81823951, -5.64634982],\n",
       "       [ 2.78822345, -5.14995135],\n",
       "       [ 2.61337456, -5.18200315],\n",
       "       [ 2.75702228, -5.0086536 ],\n",
       "       [ 2.7736486 , -5.65370709]])"
      ]
     },
     "execution_count": 70,
     "metadata": {},
     "output_type": "execute_result"
    }
   ],
   "source": [
    "# Calculate dot product to get transformed features w.r.to PCAs\n",
    "np.dot(iris_X, top_2_eigenvectors.T)[ :5, ]"
   ]
  },
  {
   "cell_type": "markdown",
   "metadata": {},
   "source": [
    "#### Scikit-learn's PCA"
   ]
  },
  {
   "cell_type": "code",
   "execution_count": 71,
   "metadata": {},
   "outputs": [
    {
     "data": {
      "text/plain": [
       "array([[ 0.36138659, -0.08452251,  0.85667061,  0.3582892 ],\n",
       "       [ 0.65658877,  0.73016143, -0.17337266, -0.07548102]])"
      ]
     },
     "execution_count": 71,
     "metadata": {},
     "output_type": "execute_result"
    }
   ],
   "source": [
    "from sklearn.decomposition import PCA\n",
    "\n",
    "pca = PCA(n_components = 2)\n",
    "pca.fit(iris_X)\n",
    "\n",
    "# Get top 2 eigen vectors\n",
    "pca.components_"
   ]
  },
  {
   "cell_type": "code",
   "execution_count": 72,
   "metadata": {},
   "outputs": [
    {
     "data": {
      "text/plain": [
       "array([[-2.68412563,  0.31939725],\n",
       "       [-2.71414169, -0.17700123],\n",
       "       [-2.88899057, -0.14494943],\n",
       "       [-2.74534286, -0.31829898],\n",
       "       [-2.72871654,  0.32675451]])"
      ]
     },
     "execution_count": 72,
     "metadata": {},
     "output_type": "execute_result"
    }
   ],
   "source": [
    "# Project iris data onto PCAs\n",
    "# Notice that our projected data does not match up with the projected data we got before at all(in manual procedure above). \n",
    "# This is because the scikitlearn version of PCA automatically centers data in the prediction phase, \n",
    "# which changes the outcome\n",
    "\n",
    "pca.transform(iris_X)[:5, ]"
   ]
  },
  {
   "cell_type": "code",
   "execution_count": 73,
   "metadata": {},
   "outputs": [
    {
     "data": {
      "text/plain": [
       "array([[-2.68412563, -0.31939725],\n",
       "       [-2.71414169,  0.17700123],\n",
       "       [-2.88899057,  0.14494943],\n",
       "       [-2.74534286,  0.31829898],\n",
       "       [-2.72871654, -0.32675451]])"
      ]
     },
     "execution_count": 73,
     "metadata": {},
     "output_type": "execute_result"
    }
   ],
   "source": [
    "# We can mimic this by altering a single line in our version to match\n",
    "\n",
    "np.dot(iris_X-mean_vector, top_2_eigenvectors.T)[:5,]"
   ]
  },
  {
   "cell_type": "code",
   "execution_count": 74,
   "metadata": {},
   "outputs": [
    {
     "data": {
      "image/png": "[encoded data removed]",
      "text/plain": [
       "<Figure size 432x288 with 1 Axes>"
      ]
     },
     "metadata": {
      "needs_background": "light"
     },
     "output_type": "display_data"
    },
    {
     "data": {
      "image/png": "[encoded data removed]",
      "text/plain": [
       "<Figure size 432x288 with 1 Axes>"
      ]
     },
     "metadata": {
      "needs_background": "light"
     },
     "output_type": "display_data"
    }
   ],
   "source": [
    "# Let's make a quick plot of the projected iris data and compare what the dataset looks like before and after \n",
    "# projecting onto our new coordinate system\n",
    "\n",
    "plot(iris_X, iris_y, \"Original Iris Data\", \"sepal length (cm)\", \"sepal width (cm)\")\n",
    "plt.show()\n",
    "\n",
    "plot(pca.transform(iris_X), iris_y, \"Iris: Data projected onto first two PCA components\", \"PCA 1\", \"PCA 2\")\n"
   ]
  },
  {
   "cell_type": "code",
   "execution_count": 75,
   "metadata": {},
   "outputs": [
    {
     "data": {
      "text/plain": [
       "array([0.92461872, 0.05306648])"
      ]
     },
     "execution_count": 75,
     "metadata": {},
     "output_type": "execute_result"
    }
   ],
   "source": [
    "# Percentage of variance explained by each PCA\n",
    "# PCA 1 - 92.5 %\n",
    "# PCA 2 -  5.3 %\n",
    "\n",
    "pca.explained_variance_ratio_"
   ]
  },
  {
   "cell_type": "markdown",
   "metadata": {},
   "source": [
    "#### Linear Discriminant Analysis (LDA) - Manual"
   ]
  },
  {
   "cell_type": "code",
   "execution_count": 76,
   "metadata": {},
   "outputs": [
    {
     "name": "stdout",
     "output_type": "stream",
     "text": [
      "setosa [5.006 3.428 1.462 0.246]\n",
      "versicolor [5.936 2.77  4.26  1.326]\n",
      "virginica [6.588 2.974 5.552 2.026]\n"
     ]
    }
   ],
   "source": [
    "# Calculate mean vector of each class\n",
    "\n",
    "mean_vectors = []\n",
    "for cl in [0, 1, 2]:\n",
    "    class_mean_vector = np.mean(iris_X[iris_y == cl], axis = 0)\n",
    "    mean_vectors.append(class_mean_vector)\n",
    "    print(label_dict[cl], class_mean_vector)"
   ]
  },
  {
   "cell_type": "code",
   "execution_count": 77,
   "metadata": {},
   "outputs": [
    {
     "data": {
      "text/plain": [
       "array([[38.9562, 13.63  , 24.6246,  5.645 ],\n",
       "       [13.63  , 16.962 ,  8.1208,  4.8084],\n",
       "       [24.6246,  8.1208, 27.2226,  6.2718],\n",
       "       [ 5.645 ,  4.8084,  6.2718,  6.1566]])"
      ]
     },
     "execution_count": 77,
     "metadata": {},
     "output_type": "execute_result"
    }
   ],
   "source": [
    "# Calculate within-class scatter matrix (SW)\n",
    "\n",
    "S_W = np.zeros((4, 4))\n",
    "\n",
    "for cl, mv in zip([0, 1, 2], mean_vectors):\n",
    "    class_sc_mat = np.zeros((4, 4))\n",
    "    for row in iris_X[iris_y == cl]:\n",
    "        row, mv = row.reshape(4, 1), mv.reshape(4, 1)\n",
    "        class_sc_mat += (row - mv).dot((row - mv).T)\n",
    "    S_W += class_sc_mat\n",
    "S_W"
   ]
  },
  {
   "cell_type": "code",
   "execution_count": 78,
   "metadata": {},
   "outputs": [
    {
     "data": {
      "text/plain": [
       "array([[ 63.21213333, -19.95266667, 165.2484    ,  71.27933333],\n",
       "       [-19.95266667,  11.34493333, -57.2396    , -22.93266667],\n",
       "       [165.2484    , -57.2396    , 437.1028    , 186.774     ],\n",
       "       [ 71.27933333, -22.93266667, 186.774     ,  80.41333333]])"
      ]
     },
     "execution_count": 78,
     "metadata": {},
     "output_type": "execute_result"
    }
   ],
   "source": [
    "# Calculate between-class scatter matrix (SB)\n",
    "\n",
    "overall_mean = np.mean(iris_X, axis=0).reshape(4, 1)\n",
    "S_B = np.zeros((4, 4))\n",
    "for i, mean_vec in enumerate(mean_vectors):\n",
    "    n = iris_X[iris_y == i, :].shape[0]\n",
    "    mean_vec = mean_vec.reshape(4, 1)\n",
    "    S_B += n * (mean_vec - overall_mean).dot((mean_vec - overall_mean).T)\n",
    "S_B"
   ]
  },
  {
   "cell_type": "markdown",
   "metadata": {},
   "source": [
    "Calculate eigen values and eigen vectors of $S^{-1}_W S_B$"
   ]
  },
  {
   "cell_type": "code",
   "execution_count": 79,
   "metadata": {},
   "outputs": [],
   "source": [
    "eig_vals, eig_vecs = np.linalg.eig(np.dot(np.linalg.inv(S_W), S_B))\n",
    "eig_vals = eig_vals.real\n",
    "eig_vecs = eig_vecs.real"
   ]
  },
  {
   "cell_type": "code",
   "execution_count": 80,
   "metadata": {},
   "outputs": [
    {
     "name": "stdout",
     "output_type": "stream",
     "text": [
      "Eigen vector  1  =  [ 0.20874182  0.38620369 -0.55401172 -0.7073504 ]\n",
      "Eigen value 1  =  32.19192919827801\n",
      "\n",
      "Eigen vector  2  =  [-0.00653196 -0.58661055  0.25256154 -0.76945309]\n",
      "Eigen value 2  =  0.2853910426230734\n",
      "\n",
      "Eigen vector  3  =  [ 0.88493633 -0.28315325 -0.25879109 -0.26408162]\n",
      "Eigen value 3  =  3.122123344961963e-16\n",
      "\n",
      "Eigen vector  4  =  [-0.58376426  0.44506636  0.48295873 -0.47737417]\n",
      "Eigen value 4  =  -6.506451270892598e-15\n",
      "\n"
     ]
    }
   ],
   "source": [
    "# Note that the 3rd, 4th eigen values are almost zero\n",
    "\n",
    "for i in range(len(eig_vals)):\n",
    "    eigvec_sc = eig_vecs[:, i]\n",
    "    print(\"Eigen vector \", i+1, \" = \", eigvec_sc)\n",
    "    print(\"Eigen value\", i+1, \" = \", eig_vals[i])\n",
    "    print()"
   ]
  },
  {
   "cell_type": "code",
   "execution_count": 81,
   "metadata": {},
   "outputs": [
    {
     "data": {
      "text/plain": [
       "array([[ 0.20874182,  0.38620369, -0.55401172, -0.7073504 ],\n",
       "       [-0.00653196, -0.58661055,  0.25256154, -0.76945309]])"
      ]
     },
     "execution_count": 81,
     "metadata": {},
     "output_type": "execute_result"
    }
   ],
   "source": [
    "# Keep the top two linear discriminants\n",
    "\n",
    "linear_discriminants = eig_vecs.T[:2]\n",
    "\n",
    "linear_discriminants"
   ]
  },
  {
   "cell_type": "code",
   "execution_count": 82,
   "metadata": {},
   "outputs": [
    {
     "data": {
      "text/plain": [
       "array([ 9.91212605e-01,  8.78739503e-03,  9.61324186e-18, -2.00338304e-16])"
      ]
     },
     "execution_count": 82,
     "metadata": {},
     "output_type": "execute_result"
    }
   ],
   "source": [
    "# Explained variance ratios\n",
    "# Note that first component is doing 99% of the work\n",
    "eig_vals / eig_vals.sum()"
   ]
  },
  {
   "cell_type": "code",
   "execution_count": 83,
   "metadata": {},
   "outputs": [
    {
     "data": {
      "text/plain": [
       "array([[ 1.49920971, -1.88675441],\n",
       "       [ 1.2643595 , -1.59214275],\n",
       "       [ 1.35525305, -1.73341462],\n",
       "       [ 1.18495616, -1.62358806],\n",
       "       [ 1.5169559 , -1.94476227]])"
      ]
     },
     "execution_count": 83,
     "metadata": {},
     "output_type": "execute_result"
    }
   ],
   "source": [
    "# Use the top eigen vectors to project onto new space\n",
    "lda_iris_projection = np.dot(iris_X, linear_discriminants.T)\n",
    "lda_iris_projection[:5, ]"
   ]
  },
  {
   "cell_type": "code",
   "execution_count": 84,
   "metadata": {},
   "outputs": [
    {
     "data": {
      "image/png": "[encoded data removed]",
      "text/plain": [
       "<Figure size 432x288 with 1 Axes>"
      ]
     },
     "metadata": {
      "needs_background": "light"
     },
     "output_type": "display_data"
    }
   ],
   "source": [
    "# Notice that in this graph, the data is standing almost fully upright (even more than PCA projected data), \n",
    "# as if the LDA components are trying to help machine learning models separate the flowers as much as possible by\n",
    "# drawing these decision boundaries and providing eigenvectors/linear discriminants. \n",
    "# This helps us project data into a space that separates classes as much as possible.\n",
    "\n",
    "plot(lda_iris_projection, iris_y, \"LDA Projection\", \"LDA1\", \"LDA2\")"
   ]
  },
  {
   "cell_type": "markdown",
   "metadata": {},
   "source": [
    "#### Linear Discriminant Analysis (LDA) - Scikit Learn"
   ]
  },
  {
   "cell_type": "code",
   "execution_count": 85,
   "metadata": {},
   "outputs": [
    {
     "data": {
      "image/png": "[encoded data removed]",
      "text/plain": [
       "<Figure size 432x288 with 1 Axes>"
      ]
     },
     "metadata": {
      "needs_background": "light"
     },
     "output_type": "display_data"
    }
   ],
   "source": [
    "from sklearn.discriminant_analysis import LinearDiscriminantAnalysis\n",
    "\n",
    "# instantiate the LDA module\n",
    "lda = LinearDiscriminantAnalysis(n_components=2)\n",
    "\n",
    "# fit and transform our original iris data\n",
    "X_lda_iris = lda.fit_transform(iris_X, iris_y)\n",
    "\n",
    "# plot the projected data\n",
    "plot(X_lda_iris, iris_y, \"LDA Projection\", \"LDA1\", \"LDA2\")"
   ]
  },
  {
   "cell_type": "code",
   "execution_count": 86,
   "metadata": {},
   "outputs": [
    {
     "name": "stdout",
     "output_type": "stream",
     "text": [
      "[-3.97322221 -3.97322221 -3.97322221 -3.97322221]\n",
      "[-3.68987776 -3.68987776 -3.68987776 -3.68987776]\n"
     ]
    }
   ],
   "source": [
    "# show that the sklearn components are just a scalar multiplication from the manual components we \n",
    "for manual_component, sklearn_component in zip(eig_vecs.T[:2], lda.scalings_.T):\n",
    "    print (sklearn_component / manual_component)"
   ]
  },
  {
   "cell_type": "code",
   "execution_count": 87,
   "metadata": {},
   "outputs": [
    {
     "data": {
      "text/plain": [
       "array([0.9912126, 0.0087874])"
      ]
     },
     "execution_count": 87,
     "metadata": {},
     "output_type": "execute_result"
    }
   ],
   "source": [
    "# same as manual calculations\n",
    "lda.explained_variance_ratio_"
   ]
  },
  {
   "cell_type": "code",
   "execution_count": 88,
   "metadata": {},
   "outputs": [
    {
     "data": {
      "text/plain": [
       "array([[-0.82937764,  0.02410215],\n",
       "       [-1.53447307,  2.16452123],\n",
       "       [ 2.20121166, -0.93192121],\n",
       "       [ 2.81046031,  2.83918785]])"
      ]
     },
     "execution_count": 88,
     "metadata": {},
     "output_type": "execute_result"
    }
   ],
   "source": [
    "# essentially the same as pca.components_, but transposed (4x2 instead of 2x4)\n",
    "lda.scalings_  "
   ]
  },
  {
   "cell_type": "code",
   "execution_count": 89,
   "metadata": {},
   "outputs": [
    {
     "ename": "NameError",
     "evalue": "name 'X_scaled' is not defined",
     "output_type": "error",
     "traceback": [
      "\u001b[1;31m---------------------------------------------------------------------------\u001b[0m",
      "\u001b[1;31mNameError\u001b[0m                                 Traceback (most recent call last)",
      "\u001b[1;32m<ipython-input-89-7b619bc9de5c>\u001b[0m in \u001b[0;36m<module>\u001b[1;34m()\u001b[0m\n\u001b[0;32m      1\u001b[0m \u001b[1;31m# fit our LDA to scaled data\u001b[0m\u001b[1;33m\u001b[0m\u001b[1;33m\u001b[0m\u001b[0m\n\u001b[1;32m----> 2\u001b[1;33m \u001b[0mX_lda_iris\u001b[0m \u001b[1;33m=\u001b[0m \u001b[0mlda\u001b[0m\u001b[1;33m.\u001b[0m\u001b[0mfit_transform\u001b[0m\u001b[1;33m(\u001b[0m\u001b[0mX_scaled\u001b[0m\u001b[1;33m,\u001b[0m \u001b[0miris_y\u001b[0m\u001b[1;33m)\u001b[0m\u001b[1;33m\u001b[0m\u001b[0m\n\u001b[0m",
      "\u001b[1;31mNameError\u001b[0m: name 'X_scaled' is not defined"
     ]
    }
   ],
   "source": [
    "# fit our LDA to scaled data\n",
    "X_lda_iris = lda.fit_transform(X_scaled, iris_y)"
   ]
  },
  {
   "cell_type": "code",
   "execution_count": null,
   "metadata": {},
   "outputs": [],
   "source": [
    "lda.scalings_  # different scalings when data are scaled"
   ]
  },
  {
   "cell_type": "code",
   "execution_count": null,
   "metadata": {},
   "outputs": [],
   "source": [
    "# LDA1 is the best axis for SEPERATING the classes"
   ]
  },
  {
   "cell_type": "code",
   "execution_count": null,
   "metadata": {},
   "outputs": [],
   "source": [
    "# fit our LDA to our truncated iris dataset\n",
    "iris_2_dim_transformed_lda = lda.fit_transform(iris_2_dim, iris_y)"
   ]
  },
  {
   "cell_type": "code",
   "execution_count": null,
   "metadata": {},
   "outputs": [],
   "source": [
    "# project data\n",
    "iris_2_dim_transformed_lda[:5,]"
   ]
  },
  {
   "cell_type": "code",
   "execution_count": null,
   "metadata": {},
   "outputs": [],
   "source": [
    "# different notation\n",
    "components = lda.scalings_.T  # transposing to get same usage as PCA. I want the rows to be our components\n",
    "print components\n",
    "\n",
    "np.dot(iris_2_dim, components.T)[:5,]  # same as transform method"
   ]
  },
  {
   "cell_type": "code",
   "execution_count": null,
   "metadata": {},
   "outputs": [],
   "source": [
    "np.corrcoef(iris_2_dim.T)  # original features are highly correllated"
   ]
  },
  {
   "cell_type": "code",
   "execution_count": null,
   "metadata": {},
   "outputs": [],
   "source": [
    "# new LDA features are highly uncorrellated, like in PCA\n",
    "np.corrcoef(iris_2_dim_transformed_lda.T)  "
   ]
  },
  {
   "cell_type": "code",
   "execution_count": null,
   "metadata": {},
   "outputs": [],
   "source": [
    "# This code is graphing both the original iris data and the projected version of it using LDA.\n",
    "# Moreover, on each graph, the scalings of the LDA are graphed as vectors on the data themselves\n",
    "# The longer of the arrows is meant to describe the first scaling vector and\n",
    "# the shorter of the arrows describes the second scaling vector\n",
    "def draw_vector(v0, v1, ax):\n",
    "    arrowprops=dict(arrowstyle='->',\n",
    "                    linewidth=2,\n",
    "                    shrinkA=0, shrinkB=0)\n",
    "    ax.annotate('', v1, v0, arrowprops=arrowprops)\n",
    "    \n",
    "fig, ax = plt.subplots(2, 1, figsize=(10, 10))\n",
    "fig.subplots_adjust(left=0.0625, right=0.95, wspace=0.1)\n",
    "\n",
    "# plot data\n",
    "ax[0].scatter(iris_2_dim[:, 0], iris_2_dim[:, 1], alpha=0.2)\n",
    "for length, vector in zip(lda.explained_variance_ratio_, components):\n",
    "    v = vector * .5\n",
    "    draw_vector(lda.xbar_, lda.xbar_ + v, ax=ax[0])  # lda.xbar_ is equivalent to pca.mean_\n",
    "ax[0].axis('equal')\n",
    "ax[0].set(xlabel='x', ylabel='y', title='Original Iris Dataset',\n",
    "         xlim=(-3, 3), ylim=(-3, 3))\n",
    "\n",
    "ax[1].scatter(iris_2_dim_transformed_lda[:, 0], iris_2_dim_transformed_lda[:, 1], alpha=0.2)\n",
    "for length, vector in zip(lda.explained_variance_ratio_, components):\n",
    "    transformed_component = lda.transform([vector])[0]\n",
    "    v = transformed_component * .1\n",
    "    draw_vector(iris_2_dim_transformed_lda.mean(axis=0), iris_2_dim_transformed_lda.mean(axis=0) + v, ax=ax[1])\n",
    "ax[1].axis('equal')\n",
    "ax[1].set(xlabel='lda component 1', ylabel='lda component 2',\n",
    "          title='Linear Discriminant Analysis Projected Data',\n",
    "          xlim=(-10, 10), ylim=(-3, 3))"
   ]
  },
  {
   "cell_type": "code",
   "execution_count": null,
   "metadata": {},
   "outputs": [],
   "source": [
    "# notice how the component, instead of going with the variance of the data\n",
    "# goes almost perpendicular to it, its following the seperation of the classes instead\n",
    "# note how its almost parallel with the gap between the flowers on the left and right side\n",
    "# LDA is trying to capture the separation between classes"
   ]
  },
  {
   "cell_type": "code",
   "execution_count": null,
   "metadata": {},
   "outputs": [],
   "source": [
    "from sklearn.neighbors import KNeighborsClassifier\n",
    "from sklearn.pipeline import Pipeline\n",
    "from sklearn.model_selection import cross_val_score"
   ]
  },
  {
   "cell_type": "code",
   "execution_count": null,
   "metadata": {},
   "outputs": [],
   "source": [
    "# Create a PCA module to keep a single component\n",
    "single_pca = PCA(n_components=1)\n",
    "\n",
    "# Create a LDA module to keep a single component\n",
    "single_lda = LinearDiscriminantAnalysis(n_components=1)\n",
    "\n",
    "# Instantiate a KNN model\n",
    "knn = KNeighborsClassifier(n_neighbors=3)"
   ]
  },
  {
   "cell_type": "code",
   "execution_count": null,
   "metadata": {},
   "outputs": [],
   "source": [
    "# run a cross validation on the KNN without any feature transformation\n",
    "knn_average = cross_val_score(knn, iris_X, iris_y).mean()\n",
    "\n",
    "# This is a baseline accuracy. If we did nothing, KNN on its own achieves a 98% accuracy\n",
    "knn_average"
   ]
  },
  {
   "cell_type": "code",
   "execution_count": null,
   "metadata": {},
   "outputs": [],
   "source": [
    "%%timeit\n",
    "knn_average = cross_val_score(knn, iris_X, iris_y).mean()"
   ]
  },
  {
   "cell_type": "code",
   "execution_count": null,
   "metadata": {},
   "outputs": [],
   "source": [
    "# create a pipeline that performs PCA\n",
    "pca_pipeline = Pipeline([('pca', single_pca), ('knn', knn)])\n",
    "\n",
    "pca_average = cross_val_score(pca_pipeline, iris_X, iris_y).mean()\n",
    "\n",
    "pca_average"
   ]
  },
  {
   "cell_type": "code",
   "execution_count": null,
   "metadata": {},
   "outputs": [],
   "source": [
    "%%timeit \n",
    "cross_val_score(pca_pipeline, iris_X, iris_y).mean()"
   ]
  },
  {
   "cell_type": "code",
   "execution_count": null,
   "metadata": {},
   "outputs": [],
   "source": [
    "lda_pipeline = Pipeline([('lda', single_lda), ('knn', knn)])\n",
    "\n",
    "lda_average = cross_val_score(lda_pipeline, iris_X, iris_y).mean()\n",
    "\n",
    "# better prediction accuracy than PCA by a good amount, but not as good as original\n",
    "lda_average"
   ]
  },
  {
   "cell_type": "code",
   "execution_count": null,
   "metadata": {},
   "outputs": [],
   "source": [
    "%%timeit \n",
    "cross_val_score(lda_pipeline, iris_X, iris_y).mean()"
   ]
  },
  {
   "cell_type": "code",
   "execution_count": null,
   "metadata": {},
   "outputs": [],
   "source": [
    "# LDA is much better at creating axes for classification purposes"
   ]
  },
  {
   "cell_type": "code",
   "execution_count": null,
   "metadata": {},
   "outputs": [],
   "source": [
    "# try LDA with 2 components\n",
    "lda_pipeline = Pipeline([('lda', LinearDiscriminantAnalysis(n_components=2)), \n",
    "                         ('knn', knn)])\n",
    "\n",
    "lda_average = cross_val_score(lda_pipeline, iris_X, iris_y).mean()\n",
    "\n",
    "# Just as good as using original data\n",
    "lda_average"
   ]
  },
  {
   "cell_type": "code",
   "execution_count": null,
   "metadata": {},
   "outputs": [],
   "source": [
    "%%timeit\n",
    "cross_val_score(lda_pipeline, iris_X, iris_y).mean()"
   ]
  },
  {
   "cell_type": "code",
   "execution_count": null,
   "metadata": {},
   "outputs": [],
   "source": [
    "# compare our feature transformation tools to a feature selection tool\n",
    "from sklearn.feature_selection import SelectKBest\n",
    "# try all possible values for k, excluding keeping all columns\n",
    "for k in [1, 2, 3]:\n",
    "    # make the pipeline\n",
    "    select_pipeline = Pipeline([('select', SelectKBest(k=k)), ('knn', knn)])\n",
    "    # cross validate the pipeline\n",
    "    select_average = cross_val_score(select_pipeline, iris_X, iris_y).mean()\n",
    "    print k, \"best feature has accuracy:\", select_average\n",
    "    \n",
    "# LDA is even better than the best selectkbest"
   ]
  },
  {
   "cell_type": "code",
   "execution_count": null,
   "metadata": {},
   "outputs": [],
   "source": [
    "%%timeit\n",
    "cross_val_score(select_pipeline, iris_X, iris_y).mean()"
   ]
  },
  {
   "cell_type": "code",
   "execution_count": null,
   "metadata": {},
   "outputs": [],
   "source": [
    "def get_best_model_and_accuracy(model, params, X, y):\n",
    "    grid = GridSearchCV(model,           # the model to grid search\n",
    "                        params,          # the parameter set to try \n",
    "                        error_score=0.)  # if a parameter set raises an error, continue and set the performance as a big, fat 0\n",
    "    grid.fit(X, y)           # fit the model and parameters\n",
    "    # our classical metric for performance\n",
    "    print \"Best Accuracy: {}\".format(grid.best_score_)\n",
    "    # the best parameters that caused the best accuracy\n",
    "    print \"Best Parameters: {}\".format(grid.best_params_)\n",
    "    # the average time it took a model to fit to the data (in seconds)\n",
    "    print \"Average Time to Fit (s): {}\".format(round(grid.cv_results_['mean_fit_time'].mean(), 3))\n",
    "    # the average time it took a model to predict out of sample data (in seconds)\n",
    "    # this metric gives us insight into how this model will perform in real-time analysis\n",
    "    print \"Average Time to Score (s): {}\".format(round(grid.cv_results_['mean_score_time'].mean(), 3))"
   ]
  },
  {
   "cell_type": "code",
   "execution_count": null,
   "metadata": {},
   "outputs": [],
   "source": [
    "from sklearn.model_selection import GridSearchCV\n",
    "iris_params = {\n",
    "                'preprocessing__scale__with_std': [True, False],\n",
    "                'preprocessing__scale__with_mean': [True, False],\n",
    "                'preprocessing__pca__n_components':[1, 2, 3, 4], \n",
    "                \n",
    "                # according to scikit-learn docs, max allowed n_components for LDA is number of classes - 1\n",
    "                'preprocessing__lda__n_components':[1, 2],  \n",
    "                \n",
    "                'clf__n_neighbors': range(1, 9)\n",
    "              }\n",
    "# make a larger pipeline\n",
    "preprocessing = Pipeline([('scale', StandardScaler()), \n",
    "                          ('pca', PCA()), \n",
    "                          ('lda', LinearDiscriminantAnalysis())])\n",
    "\n",
    "\n",
    "iris_pipeline = Pipeline(steps=[('preprocessing', preprocessing), \n",
    "                                ('clf', KNeighborsClassifier())])\n"
   ]
  },
  {
   "cell_type": "code",
   "execution_count": null,
   "metadata": {},
   "outputs": [],
   "source": [
    "get_best_model_and_accuracy(iris_pipeline, iris_params, iris_X, iris_y)"
   ]
  },
  {
   "cell_type": "code",
   "execution_count": null,
   "metadata": {},
   "outputs": [],
   "source": []
  },
  {
   "cell_type": "code",
   "execution_count": null,
   "metadata": {},
   "outputs": [],
   "source": []
  }
 ],
 "metadata": {
  "kernelspec": {
   "display_name": "Python 3",
   "language": "python",
   "name": "python3"
  },
  "language_info": {
   "codemirror_mode": {
    "name": "ipython",
    "version": 3
   },
   "file_extension": ".py",
   "mimetype": "text/x-python",
   "name": "python",
   "nbconvert_exporter": "python",
   "pygments_lexer": "ipython3",
   "version": "3.6.9"
  }
 },
 "nbformat": 4,
 "nbformat_minor": 2
}
