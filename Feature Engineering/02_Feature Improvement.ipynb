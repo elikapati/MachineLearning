{
 "cells": [
  {
   "cell_type": "code",
   "execution_count": 1,
   "metadata": {},
   "outputs": [],
   "source": [
    "# Feature Improvement\n",
    "# Clean and Augment datasets\n",
    "# Clean - process of altering rows and columns\n",
    "# Augment - process of removing and adding columns\n",
    "\n",
    "#  - Identify missing values\n",
    "#  - Impute missing values\n",
    "#  - Remove harmful data\n",
    "#  - Normalize / Standardize data\n",
    "#  - Construct new features\n",
    "#  - Select / Eliminate features either manually or automatically\n",
    "#  - Apply mathematical computations and transformations to get new dimensions of data"
   ]
  },
  {
   "cell_type": "code",
   "execution_count": 2,
   "metadata": {},
   "outputs": [],
   "source": [
    "# Exploratory Data Analysis\n",
    "import pandas as pd              # to store tabular data\n",
    "import numpy as np               # to do math\n",
    "import matplotlib.pyplot as plt  # for visualization\n",
    "import seaborn as sns            # for visualization\n",
    "\n",
    "%matplotlib inline\n",
    "plt.style.use('fivethirtyeight')"
   ]
  },
  {
   "cell_type": "code",
   "execution_count": 3,
   "metadata": {},
   "outputs": [
    {
     "data": {
      "text/html": [
       "<div>\n",
       "<style scoped>\n",
       "    .dataframe tbody tr th:only-of-type {\n",
       "        vertical-align: middle;\n",
       "    }\n",
       "\n",
       "    .dataframe tbody tr th {\n",
       "        vertical-align: top;\n",
       "    }\n",
       "\n",
       "    .dataframe thead th {\n",
       "        text-align: right;\n",
       "    }\n",
       "</style>\n",
       "<table border=\"1\" class=\"dataframe\">\n",
       "  <thead>\n",
       "    <tr style=\"text-align: right;\">\n",
       "      <th></th>\n",
       "      <th>6</th>\n",
       "      <th>148</th>\n",
       "      <th>72</th>\n",
       "      <th>35</th>\n",
       "      <th>0</th>\n",
       "      <th>33.6</th>\n",
       "      <th>0.627</th>\n",
       "      <th>50</th>\n",
       "      <th>1</th>\n",
       "    </tr>\n",
       "  </thead>\n",
       "  <tbody>\n",
       "    <tr>\n",
       "      <th>0</th>\n",
       "      <td>1</td>\n",
       "      <td>85</td>\n",
       "      <td>66</td>\n",
       "      <td>29</td>\n",
       "      <td>0</td>\n",
       "      <td>26.6</td>\n",
       "      <td>0.351</td>\n",
       "      <td>31</td>\n",
       "      <td>0</td>\n",
       "    </tr>\n",
       "    <tr>\n",
       "      <th>1</th>\n",
       "      <td>8</td>\n",
       "      <td>183</td>\n",
       "      <td>64</td>\n",
       "      <td>0</td>\n",
       "      <td>0</td>\n",
       "      <td>23.3</td>\n",
       "      <td>0.672</td>\n",
       "      <td>32</td>\n",
       "      <td>1</td>\n",
       "    </tr>\n",
       "    <tr>\n",
       "      <th>2</th>\n",
       "      <td>1</td>\n",
       "      <td>89</td>\n",
       "      <td>66</td>\n",
       "      <td>23</td>\n",
       "      <td>94</td>\n",
       "      <td>28.1</td>\n",
       "      <td>0.167</td>\n",
       "      <td>21</td>\n",
       "      <td>0</td>\n",
       "    </tr>\n",
       "    <tr>\n",
       "      <th>3</th>\n",
       "      <td>0</td>\n",
       "      <td>137</td>\n",
       "      <td>40</td>\n",
       "      <td>35</td>\n",
       "      <td>168</td>\n",
       "      <td>43.1</td>\n",
       "      <td>2.288</td>\n",
       "      <td>33</td>\n",
       "      <td>1</td>\n",
       "    </tr>\n",
       "    <tr>\n",
       "      <th>4</th>\n",
       "      <td>5</td>\n",
       "      <td>116</td>\n",
       "      <td>74</td>\n",
       "      <td>0</td>\n",
       "      <td>0</td>\n",
       "      <td>25.6</td>\n",
       "      <td>0.201</td>\n",
       "      <td>30</td>\n",
       "      <td>0</td>\n",
       "    </tr>\n",
       "  </tbody>\n",
       "</table>\n",
       "</div>"
      ],
      "text/plain": [
       "   6  148  72  35    0  33.6  0.627  50  1\n",
       "0  1   85  66  29    0  26.6  0.351  31  0\n",
       "1  8  183  64   0    0  23.3  0.672  32  1\n",
       "2  1   89  66  23   94  28.1  0.167  21  0\n",
       "3  0  137  40  35  168  43.1  2.288  33  1\n",
       "4  5  116  74   0    0  25.6  0.201  30  0"
      ]
     },
     "execution_count": 3,
     "metadata": {},
     "output_type": "execute_result"
    }
   ],
   "source": [
    "# Notice we don't have column names in the dataset\n",
    "pima = pd.read_csv('Data/pima.data')\n",
    "pima.head()"
   ]
  },
  {
   "cell_type": "code",
   "execution_count": 4,
   "metadata": {},
   "outputs": [
    {
     "data": {
      "text/html": [
       "<div>\n",
       "<style scoped>\n",
       "    .dataframe tbody tr th:only-of-type {\n",
       "        vertical-align: middle;\n",
       "    }\n",
       "\n",
       "    .dataframe tbody tr th {\n",
       "        vertical-align: top;\n",
       "    }\n",
       "\n",
       "    .dataframe thead th {\n",
       "        text-align: right;\n",
       "    }\n",
       "</style>\n",
       "<table border=\"1\" class=\"dataframe\">\n",
       "  <thead>\n",
       "    <tr style=\"text-align: right;\">\n",
       "      <th></th>\n",
       "      <th>times_pregnant</th>\n",
       "      <th>plasma_glucose_concentration</th>\n",
       "      <th>diastolic_blood_pressure</th>\n",
       "      <th>triceps_thickness</th>\n",
       "      <th>serum_insulin</th>\n",
       "      <th>bmi</th>\n",
       "      <th>pedigree_function</th>\n",
       "      <th>age</th>\n",
       "      <th>onset_diabetes</th>\n",
       "    </tr>\n",
       "  </thead>\n",
       "  <tbody>\n",
       "    <tr>\n",
       "      <th>0</th>\n",
       "      <td>6</td>\n",
       "      <td>148</td>\n",
       "      <td>72</td>\n",
       "      <td>35</td>\n",
       "      <td>0</td>\n",
       "      <td>33.6</td>\n",
       "      <td>0.627</td>\n",
       "      <td>50</td>\n",
       "      <td>1</td>\n",
       "    </tr>\n",
       "    <tr>\n",
       "      <th>1</th>\n",
       "      <td>1</td>\n",
       "      <td>85</td>\n",
       "      <td>66</td>\n",
       "      <td>29</td>\n",
       "      <td>0</td>\n",
       "      <td>26.6</td>\n",
       "      <td>0.351</td>\n",
       "      <td>31</td>\n",
       "      <td>0</td>\n",
       "    </tr>\n",
       "    <tr>\n",
       "      <th>2</th>\n",
       "      <td>8</td>\n",
       "      <td>183</td>\n",
       "      <td>64</td>\n",
       "      <td>0</td>\n",
       "      <td>0</td>\n",
       "      <td>23.3</td>\n",
       "      <td>0.672</td>\n",
       "      <td>32</td>\n",
       "      <td>1</td>\n",
       "    </tr>\n",
       "    <tr>\n",
       "      <th>3</th>\n",
       "      <td>1</td>\n",
       "      <td>89</td>\n",
       "      <td>66</td>\n",
       "      <td>23</td>\n",
       "      <td>94</td>\n",
       "      <td>28.1</td>\n",
       "      <td>0.167</td>\n",
       "      <td>21</td>\n",
       "      <td>0</td>\n",
       "    </tr>\n",
       "    <tr>\n",
       "      <th>4</th>\n",
       "      <td>0</td>\n",
       "      <td>137</td>\n",
       "      <td>40</td>\n",
       "      <td>35</td>\n",
       "      <td>168</td>\n",
       "      <td>43.1</td>\n",
       "      <td>2.288</td>\n",
       "      <td>33</td>\n",
       "      <td>1</td>\n",
       "    </tr>\n",
       "  </tbody>\n",
       "</table>\n",
       "</div>"
      ],
      "text/plain": [
       "   times_pregnant  plasma_glucose_concentration  diastolic_blood_pressure  \\\n",
       "0               6                           148                        72   \n",
       "1               1                            85                        66   \n",
       "2               8                           183                        64   \n",
       "3               1                            89                        66   \n",
       "4               0                           137                        40   \n",
       "\n",
       "   triceps_thickness  serum_insulin   bmi  pedigree_function  age  \\\n",
       "0                 35              0  33.6              0.627   50   \n",
       "1                 29              0  26.6              0.351   31   \n",
       "2                  0              0  23.3              0.672   32   \n",
       "3                 23             94  28.1              0.167   21   \n",
       "4                 35            168  43.1              2.288   33   \n",
       "\n",
       "   onset_diabetes  \n",
       "0               1  \n",
       "1               0  \n",
       "2               1  \n",
       "3               0  \n",
       "4               1  "
      ]
     },
     "execution_count": 4,
     "metadata": {},
     "output_type": "execute_result"
    }
   ],
   "source": [
    "# Let us manually add the column names\n",
    "pima_column_names = ['times_pregnant', 'plasma_glucose_concentration', 'diastolic_blood_pressure', 'triceps_thickness', 'serum_insulin', 'bmi', 'pedigree_function', 'age', 'onset_diabetes']\n",
    "pima = pd.read_csv('Data/pima.data', names=pima_column_names)\n",
    "pima.head()"
   ]
  },
  {
   "cell_type": "code",
   "execution_count": 5,
   "metadata": {},
   "outputs": [
    {
     "data": {
      "text/plain": [
       "0    0.651042\n",
       "1    0.348958\n",
       "Name: onset_diabetes, dtype: float64"
      ]
     },
     "execution_count": 5,
     "metadata": {},
     "output_type": "execute_result"
    }
   ],
   "source": [
    "# Get \"Null Accuracy\" from the response variable\n",
    "# Notice 65% did not develop diabetes\n",
    "pima['onset_diabetes'].value_counts(normalize=True)"
   ]
  },
  {
   "cell_type": "code",
   "execution_count": 6,
   "metadata": {},
   "outputs": [
    {
     "data": {
      "image/png": "[encoded data removed]",
      "text/plain": [
       "<Figure size 432x288 with 1 Axes>"
      ]
     },
     "metadata": {
      "needs_background": "light"
     },
     "output_type": "display_data"
    }
   ],
   "source": [
    "# Let us watch the Glucose concentration between a diabetic and non-diabetic graphically\n",
    "# Observation: There seems to be a jump of Glucose Concentration in diabetics\n",
    "col = 'plasma_glucose_concentration'\n",
    "plt.hist(pima[pima['onset_diabetes'] == 0][col], alpha=0.5, label='non-diabetes')\n",
    "plt.hist(pima[pima['onset_diabetes'] == 1][col], alpha=0.5, label='diabetes')\n",
    "plt.legend()\n",
    "plt.xlabel(col)\n",
    "plt.ylabel('Frequency')\n",
    "plt.title('Histogram of {}'.format(col))\n",
    "plt.show()"
   ]
  },
  {
   "cell_type": "code",
   "execution_count": 7,
   "metadata": {},
   "outputs": [
    {
     "data": {
      "image/png": "[encoded data removed]",
      "text/plain": [
       "<Figure size 432x288 with 1 Axes>"
      ]
     },
     "metadata": {
      "needs_background": "light"
     },
     "output_type": "display_data"
    },
    {
     "data": {
      "image/png": "[encoded data removed]",
      "text/plain": [
       "<Figure size 432x288 with 1 Axes>"
      ]
     },
     "metadata": {
      "needs_background": "light"
     },
     "output_type": "display_data"
    },
    {
     "data": {
      "image/png": "[encoded data removed]",
      "text/plain": [
       "<Figure size 432x288 with 1 Axes>"
      ]
     },
     "metadata": {
      "needs_background": "light"
     },
     "output_type": "display_data"
    },
    {
     "data": {
      "image/png": "[encoded data removed]",
      "text/plain": [
       "<Figure size 432x288 with 1 Axes>"
      ]
     },
     "metadata": {
      "needs_background": "light"
     },
     "output_type": "display_data"
    },
    {
     "data": {
      "image/png": "[encoded data removed]",
      "text/plain": [
       "<Figure size 432x288 with 1 Axes>"
      ]
     },
     "metadata": {
      "needs_background": "light"
     },
     "output_type": "display_data"
    },
    {
     "data": {
      "image/png": "[encoded data removed]",
      "text/plain": [
       "<Figure size 432x288 with 1 Axes>"
      ]
     },
     "metadata": {
      "needs_background": "light"
     },
     "output_type": "display_data"
    },
    {
     "data": {
      "image/png": "[encoded data removed]",
      "text/plain": [
       "<Figure size 432x288 with 1 Axes>"
      ]
     },
     "metadata": {
      "needs_background": "light"
     },
     "output_type": "display_data"
    }
   ],
   "source": [
    "# Let us examine for other columns as well\n",
    "for col in ['times_pregnant', 'diastolic_blood_pressure', 'triceps_thickness', 'serum_insulin', 'bmi', 'pedigree_function', 'age']:\n",
    "    plt.hist(pima[pima['onset_diabetes'] == 0][col], alpha=0.5, label='non-diabetes')\n",
    "    plt.hist(pima[pima['onset_diabetes'] == 1][col], alpha=0.5, label='diabetes')\n",
    "    plt.legend()\n",
    "    plt.xlabel(col)\n",
    "    plt.ylabel('Frequency')\n",
    "    plt.title('Histogram of {}'.format(col))\n",
    "    plt.show()"
   ]
  },
  {
   "cell_type": "code",
   "execution_count": 8,
   "metadata": {},
   "outputs": [
    {
     "data": {
      "text/plain": [
       "<matplotlib.axes._subplots.AxesSubplot at 0x1daecff6390>"
      ]
     },
     "execution_count": 8,
     "metadata": {},
     "output_type": "execute_result"
    },
    {
     "data": {
      "image/png": "[encoded data removed]",
      "text/plain": [
       "<Figure size 432x288 with 2 Axes>"
      ]
     },
     "metadata": {
      "needs_background": "light"
     },
     "output_type": "display_data"
    }
   ],
   "source": [
    "# Let us verify our observation - \"There seems to be a jump of Glucose Concentration in diabetics\" from correlation heatmap\n",
    "# As we can notice from the heat map, among all the features, plasma_glucose_concentration has strong correlation with\n",
    "# onset_diabetes as indicated by the dark red color and the reading of 0.5. [See the last row titled 'onset_diabetes'. \n",
    "# It shows all corr coef of 'onset_diabetes' with the rest of features]\n",
    "\n",
    "# How to read heat map?\n",
    "# Each square shows the correlation between the variables on each axis. Correlation ranges from -1 to +1. \n",
    "# Values closer to zero means there is no linear trend between the two variables. The closer to 1 the correlation is \n",
    "# the more positively correlated they are; that is as one increases so does the other and the closer to 1 \n",
    "# the stronger this relationship is. A correlation closer to -1 is similar, but instead of both increasing \n",
    "# one variable will decrease as the other increases. The diagonals are all 1/dark green because those squares are correlating \n",
    "# each variable to itself (so it's a perfect correlation). For the rest the larger the number and darker the color \n",
    "# the higher the correlation between the two variables. The plot is also symmetrical about the diagonal since the same two \n",
    "# variables are being paired together in those squares.\n",
    "\n",
    "sns.heatmap(pima.corr(), annot=True, fmt=\".1f\")"
   ]
  },
  {
   "cell_type": "code",
   "execution_count": 9,
   "metadata": {},
   "outputs": [
    {
     "data": {
      "text/plain": [
       "times_pregnant                  0.221898\n",
       "plasma_glucose_concentration    0.466581\n",
       "diastolic_blood_pressure        0.065068\n",
       "triceps_thickness               0.074752\n",
       "serum_insulin                   0.130548\n",
       "bmi                             0.292695\n",
       "pedigree_function               0.173844\n",
       "age                             0.238356\n",
       "onset_diabetes                  1.000000\n",
       "Name: onset_diabetes, dtype: float64"
      ]
     },
     "execution_count": 9,
     "metadata": {},
     "output_type": "execute_result"
    }
   ],
   "source": [
    "# Let us verify numerically the correlation\n",
    "# Notice that 'plasma_glucose_concentration' has high correlation coefficient of 0.466581 among others\n",
    "# Following values state that factors influencing a person to become diabetic are (in order):\n",
    "# - plasma_glucose_concentration, bmi, age, times_pregnant, etc.\n",
    "\n",
    "pima.corr()['onset_diabetes']"
   ]
  },
  {
   "cell_type": "code",
   "execution_count": 10,
   "metadata": {},
   "outputs": [
    {
     "data": {
      "text/plain": [
       "times_pregnant                  0\n",
       "plasma_glucose_concentration    0\n",
       "diastolic_blood_pressure        0\n",
       "triceps_thickness               0\n",
       "serum_insulin                   0\n",
       "bmi                             0\n",
       "pedigree_function               0\n",
       "age                             0\n",
       "onset_diabetes                  0\n",
       "dtype: int64"
      ]
     },
     "execution_count": 10,
     "metadata": {},
     "output_type": "execute_result"
    }
   ],
   "source": [
    "# Let us check for missing values, if any present in the dataset\n",
    "# It looks like there are no missing values. But let us check more closely to see if it is correct. \n",
    "# (In fact, we are being fooled by this statement. Let us continue further ..)\n",
    "\n",
    "pima.isnull().sum()"
   ]
  },
  {
   "cell_type": "code",
   "execution_count": 11,
   "metadata": {},
   "outputs": [
    {
     "data": {
      "text/plain": [
       "(768, 9)"
      ]
     },
     "execution_count": 11,
     "metadata": {},
     "output_type": "execute_result"
    }
   ],
   "source": [
    "# Let us see how many observations, columns we have in the dataset\n",
    "# Notice that Observations = 768, Columns = 9 (including response variable)\n",
    "\n",
    "pima.shape"
   ]
  },
  {
   "cell_type": "code",
   "execution_count": 12,
   "metadata": {},
   "outputs": [
    {
     "data": {
      "text/html": [
       "<div>\n",
       "<style scoped>\n",
       "    .dataframe tbody tr th:only-of-type {\n",
       "        vertical-align: middle;\n",
       "    }\n",
       "\n",
       "    .dataframe tbody tr th {\n",
       "        vertical-align: top;\n",
       "    }\n",
       "\n",
       "    .dataframe thead th {\n",
       "        text-align: right;\n",
       "    }\n",
       "</style>\n",
       "<table border=\"1\" class=\"dataframe\">\n",
       "  <thead>\n",
       "    <tr style=\"text-align: right;\">\n",
       "      <th></th>\n",
       "      <th>times_pregnant</th>\n",
       "      <th>plasma_glucose_concentration</th>\n",
       "      <th>diastolic_blood_pressure</th>\n",
       "      <th>triceps_thickness</th>\n",
       "      <th>serum_insulin</th>\n",
       "      <th>bmi</th>\n",
       "      <th>pedigree_function</th>\n",
       "      <th>age</th>\n",
       "      <th>onset_diabetes</th>\n",
       "    </tr>\n",
       "  </thead>\n",
       "  <tbody>\n",
       "    <tr>\n",
       "      <th>count</th>\n",
       "      <td>768.000000</td>\n",
       "      <td>768.000000</td>\n",
       "      <td>768.000000</td>\n",
       "      <td>768.000000</td>\n",
       "      <td>768.000000</td>\n",
       "      <td>768.000000</td>\n",
       "      <td>768.000000</td>\n",
       "      <td>768.000000</td>\n",
       "      <td>768.000000</td>\n",
       "    </tr>\n",
       "    <tr>\n",
       "      <th>mean</th>\n",
       "      <td>3.845052</td>\n",
       "      <td>120.894531</td>\n",
       "      <td>69.105469</td>\n",
       "      <td>20.536458</td>\n",
       "      <td>79.799479</td>\n",
       "      <td>31.992578</td>\n",
       "      <td>0.471876</td>\n",
       "      <td>33.240885</td>\n",
       "      <td>0.348958</td>\n",
       "    </tr>\n",
       "    <tr>\n",
       "      <th>std</th>\n",
       "      <td>3.369578</td>\n",
       "      <td>31.972618</td>\n",
       "      <td>19.355807</td>\n",
       "      <td>15.952218</td>\n",
       "      <td>115.244002</td>\n",
       "      <td>7.884160</td>\n",
       "      <td>0.331329</td>\n",
       "      <td>11.760232</td>\n",
       "      <td>0.476951</td>\n",
       "    </tr>\n",
       "    <tr>\n",
       "      <th>min</th>\n",
       "      <td>0.000000</td>\n",
       "      <td>0.000000</td>\n",
       "      <td>0.000000</td>\n",
       "      <td>0.000000</td>\n",
       "      <td>0.000000</td>\n",
       "      <td>0.000000</td>\n",
       "      <td>0.078000</td>\n",
       "      <td>21.000000</td>\n",
       "      <td>0.000000</td>\n",
       "    </tr>\n",
       "    <tr>\n",
       "      <th>25%</th>\n",
       "      <td>1.000000</td>\n",
       "      <td>99.000000</td>\n",
       "      <td>62.000000</td>\n",
       "      <td>0.000000</td>\n",
       "      <td>0.000000</td>\n",
       "      <td>27.300000</td>\n",
       "      <td>0.243750</td>\n",
       "      <td>24.000000</td>\n",
       "      <td>0.000000</td>\n",
       "    </tr>\n",
       "    <tr>\n",
       "      <th>50%</th>\n",
       "      <td>3.000000</td>\n",
       "      <td>117.000000</td>\n",
       "      <td>72.000000</td>\n",
       "      <td>23.000000</td>\n",
       "      <td>30.500000</td>\n",
       "      <td>32.000000</td>\n",
       "      <td>0.372500</td>\n",
       "      <td>29.000000</td>\n",
       "      <td>0.000000</td>\n",
       "    </tr>\n",
       "    <tr>\n",
       "      <th>75%</th>\n",
       "      <td>6.000000</td>\n",
       "      <td>140.250000</td>\n",
       "      <td>80.000000</td>\n",
       "      <td>32.000000</td>\n",
       "      <td>127.250000</td>\n",
       "      <td>36.600000</td>\n",
       "      <td>0.626250</td>\n",
       "      <td>41.000000</td>\n",
       "      <td>1.000000</td>\n",
       "    </tr>\n",
       "    <tr>\n",
       "      <th>max</th>\n",
       "      <td>17.000000</td>\n",
       "      <td>199.000000</td>\n",
       "      <td>122.000000</td>\n",
       "      <td>99.000000</td>\n",
       "      <td>846.000000</td>\n",
       "      <td>67.100000</td>\n",
       "      <td>2.420000</td>\n",
       "      <td>81.000000</td>\n",
       "      <td>1.000000</td>\n",
       "    </tr>\n",
       "  </tbody>\n",
       "</table>\n",
       "</div>"
      ],
      "text/plain": [
       "       times_pregnant  plasma_glucose_concentration  diastolic_blood_pressure  \\\n",
       "count      768.000000                    768.000000                768.000000   \n",
       "mean         3.845052                    120.894531                 69.105469   \n",
       "std          3.369578                     31.972618                 19.355807   \n",
       "min          0.000000                      0.000000                  0.000000   \n",
       "25%          1.000000                     99.000000                 62.000000   \n",
       "50%          3.000000                    117.000000                 72.000000   \n",
       "75%          6.000000                    140.250000                 80.000000   \n",
       "max         17.000000                    199.000000                122.000000   \n",
       "\n",
       "       triceps_thickness  serum_insulin         bmi  pedigree_function  \\\n",
       "count         768.000000     768.000000  768.000000         768.000000   \n",
       "mean           20.536458      79.799479   31.992578           0.471876   \n",
       "std            15.952218     115.244002    7.884160           0.331329   \n",
       "min             0.000000       0.000000    0.000000           0.078000   \n",
       "25%             0.000000       0.000000   27.300000           0.243750   \n",
       "50%            23.000000      30.500000   32.000000           0.372500   \n",
       "75%            32.000000     127.250000   36.600000           0.626250   \n",
       "max            99.000000     846.000000   67.100000           2.420000   \n",
       "\n",
       "              age  onset_diabetes  \n",
       "count  768.000000      768.000000  \n",
       "mean    33.240885        0.348958  \n",
       "std     11.760232        0.476951  \n",
       "min     21.000000        0.000000  \n",
       "25%     24.000000        0.000000  \n",
       "50%     29.000000        0.000000  \n",
       "75%     41.000000        1.000000  \n",
       "max     81.000000        1.000000  "
      ]
     },
     "execution_count": 12,
     "metadata": {},
     "output_type": "execute_result"
    }
   ],
   "source": [
    "# Let us check basic descriptive statistics\n",
    "# Note the columns showing min value as 0 are:\n",
    "#    times_pregnant, plasma_glucose_concentration, diastolic_blood_pressure, \n",
    "#    triceps_thickness, serum_insulin, bmi, onset_diabetes\n",
    "\n",
    "# bmi - can't be zero, so needs investigation (chances are if bmi is not available for a person, it could be equated with 0)\n",
    "# times_pregnant can take a meaningful 0. So, leaving this untouched we manually replace 0 with 'None' on other columns\n",
    "# This step helps us apply fillna and dropna methods correctly. \n",
    "\n",
    "pima.describe()"
   ]
  },
  {
   "cell_type": "code",
   "execution_count": 13,
   "metadata": {},
   "outputs": [
    {
     "data": {
      "text/plain": [
       "0"
      ]
     },
     "execution_count": 13,
     "metadata": {},
     "output_type": "execute_result"
    }
   ],
   "source": [
    "# Let us replace 0s with Nulls\n",
    "# Check for #Nulls in a column before replacement\n",
    "pima['serum_insulin'].isnull().sum()"
   ]
  },
  {
   "cell_type": "code",
   "execution_count": 14,
   "metadata": {},
   "outputs": [
    {
     "data": {
      "text/plain": [
       "374"
      ]
     },
     "execution_count": 14,
     "metadata": {},
     "output_type": "execute_result"
    }
   ],
   "source": [
    "# Replace 0s with Nulls\n",
    "pima['serum_insulin'] = pima['serum_insulin'].map(lambda x: x if x != 0 else None)\n",
    "\n",
    "# Check for #Nulls in a column after replacement\n",
    "# Notice that 374 0s got replaced with Nulls\n",
    "pima['serum_insulin'].isnull().sum()"
   ]
  },
  {
   "cell_type": "code",
   "execution_count": 15,
   "metadata": {},
   "outputs": [],
   "source": [
    "# Let us replace 0s with Nulls for multiple columns in an efficient way\n",
    "columns = ['plasma_glucose_concentration', 'diastolic_blood_pressure', 'triceps_thickness', 'serum_insulin', 'bmi']\n",
    "for col in columns:\n",
    "    pima[col].replace([0], [None], inplace=True)"
   ]
  },
  {
   "cell_type": "code",
   "execution_count": 16,
   "metadata": {},
   "outputs": [
    {
     "data": {
      "text/plain": [
       "times_pregnant                    0\n",
       "plasma_glucose_concentration      5\n",
       "diastolic_blood_pressure         35\n",
       "triceps_thickness               227\n",
       "serum_insulin                   374\n",
       "bmi                              11\n",
       "pedigree_function                 0\n",
       "age                               0\n",
       "onset_diabetes                    0\n",
       "dtype: int64"
      ]
     },
     "execution_count": 16,
     "metadata": {},
     "output_type": "execute_result"
    }
   ],
   "source": [
    "# Check replacements\n",
    "pima.isnull().sum()"
   ]
  },
  {
   "cell_type": "code",
   "execution_count": 17,
   "metadata": {},
   "outputs": [
    {
     "data": {
      "text/html": [
       "<div>\n",
       "<style scoped>\n",
       "    .dataframe tbody tr th:only-of-type {\n",
       "        vertical-align: middle;\n",
       "    }\n",
       "\n",
       "    .dataframe tbody tr th {\n",
       "        vertical-align: top;\n",
       "    }\n",
       "\n",
       "    .dataframe thead th {\n",
       "        text-align: right;\n",
       "    }\n",
       "</style>\n",
       "<table border=\"1\" class=\"dataframe\">\n",
       "  <thead>\n",
       "    <tr style=\"text-align: right;\">\n",
       "      <th></th>\n",
       "      <th>times_pregnant</th>\n",
       "      <th>plasma_glucose_concentration</th>\n",
       "      <th>diastolic_blood_pressure</th>\n",
       "      <th>triceps_thickness</th>\n",
       "      <th>serum_insulin</th>\n",
       "      <th>bmi</th>\n",
       "      <th>pedigree_function</th>\n",
       "      <th>age</th>\n",
       "      <th>onset_diabetes</th>\n",
       "    </tr>\n",
       "  </thead>\n",
       "  <tbody>\n",
       "    <tr>\n",
       "      <th>0</th>\n",
       "      <td>6</td>\n",
       "      <td>148</td>\n",
       "      <td>72</td>\n",
       "      <td>35</td>\n",
       "      <td>NaN</td>\n",
       "      <td>33.6</td>\n",
       "      <td>0.627</td>\n",
       "      <td>50</td>\n",
       "      <td>1</td>\n",
       "    </tr>\n",
       "    <tr>\n",
       "      <th>1</th>\n",
       "      <td>1</td>\n",
       "      <td>85</td>\n",
       "      <td>66</td>\n",
       "      <td>29</td>\n",
       "      <td>NaN</td>\n",
       "      <td>26.6</td>\n",
       "      <td>0.351</td>\n",
       "      <td>31</td>\n",
       "      <td>0</td>\n",
       "    </tr>\n",
       "    <tr>\n",
       "      <th>2</th>\n",
       "      <td>8</td>\n",
       "      <td>183</td>\n",
       "      <td>64</td>\n",
       "      <td>None</td>\n",
       "      <td>NaN</td>\n",
       "      <td>23.3</td>\n",
       "      <td>0.672</td>\n",
       "      <td>32</td>\n",
       "      <td>1</td>\n",
       "    </tr>\n",
       "    <tr>\n",
       "      <th>3</th>\n",
       "      <td>1</td>\n",
       "      <td>89</td>\n",
       "      <td>66</td>\n",
       "      <td>23</td>\n",
       "      <td>94.0</td>\n",
       "      <td>28.1</td>\n",
       "      <td>0.167</td>\n",
       "      <td>21</td>\n",
       "      <td>0</td>\n",
       "    </tr>\n",
       "    <tr>\n",
       "      <th>4</th>\n",
       "      <td>0</td>\n",
       "      <td>137</td>\n",
       "      <td>40</td>\n",
       "      <td>35</td>\n",
       "      <td>168.0</td>\n",
       "      <td>43.1</td>\n",
       "      <td>2.288</td>\n",
       "      <td>33</td>\n",
       "      <td>1</td>\n",
       "    </tr>\n",
       "  </tbody>\n",
       "</table>\n",
       "</div>"
      ],
      "text/plain": [
       "   times_pregnant plasma_glucose_concentration diastolic_blood_pressure  \\\n",
       "0               6                          148                       72   \n",
       "1               1                           85                       66   \n",
       "2               8                          183                       64   \n",
       "3               1                           89                       66   \n",
       "4               0                          137                       40   \n",
       "\n",
       "  triceps_thickness  serum_insulin   bmi  pedigree_function  age  \\\n",
       "0                35            NaN  33.6              0.627   50   \n",
       "1                29            NaN  26.6              0.351   31   \n",
       "2              None            NaN  23.3              0.672   32   \n",
       "3                23           94.0  28.1              0.167   21   \n",
       "4                35          168.0  43.1              2.288   33   \n",
       "\n",
       "   onset_diabetes  \n",
       "0               1  \n",
       "1               0  \n",
       "2               1  \n",
       "3               0  \n",
       "4               1  "
      ]
     },
     "execution_count": 17,
     "metadata": {},
     "output_type": "execute_result"
    }
   ],
   "source": [
    "pima.head()"
   ]
  },
  {
   "cell_type": "code",
   "execution_count": 18,
   "metadata": {},
   "outputs": [
    {
     "data": {
      "text/html": [
       "<div>\n",
       "<style scoped>\n",
       "    .dataframe tbody tr th:only-of-type {\n",
       "        vertical-align: middle;\n",
       "    }\n",
       "\n",
       "    .dataframe tbody tr th {\n",
       "        vertical-align: top;\n",
       "    }\n",
       "\n",
       "    .dataframe thead th {\n",
       "        text-align: right;\n",
       "    }\n",
       "</style>\n",
       "<table border=\"1\" class=\"dataframe\">\n",
       "  <thead>\n",
       "    <tr style=\"text-align: right;\">\n",
       "      <th></th>\n",
       "      <th>times_pregnant</th>\n",
       "      <th>serum_insulin</th>\n",
       "      <th>pedigree_function</th>\n",
       "      <th>age</th>\n",
       "      <th>onset_diabetes</th>\n",
       "    </tr>\n",
       "  </thead>\n",
       "  <tbody>\n",
       "    <tr>\n",
       "      <th>count</th>\n",
       "      <td>768.000000</td>\n",
       "      <td>394.000000</td>\n",
       "      <td>768.000000</td>\n",
       "      <td>768.000000</td>\n",
       "      <td>768.000000</td>\n",
       "    </tr>\n",
       "    <tr>\n",
       "      <th>mean</th>\n",
       "      <td>3.845052</td>\n",
       "      <td>155.548223</td>\n",
       "      <td>0.471876</td>\n",
       "      <td>33.240885</td>\n",
       "      <td>0.348958</td>\n",
       "    </tr>\n",
       "    <tr>\n",
       "      <th>std</th>\n",
       "      <td>3.369578</td>\n",
       "      <td>118.775855</td>\n",
       "      <td>0.331329</td>\n",
       "      <td>11.760232</td>\n",
       "      <td>0.476951</td>\n",
       "    </tr>\n",
       "    <tr>\n",
       "      <th>min</th>\n",
       "      <td>0.000000</td>\n",
       "      <td>14.000000</td>\n",
       "      <td>0.078000</td>\n",
       "      <td>21.000000</td>\n",
       "      <td>0.000000</td>\n",
       "    </tr>\n",
       "    <tr>\n",
       "      <th>25%</th>\n",
       "      <td>1.000000</td>\n",
       "      <td>76.250000</td>\n",
       "      <td>0.243750</td>\n",
       "      <td>24.000000</td>\n",
       "      <td>0.000000</td>\n",
       "    </tr>\n",
       "    <tr>\n",
       "      <th>50%</th>\n",
       "      <td>3.000000</td>\n",
       "      <td>125.000000</td>\n",
       "      <td>0.372500</td>\n",
       "      <td>29.000000</td>\n",
       "      <td>0.000000</td>\n",
       "    </tr>\n",
       "    <tr>\n",
       "      <th>75%</th>\n",
       "      <td>6.000000</td>\n",
       "      <td>190.000000</td>\n",
       "      <td>0.626250</td>\n",
       "      <td>41.000000</td>\n",
       "      <td>1.000000</td>\n",
       "    </tr>\n",
       "    <tr>\n",
       "      <th>max</th>\n",
       "      <td>17.000000</td>\n",
       "      <td>846.000000</td>\n",
       "      <td>2.420000</td>\n",
       "      <td>81.000000</td>\n",
       "      <td>1.000000</td>\n",
       "    </tr>\n",
       "  </tbody>\n",
       "</table>\n",
       "</div>"
      ],
      "text/plain": [
       "       times_pregnant  serum_insulin  pedigree_function         age  \\\n",
       "count      768.000000     394.000000         768.000000  768.000000   \n",
       "mean         3.845052     155.548223           0.471876   33.240885   \n",
       "std          3.369578     118.775855           0.331329   11.760232   \n",
       "min          0.000000      14.000000           0.078000   21.000000   \n",
       "25%          1.000000      76.250000           0.243750   24.000000   \n",
       "50%          3.000000     125.000000           0.372500   29.000000   \n",
       "75%          6.000000     190.000000           0.626250   41.000000   \n",
       "max         17.000000     846.000000           2.420000   81.000000   \n",
       "\n",
       "       onset_diabetes  \n",
       "count      768.000000  \n",
       "mean         0.348958  \n",
       "std          0.476951  \n",
       "min          0.000000  \n",
       "25%          0.000000  \n",
       "50%          0.000000  \n",
       "75%          1.000000  \n",
       "max          1.000000  "
      ]
     },
     "execution_count": 18,
     "metadata": {},
     "output_type": "execute_result"
    }
   ],
   "source": [
    "# Check descriptive statistics after filling in 0s with 'None'\n",
    "# Notice that the describe method doesn't include columns having missing values (Nulls)\n",
    "# We see only 5 columns in place of 8 columns\n",
    "\n",
    "pima.describe()"
   ]
  },
  {
   "cell_type": "code",
   "execution_count": 19,
   "metadata": {},
   "outputs": [
    {
     "data": {
      "text/plain": [
       "(121.6867627785059, 30.53564107280403)"
      ]
     },
     "execution_count": 19,
     "metadata": {},
     "output_type": "execute_result"
    }
   ],
   "source": [
    "# We can manually compute the mean and standard deviation of columns having missing values (Nulls)\n",
    "\n",
    "pima['plasma_glucose_concentration'].mean(), pima['plasma_glucose_concentration'].std()"
   ]
  },
  {
   "cell_type": "code",
   "execution_count": 20,
   "metadata": {},
   "outputs": [
    {
     "name": "stdout",
     "output_type": "stream",
     "text": [
      "Removed 51.0% of rows from the dataset.\n"
     ]
    }
   ],
   "source": [
    "# Removing rows with missing values (Nulls)\n",
    "pima_dropped = pima.dropna()\n",
    "\n",
    "# We can calculate % of removed rows\n",
    "num_rows_lost = round((pima.shape[0] - pima_dropped.shape[0])/pima.shape[0] * 100, 0)\n",
    "print(\"Removed {}% of rows from the dataset.\".format(100 - num_rows_lost))"
   ]
  },
  {
   "cell_type": "code",
   "execution_count": 21,
   "metadata": {},
   "outputs": [
    {
     "name": "stdout",
     "output_type": "stream",
     "text": [
      "0    0.651042\n",
      "1    0.348958\n",
      "Name: onset_diabetes, dtype: float64\n",
      "0    0.668367\n",
      "1    0.331633\n",
      "Name: onset_diabetes, dtype: float64\n"
     ]
    }
   ],
   "source": [
    "# Let us check the % of Diabetics, Non-diabetics before and after removal of missing values\n",
    "# to assess if there is any impact\n",
    "# Notice the results:\n",
    "#                  Diabetes    Non-Diabetes\n",
    "#    pima            65%         35%\n",
    "#    pima_dropped    67%         33%\n",
    "#\n",
    "# From the table above, appears not much deviation\n",
    "\n",
    "print(pima['onset_diabetes'].value_counts(normalize=True))\n",
    "print(pima_dropped['onset_diabetes'].value_counts(normalize=True))"
   ]
  },
  {
   "cell_type": "code",
   "execution_count": 22,
   "metadata": {},
   "outputs": [
    {
     "name": "stdout",
     "output_type": "stream",
     "text": [
      "times_pregnant                    3.845052\n",
      "plasma_glucose_concentration    121.686763\n",
      "diastolic_blood_pressure         72.405184\n",
      "triceps_thickness                29.153420\n",
      "serum_insulin                   155.548223\n",
      "bmi                              32.457464\n",
      "pedigree_function                 0.471876\n",
      "age                              33.240885\n",
      "onset_diabetes                    0.348958\n",
      "dtype: float64\n",
      "\n",
      "times_pregnant                    3.301020\n",
      "plasma_glucose_concentration    122.627551\n",
      "diastolic_blood_pressure         70.663265\n",
      "triceps_thickness                29.145408\n",
      "serum_insulin                   156.056122\n",
      "bmi                              33.086224\n",
      "pedigree_function                 0.523046\n",
      "age                              30.864796\n",
      "onset_diabetes                    0.331633\n",
      "dtype: float64\n"
     ]
    }
   ],
   "source": [
    "# Let us also compare the averages of dataset before and after removing missing values (Nulls)\n",
    "# Note by comparing at this stage, there appears no big impact, \n",
    "# so let us get % of change\n",
    "\n",
    "print(pima.mean())\n",
    "print()\n",
    "print(pima_dropped.mean())"
   ]
  },
  {
   "cell_type": "code",
   "execution_count": 23,
   "metadata": {},
   "outputs": [
    {
     "data": {
      "text/plain": [
       "times_pregnant                  14.148877\n",
       "plasma_glucose_concentration    -0.773123\n",
       "diastolic_blood_pressure         2.405793\n",
       "triceps_thickness                0.027480\n",
       "serum_insulin                   -0.326522\n",
       "bmi                             -1.937184\n",
       "pedigree_function              -10.843862\n",
       "age                              7.148093\n",
       "onset_diabetes                   4.964971\n",
       "dtype: float64"
      ]
     },
     "execution_count": 23,
     "metadata": {},
     "output_type": "execute_result"
    }
   ],
   "source": [
    "# % of change in averages of columns; before and after missing value removal\n",
    "\n",
    "(pima.mean() - pima_dropped.mean())/pima.mean() * 100"
   ]
  },
  {
   "cell_type": "code",
   "execution_count": 24,
   "metadata": {},
   "outputs": [
    {
     "data": {
      "text/plain": [
       "Text(0, 0.5, '% change')"
      ]
     },
     "execution_count": 24,
     "metadata": {},
     "output_type": "execute_result"
    },
    {
     "data": {
      "image/png": "[encoded data removed]",
      "text/plain": [
       "<Figure size 432x288 with 1 Axes>"
      ]
     },
     "metadata": {
      "needs_background": "light"
     },
     "output_type": "display_data"
    }
   ],
   "source": [
    "# Let us visualize the results above as a bar chart\n",
    "# Note\n",
    "#   1) Average 'times_pregnant'fell by 14% is considerable\n",
    "#   2) Average 'pedigree_function' is up by 11% is also considerable\n",
    "#\n",
    "# So our assumption of no much deviation or impact of dropping null rows proved \"wrong\"\n",
    "\n",
    "ax = ((pima_dropped.mean() - pima.mean())/pima.mean() * 100).plot(kind='bar', title=\"% of mean change of columns\")\n",
    "ax.set_ylabel('% change')"
   ]
  },
  {
   "cell_type": "code",
   "execution_count": 25,
   "metadata": {},
   "outputs": [
    {
     "name": "stdout",
     "output_type": "stream",
     "text": [
      "learning from 392 rows\n"
     ]
    },
    {
     "name": "stderr",
     "output_type": "stream",
     "text": [
      "C:\\Users\\anand\\Miniconda3\\envs\\tensorflow\\lib\\site-packages\\sklearn\\model_selection\\_split.py:1978: FutureWarning: The default value of cv will change from 3 to 5 in version 0.22. Specify it explicitly to silence this warning.\n",
      "  warnings.warn(CV_WARNING, FutureWarning)\n"
     ]
    },
    {
     "name": "stdout",
     "output_type": "stream",
     "text": [
      "0.7448979591836735 {'n_neighbors': 7}\n"
     ]
    },
    {
     "name": "stderr",
     "output_type": "stream",
     "text": [
      "C:\\Users\\anand\\Miniconda3\\envs\\tensorflow\\lib\\site-packages\\sklearn\\model_selection\\_search.py:814: DeprecationWarning: The default of the `iid` parameter will change from True to False in version 0.22 and will be removed in 0.24. This will change numeric results when test-set sizes are unequal.\n",
      "  DeprecationWarning)\n"
     ]
    }
   ],
   "source": [
    "# We are checking metrics on null-rows dropped dataset with one of the algorithms and comparing with Null accuracy that\n",
    "# we found earlier\n",
    "# Notice the results:\n",
    "#                   rows  score\n",
    "#    pima           768    65%\n",
    "#    pima_dropped   392    74% (with KNN)\n",
    "#\n",
    "# So, who knows if we can use all the 768 (without dropping null rows but by imputing missing values with meaningful\n",
    "# values) we may gain much more accuracy\n",
    "\n",
    "from sklearn.neighbors import KNeighborsClassifier\n",
    "from sklearn.model_selection import GridSearchCV\n",
    "\n",
    "X_dropped = pima_dropped.drop('onset_diabetes', axis=1)\n",
    "y_dropped = pima_dropped['onset_diabetes']\n",
    "\n",
    "print (\"learning from {} rows\".format(X_dropped.shape[0]))\n",
    "\n",
    "knn_params = {'n_neighbors':[1, 2, 3, 4, 5, 6, 7]}\n",
    "knn = KNeighborsClassifier()\n",
    "\n",
    "grid = GridSearchCV(knn, knn_params)\n",
    "grid.fit(X_dropped, y_dropped)\n",
    "\n",
    "print (grid.best_score_, grid.best_params_)"
   ]
  },
  {
   "cell_type": "code",
   "execution_count": 26,
   "metadata": {},
   "outputs": [
    {
     "name": "stderr",
     "output_type": "stream",
     "text": [
      "C:\\Users\\anand\\Miniconda3\\envs\\tensorflow\\lib\\site-packages\\sklearn\\model_selection\\_split.py:1978: FutureWarning: The default value of cv will change from 3 to 5 in version 0.22. Specify it explicitly to silence this warning.\n",
      "  warnings.warn(CV_WARNING, FutureWarning)\n"
     ]
    },
    {
     "name": "stdout",
     "output_type": "stream",
     "text": [
      "Learning from 768 rows.\n",
      "0.73046875 {'n_neighbors': 6}\n"
     ]
    }
   ],
   "source": [
    "# Let us check the difference in filling missing values with zero with the help of KNN\n",
    "# We notice that\n",
    "#    Dropping the rows of missing values gave performance of 74.5% (working on 392 rows)\n",
    "#    Replacing the rows of missing values with 0s gave performance - 73% (working on 768 rows)\n",
    "# So, our target is now to get performance more than 74.5% with all the 768 rows by replacing the missing values with\n",
    "# 'appropriate' value\n",
    "\n",
    "pima_zero = pima.fillna(0)\n",
    "\n",
    "x_zero = pima_zero.drop('onset_diabetes', axis=1)\n",
    "y_zero = pima_zero['onset_diabetes']\n",
    "\n",
    "print(\"Learning from {} rows.\".format(x_zero.shape[0]))\n",
    "\n",
    "knn_params = {'n_neighbors' : [1, 2, 3, 4, 5, 6, 7]}\n",
    "grid = GridSearchCV(knn, knn_params)\n",
    "grid.fit(x_zero, y_zero)\n",
    "\n",
    "print(grid.best_score_, grid.best_params_)"
   ]
  },
  {
   "cell_type": "code",
   "execution_count": 27,
   "metadata": {},
   "outputs": [],
   "source": [
    "# Imputing missing values in the dataset\n",
    "#   It is the act of filling in missing data values with the numerical quantities that are somehow ascertained\n",
    "#   from existing knowledge/data."
   ]
  },
  {
   "cell_type": "code",
   "execution_count": 28,
   "metadata": {},
   "outputs": [
    {
     "data": {
      "text/plain": [
       "times_pregnant                    0\n",
       "plasma_glucose_concentration      5\n",
       "diastolic_blood_pressure         35\n",
       "triceps_thickness               227\n",
       "serum_insulin                   374\n",
       "bmi                              11\n",
       "pedigree_function                 0\n",
       "age                               0\n",
       "onset_diabetes                    0\n",
       "dtype: int64"
      ]
     },
     "execution_count": 28,
     "metadata": {},
     "output_type": "execute_result"
    }
   ],
   "source": [
    "# Check how many missing values exist in pima\n",
    "pima.isnull().sum()"
   ]
  },
  {
   "cell_type": "code",
   "execution_count": 29,
   "metadata": {},
   "outputs": [
    {
     "data": {
      "text/plain": [
       "75     None\n",
       "182    None\n",
       "342    None\n",
       "349    None\n",
       "502    None\n",
       "Name: plasma_glucose_concentration, dtype: object"
      ]
     },
     "execution_count": 29,
     "metadata": {},
     "output_type": "execute_result"
    }
   ],
   "source": [
    "# Check top 5 rows of 'plasma_glucose_concentration', for example\n",
    "empty_plasma_index = pima[pima['plasma_glucose_concentration'].isnull()].index\n",
    "pima.loc[empty_plasma_index]['plasma_glucose_concentration']"
   ]
  },
  {
   "cell_type": "code",
   "execution_count": 30,
   "metadata": {},
   "outputs": [
    {
     "data": {
      "text/plain": [
       "75     None\n",
       "182    None\n",
       "342    None\n",
       "349    None\n",
       "502    None\n",
       "Name: plasma_glucose_concentration, dtype: object"
      ]
     },
     "execution_count": 30,
     "metadata": {},
     "output_type": "execute_result"
    }
   ],
   "source": [
    "# FOR SOME REASON FOLLOWING FAILED. I'VE CONTINUED AS I'LL BE USING SCIKIT'S 'IMPUTER' INSTEAD ON ENTIRE DATASET\n",
    "# Replace the 'null' values with 'average' of 'plasma_glucose_concentration'\n",
    "pima['plasma_glucose_concentration'].fillna(pima['plasma_glucose_concentration'].mean())\n",
    "pima.loc[empty_plasma_index]['plasma_glucose_concentration']"
   ]
  },
  {
   "cell_type": "code",
   "execution_count": 31,
   "metadata": {},
   "outputs": [
    {
     "data": {
      "text/html": [
       "<div>\n",
       "<style scoped>\n",
       "    .dataframe tbody tr th:only-of-type {\n",
       "        vertical-align: middle;\n",
       "    }\n",
       "\n",
       "    .dataframe tbody tr th {\n",
       "        vertical-align: top;\n",
       "    }\n",
       "\n",
       "    .dataframe thead th {\n",
       "        text-align: right;\n",
       "    }\n",
       "</style>\n",
       "<table border=\"1\" class=\"dataframe\">\n",
       "  <thead>\n",
       "    <tr style=\"text-align: right;\">\n",
       "      <th></th>\n",
       "      <th>times_pregnant</th>\n",
       "      <th>plasma_glucose_concentration</th>\n",
       "      <th>diastolic_blood_pressure</th>\n",
       "      <th>triceps_thickness</th>\n",
       "      <th>serum_insulin</th>\n",
       "      <th>bmi</th>\n",
       "      <th>pedigree_function</th>\n",
       "      <th>age</th>\n",
       "      <th>onset_diabetes</th>\n",
       "    </tr>\n",
       "  </thead>\n",
       "  <tbody>\n",
       "    <tr>\n",
       "      <th>0</th>\n",
       "      <td>6.0</td>\n",
       "      <td>148.0</td>\n",
       "      <td>72.0</td>\n",
       "      <td>35.00000</td>\n",
       "      <td>155.548223</td>\n",
       "      <td>33.6</td>\n",
       "      <td>0.627</td>\n",
       "      <td>50.0</td>\n",
       "      <td>1.0</td>\n",
       "    </tr>\n",
       "    <tr>\n",
       "      <th>1</th>\n",
       "      <td>1.0</td>\n",
       "      <td>85.0</td>\n",
       "      <td>66.0</td>\n",
       "      <td>29.00000</td>\n",
       "      <td>155.548223</td>\n",
       "      <td>26.6</td>\n",
       "      <td>0.351</td>\n",
       "      <td>31.0</td>\n",
       "      <td>0.0</td>\n",
       "    </tr>\n",
       "    <tr>\n",
       "      <th>2</th>\n",
       "      <td>8.0</td>\n",
       "      <td>183.0</td>\n",
       "      <td>64.0</td>\n",
       "      <td>29.15342</td>\n",
       "      <td>155.548223</td>\n",
       "      <td>23.3</td>\n",
       "      <td>0.672</td>\n",
       "      <td>32.0</td>\n",
       "      <td>1.0</td>\n",
       "    </tr>\n",
       "    <tr>\n",
       "      <th>3</th>\n",
       "      <td>1.0</td>\n",
       "      <td>89.0</td>\n",
       "      <td>66.0</td>\n",
       "      <td>23.00000</td>\n",
       "      <td>94.000000</td>\n",
       "      <td>28.1</td>\n",
       "      <td>0.167</td>\n",
       "      <td>21.0</td>\n",
       "      <td>0.0</td>\n",
       "    </tr>\n",
       "    <tr>\n",
       "      <th>4</th>\n",
       "      <td>0.0</td>\n",
       "      <td>137.0</td>\n",
       "      <td>40.0</td>\n",
       "      <td>35.00000</td>\n",
       "      <td>168.000000</td>\n",
       "      <td>43.1</td>\n",
       "      <td>2.288</td>\n",
       "      <td>33.0</td>\n",
       "      <td>1.0</td>\n",
       "    </tr>\n",
       "  </tbody>\n",
       "</table>\n",
       "</div>"
      ],
      "text/plain": [
       "   times_pregnant  plasma_glucose_concentration  diastolic_blood_pressure  \\\n",
       "0             6.0                         148.0                      72.0   \n",
       "1             1.0                          85.0                      66.0   \n",
       "2             8.0                         183.0                      64.0   \n",
       "3             1.0                          89.0                      66.0   \n",
       "4             0.0                         137.0                      40.0   \n",
       "\n",
       "   triceps_thickness  serum_insulin   bmi  pedigree_function   age  \\\n",
       "0           35.00000     155.548223  33.6              0.627  50.0   \n",
       "1           29.00000     155.548223  26.6              0.351  31.0   \n",
       "2           29.15342     155.548223  23.3              0.672  32.0   \n",
       "3           23.00000      94.000000  28.1              0.167  21.0   \n",
       "4           35.00000     168.000000  43.1              2.288  33.0   \n",
       "\n",
       "   onset_diabetes  \n",
       "0             1.0  \n",
       "1             0.0  \n",
       "2             1.0  \n",
       "3             0.0  \n",
       "4             1.0  "
      ]
     },
     "execution_count": 31,
     "metadata": {},
     "output_type": "execute_result"
    }
   ],
   "source": [
    "# Use Scikit's imputer to fill null values with mean, median, etc.\n",
    "# Note: The imputer returns an array; not dataframe, so we may have to cast it to a dataframe\n",
    "\n",
    "from sklearn.impute import SimpleImputer\n",
    "\n",
    "imputer = SimpleImputer(missing_values=np.nan, strategy=\"mean\")\n",
    "pima_imputed = imputer.fit_transform(pima)\n",
    "\n",
    "pima_imputed = pd.DataFrame(pima_imputed, columns=pima_column_names)\n",
    "\n",
    "pima_imputed.head()"
   ]
  },
  {
   "cell_type": "code",
   "execution_count": 32,
   "metadata": {},
   "outputs": [
    {
     "data": {
      "text/plain": [
       "75     121.686763\n",
       "182    121.686763\n",
       "342    121.686763\n",
       "349    121.686763\n",
       "502    121.686763\n",
       "Name: plasma_glucose_concentration, dtype: float64"
      ]
     },
     "execution_count": 32,
     "metadata": {},
     "output_type": "execute_result"
    }
   ],
   "source": [
    "# Let us confirm if the values are replaced with mean value\n",
    "pima_imputed.loc[empty_plasma_index]['plasma_glucose_concentration']"
   ]
  },
  {
   "cell_type": "code",
   "execution_count": 33,
   "metadata": {},
   "outputs": [
    {
     "data": {
      "text/plain": [
       "times_pregnant                  0\n",
       "plasma_glucose_concentration    0\n",
       "diastolic_blood_pressure        0\n",
       "triceps_thickness               0\n",
       "serum_insulin                   0\n",
       "bmi                             0\n",
       "pedigree_function               0\n",
       "age                             0\n",
       "onset_diabetes                  0\n",
       "dtype: int64"
      ]
     },
     "execution_count": 33,
     "metadata": {},
     "output_type": "execute_result"
    }
   ],
   "source": [
    "# Let us check none of the columns has null values\n",
    "pima_imputed.isnull().sum()"
   ]
  },
  {
   "cell_type": "markdown",
   "metadata": {},
   "source": [
    "__Demonstrate correct procedure of imputing__<br/>\n",
    "<u>Incorrect Procedure</u><br/>\n",
    "    Compute mean of serum_insulin column and fill missing values with mean before splitting data into train and test sets.<br/>\n",
    "\n",
    "<u>Correct Procedure</u><br/>\n",
    "   Split the serum_insulin column into training and testing data. (Both of them will have missing values)<br/>\n",
    "   Compute mean from training set and fill both training and testing sets with this mean value.<br/>"
   ]
  },
  {
   "cell_type": "code",
   "execution_count": 34,
   "metadata": {},
   "outputs": [
    {
     "data": {
      "text/plain": [
       "serum_insulin    374\n",
       "dtype: int64"
      ]
     },
     "execution_count": 34,
     "metadata": {},
     "output_type": "execute_result"
    }
   ],
   "source": [
    "from sklearn.model_selection import train_test_split\n",
    "\n",
    "X = pima[['serum_insulin']].copy()\n",
    "y = pima['onset_diabetes'].copy()\n",
    "\n",
    "X.isnull().sum()"
   ]
  },
  {
   "cell_type": "code",
   "execution_count": 35,
   "metadata": {},
   "outputs": [
    {
     "name": "stdout",
     "output_type": "stream",
     "text": [
      "Entire dataset mean of serum_insulin    155.548223\n",
      "dtype: float64\n"
     ]
    }
   ],
   "source": [
    "# Improper way of Imputing i.e. imputing the values before data split into train and test\n",
    "# Note, mean of entire data set means entire column mean\n",
    "\n",
    "entire_data_set_mean = X.mean()\n",
    "print(\"Entire dataset mean of {}\".format(entire_data_set_mean))\n",
    "X = X.fillna(entire_data_set_mean)"
   ]
  },
  {
   "cell_type": "code",
   "execution_count": 36,
   "metadata": {},
   "outputs": [],
   "source": [
    "X_train, X_test, y_train, y_test = train_test_split(X, y, random_state=99)"
   ]
  },
  {
   "cell_type": "code",
   "execution_count": 37,
   "metadata": {},
   "outputs": [
    {
     "data": {
      "text/plain": [
       "0.65625"
      ]
     },
     "execution_count": 37,
     "metadata": {},
     "output_type": "execute_result"
    }
   ],
   "source": [
    "knn = KNeighborsClassifier()\n",
    "knn.fit(X_train, y_train)\n",
    "knn.score(X_test, y_test)"
   ]
  },
  {
   "cell_type": "code",
   "execution_count": 38,
   "metadata": {},
   "outputs": [
    {
     "name": "stdout",
     "output_type": "stream",
     "text": [
      "Training mean value of serum_insulin    158.546053\n",
      "dtype: float64\n"
     ]
    },
    {
     "name": "stderr",
     "output_type": "stream",
     "text": [
      "C:\\Users\\anand\\Miniconda3\\envs\\tensorflow\\lib\\site-packages\\pandas\\core\\generic.py:6287: SettingWithCopyWarning: \n",
      "A value is trying to be set on a copy of a slice from a DataFrame\n",
      "\n",
      "See the caveats in the documentation: http://pandas.pydata.org/pandas-docs/stable/user_guide/indexing.html#returning-a-view-versus-a-copy\n",
      "  self._update_inplace(new_data)\n"
     ]
    },
    {
     "data": {
      "text/plain": [
       "0.4895833333333333"
      ]
     },
     "execution_count": 38,
     "metadata": {},
     "output_type": "execute_result"
    }
   ],
   "source": [
    "# Proper way of Imputing i.e. imputing the values after data split into train and test\n",
    "# This is of course a much lower accuracy, but at least it is a more honest representation of the model's ability \n",
    "# to learn from the training set's features and apply what it learned to unseen and withheld testing data\n",
    "\n",
    "X = pima[['serum_insulin']].copy()\n",
    "y = pima['onset_diabetes'].copy()\n",
    "\n",
    "X_train, X_test, y_train, y_test = train_test_split(X, y, random_state=99)\n",
    "\n",
    "# Compute \"mean\" on training set (not on combined train and test set)\n",
    "training_mean = X_train.mean()\n",
    "print(\"Training mean value of {}\".format(training_mean))\n",
    "\n",
    "# Fill both train and test set missing values with the \"mean\" computed only on training set (from the above step)\n",
    "X_train.fillna(training_mean, inplace = True)\n",
    "X_test.fillna(training_mean, inplace = True)\n",
    "\n",
    "knn = KNeighborsClassifier()\n",
    "knn.fit(X_train, y_train)\n",
    "knn.score(X_test, y_test)"
   ]
  },
  {
   "cell_type": "markdown",
   "metadata": {},
   "source": [
    "Conclusion:<br/>In the above exercise, we've obtained lower accuracy score by following correct procedure but still we should follow the correct procedure only."
   ]
  },
  {
   "cell_type": "markdown",
   "metadata": {},
   "source": [
    "## Pipelines"
   ]
  },
  {
   "cell_type": "code",
   "execution_count": 39,
   "metadata": {},
   "outputs": [
    {
     "name": "stderr",
     "output_type": "stream",
     "text": [
      "C:\\Users\\anand\\Miniconda3\\envs\\tensorflow\\lib\\site-packages\\sklearn\\model_selection\\_split.py:1978: FutureWarning: The default value of cv will change from 3 to 5 in version 0.22. Specify it explicitly to silence this warning.\n",
      "  warnings.warn(CV_WARNING, FutureWarning)\n"
     ]
    },
    {
     "name": "stdout",
     "output_type": "stream",
     "text": [
      "0.7317708333333334 {'classify__n_neighbors': 6}\n"
     ]
    }
   ],
   "source": [
    "# Scikit's pipeline streamlines the structure and order of statements\n",
    "# Demonstration of a Pipeline\n",
    "# Testing with strategy = \"mean\"\n",
    "\n",
    "from sklearn.pipeline import Pipeline\n",
    "\n",
    "knn_params = {'classify__n_neighbors' : [1, 2, 3, 4, 5, 6, 7]}\n",
    "\n",
    "knn = KNeighborsClassifier()\n",
    "mean_impute = Pipeline([('imputer', SimpleImputer(missing_values=np.nan, strategy=\"mean\")), \n",
    "                        ('classify', knn)])\n",
    "\n",
    "X = pima.drop('onset_diabetes', axis = 1)\n",
    "y = pima['onset_diabetes']\n",
    "\n",
    "grid = GridSearchCV(mean_impute, knn_params)\n",
    "grid.fit(X, y)\n",
    "\n",
    "print(grid.best_score_, grid.best_params_)"
   ]
  },
  {
   "cell_type": "code",
   "execution_count": 40,
   "metadata": {},
   "outputs": [
    {
     "name": "stderr",
     "output_type": "stream",
     "text": [
      "C:\\Users\\anand\\Miniconda3\\envs\\tensorflow\\lib\\site-packages\\sklearn\\model_selection\\_split.py:1978: FutureWarning: The default value of cv will change from 3 to 5 in version 0.22. Specify it explicitly to silence this warning.\n",
      "  warnings.warn(CV_WARNING, FutureWarning)\n"
     ]
    },
    {
     "name": "stdout",
     "output_type": "stream",
     "text": [
      "0.7356770833333334 {'classify__n_neighbors': 6}\n"
     ]
    }
   ],
   "source": [
    "# Demonstration of a Pipeline\n",
    "# Testing with strategy = \"median\"\n",
    "\n",
    "# Let us see now, Scikit's pipeline imputing 'median' instead of 'mean'\n",
    "# Note again, that the accuracy (73.6%) may be lower than the model's fit(74.5%) on dropped rows but \n",
    "# we've achieved it on more than twice the size of the dataset with missing values\n",
    "\n",
    "knn_params = {'classify__n_neighbors' : [1, 2, 3, 4, 5, 6, 7]}\n",
    "\n",
    "knn = KNeighborsClassifier()\n",
    "median_impute = Pipeline([('imputer', SimpleImputer(missing_values=np.nan, strategy=\"median\")), \n",
    "                          ('classify', knn)])\n",
    "\n",
    "X = pima.drop('onset_diabetes', axis = 1)\n",
    "y = pima['onset_diabetes']\n",
    "\n",
    "grid = GridSearchCV(median_impute, knn_params)\n",
    "grid.fit(X, y)\n",
    "\n",
    "print(grid.best_score_, grid.best_params_)"
   ]
  },
  {
   "cell_type": "code",
   "execution_count": 41,
   "metadata": {},
   "outputs": [],
   "source": [
    "# Recap of our exercise using pipelines\n",
    "# ------------------------------------------------------------------------\n",
    "# Pipeline Description                   # Rows model      Cross-validated\n",
    "#                                          learned from       accuracy\n",
    "# ------------------------------------------------------------------------\n",
    "# Drop missing value rows                      392               74.5\n",
    "# Impute values with 0                         768               73.0\n",
    "# Impute values with mean of column            768               73.2\n",
    "# Impute values with median of column          768               73.6"
   ]
  },
  {
   "cell_type": "code",
   "execution_count": 42,
   "metadata": {},
   "outputs": [],
   "source": [
    "# So far, we've just imputed some statistic and fit a model to the dataset\n",
    "# Some machine Learning models rely on learning methods that are affected greatly by the varying scales of columns of data\n",
    "\n",
    "# If the columns of the dataset are at different scales then the modeling algorithm may not fit the data well.\n",
    "# So, we rescale the data to bring to one level \n",
    "#    - like standard normal form with mean of 0 and standard deviation of 1 or\n",
    "#    - like standard form with mean of mu and standard devation of sigma\n",
    "\n",
    "# List of few algorithms which are affected by \"scale of data\":\n",
    "# 1) KNN - Due to reliance on Euclidean distance\n",
    "# 2) K-means clustering - Due to reliance on Euclidean distance\n",
    "# 3) Logistic regression, Support Vector Machines, Neural networks - affected, if we use gradient descent to learn weights\n",
    "# 4) Principal Component Analysis - eigen vectors will be skewed towards larger columns"
   ]
  },
  {
   "cell_type": "code",
   "execution_count": 43,
   "metadata": {},
   "outputs": [],
   "source": [
    "#  let us examine the data \n",
    "#         - graphically(using histogram) and \n",
    "#         - statistically (descriptive statistics)"
   ]
  },
  {
   "cell_type": "code",
   "execution_count": 44,
   "metadata": {},
   "outputs": [
    {
     "data": {
      "text/html": [
       "<div>\n",
       "<style scoped>\n",
       "    .dataframe tbody tr th:only-of-type {\n",
       "        vertical-align: middle;\n",
       "    }\n",
       "\n",
       "    .dataframe tbody tr th {\n",
       "        vertical-align: top;\n",
       "    }\n",
       "\n",
       "    .dataframe thead th {\n",
       "        text-align: right;\n",
       "    }\n",
       "</style>\n",
       "<table border=\"1\" class=\"dataframe\">\n",
       "  <thead>\n",
       "    <tr style=\"text-align: right;\">\n",
       "      <th></th>\n",
       "      <th>times_pregnant</th>\n",
       "      <th>plasma_glucose_concentration</th>\n",
       "      <th>diastolic_blood_pressure</th>\n",
       "      <th>triceps_thickness</th>\n",
       "      <th>serum_insulin</th>\n",
       "      <th>bmi</th>\n",
       "      <th>pedigree_function</th>\n",
       "      <th>age</th>\n",
       "      <th>onset_diabetes</th>\n",
       "    </tr>\n",
       "  </thead>\n",
       "  <tbody>\n",
       "    <tr>\n",
       "      <th>0</th>\n",
       "      <td>6.0</td>\n",
       "      <td>148.0</td>\n",
       "      <td>72.0</td>\n",
       "      <td>35.00000</td>\n",
       "      <td>155.548223</td>\n",
       "      <td>33.6</td>\n",
       "      <td>0.627</td>\n",
       "      <td>50.0</td>\n",
       "      <td>1.0</td>\n",
       "    </tr>\n",
       "    <tr>\n",
       "      <th>1</th>\n",
       "      <td>1.0</td>\n",
       "      <td>85.0</td>\n",
       "      <td>66.0</td>\n",
       "      <td>29.00000</td>\n",
       "      <td>155.548223</td>\n",
       "      <td>26.6</td>\n",
       "      <td>0.351</td>\n",
       "      <td>31.0</td>\n",
       "      <td>0.0</td>\n",
       "    </tr>\n",
       "    <tr>\n",
       "      <th>2</th>\n",
       "      <td>8.0</td>\n",
       "      <td>183.0</td>\n",
       "      <td>64.0</td>\n",
       "      <td>29.15342</td>\n",
       "      <td>155.548223</td>\n",
       "      <td>23.3</td>\n",
       "      <td>0.672</td>\n",
       "      <td>32.0</td>\n",
       "      <td>1.0</td>\n",
       "    </tr>\n",
       "    <tr>\n",
       "      <th>3</th>\n",
       "      <td>1.0</td>\n",
       "      <td>89.0</td>\n",
       "      <td>66.0</td>\n",
       "      <td>23.00000</td>\n",
       "      <td>94.000000</td>\n",
       "      <td>28.1</td>\n",
       "      <td>0.167</td>\n",
       "      <td>21.0</td>\n",
       "      <td>0.0</td>\n",
       "    </tr>\n",
       "    <tr>\n",
       "      <th>4</th>\n",
       "      <td>0.0</td>\n",
       "      <td>137.0</td>\n",
       "      <td>40.0</td>\n",
       "      <td>35.00000</td>\n",
       "      <td>168.000000</td>\n",
       "      <td>43.1</td>\n",
       "      <td>2.288</td>\n",
       "      <td>33.0</td>\n",
       "      <td>1.0</td>\n",
       "    </tr>\n",
       "  </tbody>\n",
       "</table>\n",
       "</div>"
      ],
      "text/plain": [
       "   times_pregnant  plasma_glucose_concentration  diastolic_blood_pressure  \\\n",
       "0             6.0                         148.0                      72.0   \n",
       "1             1.0                          85.0                      66.0   \n",
       "2             8.0                         183.0                      64.0   \n",
       "3             1.0                          89.0                      66.0   \n",
       "4             0.0                         137.0                      40.0   \n",
       "\n",
       "   triceps_thickness  serum_insulin   bmi  pedigree_function   age  \\\n",
       "0           35.00000     155.548223  33.6              0.627  50.0   \n",
       "1           29.00000     155.548223  26.6              0.351  31.0   \n",
       "2           29.15342     155.548223  23.3              0.672  32.0   \n",
       "3           23.00000      94.000000  28.1              0.167  21.0   \n",
       "4           35.00000     168.000000  43.1              2.288  33.0   \n",
       "\n",
       "   onset_diabetes  \n",
       "0             1.0  \n",
       "1             0.0  \n",
       "2             1.0  \n",
       "3             0.0  \n",
       "4             1.0  "
      ]
     },
     "execution_count": 44,
     "metadata": {},
     "output_type": "execute_result"
    }
   ],
   "source": [
    "# Let us first compute mean(s) and impute missing values\n",
    "\n",
    "impute = SimpleImputer(missing_values=np.nan, strategy='mean')\n",
    "pima_imputed_mean = pd.DataFrame(impute.fit_transform(pima), columns=pima_column_names)\n",
    "pima_imputed_mean.head()"
   ]
  },
  {
   "cell_type": "code",
   "execution_count": 45,
   "metadata": {},
   "outputs": [
    {
     "data": {
      "text/plain": [
       "array([[<matplotlib.axes._subplots.AxesSubplot object at 0x000001DAF29EEF98>,\n",
       "        <matplotlib.axes._subplots.AxesSubplot object at 0x000001DAF2A3A7F0>,\n",
       "        <matplotlib.axes._subplots.AxesSubplot object at 0x000001DAF2A73198>],\n",
       "       [<matplotlib.axes._subplots.AxesSubplot object at 0x000001DAF2A9BB38>,\n",
       "        <matplotlib.axes._subplots.AxesSubplot object at 0x000001DAF2AC7E48>,\n",
       "        <matplotlib.axes._subplots.AxesSubplot object at 0x000001DAF2B01828>],\n",
       "       [<matplotlib.axes._subplots.AxesSubplot object at 0x000001DAF2B381D0>,\n",
       "        <matplotlib.axes._subplots.AxesSubplot object at 0x000001DAF2B61BA8>,\n",
       "        <matplotlib.axes._subplots.AxesSubplot object at 0x000001DAF2B61BE0>]],\n",
       "      dtype=object)"
      ]
     },
     "execution_count": 45,
     "metadata": {},
     "output_type": "execute_result"
    },
    {
     "data": {
      "image/png": "[encoded data removed]",
      "text/plain": [
       "<Figure size 1080x1080 with 9 Axes>"
      ]
     },
     "metadata": {
      "needs_background": "light"
     },
     "output_type": "display_data"
    }
   ],
   "source": [
    "# Let us view the distribution of values of columns of dataset graphically\n",
    "# Notice: Each column is at a different scale and so at different mean, min, max, standard deviation\n",
    "pima_imputed_mean.hist(figsize=(15,15))"
   ]
  },
  {
   "cell_type": "code",
   "execution_count": 46,
   "metadata": {},
   "outputs": [
    {
     "data": {
      "text/plain": [
       "array([[<matplotlib.axes._subplots.AxesSubplot object at 0x000001DAF21D64E0>,\n",
       "        <matplotlib.axes._subplots.AxesSubplot object at 0x000001DAF2096320>,\n",
       "        <matplotlib.axes._subplots.AxesSubplot object at 0x000001DAF2016978>],\n",
       "       [<matplotlib.axes._subplots.AxesSubplot object at 0x000001DAF2161048>,\n",
       "        <matplotlib.axes._subplots.AxesSubplot object at 0x000001DAF23196D8>,\n",
       "        <matplotlib.axes._subplots.AxesSubplot object at 0x000001DAF2CE4D68>],\n",
       "       [<matplotlib.axes._subplots.AxesSubplot object at 0x000001DAF2D1E438>,\n",
       "        <matplotlib.axes._subplots.AxesSubplot object at 0x000001DAF2D4EB00>,\n",
       "        <matplotlib.axes._subplots.AxesSubplot object at 0x000001DAF2D4EB38>]],\n",
       "      dtype=object)"
      ]
     },
     "execution_count": 46,
     "metadata": {},
     "output_type": "execute_result"
    },
    {
     "data": {
      "image/png": "[encoded data removed]",
      "text/plain": [
       "<Figure size 1080x1080 with 9 Axes>"
      ]
     },
     "metadata": {
      "needs_background": "light"
     },
     "output_type": "display_data"
    }
   ],
   "source": [
    "# We can visualize the columns bringing all of them to the same scale as well\n",
    "\n",
    "pima_imputed_mean.hist(figsize=(15,15), sharex=True, sharey=True)"
   ]
  },
  {
   "cell_type": "code",
   "execution_count": 47,
   "metadata": {},
   "outputs": [
    {
     "data": {
      "text/html": [
       "<div>\n",
       "<style scoped>\n",
       "    .dataframe tbody tr th:only-of-type {\n",
       "        vertical-align: middle;\n",
       "    }\n",
       "\n",
       "    .dataframe tbody tr th {\n",
       "        vertical-align: top;\n",
       "    }\n",
       "\n",
       "    .dataframe thead th {\n",
       "        text-align: right;\n",
       "    }\n",
       "</style>\n",
       "<table border=\"1\" class=\"dataframe\">\n",
       "  <thead>\n",
       "    <tr style=\"text-align: right;\">\n",
       "      <th></th>\n",
       "      <th>times_pregnant</th>\n",
       "      <th>plasma_glucose_concentration</th>\n",
       "      <th>diastolic_blood_pressure</th>\n",
       "      <th>triceps_thickness</th>\n",
       "      <th>serum_insulin</th>\n",
       "      <th>bmi</th>\n",
       "      <th>pedigree_function</th>\n",
       "      <th>age</th>\n",
       "      <th>onset_diabetes</th>\n",
       "    </tr>\n",
       "  </thead>\n",
       "  <tbody>\n",
       "    <tr>\n",
       "      <th>count</th>\n",
       "      <td>768.000000</td>\n",
       "      <td>768.000000</td>\n",
       "      <td>768.000000</td>\n",
       "      <td>768.000000</td>\n",
       "      <td>768.000000</td>\n",
       "      <td>768.000000</td>\n",
       "      <td>768.000000</td>\n",
       "      <td>768.000000</td>\n",
       "      <td>768.000000</td>\n",
       "    </tr>\n",
       "    <tr>\n",
       "      <th>mean</th>\n",
       "      <td>3.845052</td>\n",
       "      <td>121.686763</td>\n",
       "      <td>72.405184</td>\n",
       "      <td>29.153420</td>\n",
       "      <td>155.548223</td>\n",
       "      <td>32.457464</td>\n",
       "      <td>0.471876</td>\n",
       "      <td>33.240885</td>\n",
       "      <td>0.348958</td>\n",
       "    </tr>\n",
       "    <tr>\n",
       "      <th>std</th>\n",
       "      <td>3.369578</td>\n",
       "      <td>30.435949</td>\n",
       "      <td>12.096346</td>\n",
       "      <td>8.790942</td>\n",
       "      <td>85.021108</td>\n",
       "      <td>6.875151</td>\n",
       "      <td>0.331329</td>\n",
       "      <td>11.760232</td>\n",
       "      <td>0.476951</td>\n",
       "    </tr>\n",
       "    <tr>\n",
       "      <th>min</th>\n",
       "      <td>0.000000</td>\n",
       "      <td>44.000000</td>\n",
       "      <td>24.000000</td>\n",
       "      <td>7.000000</td>\n",
       "      <td>14.000000</td>\n",
       "      <td>18.200000</td>\n",
       "      <td>0.078000</td>\n",
       "      <td>21.000000</td>\n",
       "      <td>0.000000</td>\n",
       "    </tr>\n",
       "    <tr>\n",
       "      <th>25%</th>\n",
       "      <td>1.000000</td>\n",
       "      <td>99.750000</td>\n",
       "      <td>64.000000</td>\n",
       "      <td>25.000000</td>\n",
       "      <td>121.500000</td>\n",
       "      <td>27.500000</td>\n",
       "      <td>0.243750</td>\n",
       "      <td>24.000000</td>\n",
       "      <td>0.000000</td>\n",
       "    </tr>\n",
       "    <tr>\n",
       "      <th>50%</th>\n",
       "      <td>3.000000</td>\n",
       "      <td>117.000000</td>\n",
       "      <td>72.202592</td>\n",
       "      <td>29.153420</td>\n",
       "      <td>155.548223</td>\n",
       "      <td>32.400000</td>\n",
       "      <td>0.372500</td>\n",
       "      <td>29.000000</td>\n",
       "      <td>0.000000</td>\n",
       "    </tr>\n",
       "    <tr>\n",
       "      <th>75%</th>\n",
       "      <td>6.000000</td>\n",
       "      <td>140.250000</td>\n",
       "      <td>80.000000</td>\n",
       "      <td>32.000000</td>\n",
       "      <td>155.548223</td>\n",
       "      <td>36.600000</td>\n",
       "      <td>0.626250</td>\n",
       "      <td>41.000000</td>\n",
       "      <td>1.000000</td>\n",
       "    </tr>\n",
       "    <tr>\n",
       "      <th>max</th>\n",
       "      <td>17.000000</td>\n",
       "      <td>199.000000</td>\n",
       "      <td>122.000000</td>\n",
       "      <td>99.000000</td>\n",
       "      <td>846.000000</td>\n",
       "      <td>67.100000</td>\n",
       "      <td>2.420000</td>\n",
       "      <td>81.000000</td>\n",
       "      <td>1.000000</td>\n",
       "    </tr>\n",
       "  </tbody>\n",
       "</table>\n",
       "</div>"
      ],
      "text/plain": [
       "       times_pregnant  plasma_glucose_concentration  diastolic_blood_pressure  \\\n",
       "count      768.000000                    768.000000                768.000000   \n",
       "mean         3.845052                    121.686763                 72.405184   \n",
       "std          3.369578                     30.435949                 12.096346   \n",
       "min          0.000000                     44.000000                 24.000000   \n",
       "25%          1.000000                     99.750000                 64.000000   \n",
       "50%          3.000000                    117.000000                 72.202592   \n",
       "75%          6.000000                    140.250000                 80.000000   \n",
       "max         17.000000                    199.000000                122.000000   \n",
       "\n",
       "       triceps_thickness  serum_insulin         bmi  pedigree_function  \\\n",
       "count         768.000000     768.000000  768.000000         768.000000   \n",
       "mean           29.153420     155.548223   32.457464           0.471876   \n",
       "std             8.790942      85.021108    6.875151           0.331329   \n",
       "min             7.000000      14.000000   18.200000           0.078000   \n",
       "25%            25.000000     121.500000   27.500000           0.243750   \n",
       "50%            29.153420     155.548223   32.400000           0.372500   \n",
       "75%            32.000000     155.548223   36.600000           0.626250   \n",
       "max            99.000000     846.000000   67.100000           2.420000   \n",
       "\n",
       "              age  onset_diabetes  \n",
       "count  768.000000      768.000000  \n",
       "mean    33.240885        0.348958  \n",
       "std     11.760232        0.476951  \n",
       "min     21.000000        0.000000  \n",
       "25%     24.000000        0.000000  \n",
       "50%     29.000000        0.000000  \n",
       "75%     41.000000        1.000000  \n",
       "max     81.000000        1.000000  "
      ]
     },
     "execution_count": 47,
     "metadata": {},
     "output_type": "execute_result"
    }
   ],
   "source": [
    "# Let us confirm the stats numerically\n",
    "pima_imputed_mean.describe()"
   ]
  },
  {
   "cell_type": "code",
   "execution_count": 48,
   "metadata": {},
   "outputs": [],
   "source": [
    "# Let us apply following Normalization techniques\n",
    "#     - z-score Normalization (Column-wise normalization)\n",
    "#     - min-max scaling       (Column-wise normalization)\n",
    "#     - Row Normalization     (Row-wise normalization)\n",
    "# then we impute and fit a model to the dataset and see the results"
   ]
  },
  {
   "cell_type": "code",
   "execution_count": 2,
   "metadata": {},
   "outputs": [],
   "source": [
    "# Z-score Normalization (Column-wise Normalization)\n",
    "# ================================================\n",
    "#   z = (x - μ) / σ\n",
    "#   z is our new value (z-score)\n",
    "#   x is the previous value of the cell\n",
    "#   μ is the mean of the column\n",
    "#   σ is the standard deviation of the columns"
   ]
  },
  {
   "cell_type": "code",
   "execution_count": 50,
   "metadata": {},
   "outputs": [
    {
     "name": "stdout",
     "output_type": "stream",
     "text": [
      "μ = 121.6867627785059\n",
      "σ = 30.53564107280403\n"
     ]
    },
    {
     "data": {
      "text/plain": [
       "0    0.861722\n",
       "1    -1.20144\n",
       "2     2.00792\n",
       "3    -1.07045\n",
       "4    0.501487\n",
       "Name: plasma_glucose_concentration, dtype: object"
      ]
     },
     "execution_count": 50,
     "metadata": {},
     "output_type": "execute_result"
    }
   ],
   "source": [
    "# \"Manual computation\" of the statistics on a column\n",
    "μ = pima['plasma_glucose_concentration'].mean()\n",
    "σ = pima['plasma_glucose_concentration'].std()\n",
    "z = (pima['plasma_glucose_concentration'] - μ) / σ\n",
    "\n",
    "print(\"μ = {}\".format(μ))\n",
    "print(\"σ = {}\".format(σ))\n",
    "z.head()"
   ]
  },
  {
   "cell_type": "code",
   "execution_count": 51,
   "metadata": {},
   "outputs": [
    {
     "name": "stdout",
     "output_type": "stream",
     "text": [
      "μ (Before Normalization) = 121.6867627785059\n",
      "σ (Before Normalization) = 30.53564107280403\n"
     ]
    },
    {
     "data": {
      "text/plain": [
       "Text(0.5, 1.0, 'Distribution of Plasma Glucose Concentration before Normalization')"
      ]
     },
     "execution_count": 51,
     "metadata": {},
     "output_type": "execute_result"
    },
    {
     "data": {
      "image/png": "[encoded data removed]",
      "text/plain": [
       "<Figure size 432x288 with 1 Axes>"
      ]
     },
     "metadata": {
      "needs_background": "light"
     },
     "output_type": "display_data"
    }
   ],
   "source": [
    "# \"Scikit learn's computation\" of the statistics on a column \"before Normalization\"\n",
    "\n",
    "# Mean, standard deviation and histogram before applying normalization\n",
    "print(\"μ (Before Normalization) = {}\".format(pima['plasma_glucose_concentration'].mean()))\n",
    "print(\"σ (Before Normalization) = {}\".format(pima['plasma_glucose_concentration'].std()))\n",
    "\n",
    "ax = pima['plasma_glucose_concentration'].hist()\n",
    "ax.set_title('Distribution of Plasma Glucose Concentration before Normalization')"
   ]
  },
  {
   "cell_type": "code",
   "execution_count": 52,
   "metadata": {},
   "outputs": [
    {
     "name": "stdout",
     "output_type": "stream",
     "text": [
      "μ (After Normalization) = nan\n",
      "σ (After Normalization) = nan\n"
     ]
    },
    {
     "data": {
      "text/plain": [
       "Text(0.5, 1.0, 'Distribution of Plasma Glucose Concentration after Normalization')"
      ]
     },
     "execution_count": 52,
     "metadata": {},
     "output_type": "execute_result"
    },
    {
     "data": {
      "image/png": "[encoded data removed]",
      "text/plain": [
       "<Figure size 432x288 with 1 Axes>"
      ]
     },
     "metadata": {
      "needs_background": "light"
     },
     "output_type": "display_data"
    }
   ],
   "source": [
    "# Scikit learn's computation of the statistics on a column \"after normalization\"\n",
    "from sklearn.preprocessing import StandardScaler\n",
    "\n",
    "scaler = StandardScaler()\n",
    "glucose_z_score_standardized = scaler.fit_transform(pima[['plasma_glucose_concentration']])\n",
    "\n",
    "# Mean, standard deviation and histogram after applying normalization\n",
    "print(\"μ (After Normalization) = {}\".format(glucose_z_score_standardized.mean()))\n",
    "print(\"σ (After Normalization) = {}\".format(glucose_z_score_standardized.std()))\n",
    "\n",
    "ax = pd.Series(glucose_z_score_standardized.reshape(-1)).hist()\n",
    "ax.set_title('Distribution of Plasma Glucose Concentration after Normalization')"
   ]
  },
  {
   "cell_type": "code",
   "execution_count": 53,
   "metadata": {},
   "outputs": [
    {
     "data": {
      "text/plain": [
       "array([[<matplotlib.axes._subplots.AxesSubplot object at 0x000001DAF30D5898>,\n",
       "        <matplotlib.axes._subplots.AxesSubplot object at 0x000001DAF21E3A90>,\n",
       "        <matplotlib.axes._subplots.AxesSubplot object at 0x000001DAF311F320>],\n",
       "       [<matplotlib.axes._subplots.AxesSubplot object at 0x000001DAF314CB70>,\n",
       "        <matplotlib.axes._subplots.AxesSubplot object at 0x000001DAF3508400>,\n",
       "        <matplotlib.axes._subplots.AxesSubplot object at 0x000001DAF3535C50>],\n",
       "       [<matplotlib.axes._subplots.AxesSubplot object at 0x000001DAF35734E0>,\n",
       "        <matplotlib.axes._subplots.AxesSubplot object at 0x000001DAF35A1D68>,\n",
       "        <matplotlib.axes._subplots.AxesSubplot object at 0x000001DAF35A1DA0>]],\n",
       "      dtype=object)"
      ]
     },
     "execution_count": 53,
     "metadata": {},
     "output_type": "execute_result"
    },
    {
     "data": {
      "image/png": "[encoded data removed]",
      "text/plain": [
       "<Figure size 1080x1080 with 9 Axes>"
      ]
     },
     "metadata": {
      "needs_background": "light"
     },
     "output_type": "display_data"
    }
   ],
   "source": [
    "# Let us see the histogram of columns after normalization\n",
    "\n",
    "scale = StandardScaler()\n",
    "\n",
    "pima_imputed_mean_scaled = pd.DataFrame(scale.fit_transform(pima_imputed_mean), columns=pima_column_names)\n",
    "pima_imputed_mean_scaled.hist(figsize=(15, 15), sharex=True)"
   ]
  },
  {
   "cell_type": "code",
   "execution_count": 54,
   "metadata": {},
   "outputs": [
    {
     "name": "stderr",
     "output_type": "stream",
     "text": [
      "C:\\Users\\anand\\Miniconda3\\envs\\tensorflow\\lib\\site-packages\\sklearn\\model_selection\\_split.py:1978: FutureWarning: The default value of cv will change from 3 to 5 in version 0.22. Specify it explicitly to silence this warning.\n",
      "  warnings.warn(CV_WARNING, FutureWarning)\n"
     ]
    },
    {
     "name": "stdout",
     "output_type": "stream",
     "text": [
      "0.7434895833333334 {'classify__n_neighbors': 7, 'imputer__strategy': 'median'}\n"
     ]
    }
   ],
   "source": [
    "# Let us now fit model to the \"z-score normalized\" dataset\n",
    "\n",
    "knn_params = {'imputer__strategy' : ['mean', 'median'], \n",
    "              'classify__n_neighbors' : [1, 2, 3, 4, 5, 6, 7]}\n",
    "\n",
    "mean_impute_standardize = Pipeline([('imputer', SimpleImputer()), \n",
    "                                    ('standardize', StandardScaler()), \n",
    "                                    ('classify', knn)])\n",
    "\n",
    "X = pima.drop('onset_diabetes', axis=1)\n",
    "y = pima['onset_diabetes']\n",
    "\n",
    "grid = GridSearchCV(mean_impute_standardize, knn_params)                  # Step 2\n",
    "grid.fit(X, y)                                                            # Triggers so step 1\n",
    "\n",
    "print(grid.best_score_, grid.best_params_)"
   ]
  },
  {
   "cell_type": "code",
   "execution_count": 55,
   "metadata": {},
   "outputs": [],
   "source": [
    "# min-max Normalization (Column-wise Normalization)\n",
    "# ================================================\n",
    "# Min-max scaling is similar to z-score normalization in that it will replace every value in a column \n",
    "# with a new value using a formula\n",
    "#\n",
    "#      m = (x - xmin ) / (xmax - xmin )\n",
    "#\n",
    "#      m is our new value\n",
    "#      x is the original cell value\n",
    "#      xmin is the minimum value of the column\n",
    "#      xmax is the maximum value of the column"
   ]
  },
  {
   "cell_type": "code",
   "execution_count": 56,
   "metadata": {},
   "outputs": [
    {
     "data": {
      "text/html": [
       "<div>\n",
       "<style scoped>\n",
       "    .dataframe tbody tr th:only-of-type {\n",
       "        vertical-align: middle;\n",
       "    }\n",
       "\n",
       "    .dataframe tbody tr th {\n",
       "        vertical-align: top;\n",
       "    }\n",
       "\n",
       "    .dataframe thead th {\n",
       "        text-align: right;\n",
       "    }\n",
       "</style>\n",
       "<table border=\"1\" class=\"dataframe\">\n",
       "  <thead>\n",
       "    <tr style=\"text-align: right;\">\n",
       "      <th></th>\n",
       "      <th>times_pregnant</th>\n",
       "      <th>plasma_glucose_concentration</th>\n",
       "      <th>diastolic_blood_pressure</th>\n",
       "      <th>triceps_thickness</th>\n",
       "      <th>serum_insulin</th>\n",
       "      <th>bmi</th>\n",
       "      <th>pedigree_function</th>\n",
       "      <th>age</th>\n",
       "      <th>onset_diabetes</th>\n",
       "    </tr>\n",
       "  </thead>\n",
       "  <tbody>\n",
       "    <tr>\n",
       "      <th>count</th>\n",
       "      <td>768.000000</td>\n",
       "      <td>768.000000</td>\n",
       "      <td>768.000000</td>\n",
       "      <td>768.000000</td>\n",
       "      <td>768.000000</td>\n",
       "      <td>768.000000</td>\n",
       "      <td>768.000000</td>\n",
       "      <td>768.000000</td>\n",
       "      <td>768.000000</td>\n",
       "    </tr>\n",
       "    <tr>\n",
       "      <th>mean</th>\n",
       "      <td>0.226180</td>\n",
       "      <td>0.501205</td>\n",
       "      <td>0.493930</td>\n",
       "      <td>0.240798</td>\n",
       "      <td>0.170130</td>\n",
       "      <td>0.291564</td>\n",
       "      <td>0.168179</td>\n",
       "      <td>0.204015</td>\n",
       "      <td>0.348958</td>\n",
       "    </tr>\n",
       "    <tr>\n",
       "      <th>std</th>\n",
       "      <td>0.198210</td>\n",
       "      <td>0.196361</td>\n",
       "      <td>0.123432</td>\n",
       "      <td>0.095554</td>\n",
       "      <td>0.102189</td>\n",
       "      <td>0.140596</td>\n",
       "      <td>0.141473</td>\n",
       "      <td>0.196004</td>\n",
       "      <td>0.476951</td>\n",
       "    </tr>\n",
       "    <tr>\n",
       "      <th>min</th>\n",
       "      <td>0.000000</td>\n",
       "      <td>0.000000</td>\n",
       "      <td>0.000000</td>\n",
       "      <td>0.000000</td>\n",
       "      <td>0.000000</td>\n",
       "      <td>0.000000</td>\n",
       "      <td>0.000000</td>\n",
       "      <td>0.000000</td>\n",
       "      <td>0.000000</td>\n",
       "    </tr>\n",
       "    <tr>\n",
       "      <th>25%</th>\n",
       "      <td>0.058824</td>\n",
       "      <td>0.359677</td>\n",
       "      <td>0.408163</td>\n",
       "      <td>0.195652</td>\n",
       "      <td>0.129207</td>\n",
       "      <td>0.190184</td>\n",
       "      <td>0.070773</td>\n",
       "      <td>0.050000</td>\n",
       "      <td>0.000000</td>\n",
       "    </tr>\n",
       "    <tr>\n",
       "      <th>50%</th>\n",
       "      <td>0.176471</td>\n",
       "      <td>0.470968</td>\n",
       "      <td>0.491863</td>\n",
       "      <td>0.240798</td>\n",
       "      <td>0.170130</td>\n",
       "      <td>0.290389</td>\n",
       "      <td>0.125747</td>\n",
       "      <td>0.133333</td>\n",
       "      <td>0.000000</td>\n",
       "    </tr>\n",
       "    <tr>\n",
       "      <th>75%</th>\n",
       "      <td>0.352941</td>\n",
       "      <td>0.620968</td>\n",
       "      <td>0.571429</td>\n",
       "      <td>0.271739</td>\n",
       "      <td>0.170130</td>\n",
       "      <td>0.376278</td>\n",
       "      <td>0.234095</td>\n",
       "      <td>0.333333</td>\n",
       "      <td>1.000000</td>\n",
       "    </tr>\n",
       "    <tr>\n",
       "      <th>max</th>\n",
       "      <td>1.000000</td>\n",
       "      <td>1.000000</td>\n",
       "      <td>1.000000</td>\n",
       "      <td>1.000000</td>\n",
       "      <td>1.000000</td>\n",
       "      <td>1.000000</td>\n",
       "      <td>1.000000</td>\n",
       "      <td>1.000000</td>\n",
       "      <td>1.000000</td>\n",
       "    </tr>\n",
       "  </tbody>\n",
       "</table>\n",
       "</div>"
      ],
      "text/plain": [
       "       times_pregnant  plasma_glucose_concentration  diastolic_blood_pressure  \\\n",
       "count      768.000000                    768.000000                768.000000   \n",
       "mean         0.226180                      0.501205                  0.493930   \n",
       "std          0.198210                      0.196361                  0.123432   \n",
       "min          0.000000                      0.000000                  0.000000   \n",
       "25%          0.058824                      0.359677                  0.408163   \n",
       "50%          0.176471                      0.470968                  0.491863   \n",
       "75%          0.352941                      0.620968                  0.571429   \n",
       "max          1.000000                      1.000000                  1.000000   \n",
       "\n",
       "       triceps_thickness  serum_insulin         bmi  pedigree_function  \\\n",
       "count         768.000000     768.000000  768.000000         768.000000   \n",
       "mean            0.240798       0.170130    0.291564           0.168179   \n",
       "std             0.095554       0.102189    0.140596           0.141473   \n",
       "min             0.000000       0.000000    0.000000           0.000000   \n",
       "25%             0.195652       0.129207    0.190184           0.070773   \n",
       "50%             0.240798       0.170130    0.290389           0.125747   \n",
       "75%             0.271739       0.170130    0.376278           0.234095   \n",
       "max             1.000000       1.000000    1.000000           1.000000   \n",
       "\n",
       "              age  onset_diabetes  \n",
       "count  768.000000      768.000000  \n",
       "mean     0.204015        0.348958  \n",
       "std      0.196004        0.476951  \n",
       "min      0.000000        0.000000  \n",
       "25%      0.050000        0.000000  \n",
       "50%      0.133333        0.000000  \n",
       "75%      0.333333        1.000000  \n",
       "max      1.000000        1.000000  "
      ]
     },
     "execution_count": 56,
     "metadata": {},
     "output_type": "execute_result"
    }
   ],
   "source": [
    "# Let us apply the MinMaxScaler and notice that for all columns min = 0, max = 1\n",
    "# Note the side effect:\n",
    "# The standard deviations are now all very very small. \n",
    "# This can hurt some models as it takes away weight from outliers.\n",
    "\n",
    "from sklearn.preprocessing import MinMaxScaler\n",
    "\n",
    "min_max = MinMaxScaler()\n",
    "pima_min_maxed = pd.DataFrame(min_max.fit_transform(pima_imputed), columns=pima_column_names)\n",
    "pima_min_maxed.describe()"
   ]
  },
  {
   "cell_type": "code",
   "execution_count": 57,
   "metadata": {},
   "outputs": [
    {
     "name": "stderr",
     "output_type": "stream",
     "text": [
      "C:\\Users\\anand\\Miniconda3\\envs\\tensorflow\\lib\\site-packages\\sklearn\\model_selection\\_split.py:1978: FutureWarning: The default value of cv will change from 3 to 5 in version 0.22. Specify it explicitly to silence this warning.\n",
      "  warnings.warn(CV_WARNING, FutureWarning)\n"
     ]
    },
    {
     "name": "stdout",
     "output_type": "stream",
     "text": [
      "0.74609375 {'classify__n_neighbors': 4, 'imputer__strategy': 'mean'}\n"
     ]
    }
   ],
   "source": [
    "# Now, let us apply the model to the dataset to check the results\n",
    "# Notice that the accuracy(74.6%) we got is the best on methods we've tried so far\n",
    "\n",
    "knn_params = {'imputer__strategy' : ['mean', 'median'], \n",
    "              'classify__n_neighbors' : [1, 2, 3, 4, 5, 6, 7]}\n",
    "\n",
    "mean_impute_standardize = Pipeline([('imputer', SimpleImputer()), \n",
    "                                    ('standardize', MinMaxScaler()), \n",
    "                                    ('classify', knn)])\n",
    "\n",
    "X = pima.drop('onset_diabetes', axis=1)\n",
    "y = pima['onset_diabetes']\n",
    "\n",
    "grid = GridSearchCV(mean_impute_standardize, knn_params)\n",
    "grid.fit(X, y)\n",
    "\n",
    "print(grid.best_score_, grid.best_params_)"
   ]
  },
  {
   "cell_type": "code",
   "execution_count": 58,
   "metadata": {},
   "outputs": [],
   "source": [
    "# Row Normalization (Row-wise Normalization)\n",
    "# =========================================\n",
    "# Instead of calculating statistics on each column, mean, min, max, and so\n",
    "# on, the row normalization technique will ensure that each row of data has\n",
    "# a unit norm, meaning that each row will be the same vector length\n",
    "# If the row vector x = (x1, x2, x3, ..., xn) then \n",
    "# the norm would be ||x|| = Sqrt(x1^2 + x2^2 + x3^2 + .. + xn^2) called \"L2 Norm\""
   ]
  },
  {
   "cell_type": "code",
   "execution_count": 59,
   "metadata": {},
   "outputs": [
    {
     "data": {
      "text/plain": [
       "223.36222025823744"
      ]
     },
     "execution_count": 59,
     "metadata": {},
     "output_type": "execute_result"
    }
   ],
   "source": [
    "np.sqrt((pima_imputed**2).sum(axis=1)).mean()"
   ]
  },
  {
   "cell_type": "code",
   "execution_count": 60,
   "metadata": {},
   "outputs": [
    {
     "data": {
      "text/html": [
       "<div>\n",
       "<style scoped>\n",
       "    .dataframe tbody tr th:only-of-type {\n",
       "        vertical-align: middle;\n",
       "    }\n",
       "\n",
       "    .dataframe tbody tr th {\n",
       "        vertical-align: top;\n",
       "    }\n",
       "\n",
       "    .dataframe thead th {\n",
       "        text-align: right;\n",
       "    }\n",
       "</style>\n",
       "<table border=\"1\" class=\"dataframe\">\n",
       "  <thead>\n",
       "    <tr style=\"text-align: right;\">\n",
       "      <th></th>\n",
       "      <th>times_pregnant</th>\n",
       "      <th>plasma_glucose_concentration</th>\n",
       "      <th>diastolic_blood_pressure</th>\n",
       "      <th>triceps_thickness</th>\n",
       "      <th>serum_insulin</th>\n",
       "      <th>bmi</th>\n",
       "      <th>pedigree_function</th>\n",
       "      <th>age</th>\n",
       "      <th>onset_diabetes</th>\n",
       "    </tr>\n",
       "  </thead>\n",
       "  <tbody>\n",
       "    <tr>\n",
       "      <th>0</th>\n",
       "      <td>0.025315</td>\n",
       "      <td>0.624441</td>\n",
       "      <td>0.303782</td>\n",
       "      <td>0.147672</td>\n",
       "      <td>0.656289</td>\n",
       "      <td>0.141765</td>\n",
       "      <td>0.002645</td>\n",
       "      <td>0.210960</td>\n",
       "      <td>0.004219</td>\n",
       "    </tr>\n",
       "    <tr>\n",
       "      <th>1</th>\n",
       "      <td>0.005111</td>\n",
       "      <td>0.434404</td>\n",
       "      <td>0.337302</td>\n",
       "      <td>0.148208</td>\n",
       "      <td>0.794950</td>\n",
       "      <td>0.135943</td>\n",
       "      <td>0.001794</td>\n",
       "      <td>0.158430</td>\n",
       "      <td>0.000000</td>\n",
       "    </tr>\n",
       "    <tr>\n",
       "      <th>2</th>\n",
       "      <td>0.031558</td>\n",
       "      <td>0.721892</td>\n",
       "      <td>0.252465</td>\n",
       "      <td>0.115003</td>\n",
       "      <td>0.613601</td>\n",
       "      <td>0.091913</td>\n",
       "      <td>0.002651</td>\n",
       "      <td>0.126232</td>\n",
       "      <td>0.003945</td>\n",
       "    </tr>\n",
       "    <tr>\n",
       "      <th>3</th>\n",
       "      <td>0.006612</td>\n",
       "      <td>0.588467</td>\n",
       "      <td>0.436392</td>\n",
       "      <td>0.152076</td>\n",
       "      <td>0.621527</td>\n",
       "      <td>0.185797</td>\n",
       "      <td>0.001104</td>\n",
       "      <td>0.138852</td>\n",
       "      <td>0.000000</td>\n",
       "    </tr>\n",
       "    <tr>\n",
       "      <th>4</th>\n",
       "      <td>0.000000</td>\n",
       "      <td>0.596381</td>\n",
       "      <td>0.174126</td>\n",
       "      <td>0.152360</td>\n",
       "      <td>0.731328</td>\n",
       "      <td>0.187620</td>\n",
       "      <td>0.009960</td>\n",
       "      <td>0.143654</td>\n",
       "      <td>0.004353</td>\n",
       "    </tr>\n",
       "  </tbody>\n",
       "</table>\n",
       "</div>"
      ],
      "text/plain": [
       "   times_pregnant  plasma_glucose_concentration  diastolic_blood_pressure  \\\n",
       "0        0.025315                      0.624441                  0.303782   \n",
       "1        0.005111                      0.434404                  0.337302   \n",
       "2        0.031558                      0.721892                  0.252465   \n",
       "3        0.006612                      0.588467                  0.436392   \n",
       "4        0.000000                      0.596381                  0.174126   \n",
       "\n",
       "   triceps_thickness  serum_insulin       bmi  pedigree_function       age  \\\n",
       "0           0.147672       0.656289  0.141765           0.002645  0.210960   \n",
       "1           0.148208       0.794950  0.135943           0.001794  0.158430   \n",
       "2           0.115003       0.613601  0.091913           0.002651  0.126232   \n",
       "3           0.152076       0.621527  0.185797           0.001104  0.138852   \n",
       "4           0.152360       0.731328  0.187620           0.009960  0.143654   \n",
       "\n",
       "   onset_diabetes  \n",
       "0        0.004219  \n",
       "1        0.000000  \n",
       "2        0.003945  \n",
       "3        0.000000  \n",
       "4        0.004353  "
      ]
     },
     "execution_count": 60,
     "metadata": {},
     "output_type": "execute_result"
    }
   ],
   "source": [
    "# Let us apply the Normalizer\n",
    "\n",
    "from sklearn.preprocessing import Normalizer\n",
    "\n",
    "normalize = Normalizer()\n",
    "pima_normalized = pd.DataFrame(normalize.fit_transform(pima_imputed), columns=pima_column_names)\n",
    "pima_normalized.head()"
   ]
  },
  {
   "cell_type": "code",
   "execution_count": 61,
   "metadata": {},
   "outputs": [
    {
     "name": "stderr",
     "output_type": "stream",
     "text": [
      "C:\\Users\\anand\\Miniconda3\\envs\\tensorflow\\lib\\site-packages\\sklearn\\model_selection\\_split.py:1978: FutureWarning: The default value of cv will change from 3 to 5 in version 0.22. Specify it explicitly to silence this warning.\n",
      "  warnings.warn(CV_WARNING, FutureWarning)\n"
     ]
    },
    {
     "name": "stdout",
     "output_type": "stream",
     "text": [
      "0.6822916666666666 {'classify__n_neighbors': 6, 'imputer__strategy': 'mean'}\n"
     ]
    }
   ],
   "source": [
    "# Now, let us apply the model to the dataset to check the results\n",
    "# Note that we've got accuracy of 68.2% in normalized dataset\n",
    "\n",
    "knn_params = {'imputer__strategy' : ['mean', 'median'], \n",
    "              'classify__n_neighbors' : [1, 2, 3, 4, 5, 6, 7]}\n",
    "\n",
    "mean_impute_normalize = Pipeline([('imputer', SimpleImputer()), \n",
    "                                    ('normalize', Normalizer()), \n",
    "                                    ('classify', knn)])\n",
    "\n",
    "X = pima.drop('onset_diabetes', axis=1)\n",
    "y = pima['onset_diabetes']\n",
    "\n",
    "grid = GridSearchCV(mean_impute_normalize, knn_params)\n",
    "grid.fit(X, y)\n",
    "\n",
    "print(grid.best_score_, grid.best_params_)"
   ]
  },
  {
   "cell_type": "code",
   "execution_count": 62,
   "metadata": {},
   "outputs": [],
   "source": [
    "# Summary\n",
    "# Recap of our exercise using pipelines\n",
    "# ------------------------------------------------------------------------\n",
    "# Pipeline Description                   # Rows model      Cross-validated\n",
    "#                                          learned from       accuracy\n",
    "# ------------------------------------------------------------------------\n",
    "# Drop missing value rows                      392               74.5\n",
    "# Impute values with 0                         768               73.0\n",
    "# Impute values with mean of column            768               73.2\n",
    "# Impute values with median of column          768               73.6\n",
    "#\n",
    "# Z-score normalization with imputed median    768               74.2\n",
    "# Min-max normalization with imputed mean      768               74.6\n",
    "# Row normalization with imputed mean          768               68.2\n",
    "# ----------------------------------------------------------------------"
   ]
  }
 ],
 "metadata": {
  "kernelspec": {
   "display_name": "Python 3",
   "language": "python",
   "name": "python3"
  },
  "language_info": {
   "codemirror_mode": {
    "name": "ipython",
    "version": 3
   },
   "file_extension": ".py",
   "mimetype": "text/x-python",
   "name": "python",
   "nbconvert_exporter": "python",
   "pygments_lexer": "ipython3",
   "version": "3.7.7"
  }
 },
 "nbformat": 4,
 "nbformat_minor": 2
}
